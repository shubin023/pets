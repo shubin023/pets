{
 "cells": [
  {
   "cell_type": "code",
   "execution_count": 927,
   "id": "37de6ade",
   "metadata": {},
   "outputs": [],
   "source": [
    "import pandas as pd\n",
    "import requests\n",
    "from urllib.parse import urlencode\n",
    "import numpy as np\n",
    "import seaborn as sns\n",
    "import matplotlib.pyplot as plt\n",
    "import statsmodels.api as sm \n",
    "import pylab as py\n",
    "from scipy.stats import percentileofscore\n",
    "import calendar\n",
    "from datetime import timedelta\n",
    "import statistics\n",
    "import datetime as dt"
   ]
  },
  {
   "cell_type": "code",
   "execution_count": 928,
   "id": "f8241f3d",
   "metadata": {},
   "outputs": [],
   "source": [
    "sns.set(          # настройка размера графика в Jupyter\n",
    "    font_scale=1,\n",
    "    style=\"whitegrid\",\n",
    "    rc={'figure.figsize':(10,5)}\n",
    "        )"
   ]
  },
  {
   "cell_type": "markdown",
   "id": "fde08737",
   "metadata": {},
   "source": [
    "# Загрузка данных из условия"
   ]
  },
  {
   "cell_type": "markdown",
   "id": "1a53fcea",
   "metadata": {},
   "source": [
    "### Загрузка таблицы с уникальными идентификаторами пользователей"
   ]
  },
  {
   "cell_type": "code",
   "execution_count": 929,
   "id": "b4f3bee2",
   "metadata": {},
   "outputs": [],
   "source": [
    "# используем api \n",
    "base_url = 'https://cloud-api.yandex.net/v1/disk/public/resources/download?' \n",
    "customers_key = 'https://disk.yandex.ru/d/QXrVDUoQvFhIcg' # ссылка на данные с уникальными идентификаторами пользователей"
   ]
  },
  {
   "cell_type": "code",
   "execution_count": 930,
   "id": "4e4a5f41",
   "metadata": {},
   "outputs": [],
   "source": [
    "# получаем url \n",
    "final_url = base_url + urlencode(dict(public_key=customers_key)) \n",
    "response = requests.get(final_url) \n",
    "download_url = response.json()['href'] "
   ]
  },
  {
   "cell_type": "code",
   "execution_count": 931,
   "id": "35b73201",
   "metadata": {},
   "outputs": [],
   "source": [
    "# загружаем файл в df \n",
    "download_response = requests.get(download_url) \n",
    "df_customers = pd.read_csv(download_url) "
   ]
  },
  {
   "cell_type": "code",
   "execution_count": 932,
   "id": "bdb48da3",
   "metadata": {},
   "outputs": [],
   "source": [
    "#df_customers = pd.read_csv('/home/anton23/Downloads/Telegram Desktop/olist_customers_dataset.csv')"
   ]
  },
  {
   "cell_type": "markdown",
   "id": "d8bee14f",
   "metadata": {},
   "source": [
    "### Таблица с уникальными идентификаторами пользователей"
   ]
  },
  {
   "cell_type": "code",
   "execution_count": 933,
   "id": "7c68322b",
   "metadata": {},
   "outputs": [
    {
     "data": {
      "text/html": [
       "<div>\n",
       "<style scoped>\n",
       "    .dataframe tbody tr th:only-of-type {\n",
       "        vertical-align: middle;\n",
       "    }\n",
       "\n",
       "    .dataframe tbody tr th {\n",
       "        vertical-align: top;\n",
       "    }\n",
       "\n",
       "    .dataframe thead th {\n",
       "        text-align: right;\n",
       "    }\n",
       "</style>\n",
       "<table border=\"1\" class=\"dataframe\">\n",
       "  <thead>\n",
       "    <tr style=\"text-align: right;\">\n",
       "      <th></th>\n",
       "      <th>customer_id</th>\n",
       "      <th>customer_unique_id</th>\n",
       "      <th>customer_zip_code_prefix</th>\n",
       "      <th>customer_city</th>\n",
       "      <th>customer_state</th>\n",
       "    </tr>\n",
       "  </thead>\n",
       "  <tbody>\n",
       "    <tr>\n",
       "      <th>0</th>\n",
       "      <td>06b8999e2fba1a1fbc88172c00ba8bc7</td>\n",
       "      <td>861eff4711a542e4b93843c6dd7febb0</td>\n",
       "      <td>14409</td>\n",
       "      <td>franca</td>\n",
       "      <td>SP</td>\n",
       "    </tr>\n",
       "    <tr>\n",
       "      <th>1</th>\n",
       "      <td>18955e83d337fd6b2def6b18a428ac77</td>\n",
       "      <td>290c77bc529b7ac935b93aa66c333dc3</td>\n",
       "      <td>9790</td>\n",
       "      <td>sao bernardo do campo</td>\n",
       "      <td>SP</td>\n",
       "    </tr>\n",
       "    <tr>\n",
       "      <th>2</th>\n",
       "      <td>4e7b3e00288586ebd08712fdd0374a03</td>\n",
       "      <td>060e732b5b29e8181a18229c7b0b2b5e</td>\n",
       "      <td>1151</td>\n",
       "      <td>sao paulo</td>\n",
       "      <td>SP</td>\n",
       "    </tr>\n",
       "    <tr>\n",
       "      <th>3</th>\n",
       "      <td>b2b6027bc5c5109e529d4dc6358b12c3</td>\n",
       "      <td>259dac757896d24d7702b9acbbff3f3c</td>\n",
       "      <td>8775</td>\n",
       "      <td>mogi das cruzes</td>\n",
       "      <td>SP</td>\n",
       "    </tr>\n",
       "    <tr>\n",
       "      <th>4</th>\n",
       "      <td>4f2d8ab171c80ec8364f7c12e35b23ad</td>\n",
       "      <td>345ecd01c38d18a9036ed96c73b8d066</td>\n",
       "      <td>13056</td>\n",
       "      <td>campinas</td>\n",
       "      <td>SP</td>\n",
       "    </tr>\n",
       "  </tbody>\n",
       "</table>\n",
       "</div>"
      ],
      "text/plain": [
       "                        customer_id                customer_unique_id  \\\n",
       "0  06b8999e2fba1a1fbc88172c00ba8bc7  861eff4711a542e4b93843c6dd7febb0   \n",
       "1  18955e83d337fd6b2def6b18a428ac77  290c77bc529b7ac935b93aa66c333dc3   \n",
       "2  4e7b3e00288586ebd08712fdd0374a03  060e732b5b29e8181a18229c7b0b2b5e   \n",
       "3  b2b6027bc5c5109e529d4dc6358b12c3  259dac757896d24d7702b9acbbff3f3c   \n",
       "4  4f2d8ab171c80ec8364f7c12e35b23ad  345ecd01c38d18a9036ed96c73b8d066   \n",
       "\n",
       "   customer_zip_code_prefix          customer_city customer_state  \n",
       "0                     14409                 franca             SP  \n",
       "1                      9790  sao bernardo do campo             SP  \n",
       "2                      1151              sao paulo             SP  \n",
       "3                      8775        mogi das cruzes             SP  \n",
       "4                     13056               campinas             SP  "
      ]
     },
     "execution_count": 933,
     "metadata": {},
     "output_type": "execute_result"
    }
   ],
   "source": [
    "df_customers.head()"
   ]
  },
  {
   "cell_type": "markdown",
   "id": "9f82fef9",
   "metadata": {},
   "source": [
    "Из условия:\n",
    "\n",
    "customer_id — позаказный идентификатор пользователя\n",
    "\n",
    "customer_unique_id — уникальный идентификатор пользователя  (аналог номера паспорта)\n",
    "\n",
    "customer_zip_code_prefix — почтовый индекс пользователя\n",
    "\n",
    "customer_city — город доставки пользователя\n",
    "\n",
    "customer_state — штат доставки пользователя"
   ]
  },
  {
   "cell_type": "code",
   "execution_count": 934,
   "id": "3163e40c",
   "metadata": {},
   "outputs": [
    {
     "data": {
      "text/plain": [
       "(99441, 5)"
      ]
     },
     "execution_count": 934,
     "metadata": {},
     "output_type": "execute_result"
    }
   ],
   "source": [
    "df_customers.shape"
   ]
  },
  {
   "cell_type": "code",
   "execution_count": 935,
   "id": "f806c3e4",
   "metadata": {},
   "outputs": [
    {
     "data": {
      "text/plain": [
       "customer_id                 object\n",
       "customer_unique_id          object\n",
       "customer_zip_code_prefix     int64\n",
       "customer_city               object\n",
       "customer_state              object\n",
       "dtype: object"
      ]
     },
     "execution_count": 935,
     "metadata": {},
     "output_type": "execute_result"
    }
   ],
   "source": [
    "df_customers.dtypes"
   ]
  },
  {
   "cell_type": "code",
   "execution_count": 936,
   "id": "dbca4bdb",
   "metadata": {},
   "outputs": [
    {
     "data": {
      "text/plain": [
       "False"
      ]
     },
     "execution_count": 936,
     "metadata": {},
     "output_type": "execute_result"
    }
   ],
   "source": [
    "df_customers.isna().values.any() # проводим проверку на пропущенные значения"
   ]
  },
  {
   "cell_type": "code",
   "execution_count": 937,
   "id": "ae1a248f",
   "metadata": {},
   "outputs": [
    {
     "data": {
      "text/plain": [
       "99441"
      ]
     },
     "execution_count": 937,
     "metadata": {},
     "output_type": "execute_result"
    }
   ],
   "source": [
    "df_customers.customer_id.nunique()"
   ]
  },
  {
   "cell_type": "markdown",
   "id": "d193850b",
   "metadata": {},
   "source": [
    "Количество уникальных значений в колонке customer_id совпадает с количеством строк таблицы, значит данная колонка состоит только из уникальных значений."
   ]
  },
  {
   "cell_type": "code",
   "execution_count": 938,
   "id": "dc21e885",
   "metadata": {},
   "outputs": [
    {
     "data": {
      "text/plain": [
       "96096"
      ]
     },
     "execution_count": 938,
     "metadata": {},
     "output_type": "execute_result"
    }
   ],
   "source": [
    "df_customers.customer_unique_id.nunique()"
   ]
  },
  {
   "cell_type": "code",
   "execution_count": 939,
   "id": "8e21581b",
   "metadata": {},
   "outputs": [
    {
     "data": {
      "text/plain": [
       "True"
      ]
     },
     "execution_count": 939,
     "metadata": {},
     "output_type": "execute_result"
    }
   ],
   "source": [
    "df_customers.customer_unique_id.duplicated().any()"
   ]
  },
  {
   "cell_type": "markdown",
   "id": "6cad5f12",
   "metadata": {},
   "source": [
    "Как видим, в колонке customer_unique_id есть повторяющиеся значения."
   ]
  },
  {
   "cell_type": "code",
   "execution_count": 940,
   "id": "a883df30",
   "metadata": {},
   "outputs": [
    {
     "name": "stdout",
     "output_type": "stream",
     "text": [
      "['SP' 'SC' 'MG' 'PR' 'RJ' 'RS' 'PA' 'GO' 'ES' 'BA' 'MA' 'MS' 'CE' 'DF'\n",
      " 'RN' 'PE' 'MT' 'AM' 'AP' 'AL' 'RO' 'PB' 'TO' 'PI' 'AC' 'SE' 'RR']\n"
     ]
    }
   ],
   "source": [
    "print(df_customers.customer_state.unique()) # штаты доставки пользователя"
   ]
  },
  {
   "cell_type": "code",
   "execution_count": 941,
   "id": "149bb8fc",
   "metadata": {},
   "outputs": [
    {
     "data": {
      "text/plain": [
       "4119"
      ]
     },
     "execution_count": 941,
     "metadata": {},
     "output_type": "execute_result"
    }
   ],
   "source": [
    "df_customers.customer_city.nunique() # количество уникальных городов доставки пользователя"
   ]
  },
  {
   "cell_type": "markdown",
   "id": "edb08e9f",
   "metadata": {},
   "source": [
    "### Загрузка таблицы заказов"
   ]
  },
  {
   "cell_type": "code",
   "execution_count": 942,
   "id": "7edf256b",
   "metadata": {},
   "outputs": [],
   "source": [
    "base_url = 'https://cloud-api.yandex.net/v1/disk/public/resources/download?'\n",
    "orders_key = 'https://disk.yandex.ru/d/0zWmh1bYP6REbw' # ссылка на данные заказов"
   ]
  },
  {
   "cell_type": "code",
   "execution_count": 943,
   "id": "d0b64692",
   "metadata": {},
   "outputs": [],
   "source": [
    "# получаем url \n",
    "final_url = base_url + urlencode(dict(public_key=orders_key)) \n",
    "response = requests.get(final_url) \n",
    "download_url = response.json()['href'] "
   ]
  },
  {
   "cell_type": "code",
   "execution_count": 944,
   "id": "64fd3d6e",
   "metadata": {},
   "outputs": [],
   "source": [
    "# загружаем файл в df \n",
    "download_response = requests.get(download_url) \n",
    "df_orders = pd.read_csv(download_url) "
   ]
  },
  {
   "cell_type": "code",
   "execution_count": 945,
   "id": "eeee26ca",
   "metadata": {},
   "outputs": [],
   "source": [
    "#df_orders = pd.read_csv('/home/anton23/Downloads/Telegram Desktop/olist_orders_dataset.csv')"
   ]
  },
  {
   "cell_type": "markdown",
   "id": "d9a1591b",
   "metadata": {},
   "source": [
    "### Таблица заказов"
   ]
  },
  {
   "cell_type": "code",
   "execution_count": 946,
   "id": "8d32a677",
   "metadata": {},
   "outputs": [
    {
     "data": {
      "text/html": [
       "<div>\n",
       "<style scoped>\n",
       "    .dataframe tbody tr th:only-of-type {\n",
       "        vertical-align: middle;\n",
       "    }\n",
       "\n",
       "    .dataframe tbody tr th {\n",
       "        vertical-align: top;\n",
       "    }\n",
       "\n",
       "    .dataframe thead th {\n",
       "        text-align: right;\n",
       "    }\n",
       "</style>\n",
       "<table border=\"1\" class=\"dataframe\">\n",
       "  <thead>\n",
       "    <tr style=\"text-align: right;\">\n",
       "      <th></th>\n",
       "      <th>order_id</th>\n",
       "      <th>customer_id</th>\n",
       "      <th>order_status</th>\n",
       "      <th>order_purchase_timestamp</th>\n",
       "      <th>order_approved_at</th>\n",
       "      <th>order_delivered_carrier_date</th>\n",
       "      <th>order_delivered_customer_date</th>\n",
       "      <th>order_estimated_delivery_date</th>\n",
       "    </tr>\n",
       "  </thead>\n",
       "  <tbody>\n",
       "    <tr>\n",
       "      <th>0</th>\n",
       "      <td>e481f51cbdc54678b7cc49136f2d6af7</td>\n",
       "      <td>9ef432eb6251297304e76186b10a928d</td>\n",
       "      <td>delivered</td>\n",
       "      <td>2017-10-02 10:56:33</td>\n",
       "      <td>2017-10-02 11:07:15</td>\n",
       "      <td>2017-10-04 19:55:00</td>\n",
       "      <td>2017-10-10 21:25:13</td>\n",
       "      <td>2017-10-18 00:00:00</td>\n",
       "    </tr>\n",
       "    <tr>\n",
       "      <th>1</th>\n",
       "      <td>53cdb2fc8bc7dce0b6741e2150273451</td>\n",
       "      <td>b0830fb4747a6c6d20dea0b8c802d7ef</td>\n",
       "      <td>delivered</td>\n",
       "      <td>2018-07-24 20:41:37</td>\n",
       "      <td>2018-07-26 03:24:27</td>\n",
       "      <td>2018-07-26 14:31:00</td>\n",
       "      <td>2018-08-07 15:27:45</td>\n",
       "      <td>2018-08-13 00:00:00</td>\n",
       "    </tr>\n",
       "    <tr>\n",
       "      <th>2</th>\n",
       "      <td>47770eb9100c2d0c44946d9cf07ec65d</td>\n",
       "      <td>41ce2a54c0b03bf3443c3d931a367089</td>\n",
       "      <td>delivered</td>\n",
       "      <td>2018-08-08 08:38:49</td>\n",
       "      <td>2018-08-08 08:55:23</td>\n",
       "      <td>2018-08-08 13:50:00</td>\n",
       "      <td>2018-08-17 18:06:29</td>\n",
       "      <td>2018-09-04 00:00:00</td>\n",
       "    </tr>\n",
       "    <tr>\n",
       "      <th>3</th>\n",
       "      <td>949d5b44dbf5de918fe9c16f97b45f8a</td>\n",
       "      <td>f88197465ea7920adcdbec7375364d82</td>\n",
       "      <td>delivered</td>\n",
       "      <td>2017-11-18 19:28:06</td>\n",
       "      <td>2017-11-18 19:45:59</td>\n",
       "      <td>2017-11-22 13:39:59</td>\n",
       "      <td>2017-12-02 00:28:42</td>\n",
       "      <td>2017-12-15 00:00:00</td>\n",
       "    </tr>\n",
       "    <tr>\n",
       "      <th>4</th>\n",
       "      <td>ad21c59c0840e6cb83a9ceb5573f8159</td>\n",
       "      <td>8ab97904e6daea8866dbdbc4fb7aad2c</td>\n",
       "      <td>delivered</td>\n",
       "      <td>2018-02-13 21:18:39</td>\n",
       "      <td>2018-02-13 22:20:29</td>\n",
       "      <td>2018-02-14 19:46:34</td>\n",
       "      <td>2018-02-16 18:17:02</td>\n",
       "      <td>2018-02-26 00:00:00</td>\n",
       "    </tr>\n",
       "  </tbody>\n",
       "</table>\n",
       "</div>"
      ],
      "text/plain": [
       "                           order_id                       customer_id  \\\n",
       "0  e481f51cbdc54678b7cc49136f2d6af7  9ef432eb6251297304e76186b10a928d   \n",
       "1  53cdb2fc8bc7dce0b6741e2150273451  b0830fb4747a6c6d20dea0b8c802d7ef   \n",
       "2  47770eb9100c2d0c44946d9cf07ec65d  41ce2a54c0b03bf3443c3d931a367089   \n",
       "3  949d5b44dbf5de918fe9c16f97b45f8a  f88197465ea7920adcdbec7375364d82   \n",
       "4  ad21c59c0840e6cb83a9ceb5573f8159  8ab97904e6daea8866dbdbc4fb7aad2c   \n",
       "\n",
       "  order_status order_purchase_timestamp    order_approved_at  \\\n",
       "0    delivered      2017-10-02 10:56:33  2017-10-02 11:07:15   \n",
       "1    delivered      2018-07-24 20:41:37  2018-07-26 03:24:27   \n",
       "2    delivered      2018-08-08 08:38:49  2018-08-08 08:55:23   \n",
       "3    delivered      2017-11-18 19:28:06  2017-11-18 19:45:59   \n",
       "4    delivered      2018-02-13 21:18:39  2018-02-13 22:20:29   \n",
       "\n",
       "  order_delivered_carrier_date order_delivered_customer_date  \\\n",
       "0          2017-10-04 19:55:00           2017-10-10 21:25:13   \n",
       "1          2018-07-26 14:31:00           2018-08-07 15:27:45   \n",
       "2          2018-08-08 13:50:00           2018-08-17 18:06:29   \n",
       "3          2017-11-22 13:39:59           2017-12-02 00:28:42   \n",
       "4          2018-02-14 19:46:34           2018-02-16 18:17:02   \n",
       "\n",
       "  order_estimated_delivery_date  \n",
       "0           2017-10-18 00:00:00  \n",
       "1           2018-08-13 00:00:00  \n",
       "2           2018-09-04 00:00:00  \n",
       "3           2017-12-15 00:00:00  \n",
       "4           2018-02-26 00:00:00  "
      ]
     },
     "execution_count": 946,
     "metadata": {},
     "output_type": "execute_result"
    }
   ],
   "source": [
    "df_orders.head()"
   ]
  },
  {
   "cell_type": "markdown",
   "id": "be55a907",
   "metadata": {},
   "source": [
    "Из условия:\n",
    "    \n",
    "order_id — уникальный идентификатор заказа (номер чека)\n",
    "\n",
    "customer_id — позаказный идентификатор пользователя\n",
    "\n",
    "order_status — статус заказа\n",
    "\n",
    "order_purchase_timestamp — время создания заказа\n",
    "\n",
    "order_approved_at — время подтверждения оплаты заказа\n",
    "\n",
    "order_delivered_carrier_date — время передачи заказа в логистическую службу\n",
    "\n",
    "order_delivered_customer_date — время доставки заказа\n",
    "\n",
    "order_estimated_delivery_date — обещанная дата доставки"
   ]
  },
  {
   "cell_type": "code",
   "execution_count": 947,
   "id": "a376a638",
   "metadata": {},
   "outputs": [
    {
     "data": {
      "text/plain": [
       "(99441, 8)"
      ]
     },
     "execution_count": 947,
     "metadata": {},
     "output_type": "execute_result"
    }
   ],
   "source": [
    "df_orders.shape"
   ]
  },
  {
   "cell_type": "markdown",
   "id": "935fc734",
   "metadata": {},
   "source": [
    "Обратим внимание, что количество строк в df_orders совпадает с количеством строк таблицы df_customers"
   ]
  },
  {
   "cell_type": "code",
   "execution_count": 948,
   "id": "ae54a026",
   "metadata": {},
   "outputs": [
    {
     "data": {
      "text/plain": [
       "order_id                         object\n",
       "customer_id                      object\n",
       "order_status                     object\n",
       "order_purchase_timestamp         object\n",
       "order_approved_at                object\n",
       "order_delivered_carrier_date     object\n",
       "order_delivered_customer_date    object\n",
       "order_estimated_delivery_date    object\n",
       "dtype: object"
      ]
     },
     "execution_count": 948,
     "metadata": {},
     "output_type": "execute_result"
    }
   ],
   "source": [
    "df_orders.dtypes"
   ]
  },
  {
   "cell_type": "markdown",
   "id": "548fbd89",
   "metadata": {},
   "source": [
    "Видим, что во всех колонках с датами содержатся значения типа данных string. Приведём значения в колонках с датами к типу данных datetime64[ns]."
   ]
  },
  {
   "cell_type": "code",
   "execution_count": 949,
   "id": "cb06f8c0",
   "metadata": {},
   "outputs": [],
   "source": [
    "columns_to_datetime = ['order_purchase_timestamp', 'order_approved_at', 'order_delivered_carrier_date', \n",
    "                       'order_delivered_customer_date', 'order_estimated_delivery_date']\n",
    "df_orders[columns_to_datetime] = df_orders[columns_to_datetime].apply(pd.to_datetime)"
   ]
  },
  {
   "cell_type": "code",
   "execution_count": 950,
   "id": "e0ea36e1",
   "metadata": {},
   "outputs": [
    {
     "data": {
      "text/plain": [
       "order_id                                 object\n",
       "customer_id                              object\n",
       "order_status                             object\n",
       "order_purchase_timestamp         datetime64[ns]\n",
       "order_approved_at                datetime64[ns]\n",
       "order_delivered_carrier_date     datetime64[ns]\n",
       "order_delivered_customer_date    datetime64[ns]\n",
       "order_estimated_delivery_date    datetime64[ns]\n",
       "dtype: object"
      ]
     },
     "execution_count": 950,
     "metadata": {},
     "output_type": "execute_result"
    }
   ],
   "source": [
    "df_orders.dtypes # Убедимся, что тип данных колонок с датами изменился"
   ]
  },
  {
   "cell_type": "code",
   "execution_count": 951,
   "id": "28153c38",
   "metadata": {},
   "outputs": [
    {
     "data": {
      "text/plain": [
       "True"
      ]
     },
     "execution_count": 951,
     "metadata": {},
     "output_type": "execute_result"
    }
   ],
   "source": [
    "df_orders.isna().values.any() # проводим проверку на пропущенные значения"
   ]
  },
  {
   "cell_type": "markdown",
   "id": "2d642036",
   "metadata": {},
   "source": [
    "Как видим, в данной таблице есть пропущенные значения. Рассмотрим подробнее, где именно значения пропущены."
   ]
  },
  {
   "cell_type": "code",
   "execution_count": 952,
   "id": "b13dee4d",
   "metadata": {},
   "outputs": [
    {
     "data": {
      "text/plain": [
       "order_id                            0\n",
       "customer_id                         0\n",
       "order_status                        0\n",
       "order_purchase_timestamp            0\n",
       "order_approved_at                 160\n",
       "order_delivered_carrier_date     1783\n",
       "order_delivered_customer_date    2965\n",
       "order_estimated_delivery_date       0\n",
       "dtype: int64"
      ]
     },
     "execution_count": 952,
     "metadata": {},
     "output_type": "execute_result"
    }
   ],
   "source": [
    "df_orders.isna().sum()"
   ]
  },
  {
   "cell_type": "markdown",
   "id": "a3868d6a",
   "metadata": {},
   "source": [
    "По условию <br> order_approved_at — время подтверждения оплаты заказа <br> order_delivered_carrier_date — время передачи заказа в логистическую службу <br> order_delivered_customer_date — время доставки заказа <br> Логично, что в данных колонках могут быть пропуски, так как оплата может не подтвердиться, заказ может быть не переданным в логическую службу или быть не доставленным до покупателя. Следовательно, на данном этапе не стоит удалять строки с пропущенными значениями. Рассмотрим данные строки подробнее позже на этапе определения покупки."
   ]
  },
  {
   "cell_type": "code",
   "execution_count": 953,
   "id": "ebafdd4e",
   "metadata": {},
   "outputs": [
    {
     "data": {
      "text/plain": [
       "99441"
      ]
     },
     "execution_count": 953,
     "metadata": {},
     "output_type": "execute_result"
    }
   ],
   "source": [
    "df_orders.order_id.nunique()"
   ]
  },
  {
   "cell_type": "code",
   "execution_count": 954,
   "id": "6358e450",
   "metadata": {},
   "outputs": [
    {
     "data": {
      "text/plain": [
       "99441"
      ]
     },
     "execution_count": 954,
     "metadata": {},
     "output_type": "execute_result"
    }
   ],
   "source": [
    "df_orders.customer_id.nunique()"
   ]
  },
  {
   "cell_type": "markdown",
   "id": "21d657de",
   "metadata": {},
   "source": [
    "Колонки order_id и customer_id состоят только из уникальных значений (Количество уникальных значений совпадает с количеством строк в таблице)"
   ]
  },
  {
   "cell_type": "code",
   "execution_count": 955,
   "id": "2b74fdb5",
   "metadata": {},
   "outputs": [
    {
     "name": "stdout",
     "output_type": "stream",
     "text": [
      "['delivered' 'invoiced' 'shipped' 'processing' 'unavailable' 'canceled'\n",
      " 'created' 'approved']\n"
     ]
    }
   ],
   "source": [
    "print(df_orders.order_status.unique()) # уникальные статусы заказов"
   ]
  },
  {
   "cell_type": "markdown",
   "id": "f0162ad9",
   "metadata": {},
   "source": [
    "### Загрузка таблицы с товарными позициями, входящими в заказы"
   ]
  },
  {
   "cell_type": "code",
   "execution_count": 956,
   "id": "91a937a2",
   "metadata": {},
   "outputs": [],
   "source": [
    "base_url = 'https://cloud-api.yandex.net/v1/disk/public/resources/download?'\n",
    "items_key = 'https://disk.yandex.ru/d/xCsQ0FiC-Ue4Lg' # ссылка на данные с позициями"
   ]
  },
  {
   "cell_type": "code",
   "execution_count": 957,
   "id": "eb7c5c9a",
   "metadata": {},
   "outputs": [],
   "source": [
    "# получаем url \n",
    "final_url = base_url + urlencode(dict(public_key=items_key)) \n",
    "response = requests.get(final_url) \n",
    "download_url = response.json()['href'] "
   ]
  },
  {
   "cell_type": "code",
   "execution_count": 958,
   "id": "e52550d9",
   "metadata": {},
   "outputs": [],
   "source": [
    "# загружаем файл в df \n",
    "download_response = requests.get(download_url)\n",
    "df_items = pd.read_csv(download_url)"
   ]
  },
  {
   "cell_type": "code",
   "execution_count": 959,
   "id": "918369d9",
   "metadata": {},
   "outputs": [],
   "source": [
    "#df_items = pd.read_csv('/home/anton23/Downloads/Telegram Desktop/olist_order_items_dataset.csv')"
   ]
  },
  {
   "cell_type": "markdown",
   "id": "e3ee3dfe",
   "metadata": {},
   "source": [
    "### Таблица с товарными позициями, входящими в заказы"
   ]
  },
  {
   "cell_type": "code",
   "execution_count": 960,
   "id": "de21bf8d",
   "metadata": {},
   "outputs": [
    {
     "data": {
      "text/html": [
       "<div>\n",
       "<style scoped>\n",
       "    .dataframe tbody tr th:only-of-type {\n",
       "        vertical-align: middle;\n",
       "    }\n",
       "\n",
       "    .dataframe tbody tr th {\n",
       "        vertical-align: top;\n",
       "    }\n",
       "\n",
       "    .dataframe thead th {\n",
       "        text-align: right;\n",
       "    }\n",
       "</style>\n",
       "<table border=\"1\" class=\"dataframe\">\n",
       "  <thead>\n",
       "    <tr style=\"text-align: right;\">\n",
       "      <th></th>\n",
       "      <th>order_id</th>\n",
       "      <th>order_item_id</th>\n",
       "      <th>product_id</th>\n",
       "      <th>seller_id</th>\n",
       "      <th>shipping_limit_date</th>\n",
       "      <th>price</th>\n",
       "      <th>freight_value</th>\n",
       "    </tr>\n",
       "  </thead>\n",
       "  <tbody>\n",
       "    <tr>\n",
       "      <th>0</th>\n",
       "      <td>00010242fe8c5a6d1ba2dd792cb16214</td>\n",
       "      <td>1</td>\n",
       "      <td>4244733e06e7ecb4970a6e2683c13e61</td>\n",
       "      <td>48436dade18ac8b2bce089ec2a041202</td>\n",
       "      <td>2017-09-19 09:45:35</td>\n",
       "      <td>58.90</td>\n",
       "      <td>13.29</td>\n",
       "    </tr>\n",
       "    <tr>\n",
       "      <th>1</th>\n",
       "      <td>00018f77f2f0320c557190d7a144bdd3</td>\n",
       "      <td>1</td>\n",
       "      <td>e5f2d52b802189ee658865ca93d83a8f</td>\n",
       "      <td>dd7ddc04e1b6c2c614352b383efe2d36</td>\n",
       "      <td>2017-05-03 11:05:13</td>\n",
       "      <td>239.90</td>\n",
       "      <td>19.93</td>\n",
       "    </tr>\n",
       "    <tr>\n",
       "      <th>2</th>\n",
       "      <td>000229ec398224ef6ca0657da4fc703e</td>\n",
       "      <td>1</td>\n",
       "      <td>c777355d18b72b67abbeef9df44fd0fd</td>\n",
       "      <td>5b51032eddd242adc84c38acab88f23d</td>\n",
       "      <td>2018-01-18 14:48:30</td>\n",
       "      <td>199.00</td>\n",
       "      <td>17.87</td>\n",
       "    </tr>\n",
       "    <tr>\n",
       "      <th>3</th>\n",
       "      <td>00024acbcdf0a6daa1e931b038114c75</td>\n",
       "      <td>1</td>\n",
       "      <td>7634da152a4610f1595efa32f14722fc</td>\n",
       "      <td>9d7a1d34a5052409006425275ba1c2b4</td>\n",
       "      <td>2018-08-15 10:10:18</td>\n",
       "      <td>12.99</td>\n",
       "      <td>12.79</td>\n",
       "    </tr>\n",
       "    <tr>\n",
       "      <th>4</th>\n",
       "      <td>00042b26cf59d7ce69dfabb4e55b4fd9</td>\n",
       "      <td>1</td>\n",
       "      <td>ac6c3623068f30de03045865e4e10089</td>\n",
       "      <td>df560393f3a51e74553ab94004ba5c87</td>\n",
       "      <td>2017-02-13 13:57:51</td>\n",
       "      <td>199.90</td>\n",
       "      <td>18.14</td>\n",
       "    </tr>\n",
       "  </tbody>\n",
       "</table>\n",
       "</div>"
      ],
      "text/plain": [
       "                           order_id  order_item_id  \\\n",
       "0  00010242fe8c5a6d1ba2dd792cb16214              1   \n",
       "1  00018f77f2f0320c557190d7a144bdd3              1   \n",
       "2  000229ec398224ef6ca0657da4fc703e              1   \n",
       "3  00024acbcdf0a6daa1e931b038114c75              1   \n",
       "4  00042b26cf59d7ce69dfabb4e55b4fd9              1   \n",
       "\n",
       "                         product_id                         seller_id  \\\n",
       "0  4244733e06e7ecb4970a6e2683c13e61  48436dade18ac8b2bce089ec2a041202   \n",
       "1  e5f2d52b802189ee658865ca93d83a8f  dd7ddc04e1b6c2c614352b383efe2d36   \n",
       "2  c777355d18b72b67abbeef9df44fd0fd  5b51032eddd242adc84c38acab88f23d   \n",
       "3  7634da152a4610f1595efa32f14722fc  9d7a1d34a5052409006425275ba1c2b4   \n",
       "4  ac6c3623068f30de03045865e4e10089  df560393f3a51e74553ab94004ba5c87   \n",
       "\n",
       "   shipping_limit_date   price  freight_value  \n",
       "0  2017-09-19 09:45:35   58.90          13.29  \n",
       "1  2017-05-03 11:05:13  239.90          19.93  \n",
       "2  2018-01-18 14:48:30  199.00          17.87  \n",
       "3  2018-08-15 10:10:18   12.99          12.79  \n",
       "4  2017-02-13 13:57:51  199.90          18.14  "
      ]
     },
     "execution_count": 960,
     "metadata": {},
     "output_type": "execute_result"
    }
   ],
   "source": [
    "df_items.head()"
   ]
  },
  {
   "cell_type": "markdown",
   "id": "63ec81bc",
   "metadata": {},
   "source": [
    "Из условия:\n",
    "    \n",
    "order_id —  уникальный идентификатор заказа (номер чека)\n",
    "\n",
    "order_item_id —  идентификатор товара внутри одного заказа\n",
    "\n",
    "product_id —  ид товара (аналог штрихкода)\n",
    "\n",
    "seller_id — ид производителя товара\n",
    "\n",
    "shipping_limit_date —  максимальная дата доставки продавцом для передачи заказа партнеру по логистике\n",
    "\n",
    "price —  цена за единицу товара\n",
    "\n",
    "freight_value —  вес товара"
   ]
  },
  {
   "cell_type": "code",
   "execution_count": 961,
   "id": "552dcb4b",
   "metadata": {},
   "outputs": [
    {
     "data": {
      "text/plain": [
       "(112650, 7)"
      ]
     },
     "execution_count": 961,
     "metadata": {},
     "output_type": "execute_result"
    }
   ],
   "source": [
    "df_items.shape"
   ]
  },
  {
   "cell_type": "code",
   "execution_count": 962,
   "id": "731f211b",
   "metadata": {},
   "outputs": [
    {
     "data": {
      "text/plain": [
       "order_id                object\n",
       "order_item_id            int64\n",
       "product_id              object\n",
       "seller_id               object\n",
       "shipping_limit_date     object\n",
       "price                  float64\n",
       "freight_value          float64\n",
       "dtype: object"
      ]
     },
     "execution_count": 962,
     "metadata": {},
     "output_type": "execute_result"
    }
   ],
   "source": [
    "df_items.dtypes"
   ]
  },
  {
   "cell_type": "markdown",
   "id": "0aa479b1",
   "metadata": {},
   "source": [
    "Колонка shipping_limit_date даты типа данных string. Приведём значения данной колонки к типу данных datetime64[ns]."
   ]
  },
  {
   "cell_type": "code",
   "execution_count": 963,
   "id": "d77a516b",
   "metadata": {},
   "outputs": [],
   "source": [
    "df_items['shipping_limit_date'] = pd.to_datetime(df_items['shipping_limit_date'])"
   ]
  },
  {
   "cell_type": "code",
   "execution_count": 964,
   "id": "a58a0985",
   "metadata": {},
   "outputs": [
    {
     "data": {
      "text/plain": [
       "order_id                       object\n",
       "order_item_id                   int64\n",
       "product_id                     object\n",
       "seller_id                      object\n",
       "shipping_limit_date    datetime64[ns]\n",
       "price                         float64\n",
       "freight_value                 float64\n",
       "dtype: object"
      ]
     },
     "execution_count": 964,
     "metadata": {},
     "output_type": "execute_result"
    }
   ],
   "source": [
    "df_items.dtypes # Убедимся, что тип данных колонки shipping_limit_date изменился"
   ]
  },
  {
   "cell_type": "code",
   "execution_count": 965,
   "id": "3c94ce6f",
   "metadata": {},
   "outputs": [
    {
     "data": {
      "text/plain": [
       "False"
      ]
     },
     "execution_count": 965,
     "metadata": {},
     "output_type": "execute_result"
    }
   ],
   "source": [
    "df_items.isna().values.any() # проводим проверку на пропущенные значения"
   ]
  },
  {
   "cell_type": "markdown",
   "id": "aaebda66",
   "metadata": {},
   "source": [
    "В данной таблице пропущенных значений нет"
   ]
  },
  {
   "cell_type": "code",
   "execution_count": 966,
   "id": "0bab6d6b",
   "metadata": {},
   "outputs": [
    {
     "data": {
      "text/plain": [
       "98666"
      ]
     },
     "execution_count": 966,
     "metadata": {},
     "output_type": "execute_result"
    }
   ],
   "source": [
    "df_items.order_id.nunique()"
   ]
  },
  {
   "cell_type": "markdown",
   "id": "1c70d1fa",
   "metadata": {},
   "source": [
    "В данной таблице уникальных значений в колонке order_id меньше (98666), чем в аналогичной колонке в предыдущих таблицах (99441) "
   ]
  },
  {
   "cell_type": "code",
   "execution_count": 967,
   "id": "3e843e8c",
   "metadata": {},
   "outputs": [
    {
     "data": {
      "text/plain": [
       "32951"
      ]
     },
     "execution_count": 967,
     "metadata": {},
     "output_type": "execute_result"
    }
   ],
   "source": [
    "df_items.product_id.nunique() # количество уникальных товаров, входящих в заказы"
   ]
  },
  {
   "cell_type": "code",
   "execution_count": 968,
   "id": "00255cd3",
   "metadata": {},
   "outputs": [
    {
     "data": {
      "text/plain": [
       "3095"
      ]
     },
     "execution_count": 968,
     "metadata": {},
     "output_type": "execute_result"
    }
   ],
   "source": [
    "df_items.seller_id.nunique() # количество уникальных продавцов"
   ]
  },
  {
   "cell_type": "code",
   "execution_count": 969,
   "id": "7f4701e6",
   "metadata": {},
   "outputs": [
    {
     "name": "stdout",
     "output_type": "stream",
     "text": [
      "[ 1  2  3  4  5  6  7  8  9 10 11 12 13 14 15 16 17 18 19 20 21]\n"
     ]
    }
   ],
   "source": [
    "print(df_items.order_item_id.unique())"
   ]
  },
  {
   "cell_type": "markdown",
   "id": "9d452508",
   "metadata": {},
   "source": [
    "Можно увидеть, что максимально 21 товар может входить в один заказ"
   ]
  },
  {
   "cell_type": "code",
   "execution_count": 970,
   "id": "184e5e2d",
   "metadata": {},
   "outputs": [
    {
     "data": {
      "text/plain": [
       "count    112650.000000\n",
       "mean        120.653739\n",
       "std         183.633928\n",
       "min           0.850000\n",
       "25%          39.900000\n",
       "50%          74.990000\n",
       "75%         134.900000\n",
       "max        6735.000000\n",
       "Name: price, dtype: float64"
      ]
     },
     "execution_count": 970,
     "metadata": {},
     "output_type": "execute_result"
    }
   ],
   "source": [
    "df_items.price.describe()"
   ]
  },
  {
   "cell_type": "markdown",
   "id": "1e74bea3",
   "metadata": {},
   "source": [
    "Можно сделать вывод, что бесплатных товаров нет."
   ]
  },
  {
   "cell_type": "code",
   "execution_count": 971,
   "id": "7a3598fa",
   "metadata": {},
   "outputs": [
    {
     "data": {
      "text/plain": [
       "count    112650.000000\n",
       "mean         19.990320\n",
       "std          15.806405\n",
       "min           0.000000\n",
       "25%          13.080000\n",
       "50%          16.260000\n",
       "75%          21.150000\n",
       "max         409.680000\n",
       "Name: freight_value, dtype: float64"
      ]
     },
     "execution_count": 971,
     "metadata": {},
     "output_type": "execute_result"
    }
   ],
   "source": [
    "df_items.freight_value.describe()"
   ]
  },
  {
   "cell_type": "markdown",
   "id": "3935abb5",
   "metadata": {},
   "source": [
    "Можно сделать вывод, что были товары, вес которых равен 0. Рассмотрим подробнее данные товары."
   ]
  },
  {
   "cell_type": "code",
   "execution_count": 972,
   "id": "d8d6c7d8",
   "metadata": {},
   "outputs": [
    {
     "data": {
      "text/html": [
       "<div>\n",
       "<style scoped>\n",
       "    .dataframe tbody tr th:only-of-type {\n",
       "        vertical-align: middle;\n",
       "    }\n",
       "\n",
       "    .dataframe tbody tr th {\n",
       "        vertical-align: top;\n",
       "    }\n",
       "\n",
       "    .dataframe thead th {\n",
       "        text-align: right;\n",
       "    }\n",
       "</style>\n",
       "<table border=\"1\" class=\"dataframe\">\n",
       "  <thead>\n",
       "    <tr style=\"text-align: right;\">\n",
       "      <th></th>\n",
       "      <th>order_id</th>\n",
       "      <th>order_item_id</th>\n",
       "      <th>product_id</th>\n",
       "      <th>seller_id</th>\n",
       "      <th>shipping_limit_date</th>\n",
       "      <th>price</th>\n",
       "      <th>freight_value</th>\n",
       "    </tr>\n",
       "  </thead>\n",
       "  <tbody>\n",
       "    <tr>\n",
       "      <th>114</th>\n",
       "      <td>00404fa7a687c8c44ca69d42695aae73</td>\n",
       "      <td>1</td>\n",
       "      <td>53b36df67ebb7c41585e8d54d6772e08</td>\n",
       "      <td>7d13fca15225358621be4086e1eb0964</td>\n",
       "      <td>2018-05-15 04:31:26</td>\n",
       "      <td>99.9</td>\n",
       "      <td>0.0</td>\n",
       "    </tr>\n",
       "    <tr>\n",
       "      <th>258</th>\n",
       "      <td>00a870c6c06346e85335524935c600c0</td>\n",
       "      <td>1</td>\n",
       "      <td>aca2eb7d00ea1a7b8ebd4e68314663af</td>\n",
       "      <td>955fee9216a65b617aa5c0531780ce60</td>\n",
       "      <td>2018-05-14 00:14:29</td>\n",
       "      <td>69.9</td>\n",
       "      <td>0.0</td>\n",
       "    </tr>\n",
       "    <tr>\n",
       "      <th>483</th>\n",
       "      <td>011c899816ea29773525bd3322dbb6aa</td>\n",
       "      <td>1</td>\n",
       "      <td>53b36df67ebb7c41585e8d54d6772e08</td>\n",
       "      <td>7d13fca15225358621be4086e1eb0964</td>\n",
       "      <td>2018-05-07 05:30:45</td>\n",
       "      <td>99.9</td>\n",
       "      <td>0.0</td>\n",
       "    </tr>\n",
       "    <tr>\n",
       "      <th>508</th>\n",
       "      <td>012b3f6ab7776a8ab3443a4ad7bef2e6</td>\n",
       "      <td>1</td>\n",
       "      <td>422879e10f46682990de24d770e7f83d</td>\n",
       "      <td>1f50f920176fa81dab994f9023523100</td>\n",
       "      <td>2018-05-09 21:30:50</td>\n",
       "      <td>53.9</td>\n",
       "      <td>0.0</td>\n",
       "    </tr>\n",
       "    <tr>\n",
       "      <th>509</th>\n",
       "      <td>012b3f6ab7776a8ab3443a4ad7bef2e6</td>\n",
       "      <td>2</td>\n",
       "      <td>422879e10f46682990de24d770e7f83d</td>\n",
       "      <td>1f50f920176fa81dab994f9023523100</td>\n",
       "      <td>2018-05-09 21:30:50</td>\n",
       "      <td>53.9</td>\n",
       "      <td>0.0</td>\n",
       "    </tr>\n",
       "  </tbody>\n",
       "</table>\n",
       "</div>"
      ],
      "text/plain": [
       "                             order_id  order_item_id  \\\n",
       "114  00404fa7a687c8c44ca69d42695aae73              1   \n",
       "258  00a870c6c06346e85335524935c600c0              1   \n",
       "483  011c899816ea29773525bd3322dbb6aa              1   \n",
       "508  012b3f6ab7776a8ab3443a4ad7bef2e6              1   \n",
       "509  012b3f6ab7776a8ab3443a4ad7bef2e6              2   \n",
       "\n",
       "                           product_id                         seller_id  \\\n",
       "114  53b36df67ebb7c41585e8d54d6772e08  7d13fca15225358621be4086e1eb0964   \n",
       "258  aca2eb7d00ea1a7b8ebd4e68314663af  955fee9216a65b617aa5c0531780ce60   \n",
       "483  53b36df67ebb7c41585e8d54d6772e08  7d13fca15225358621be4086e1eb0964   \n",
       "508  422879e10f46682990de24d770e7f83d  1f50f920176fa81dab994f9023523100   \n",
       "509  422879e10f46682990de24d770e7f83d  1f50f920176fa81dab994f9023523100   \n",
       "\n",
       "    shipping_limit_date  price  freight_value  \n",
       "114 2018-05-15 04:31:26   99.9            0.0  \n",
       "258 2018-05-14 00:14:29   69.9            0.0  \n",
       "483 2018-05-07 05:30:45   99.9            0.0  \n",
       "508 2018-05-09 21:30:50   53.9            0.0  \n",
       "509 2018-05-09 21:30:50   53.9            0.0  "
      ]
     },
     "execution_count": 972,
     "metadata": {},
     "output_type": "execute_result"
    }
   ],
   "source": [
    "df_items.query(\"freight_value == 0\").head()"
   ]
  },
  {
   "cell_type": "code",
   "execution_count": 973,
   "id": "6dd6dd69",
   "metadata": {},
   "outputs": [
    {
     "data": {
      "text/plain": [
       "(383, 7)"
      ]
     },
     "execution_count": 973,
     "metadata": {},
     "output_type": "execute_result"
    }
   ],
   "source": [
    "df_items.query(\"freight_value == 0\").shape"
   ]
  },
  {
   "cell_type": "markdown",
   "id": "44cd8395",
   "metadata": {},
   "source": [
    "Есть 383 товара, вес которых равен 0."
   ]
  },
  {
   "cell_type": "markdown",
   "id": "465f5bfe",
   "metadata": {},
   "source": [
    "# Определение заказов, являющихся покупками"
   ]
  },
  {
   "cell_type": "markdown",
   "id": "a85125a1",
   "metadata": {},
   "source": [
    "Для определения заказов, являющихся покупками, рассмотрим подробнее таблицы df_orders и df_items, так как df_orders содержит всю информацию о заказах, а df_items содержить всю информацию о товарах, входящих в заказы."
   ]
  },
  {
   "cell_type": "code",
   "execution_count": 974,
   "id": "2e7d548c",
   "metadata": {},
   "outputs": [
    {
     "data": {
      "text/html": [
       "<div>\n",
       "<style scoped>\n",
       "    .dataframe tbody tr th:only-of-type {\n",
       "        vertical-align: middle;\n",
       "    }\n",
       "\n",
       "    .dataframe tbody tr th {\n",
       "        vertical-align: top;\n",
       "    }\n",
       "\n",
       "    .dataframe thead th {\n",
       "        text-align: right;\n",
       "    }\n",
       "</style>\n",
       "<table border=\"1\" class=\"dataframe\">\n",
       "  <thead>\n",
       "    <tr style=\"text-align: right;\">\n",
       "      <th></th>\n",
       "      <th>order_id</th>\n",
       "      <th>customer_id</th>\n",
       "      <th>order_status</th>\n",
       "      <th>order_purchase_timestamp</th>\n",
       "      <th>order_approved_at</th>\n",
       "      <th>order_delivered_carrier_date</th>\n",
       "      <th>order_delivered_customer_date</th>\n",
       "      <th>order_estimated_delivery_date</th>\n",
       "    </tr>\n",
       "  </thead>\n",
       "  <tbody>\n",
       "    <tr>\n",
       "      <th>0</th>\n",
       "      <td>e481f51cbdc54678b7cc49136f2d6af7</td>\n",
       "      <td>9ef432eb6251297304e76186b10a928d</td>\n",
       "      <td>delivered</td>\n",
       "      <td>2017-10-02 10:56:33</td>\n",
       "      <td>2017-10-02 11:07:15</td>\n",
       "      <td>2017-10-04 19:55:00</td>\n",
       "      <td>2017-10-10 21:25:13</td>\n",
       "      <td>2017-10-18</td>\n",
       "    </tr>\n",
       "    <tr>\n",
       "      <th>1</th>\n",
       "      <td>53cdb2fc8bc7dce0b6741e2150273451</td>\n",
       "      <td>b0830fb4747a6c6d20dea0b8c802d7ef</td>\n",
       "      <td>delivered</td>\n",
       "      <td>2018-07-24 20:41:37</td>\n",
       "      <td>2018-07-26 03:24:27</td>\n",
       "      <td>2018-07-26 14:31:00</td>\n",
       "      <td>2018-08-07 15:27:45</td>\n",
       "      <td>2018-08-13</td>\n",
       "    </tr>\n",
       "    <tr>\n",
       "      <th>2</th>\n",
       "      <td>47770eb9100c2d0c44946d9cf07ec65d</td>\n",
       "      <td>41ce2a54c0b03bf3443c3d931a367089</td>\n",
       "      <td>delivered</td>\n",
       "      <td>2018-08-08 08:38:49</td>\n",
       "      <td>2018-08-08 08:55:23</td>\n",
       "      <td>2018-08-08 13:50:00</td>\n",
       "      <td>2018-08-17 18:06:29</td>\n",
       "      <td>2018-09-04</td>\n",
       "    </tr>\n",
       "    <tr>\n",
       "      <th>3</th>\n",
       "      <td>949d5b44dbf5de918fe9c16f97b45f8a</td>\n",
       "      <td>f88197465ea7920adcdbec7375364d82</td>\n",
       "      <td>delivered</td>\n",
       "      <td>2017-11-18 19:28:06</td>\n",
       "      <td>2017-11-18 19:45:59</td>\n",
       "      <td>2017-11-22 13:39:59</td>\n",
       "      <td>2017-12-02 00:28:42</td>\n",
       "      <td>2017-12-15</td>\n",
       "    </tr>\n",
       "    <tr>\n",
       "      <th>4</th>\n",
       "      <td>ad21c59c0840e6cb83a9ceb5573f8159</td>\n",
       "      <td>8ab97904e6daea8866dbdbc4fb7aad2c</td>\n",
       "      <td>delivered</td>\n",
       "      <td>2018-02-13 21:18:39</td>\n",
       "      <td>2018-02-13 22:20:29</td>\n",
       "      <td>2018-02-14 19:46:34</td>\n",
       "      <td>2018-02-16 18:17:02</td>\n",
       "      <td>2018-02-26</td>\n",
       "    </tr>\n",
       "  </tbody>\n",
       "</table>\n",
       "</div>"
      ],
      "text/plain": [
       "                           order_id                       customer_id  \\\n",
       "0  e481f51cbdc54678b7cc49136f2d6af7  9ef432eb6251297304e76186b10a928d   \n",
       "1  53cdb2fc8bc7dce0b6741e2150273451  b0830fb4747a6c6d20dea0b8c802d7ef   \n",
       "2  47770eb9100c2d0c44946d9cf07ec65d  41ce2a54c0b03bf3443c3d931a367089   \n",
       "3  949d5b44dbf5de918fe9c16f97b45f8a  f88197465ea7920adcdbec7375364d82   \n",
       "4  ad21c59c0840e6cb83a9ceb5573f8159  8ab97904e6daea8866dbdbc4fb7aad2c   \n",
       "\n",
       "  order_status order_purchase_timestamp   order_approved_at  \\\n",
       "0    delivered      2017-10-02 10:56:33 2017-10-02 11:07:15   \n",
       "1    delivered      2018-07-24 20:41:37 2018-07-26 03:24:27   \n",
       "2    delivered      2018-08-08 08:38:49 2018-08-08 08:55:23   \n",
       "3    delivered      2017-11-18 19:28:06 2017-11-18 19:45:59   \n",
       "4    delivered      2018-02-13 21:18:39 2018-02-13 22:20:29   \n",
       "\n",
       "  order_delivered_carrier_date order_delivered_customer_date  \\\n",
       "0          2017-10-04 19:55:00           2017-10-10 21:25:13   \n",
       "1          2018-07-26 14:31:00           2018-08-07 15:27:45   \n",
       "2          2018-08-08 13:50:00           2018-08-17 18:06:29   \n",
       "3          2017-11-22 13:39:59           2017-12-02 00:28:42   \n",
       "4          2018-02-14 19:46:34           2018-02-16 18:17:02   \n",
       "\n",
       "  order_estimated_delivery_date  \n",
       "0                    2017-10-18  \n",
       "1                    2018-08-13  \n",
       "2                    2018-09-04  \n",
       "3                    2017-12-15  \n",
       "4                    2018-02-26  "
      ]
     },
     "execution_count": 974,
     "metadata": {},
     "output_type": "execute_result"
    }
   ],
   "source": [
    "df_orders.head()"
   ]
  },
  {
   "cell_type": "code",
   "execution_count": 975,
   "id": "55cf26e2",
   "metadata": {},
   "outputs": [
    {
     "name": "stdout",
     "output_type": "stream",
     "text": [
      "['delivered' 'invoiced' 'shipped' 'processing' 'unavailable' 'canceled'\n",
      " 'created' 'approved']\n"
     ]
    }
   ],
   "source": [
    "print(df_orders.order_status.unique()) # уникальные статусы заказов"
   ]
  },
  {
   "cell_type": "markdown",
   "id": "04bc3a8f",
   "metadata": {},
   "source": [
    "Из условия:\n",
    "<ul>\n",
    "<li>created —  создан</li>\n",
    "<li>approved —  подтверждён</li>\n",
    "<li>invoiced —  выставлен счёт</li>\n",
    "<li>processing —  в процессе сборки заказа</li>\n",
    "<li>shipped —  отгружен со склада</li>\n",
    "<li>delivered —  доставлен пользователю</li>\n",
    "<li>unavailable —  недоступен</li>\n",
    "<li>canceled —  отменён</li>\n",
    "</ul>"
   ]
  },
  {
   "cell_type": "code",
   "execution_count": 976,
   "id": "5f807ab2",
   "metadata": {},
   "outputs": [
    {
     "data": {
      "text/plain": [
       "order_status\n",
       "delivered      96478\n",
       "shipped         1107\n",
       "canceled         625\n",
       "unavailable      609\n",
       "invoiced         314\n",
       "processing       301\n",
       "created            5\n",
       "approved           2\n",
       "Name: count, dtype: int64"
      ]
     },
     "execution_count": 976,
     "metadata": {},
     "output_type": "execute_result"
    }
   ],
   "source": [
    "df_orders.order_status.value_counts()"
   ]
  },
  {
   "cell_type": "markdown",
   "id": "f7f6ba9b",
   "metadata": {},
   "source": [
    "Рассмотрим подробнее каждый статус"
   ]
  },
  {
   "cell_type": "markdown",
   "id": "5ddc6a24",
   "metadata": {},
   "source": [
    "### Заказы со статусом created"
   ]
  },
  {
   "cell_type": "code",
   "execution_count": 977,
   "id": "d7f7de12",
   "metadata": {},
   "outputs": [
    {
     "data": {
      "text/html": [
       "<div>\n",
       "<style scoped>\n",
       "    .dataframe tbody tr th:only-of-type {\n",
       "        vertical-align: middle;\n",
       "    }\n",
       "\n",
       "    .dataframe tbody tr th {\n",
       "        vertical-align: top;\n",
       "    }\n",
       "\n",
       "    .dataframe thead th {\n",
       "        text-align: right;\n",
       "    }\n",
       "</style>\n",
       "<table border=\"1\" class=\"dataframe\">\n",
       "  <thead>\n",
       "    <tr style=\"text-align: right;\">\n",
       "      <th></th>\n",
       "      <th>order_id</th>\n",
       "      <th>customer_id</th>\n",
       "      <th>order_status</th>\n",
       "      <th>order_purchase_timestamp</th>\n",
       "      <th>order_approved_at</th>\n",
       "      <th>order_delivered_carrier_date</th>\n",
       "      <th>order_delivered_customer_date</th>\n",
       "      <th>order_estimated_delivery_date</th>\n",
       "    </tr>\n",
       "  </thead>\n",
       "  <tbody>\n",
       "    <tr>\n",
       "      <th>7434</th>\n",
       "      <td>b5359909123fa03c50bdb0cfed07f098</td>\n",
       "      <td>438449d4af8980d107bf04571413a8e7</td>\n",
       "      <td>created</td>\n",
       "      <td>2017-12-05 01:07:52</td>\n",
       "      <td>NaT</td>\n",
       "      <td>NaT</td>\n",
       "      <td>NaT</td>\n",
       "      <td>2018-01-11</td>\n",
       "    </tr>\n",
       "    <tr>\n",
       "      <th>9238</th>\n",
       "      <td>dba5062fbda3af4fb6c33b1e040ca38f</td>\n",
       "      <td>964a6df3d9bdf60fe3e7b8bb69ed893a</td>\n",
       "      <td>created</td>\n",
       "      <td>2018-02-09 17:21:04</td>\n",
       "      <td>NaT</td>\n",
       "      <td>NaT</td>\n",
       "      <td>NaT</td>\n",
       "      <td>2018-03-07</td>\n",
       "    </tr>\n",
       "    <tr>\n",
       "      <th>21441</th>\n",
       "      <td>7a4df5d8cff4090e541401a20a22bb80</td>\n",
       "      <td>725e9c75605414b21fd8c8d5a1c2f1d6</td>\n",
       "      <td>created</td>\n",
       "      <td>2017-11-25 11:10:33</td>\n",
       "      <td>NaT</td>\n",
       "      <td>NaT</td>\n",
       "      <td>NaT</td>\n",
       "      <td>2017-12-12</td>\n",
       "    </tr>\n",
       "    <tr>\n",
       "      <th>55086</th>\n",
       "      <td>35de4050331c6c644cddc86f4f2d0d64</td>\n",
       "      <td>4ee64f4bfc542546f422da0aeb462853</td>\n",
       "      <td>created</td>\n",
       "      <td>2017-12-05 01:07:58</td>\n",
       "      <td>NaT</td>\n",
       "      <td>NaT</td>\n",
       "      <td>NaT</td>\n",
       "      <td>2018-01-08</td>\n",
       "    </tr>\n",
       "    <tr>\n",
       "      <th>58958</th>\n",
       "      <td>90ab3e7d52544ec7bc3363c82689965f</td>\n",
       "      <td>7d61b9f4f216052ba664f22e9c504ef1</td>\n",
       "      <td>created</td>\n",
       "      <td>2017-11-06 13:12:34</td>\n",
       "      <td>NaT</td>\n",
       "      <td>NaT</td>\n",
       "      <td>NaT</td>\n",
       "      <td>2017-12-01</td>\n",
       "    </tr>\n",
       "  </tbody>\n",
       "</table>\n",
       "</div>"
      ],
      "text/plain": [
       "                               order_id                       customer_id  \\\n",
       "7434   b5359909123fa03c50bdb0cfed07f098  438449d4af8980d107bf04571413a8e7   \n",
       "9238   dba5062fbda3af4fb6c33b1e040ca38f  964a6df3d9bdf60fe3e7b8bb69ed893a   \n",
       "21441  7a4df5d8cff4090e541401a20a22bb80  725e9c75605414b21fd8c8d5a1c2f1d6   \n",
       "55086  35de4050331c6c644cddc86f4f2d0d64  4ee64f4bfc542546f422da0aeb462853   \n",
       "58958  90ab3e7d52544ec7bc3363c82689965f  7d61b9f4f216052ba664f22e9c504ef1   \n",
       "\n",
       "      order_status order_purchase_timestamp order_approved_at  \\\n",
       "7434       created      2017-12-05 01:07:52               NaT   \n",
       "9238       created      2018-02-09 17:21:04               NaT   \n",
       "21441      created      2017-11-25 11:10:33               NaT   \n",
       "55086      created      2017-12-05 01:07:58               NaT   \n",
       "58958      created      2017-11-06 13:12:34               NaT   \n",
       "\n",
       "      order_delivered_carrier_date order_delivered_customer_date  \\\n",
       "7434                           NaT                           NaT   \n",
       "9238                           NaT                           NaT   \n",
       "21441                          NaT                           NaT   \n",
       "55086                          NaT                           NaT   \n",
       "58958                          NaT                           NaT   \n",
       "\n",
       "      order_estimated_delivery_date  \n",
       "7434                     2018-01-11  \n",
       "9238                     2018-03-07  \n",
       "21441                    2017-12-12  \n",
       "55086                    2018-01-08  \n",
       "58958                    2017-12-01  "
      ]
     },
     "execution_count": 977,
     "metadata": {},
     "output_type": "execute_result"
    }
   ],
   "source": [
    "df_orders.query(\"order_status == 'created'\")"
   ]
  },
  {
   "cell_type": "markdown",
   "id": "8266efb3",
   "metadata": {},
   "source": [
    "Всего 6 заказов со статусом created, при этом у данных заказов колонки order_approved_at, order_delivered_carrier_date, order_delivered_customer_date не заполнены. Значит, оплата данных заказов не подтверждена, данные заказы не были переданы в логистическую службу и не были доставлены до пользователя."
   ]
  },
  {
   "cell_type": "markdown",
   "id": "22e90aac",
   "metadata": {},
   "source": [
    "Проверим наличие заказов со статусом created в таблице df_items (таблица с товарными позициями, входящими в заказы)"
   ]
  },
  {
   "cell_type": "code",
   "execution_count": 978,
   "id": "33379073",
   "metadata": {},
   "outputs": [
    {
     "data": {
      "text/plain": [
       "False"
      ]
     },
     "execution_count": 978,
     "metadata": {},
     "output_type": "execute_result"
    }
   ],
   "source": [
    "df_items['order_id'].isin(df_orders.query(\"order_status == 'created'\").order_id).any()"
   ]
  },
  {
   "cell_type": "markdown",
   "id": "1ccda3a6",
   "metadata": {},
   "source": [
    "Заказы со статусом created в таблице df_items отсутствуют"
   ]
  },
  {
   "cell_type": "markdown",
   "id": "0a8fc3f2",
   "metadata": {},
   "source": [
    "### Заказы со статусом approved"
   ]
  },
  {
   "cell_type": "code",
   "execution_count": 979,
   "id": "836db4c0",
   "metadata": {},
   "outputs": [
    {
     "data": {
      "text/html": [
       "<div>\n",
       "<style scoped>\n",
       "    .dataframe tbody tr th:only-of-type {\n",
       "        vertical-align: middle;\n",
       "    }\n",
       "\n",
       "    .dataframe tbody tr th {\n",
       "        vertical-align: top;\n",
       "    }\n",
       "\n",
       "    .dataframe thead th {\n",
       "        text-align: right;\n",
       "    }\n",
       "</style>\n",
       "<table border=\"1\" class=\"dataframe\">\n",
       "  <thead>\n",
       "    <tr style=\"text-align: right;\">\n",
       "      <th></th>\n",
       "      <th>order_id</th>\n",
       "      <th>customer_id</th>\n",
       "      <th>order_status</th>\n",
       "      <th>order_purchase_timestamp</th>\n",
       "      <th>order_approved_at</th>\n",
       "      <th>order_delivered_carrier_date</th>\n",
       "      <th>order_delivered_customer_date</th>\n",
       "      <th>order_estimated_delivery_date</th>\n",
       "    </tr>\n",
       "  </thead>\n",
       "  <tbody>\n",
       "    <tr>\n",
       "      <th>44897</th>\n",
       "      <td>a2e4c44360b4a57bdff22f3a4630c173</td>\n",
       "      <td>8886130db0ea6e9e70ba0b03d7c0d286</td>\n",
       "      <td>approved</td>\n",
       "      <td>2017-02-06 20:18:17</td>\n",
       "      <td>2017-02-06 20:30:19</td>\n",
       "      <td>NaT</td>\n",
       "      <td>NaT</td>\n",
       "      <td>2017-03-01</td>\n",
       "    </tr>\n",
       "    <tr>\n",
       "      <th>88457</th>\n",
       "      <td>132f1e724165a07f6362532bfb97486e</td>\n",
       "      <td>b2191912d8ad6eac2e4dc3b6e1459515</td>\n",
       "      <td>approved</td>\n",
       "      <td>2017-04-25 01:25:34</td>\n",
       "      <td>2017-04-30 20:32:41</td>\n",
       "      <td>NaT</td>\n",
       "      <td>NaT</td>\n",
       "      <td>2017-05-22</td>\n",
       "    </tr>\n",
       "  </tbody>\n",
       "</table>\n",
       "</div>"
      ],
      "text/plain": [
       "                               order_id                       customer_id  \\\n",
       "44897  a2e4c44360b4a57bdff22f3a4630c173  8886130db0ea6e9e70ba0b03d7c0d286   \n",
       "88457  132f1e724165a07f6362532bfb97486e  b2191912d8ad6eac2e4dc3b6e1459515   \n",
       "\n",
       "      order_status order_purchase_timestamp   order_approved_at  \\\n",
       "44897     approved      2017-02-06 20:18:17 2017-02-06 20:30:19   \n",
       "88457     approved      2017-04-25 01:25:34 2017-04-30 20:32:41   \n",
       "\n",
       "      order_delivered_carrier_date order_delivered_customer_date  \\\n",
       "44897                          NaT                           NaT   \n",
       "88457                          NaT                           NaT   \n",
       "\n",
       "      order_estimated_delivery_date  \n",
       "44897                    2017-03-01  \n",
       "88457                    2017-05-22  "
      ]
     },
     "execution_count": 979,
     "metadata": {},
     "output_type": "execute_result"
    }
   ],
   "source": [
    "df_orders.query(\"order_status == 'approved'\")"
   ]
  },
  {
   "cell_type": "markdown",
   "id": "d669c042",
   "metadata": {},
   "source": [
    "Всего 2 заказа со статусом approved, при этом у данных заказов колонки order_delivered_carrier_date, order_delivered_customer_date не заполнены. Значит, оплата данных заказов подтверждена, но они не были переданы в логистическую службу и не были\n",
    "доставлены до пользователя."
   ]
  },
  {
   "cell_type": "markdown",
   "id": "b1806b75",
   "metadata": {},
   "source": [
    "Можно понять, что данные заказы оносятся к 2017 году."
   ]
  },
  {
   "cell_type": "markdown",
   "id": "9d82919c",
   "metadata": {},
   "source": [
    "Проверим наличие заказов со статусом approved в таблице df_items (таблица с товарными позициями, входящими в заказы)"
   ]
  },
  {
   "cell_type": "code",
   "execution_count": 980,
   "id": "54404406",
   "metadata": {},
   "outputs": [
    {
     "data": {
      "text/plain": [
       "True"
      ]
     },
     "execution_count": 980,
     "metadata": {},
     "output_type": "execute_result"
    }
   ],
   "source": [
    "df_items['order_id'].isin(df_orders.query(\"order_status == 'approved'\").order_id).any()"
   ]
  },
  {
   "cell_type": "code",
   "execution_count": 981,
   "id": "a801b5c6",
   "metadata": {},
   "outputs": [
    {
     "data": {
      "text/html": [
       "<div>\n",
       "<style scoped>\n",
       "    .dataframe tbody tr th:only-of-type {\n",
       "        vertical-align: middle;\n",
       "    }\n",
       "\n",
       "    .dataframe tbody tr th {\n",
       "        vertical-align: top;\n",
       "    }\n",
       "\n",
       "    .dataframe thead th {\n",
       "        text-align: right;\n",
       "    }\n",
       "</style>\n",
       "<table border=\"1\" class=\"dataframe\">\n",
       "  <thead>\n",
       "    <tr style=\"text-align: right;\">\n",
       "      <th></th>\n",
       "      <th>order_id</th>\n",
       "      <th>order_item_id</th>\n",
       "      <th>product_id</th>\n",
       "      <th>seller_id</th>\n",
       "      <th>shipping_limit_date</th>\n",
       "      <th>price</th>\n",
       "      <th>freight_value</th>\n",
       "    </tr>\n",
       "  </thead>\n",
       "  <tbody>\n",
       "    <tr>\n",
       "      <th>8409</th>\n",
       "      <td>132f1e724165a07f6362532bfb97486e</td>\n",
       "      <td>1</td>\n",
       "      <td>c4a1c4638fa9e2e4861d141d6e0259e7</td>\n",
       "      <td>5444b12c82f21c923f2639ebc722c1ea</td>\n",
       "      <td>2017-05-08 20:32:41</td>\n",
       "      <td>169.90</td>\n",
       "      <td>9.56</td>\n",
       "    </tr>\n",
       "    <tr>\n",
       "      <th>71423</th>\n",
       "      <td>a2e4c44360b4a57bdff22f3a4630c173</td>\n",
       "      <td>1</td>\n",
       "      <td>dcecb611ba878d5d8c7853585b285c12</td>\n",
       "      <td>8cc6a0e5738e61a87b03c78b2ba9db4b</td>\n",
       "      <td>2017-02-10 20:18:17</td>\n",
       "      <td>19.85</td>\n",
       "      <td>10.96</td>\n",
       "    </tr>\n",
       "    <tr>\n",
       "      <th>71424</th>\n",
       "      <td>a2e4c44360b4a57bdff22f3a4630c173</td>\n",
       "      <td>2</td>\n",
       "      <td>dcecb611ba878d5d8c7853585b285c12</td>\n",
       "      <td>8cc6a0e5738e61a87b03c78b2ba9db4b</td>\n",
       "      <td>2017-02-10 20:18:17</td>\n",
       "      <td>19.85</td>\n",
       "      <td>10.96</td>\n",
       "    </tr>\n",
       "  </tbody>\n",
       "</table>\n",
       "</div>"
      ],
      "text/plain": [
       "                               order_id  order_item_id  \\\n",
       "8409   132f1e724165a07f6362532bfb97486e              1   \n",
       "71423  a2e4c44360b4a57bdff22f3a4630c173              1   \n",
       "71424  a2e4c44360b4a57bdff22f3a4630c173              2   \n",
       "\n",
       "                             product_id                         seller_id  \\\n",
       "8409   c4a1c4638fa9e2e4861d141d6e0259e7  5444b12c82f21c923f2639ebc722c1ea   \n",
       "71423  dcecb611ba878d5d8c7853585b285c12  8cc6a0e5738e61a87b03c78b2ba9db4b   \n",
       "71424  dcecb611ba878d5d8c7853585b285c12  8cc6a0e5738e61a87b03c78b2ba9db4b   \n",
       "\n",
       "      shipping_limit_date   price  freight_value  \n",
       "8409  2017-05-08 20:32:41  169.90           9.56  \n",
       "71423 2017-02-10 20:18:17   19.85          10.96  \n",
       "71424 2017-02-10 20:18:17   19.85          10.96  "
      ]
     },
     "execution_count": 981,
     "metadata": {},
     "output_type": "execute_result"
    }
   ],
   "source": [
    "df_items.loc[df_items['order_id'].isin(df_orders.query(\"order_status == 'approved'\").order_id)]"
   ]
  },
  {
   "cell_type": "markdown",
   "id": "ee1fa32c",
   "metadata": {},
   "source": [
    "Все заказы со статусом approved есть в таблице df_items"
   ]
  },
  {
   "cell_type": "markdown",
   "id": "37b84c23",
   "metadata": {},
   "source": [
    "### Заказы со статусом invoiced"
   ]
  },
  {
   "cell_type": "code",
   "execution_count": 982,
   "id": "1a5e209a",
   "metadata": {},
   "outputs": [
    {
     "data": {
      "text/html": [
       "<div>\n",
       "<style scoped>\n",
       "    .dataframe tbody tr th:only-of-type {\n",
       "        vertical-align: middle;\n",
       "    }\n",
       "\n",
       "    .dataframe tbody tr th {\n",
       "        vertical-align: top;\n",
       "    }\n",
       "\n",
       "    .dataframe thead th {\n",
       "        text-align: right;\n",
       "    }\n",
       "</style>\n",
       "<table border=\"1\" class=\"dataframe\">\n",
       "  <thead>\n",
       "    <tr style=\"text-align: right;\">\n",
       "      <th></th>\n",
       "      <th>order_id</th>\n",
       "      <th>customer_id</th>\n",
       "      <th>order_status</th>\n",
       "      <th>order_purchase_timestamp</th>\n",
       "      <th>order_approved_at</th>\n",
       "      <th>order_delivered_carrier_date</th>\n",
       "      <th>order_delivered_customer_date</th>\n",
       "      <th>order_estimated_delivery_date</th>\n",
       "    </tr>\n",
       "  </thead>\n",
       "  <tbody>\n",
       "    <tr>\n",
       "      <th>56185</th>\n",
       "      <td>c3fd18a4aeb8e2d589b0248ce60e91b7</td>\n",
       "      <td>17c867817e32d1474241a11bb120d4c4</td>\n",
       "      <td>invoiced</td>\n",
       "      <td>2018-08-14 18:45:08</td>\n",
       "      <td>2018-08-14 19:05:23</td>\n",
       "      <td>NaT</td>\n",
       "      <td>NaT</td>\n",
       "      <td>2018-08-27</td>\n",
       "    </tr>\n",
       "    <tr>\n",
       "      <th>82498</th>\n",
       "      <td>67d06af97696c95df2bb26acf82db637</td>\n",
       "      <td>d3ddbbd220a088a3e353cd270c184e60</td>\n",
       "      <td>invoiced</td>\n",
       "      <td>2018-08-09 17:18:57</td>\n",
       "      <td>2018-08-09 17:50:12</td>\n",
       "      <td>NaT</td>\n",
       "      <td>NaT</td>\n",
       "      <td>2018-08-17</td>\n",
       "    </tr>\n",
       "    <tr>\n",
       "      <th>35918</th>\n",
       "      <td>a03ac1d748cc1533566bf2c8199159d4</td>\n",
       "      <td>d89f76444e908c953bd1f8390aec9a00</td>\n",
       "      <td>invoiced</td>\n",
       "      <td>2018-08-09 06:43:29</td>\n",
       "      <td>2018-08-09 06:55:06</td>\n",
       "      <td>NaT</td>\n",
       "      <td>NaT</td>\n",
       "      <td>2018-08-24</td>\n",
       "    </tr>\n",
       "    <tr>\n",
       "      <th>81153</th>\n",
       "      <td>7737b48ac906ed0be3c192bb1fc4c4ef</td>\n",
       "      <td>710f79302fb4b836681bfd921167167b</td>\n",
       "      <td>invoiced</td>\n",
       "      <td>2018-08-07 09:48:08</td>\n",
       "      <td>2018-08-08 08:50:20</td>\n",
       "      <td>NaT</td>\n",
       "      <td>NaT</td>\n",
       "      <td>2018-08-14</td>\n",
       "    </tr>\n",
       "    <tr>\n",
       "      <th>83970</th>\n",
       "      <td>eb4d645f0a565f91e489a626b9b22334</td>\n",
       "      <td>4cf76a034161c9ca5e11089c3771c439</td>\n",
       "      <td>invoiced</td>\n",
       "      <td>2018-08-07 13:47:04</td>\n",
       "      <td>2018-08-08 07:10:13</td>\n",
       "      <td>NaT</td>\n",
       "      <td>NaT</td>\n",
       "      <td>2018-08-13</td>\n",
       "    </tr>\n",
       "  </tbody>\n",
       "</table>\n",
       "</div>"
      ],
      "text/plain": [
       "                               order_id                       customer_id  \\\n",
       "56185  c3fd18a4aeb8e2d589b0248ce60e91b7  17c867817e32d1474241a11bb120d4c4   \n",
       "82498  67d06af97696c95df2bb26acf82db637  d3ddbbd220a088a3e353cd270c184e60   \n",
       "35918  a03ac1d748cc1533566bf2c8199159d4  d89f76444e908c953bd1f8390aec9a00   \n",
       "81153  7737b48ac906ed0be3c192bb1fc4c4ef  710f79302fb4b836681bfd921167167b   \n",
       "83970  eb4d645f0a565f91e489a626b9b22334  4cf76a034161c9ca5e11089c3771c439   \n",
       "\n",
       "      order_status order_purchase_timestamp   order_approved_at  \\\n",
       "56185     invoiced      2018-08-14 18:45:08 2018-08-14 19:05:23   \n",
       "82498     invoiced      2018-08-09 17:18:57 2018-08-09 17:50:12   \n",
       "35918     invoiced      2018-08-09 06:43:29 2018-08-09 06:55:06   \n",
       "81153     invoiced      2018-08-07 09:48:08 2018-08-08 08:50:20   \n",
       "83970     invoiced      2018-08-07 13:47:04 2018-08-08 07:10:13   \n",
       "\n",
       "      order_delivered_carrier_date order_delivered_customer_date  \\\n",
       "56185                          NaT                           NaT   \n",
       "82498                          NaT                           NaT   \n",
       "35918                          NaT                           NaT   \n",
       "81153                          NaT                           NaT   \n",
       "83970                          NaT                           NaT   \n",
       "\n",
       "      order_estimated_delivery_date  \n",
       "56185                    2018-08-27  \n",
       "82498                    2018-08-17  \n",
       "35918                    2018-08-24  \n",
       "81153                    2018-08-14  \n",
       "83970                    2018-08-13  "
      ]
     },
     "execution_count": 982,
     "metadata": {},
     "output_type": "execute_result"
    }
   ],
   "source": [
    "df_orders.query(\"order_status == 'invoiced'\").sort_values('order_approved_at', ascending=False).head()"
   ]
  },
  {
   "cell_type": "code",
   "execution_count": 983,
   "id": "0d066c05",
   "metadata": {},
   "outputs": [
    {
     "data": {
      "text/plain": [
       "(314, 8)"
      ]
     },
     "execution_count": 983,
     "metadata": {},
     "output_type": "execute_result"
    }
   ],
   "source": [
    "df_orders.query(\"order_status == 'invoiced'\").shape # количество строк = количество заказов с данным статусом"
   ]
  },
  {
   "cell_type": "code",
   "execution_count": 984,
   "id": "c7a9beec",
   "metadata": {},
   "outputs": [
    {
     "data": {
      "text/plain": [
       "order_id                           0\n",
       "customer_id                        0\n",
       "order_status                       0\n",
       "order_purchase_timestamp           0\n",
       "order_approved_at                  0\n",
       "order_delivered_carrier_date     314\n",
       "order_delivered_customer_date    314\n",
       "order_estimated_delivery_date      0\n",
       "dtype: int64"
      ]
     },
     "execution_count": 984,
     "metadata": {},
     "output_type": "execute_result"
    }
   ],
   "source": [
    "df_orders.query(\"order_status == 'invoiced'\").isna().sum()"
   ]
  },
  {
   "cell_type": "markdown",
   "id": "53b8b9a5",
   "metadata": {},
   "source": [
    "Всего 314 заказов со статусом invoiced. У данных заказов, как и у заказов со статусом approved, колонки order_delivered_carrier_date, order_delivered_customer_date не заполнены. Значит, оплата данных заказов подтверждена, но они не были переданы в логистическую службу и не были доставлены до пользователя."
   ]
  },
  {
   "cell_type": "markdown",
   "id": "bc290879",
   "metadata": {},
   "source": [
    "Проверим наличие заказов со статусом invoiced в таблице df_items (таблица с товарными позициями, входящими в заказы)"
   ]
  },
  {
   "cell_type": "code",
   "execution_count": 985,
   "id": "92fa6925",
   "metadata": {},
   "outputs": [
    {
     "data": {
      "text/plain": [
       "True"
      ]
     },
     "execution_count": 985,
     "metadata": {},
     "output_type": "execute_result"
    }
   ],
   "source": [
    "df_items['order_id'].isin(df_orders.query(\"order_status == 'invoiced'\").order_id).any()"
   ]
  },
  {
   "cell_type": "code",
   "execution_count": 986,
   "id": "9c87a07d",
   "metadata": {},
   "outputs": [
    {
     "data": {
      "text/html": [
       "<div>\n",
       "<style scoped>\n",
       "    .dataframe tbody tr th:only-of-type {\n",
       "        vertical-align: middle;\n",
       "    }\n",
       "\n",
       "    .dataframe tbody tr th {\n",
       "        vertical-align: top;\n",
       "    }\n",
       "\n",
       "    .dataframe thead th {\n",
       "        text-align: right;\n",
       "    }\n",
       "</style>\n",
       "<table border=\"1\" class=\"dataframe\">\n",
       "  <thead>\n",
       "    <tr style=\"text-align: right;\">\n",
       "      <th></th>\n",
       "      <th>order_id</th>\n",
       "      <th>order_item_id</th>\n",
       "      <th>product_id</th>\n",
       "      <th>seller_id</th>\n",
       "      <th>shipping_limit_date</th>\n",
       "      <th>price</th>\n",
       "      <th>freight_value</th>\n",
       "    </tr>\n",
       "  </thead>\n",
       "  <tbody>\n",
       "    <tr>\n",
       "      <th>590</th>\n",
       "      <td>015fb6b5f739788434fa690540f90f19</td>\n",
       "      <td>1</td>\n",
       "      <td>a0eccc912d428eaddf1ef4fe47593ece</td>\n",
       "      <td>8a87611c08849ffeeccab52aa798b6c7</td>\n",
       "      <td>2017-02-04 13:06:05</td>\n",
       "      <td>143.00</td>\n",
       "      <td>94.98</td>\n",
       "    </tr>\n",
       "    <tr>\n",
       "      <th>591</th>\n",
       "      <td>015fb6b5f739788434fa690540f90f19</td>\n",
       "      <td>2</td>\n",
       "      <td>a0eccc912d428eaddf1ef4fe47593ece</td>\n",
       "      <td>8a87611c08849ffeeccab52aa798b6c7</td>\n",
       "      <td>2017-02-04 13:06:05</td>\n",
       "      <td>143.00</td>\n",
       "      <td>94.98</td>\n",
       "    </tr>\n",
       "    <tr>\n",
       "      <th>913</th>\n",
       "      <td>021dac6e3120485db6a77474aa21b979</td>\n",
       "      <td>1</td>\n",
       "      <td>7535f3518e1009b17aa6e3fa553e82bc</td>\n",
       "      <td>8b87cd0d43d49b9bdf40f56229364d59</td>\n",
       "      <td>2017-11-30 01:53:42</td>\n",
       "      <td>479.00</td>\n",
       "      <td>55.36</td>\n",
       "    </tr>\n",
       "    <tr>\n",
       "      <th>1138</th>\n",
       "      <td>02a0eb7c22b0616c767a45954a2a28f6</td>\n",
       "      <td>1</td>\n",
       "      <td>5f8c74f4a3d2b616857fcb7d4dd1f61a</td>\n",
       "      <td>83e197e95a1bbabc8c75e883ed016c47</td>\n",
       "      <td>2016-10-14 08:14:53</td>\n",
       "      <td>119.50</td>\n",
       "      <td>25.04</td>\n",
       "    </tr>\n",
       "    <tr>\n",
       "      <th>1460</th>\n",
       "      <td>035b790fa740b68de2d6f1a74f9b2098</td>\n",
       "      <td>1</td>\n",
       "      <td>cf18e908cb8600dcd21a719db24c48d8</td>\n",
       "      <td>7ddcbb64b5bc1ef36ca8c151f6ec77df</td>\n",
       "      <td>2018-03-29 18:48:01</td>\n",
       "      <td>63.99</td>\n",
       "      <td>8.29</td>\n",
       "    </tr>\n",
       "  </tbody>\n",
       "</table>\n",
       "</div>"
      ],
      "text/plain": [
       "                              order_id  order_item_id  \\\n",
       "590   015fb6b5f739788434fa690540f90f19              1   \n",
       "591   015fb6b5f739788434fa690540f90f19              2   \n",
       "913   021dac6e3120485db6a77474aa21b979              1   \n",
       "1138  02a0eb7c22b0616c767a45954a2a28f6              1   \n",
       "1460  035b790fa740b68de2d6f1a74f9b2098              1   \n",
       "\n",
       "                            product_id                         seller_id  \\\n",
       "590   a0eccc912d428eaddf1ef4fe47593ece  8a87611c08849ffeeccab52aa798b6c7   \n",
       "591   a0eccc912d428eaddf1ef4fe47593ece  8a87611c08849ffeeccab52aa798b6c7   \n",
       "913   7535f3518e1009b17aa6e3fa553e82bc  8b87cd0d43d49b9bdf40f56229364d59   \n",
       "1138  5f8c74f4a3d2b616857fcb7d4dd1f61a  83e197e95a1bbabc8c75e883ed016c47   \n",
       "1460  cf18e908cb8600dcd21a719db24c48d8  7ddcbb64b5bc1ef36ca8c151f6ec77df   \n",
       "\n",
       "     shipping_limit_date   price  freight_value  \n",
       "590  2017-02-04 13:06:05  143.00          94.98  \n",
       "591  2017-02-04 13:06:05  143.00          94.98  \n",
       "913  2017-11-30 01:53:42  479.00          55.36  \n",
       "1138 2016-10-14 08:14:53  119.50          25.04  \n",
       "1460 2018-03-29 18:48:01   63.99           8.29  "
      ]
     },
     "execution_count": 986,
     "metadata": {},
     "output_type": "execute_result"
    }
   ],
   "source": [
    "df_items.loc[df_items['order_id'].isin(df_orders.query(\"order_status == 'invoiced'\").order_id)].head()"
   ]
  },
  {
   "cell_type": "code",
   "execution_count": 987,
   "id": "0c178419",
   "metadata": {},
   "outputs": [
    {
     "data": {
      "text/plain": [
       "312"
      ]
     },
     "execution_count": 987,
     "metadata": {},
     "output_type": "execute_result"
    }
   ],
   "source": [
    "df_items.loc[df_items['order_id'].isin(df_orders.query(\"order_status == 'invoiced'\").order_id)].order_id.nunique()"
   ]
  },
  {
   "cell_type": "markdown",
   "id": "86fd2c4f",
   "metadata": {},
   "source": [
    "Не все заказы со статусом invoiced есть в таблице df_items (не хватает 2 заказов)"
   ]
  },
  {
   "cell_type": "markdown",
   "id": "c6129a85",
   "metadata": {},
   "source": [
    "Рассмотрим, каких именно заказов нет."
   ]
  },
  {
   "cell_type": "code",
   "execution_count": 988,
   "id": "02f05e8d",
   "metadata": {},
   "outputs": [
    {
     "data": {
      "text/html": [
       "<div>\n",
       "<style scoped>\n",
       "    .dataframe tbody tr th:only-of-type {\n",
       "        vertical-align: middle;\n",
       "    }\n",
       "\n",
       "    .dataframe tbody tr th {\n",
       "        vertical-align: top;\n",
       "    }\n",
       "\n",
       "    .dataframe thead th {\n",
       "        text-align: right;\n",
       "    }\n",
       "</style>\n",
       "<table border=\"1\" class=\"dataframe\">\n",
       "  <thead>\n",
       "    <tr style=\"text-align: right;\">\n",
       "      <th></th>\n",
       "      <th>order_id</th>\n",
       "      <th>customer_id</th>\n",
       "      <th>order_status</th>\n",
       "      <th>order_purchase_timestamp</th>\n",
       "      <th>order_approved_at</th>\n",
       "      <th>order_delivered_carrier_date</th>\n",
       "      <th>order_delivered_customer_date</th>\n",
       "      <th>order_estimated_delivery_date</th>\n",
       "    </tr>\n",
       "  </thead>\n",
       "  <tbody>\n",
       "    <tr>\n",
       "      <th>57591</th>\n",
       "      <td>2ce9683175cdab7d1c95bcbb3e36f478</td>\n",
       "      <td>b2d7ae0415dbbca535b5f7b38056dd1f</td>\n",
       "      <td>invoiced</td>\n",
       "      <td>2016-10-05 21:03:33</td>\n",
       "      <td>2016-10-06 07:46:39</td>\n",
       "      <td>NaT</td>\n",
       "      <td>NaT</td>\n",
       "      <td>2016-11-25</td>\n",
       "    </tr>\n",
       "    <tr>\n",
       "      <th>69926</th>\n",
       "      <td>e04f1da1f48bf2bbffcf57b9824f76e1</td>\n",
       "      <td>0d00d77134cae4c58695086ad8d85100</td>\n",
       "      <td>invoiced</td>\n",
       "      <td>2016-10-05 13:22:20</td>\n",
       "      <td>2016-10-06 15:51:38</td>\n",
       "      <td>NaT</td>\n",
       "      <td>NaT</td>\n",
       "      <td>2016-11-29</td>\n",
       "    </tr>\n",
       "  </tbody>\n",
       "</table>\n",
       "</div>"
      ],
      "text/plain": [
       "                               order_id                       customer_id  \\\n",
       "57591  2ce9683175cdab7d1c95bcbb3e36f478  b2d7ae0415dbbca535b5f7b38056dd1f   \n",
       "69926  e04f1da1f48bf2bbffcf57b9824f76e1  0d00d77134cae4c58695086ad8d85100   \n",
       "\n",
       "      order_status order_purchase_timestamp   order_approved_at  \\\n",
       "57591     invoiced      2016-10-05 21:03:33 2016-10-06 07:46:39   \n",
       "69926     invoiced      2016-10-05 13:22:20 2016-10-06 15:51:38   \n",
       "\n",
       "      order_delivered_carrier_date order_delivered_customer_date  \\\n",
       "57591                          NaT                           NaT   \n",
       "69926                          NaT                           NaT   \n",
       "\n",
       "      order_estimated_delivery_date  \n",
       "57591                    2016-11-25  \n",
       "69926                    2016-11-29  "
      ]
     },
     "execution_count": 988,
     "metadata": {},
     "output_type": "execute_result"
    }
   ],
   "source": [
    "df_orders.query(\"order_status == 'invoiced'\").loc[~df_orders['order_id'].isin(df_items['order_id'])]"
   ]
  },
  {
   "cell_type": "markdown",
   "id": "2e52007d",
   "metadata": {},
   "source": [
    "Рассмотрим минимальные значения df_orders для заказов со статусом invoiced"
   ]
  },
  {
   "cell_type": "code",
   "execution_count": 989,
   "id": "9dc85d0b",
   "metadata": {},
   "outputs": [
    {
     "data": {
      "text/plain": [
       "order_id                         015fb6b5f739788434fa690540f90f19\n",
       "customer_id                      01950e4d4d0f0f8561e721ad5c8b0f9a\n",
       "order_status                                             invoiced\n",
       "order_purchase_timestamp                      2016-10-04 13:02:10\n",
       "order_approved_at                             2016-10-04 14:08:38\n",
       "order_delivered_carrier_date                                  NaT\n",
       "order_delivered_customer_date                                 NaT\n",
       "order_estimated_delivery_date                 2016-11-24 00:00:00\n",
       "dtype: object"
      ]
     },
     "execution_count": 989,
     "metadata": {},
     "output_type": "execute_result"
    }
   ],
   "source": [
    "df_orders.query(\"order_status == 'invoiced'\").min()"
   ]
  },
  {
   "cell_type": "markdown",
   "id": "ac92ca7c",
   "metadata": {},
   "source": [
    "Видим, что у данных заказов нет минимальных значений по датам."
   ]
  },
  {
   "cell_type": "markdown",
   "id": "b02b69dc",
   "metadata": {},
   "source": [
    "### Заказы со статусом processing"
   ]
  },
  {
   "cell_type": "code",
   "execution_count": 990,
   "id": "dc03abc3",
   "metadata": {},
   "outputs": [
    {
     "data": {
      "text/html": [
       "<div>\n",
       "<style scoped>\n",
       "    .dataframe tbody tr th:only-of-type {\n",
       "        vertical-align: middle;\n",
       "    }\n",
       "\n",
       "    .dataframe tbody tr th {\n",
       "        vertical-align: top;\n",
       "    }\n",
       "\n",
       "    .dataframe thead th {\n",
       "        text-align: right;\n",
       "    }\n",
       "</style>\n",
       "<table border=\"1\" class=\"dataframe\">\n",
       "  <thead>\n",
       "    <tr style=\"text-align: right;\">\n",
       "      <th></th>\n",
       "      <th>order_id</th>\n",
       "      <th>customer_id</th>\n",
       "      <th>order_status</th>\n",
       "      <th>order_purchase_timestamp</th>\n",
       "      <th>order_approved_at</th>\n",
       "      <th>order_delivered_carrier_date</th>\n",
       "      <th>order_delivered_customer_date</th>\n",
       "      <th>order_estimated_delivery_date</th>\n",
       "    </tr>\n",
       "  </thead>\n",
       "  <tbody>\n",
       "    <tr>\n",
       "      <th>128</th>\n",
       "      <td>15bed8e2fec7fdbadb186b57c46c92f2</td>\n",
       "      <td>f3f0e613e0bdb9c7cee75504f0f90679</td>\n",
       "      <td>processing</td>\n",
       "      <td>2017-09-03 14:22:03</td>\n",
       "      <td>2017-09-03 14:30:09</td>\n",
       "      <td>NaT</td>\n",
       "      <td>NaT</td>\n",
       "      <td>2017-10-03</td>\n",
       "    </tr>\n",
       "    <tr>\n",
       "      <th>324</th>\n",
       "      <td>d3c8851a6651eeff2f73b0e011ac45d0</td>\n",
       "      <td>957f8e082185574de25992dc659ebbc0</td>\n",
       "      <td>processing</td>\n",
       "      <td>2016-10-05 22:44:13</td>\n",
       "      <td>2016-10-06 15:51:05</td>\n",
       "      <td>NaT</td>\n",
       "      <td>NaT</td>\n",
       "      <td>2016-12-09</td>\n",
       "    </tr>\n",
       "    <tr>\n",
       "      <th>741</th>\n",
       "      <td>6a6c7d523fd59eb5bbefc007331af717</td>\n",
       "      <td>d954782ec6c0e911292c8a80757ef28d</td>\n",
       "      <td>processing</td>\n",
       "      <td>2017-11-24 20:09:33</td>\n",
       "      <td>2017-11-24 23:15:15</td>\n",
       "      <td>NaT</td>\n",
       "      <td>NaT</td>\n",
       "      <td>2017-12-20</td>\n",
       "    </tr>\n",
       "    <tr>\n",
       "      <th>1192</th>\n",
       "      <td>745e1d4a7f8c4b548881788d4113bb1d</td>\n",
       "      <td>7198d7088442e4ddfe553353d8ddc957</td>\n",
       "      <td>processing</td>\n",
       "      <td>2017-11-17 06:34:36</td>\n",
       "      <td>2017-11-18 02:15:40</td>\n",
       "      <td>NaT</td>\n",
       "      <td>NaT</td>\n",
       "      <td>2017-12-12</td>\n",
       "    </tr>\n",
       "    <tr>\n",
       "      <th>1516</th>\n",
       "      <td>1d52ba7197c7acebbb4f826f6585536f</td>\n",
       "      <td>c9c7fe860d602373a9e93f8bfe9d877a</td>\n",
       "      <td>processing</td>\n",
       "      <td>2017-02-13 18:32:55</td>\n",
       "      <td>2017-02-13 18:43:55</td>\n",
       "      <td>NaT</td>\n",
       "      <td>NaT</td>\n",
       "      <td>2017-04-04</td>\n",
       "    </tr>\n",
       "  </tbody>\n",
       "</table>\n",
       "</div>"
      ],
      "text/plain": [
       "                              order_id                       customer_id  \\\n",
       "128   15bed8e2fec7fdbadb186b57c46c92f2  f3f0e613e0bdb9c7cee75504f0f90679   \n",
       "324   d3c8851a6651eeff2f73b0e011ac45d0  957f8e082185574de25992dc659ebbc0   \n",
       "741   6a6c7d523fd59eb5bbefc007331af717  d954782ec6c0e911292c8a80757ef28d   \n",
       "1192  745e1d4a7f8c4b548881788d4113bb1d  7198d7088442e4ddfe553353d8ddc957   \n",
       "1516  1d52ba7197c7acebbb4f826f6585536f  c9c7fe860d602373a9e93f8bfe9d877a   \n",
       "\n",
       "     order_status order_purchase_timestamp   order_approved_at  \\\n",
       "128    processing      2017-09-03 14:22:03 2017-09-03 14:30:09   \n",
       "324    processing      2016-10-05 22:44:13 2016-10-06 15:51:05   \n",
       "741    processing      2017-11-24 20:09:33 2017-11-24 23:15:15   \n",
       "1192   processing      2017-11-17 06:34:36 2017-11-18 02:15:40   \n",
       "1516   processing      2017-02-13 18:32:55 2017-02-13 18:43:55   \n",
       "\n",
       "     order_delivered_carrier_date order_delivered_customer_date  \\\n",
       "128                           NaT                           NaT   \n",
       "324                           NaT                           NaT   \n",
       "741                           NaT                           NaT   \n",
       "1192                          NaT                           NaT   \n",
       "1516                          NaT                           NaT   \n",
       "\n",
       "     order_estimated_delivery_date  \n",
       "128                     2017-10-03  \n",
       "324                     2016-12-09  \n",
       "741                     2017-12-20  \n",
       "1192                    2017-12-12  \n",
       "1516                    2017-04-04  "
      ]
     },
     "execution_count": 990,
     "metadata": {},
     "output_type": "execute_result"
    }
   ],
   "source": [
    "df_orders.query(\"order_status == 'processing'\").head()"
   ]
  },
  {
   "cell_type": "code",
   "execution_count": 991,
   "id": "3e811521",
   "metadata": {},
   "outputs": [
    {
     "data": {
      "text/plain": [
       "(301, 8)"
      ]
     },
     "execution_count": 991,
     "metadata": {},
     "output_type": "execute_result"
    }
   ],
   "source": [
    "df_orders.query(\"order_status == 'processing'\").shape # количество строк = количество заказов с данным статусом"
   ]
  },
  {
   "cell_type": "code",
   "execution_count": 992,
   "id": "0d9b6f23",
   "metadata": {},
   "outputs": [
    {
     "data": {
      "text/plain": [
       "order_id                           0\n",
       "customer_id                        0\n",
       "order_status                       0\n",
       "order_purchase_timestamp           0\n",
       "order_approved_at                  0\n",
       "order_delivered_carrier_date     301\n",
       "order_delivered_customer_date    301\n",
       "order_estimated_delivery_date      0\n",
       "dtype: int64"
      ]
     },
     "execution_count": 992,
     "metadata": {},
     "output_type": "execute_result"
    }
   ],
   "source": [
    "df_orders.query(\"order_status == 'processing'\").isna().sum()"
   ]
  },
  {
   "cell_type": "markdown",
   "id": "b2bbaa3f",
   "metadata": {},
   "source": [
    "Всего 301 заказ со статусом processing. У данных заказов, как и у заказов со статусами approved и invoiced, колонки order_delivered_carrier_date, order_delivered_customer_date не заполнены. Значит, оплата данных заказов подтверждена, но они не были переданы в логистическую службу и не были доставлены до пользователя."
   ]
  },
  {
   "cell_type": "markdown",
   "id": "7d8b548b",
   "metadata": {},
   "source": [
    "Проверим наличие заказов со статусом processing в таблице df_items (таблица с товарными позициями, входящими в заказы)"
   ]
  },
  {
   "cell_type": "code",
   "execution_count": 993,
   "id": "f746732f",
   "metadata": {},
   "outputs": [
    {
     "data": {
      "text/plain": [
       "True"
      ]
     },
     "execution_count": 993,
     "metadata": {},
     "output_type": "execute_result"
    }
   ],
   "source": [
    "df_items['order_id'].isin(df_orders.query(\"order_status == 'processing'\").order_id).any()"
   ]
  },
  {
   "cell_type": "code",
   "execution_count": 994,
   "id": "94f944b5",
   "metadata": {},
   "outputs": [
    {
     "data": {
      "text/html": [
       "<div>\n",
       "<style scoped>\n",
       "    .dataframe tbody tr th:only-of-type {\n",
       "        vertical-align: middle;\n",
       "    }\n",
       "\n",
       "    .dataframe tbody tr th {\n",
       "        vertical-align: top;\n",
       "    }\n",
       "\n",
       "    .dataframe thead th {\n",
       "        text-align: right;\n",
       "    }\n",
       "</style>\n",
       "<table border=\"1\" class=\"dataframe\">\n",
       "  <thead>\n",
       "    <tr style=\"text-align: right;\">\n",
       "      <th></th>\n",
       "      <th>order_id</th>\n",
       "      <th>order_item_id</th>\n",
       "      <th>product_id</th>\n",
       "      <th>seller_id</th>\n",
       "      <th>shipping_limit_date</th>\n",
       "      <th>price</th>\n",
       "      <th>freight_value</th>\n",
       "    </tr>\n",
       "  </thead>\n",
       "  <tbody>\n",
       "    <tr>\n",
       "      <th>1845</th>\n",
       "      <td>042ce41927758767ec2aa0de06486b4c</td>\n",
       "      <td>1</td>\n",
       "      <td>816c0585d491ed8127cebbb3dc7c89cf</td>\n",
       "      <td>dd533b429f380718b70ad9922c294bae</td>\n",
       "      <td>2017-12-08 10:53:16</td>\n",
       "      <td>569.90</td>\n",
       "      <td>22.87</td>\n",
       "    </tr>\n",
       "    <tr>\n",
       "      <th>2381</th>\n",
       "      <td>055f84fd2ebf314ebec85f8e1312f4f4</td>\n",
       "      <td>1</td>\n",
       "      <td>a28d469a29d93b4ec13ce26150184e34</td>\n",
       "      <td>5ca5d579b5857ee8709479b1047cecc3</td>\n",
       "      <td>2018-01-19 10:10:50</td>\n",
       "      <td>169.90</td>\n",
       "      <td>15.94</td>\n",
       "    </tr>\n",
       "    <tr>\n",
       "      <th>2469</th>\n",
       "      <td>058c781acedf69d42ac38a568ca97b05</td>\n",
       "      <td>1</td>\n",
       "      <td>cffb05bb50a95e92fc26bbb049cc8fe7</td>\n",
       "      <td>cca3071e3e9bb7d12640c9fbe2301306</td>\n",
       "      <td>2018-05-09 21:31:14</td>\n",
       "      <td>104.90</td>\n",
       "      <td>23.31</td>\n",
       "    </tr>\n",
       "    <tr>\n",
       "      <th>2518</th>\n",
       "      <td>05a971ae7a83a0b371ae1b5bfc45514e</td>\n",
       "      <td>1</td>\n",
       "      <td>e951fa511351528e83ebde739f059348</td>\n",
       "      <td>8a87611c08849ffeeccab52aa798b6c7</td>\n",
       "      <td>2017-02-04 00:11:36</td>\n",
       "      <td>255.90</td>\n",
       "      <td>18.00</td>\n",
       "    </tr>\n",
       "    <tr>\n",
       "      <th>2542</th>\n",
       "      <td>05b7b6d543fe8045020d831080945bfd</td>\n",
       "      <td>1</td>\n",
       "      <td>ceda8168fb181a91487d6e924f42334f</td>\n",
       "      <td>b335c59ab742f751a85db9c411a86739</td>\n",
       "      <td>2017-12-07 17:38:26</td>\n",
       "      <td>125.62</td>\n",
       "      <td>17.36</td>\n",
       "    </tr>\n",
       "  </tbody>\n",
       "</table>\n",
       "</div>"
      ],
      "text/plain": [
       "                              order_id  order_item_id  \\\n",
       "1845  042ce41927758767ec2aa0de06486b4c              1   \n",
       "2381  055f84fd2ebf314ebec85f8e1312f4f4              1   \n",
       "2469  058c781acedf69d42ac38a568ca97b05              1   \n",
       "2518  05a971ae7a83a0b371ae1b5bfc45514e              1   \n",
       "2542  05b7b6d543fe8045020d831080945bfd              1   \n",
       "\n",
       "                            product_id                         seller_id  \\\n",
       "1845  816c0585d491ed8127cebbb3dc7c89cf  dd533b429f380718b70ad9922c294bae   \n",
       "2381  a28d469a29d93b4ec13ce26150184e34  5ca5d579b5857ee8709479b1047cecc3   \n",
       "2469  cffb05bb50a95e92fc26bbb049cc8fe7  cca3071e3e9bb7d12640c9fbe2301306   \n",
       "2518  e951fa511351528e83ebde739f059348  8a87611c08849ffeeccab52aa798b6c7   \n",
       "2542  ceda8168fb181a91487d6e924f42334f  b335c59ab742f751a85db9c411a86739   \n",
       "\n",
       "     shipping_limit_date   price  freight_value  \n",
       "1845 2017-12-08 10:53:16  569.90          22.87  \n",
       "2381 2018-01-19 10:10:50  169.90          15.94  \n",
       "2469 2018-05-09 21:31:14  104.90          23.31  \n",
       "2518 2017-02-04 00:11:36  255.90          18.00  \n",
       "2542 2017-12-07 17:38:26  125.62          17.36  "
      ]
     },
     "execution_count": 994,
     "metadata": {},
     "output_type": "execute_result"
    }
   ],
   "source": [
    "df_items.loc[df_items['order_id'].isin(df_orders.query(\"order_status == 'processing'\").order_id)].head()"
   ]
  },
  {
   "cell_type": "code",
   "execution_count": 995,
   "id": "fc280bb2",
   "metadata": {},
   "outputs": [
    {
     "data": {
      "text/plain": [
       "301"
      ]
     },
     "execution_count": 995,
     "metadata": {},
     "output_type": "execute_result"
    }
   ],
   "source": [
    "df_items.loc[df_items['order_id'].isin(df_orders.query(\"order_status == 'processing'\").order_id)].order_id.nunique()"
   ]
  },
  {
   "cell_type": "markdown",
   "id": "1e1028f6",
   "metadata": {},
   "source": [
    "Все заказы со статусом processing есть в таблице df_items"
   ]
  },
  {
   "cell_type": "markdown",
   "id": "7d805cf0",
   "metadata": {},
   "source": [
    "### Заказы со статусом shipped"
   ]
  },
  {
   "cell_type": "code",
   "execution_count": 996,
   "id": "f2f05d20",
   "metadata": {},
   "outputs": [
    {
     "data": {
      "text/html": [
       "<div>\n",
       "<style scoped>\n",
       "    .dataframe tbody tr th:only-of-type {\n",
       "        vertical-align: middle;\n",
       "    }\n",
       "\n",
       "    .dataframe tbody tr th {\n",
       "        vertical-align: top;\n",
       "    }\n",
       "\n",
       "    .dataframe thead th {\n",
       "        text-align: right;\n",
       "    }\n",
       "</style>\n",
       "<table border=\"1\" class=\"dataframe\">\n",
       "  <thead>\n",
       "    <tr style=\"text-align: right;\">\n",
       "      <th></th>\n",
       "      <th>order_id</th>\n",
       "      <th>customer_id</th>\n",
       "      <th>order_status</th>\n",
       "      <th>order_purchase_timestamp</th>\n",
       "      <th>order_approved_at</th>\n",
       "      <th>order_delivered_carrier_date</th>\n",
       "      <th>order_delivered_customer_date</th>\n",
       "      <th>order_estimated_delivery_date</th>\n",
       "    </tr>\n",
       "  </thead>\n",
       "  <tbody>\n",
       "    <tr>\n",
       "      <th>44</th>\n",
       "      <td>ee64d42b8cf066f35eac1cf57de1aa85</td>\n",
       "      <td>caded193e8e47b8362864762a83db3c5</td>\n",
       "      <td>shipped</td>\n",
       "      <td>2018-06-04 16:44:48</td>\n",
       "      <td>2018-06-05 04:31:18</td>\n",
       "      <td>2018-06-05 14:32:00</td>\n",
       "      <td>NaT</td>\n",
       "      <td>2018-06-28</td>\n",
       "    </tr>\n",
       "    <tr>\n",
       "      <th>154</th>\n",
       "      <td>6942b8da583c2f9957e990d028607019</td>\n",
       "      <td>52006a9383bf149a4fb24226b173106f</td>\n",
       "      <td>shipped</td>\n",
       "      <td>2018-01-10 11:33:07</td>\n",
       "      <td>2018-01-11 02:32:30</td>\n",
       "      <td>2018-01-11 19:39:23</td>\n",
       "      <td>NaT</td>\n",
       "      <td>2018-02-07</td>\n",
       "    </tr>\n",
       "    <tr>\n",
       "      <th>162</th>\n",
       "      <td>36530871a5e80138db53bcfd8a104d90</td>\n",
       "      <td>4dafe3c841d2d6cc8a8b6d25b35704b9</td>\n",
       "      <td>shipped</td>\n",
       "      <td>2017-05-09 11:48:37</td>\n",
       "      <td>2017-05-11 11:45:14</td>\n",
       "      <td>2017-05-11 13:21:47</td>\n",
       "      <td>NaT</td>\n",
       "      <td>2017-06-08</td>\n",
       "    </tr>\n",
       "    <tr>\n",
       "      <th>231</th>\n",
       "      <td>4d630f57194f5aba1a3d12ce23e71cd9</td>\n",
       "      <td>6d491c9fe2f04f6e2af6ec033cd8907c</td>\n",
       "      <td>shipped</td>\n",
       "      <td>2017-11-17 19:53:21</td>\n",
       "      <td>2017-11-18 19:50:31</td>\n",
       "      <td>2017-11-22 17:28:34</td>\n",
       "      <td>NaT</td>\n",
       "      <td>2017-12-13</td>\n",
       "    </tr>\n",
       "    <tr>\n",
       "      <th>299</th>\n",
       "      <td>3b4ad687e7e5190db827e1ae5a8989dd</td>\n",
       "      <td>1a87b8517b7d31373b50396eb15cb445</td>\n",
       "      <td>shipped</td>\n",
       "      <td>2018-06-28 12:52:15</td>\n",
       "      <td>2018-06-28 13:11:09</td>\n",
       "      <td>2018-07-04 15:20:00</td>\n",
       "      <td>NaT</td>\n",
       "      <td>2018-08-03</td>\n",
       "    </tr>\n",
       "  </tbody>\n",
       "</table>\n",
       "</div>"
      ],
      "text/plain": [
       "                             order_id                       customer_id  \\\n",
       "44   ee64d42b8cf066f35eac1cf57de1aa85  caded193e8e47b8362864762a83db3c5   \n",
       "154  6942b8da583c2f9957e990d028607019  52006a9383bf149a4fb24226b173106f   \n",
       "162  36530871a5e80138db53bcfd8a104d90  4dafe3c841d2d6cc8a8b6d25b35704b9   \n",
       "231  4d630f57194f5aba1a3d12ce23e71cd9  6d491c9fe2f04f6e2af6ec033cd8907c   \n",
       "299  3b4ad687e7e5190db827e1ae5a8989dd  1a87b8517b7d31373b50396eb15cb445   \n",
       "\n",
       "    order_status order_purchase_timestamp   order_approved_at  \\\n",
       "44       shipped      2018-06-04 16:44:48 2018-06-05 04:31:18   \n",
       "154      shipped      2018-01-10 11:33:07 2018-01-11 02:32:30   \n",
       "162      shipped      2017-05-09 11:48:37 2017-05-11 11:45:14   \n",
       "231      shipped      2017-11-17 19:53:21 2017-11-18 19:50:31   \n",
       "299      shipped      2018-06-28 12:52:15 2018-06-28 13:11:09   \n",
       "\n",
       "    order_delivered_carrier_date order_delivered_customer_date  \\\n",
       "44           2018-06-05 14:32:00                           NaT   \n",
       "154          2018-01-11 19:39:23                           NaT   \n",
       "162          2017-05-11 13:21:47                           NaT   \n",
       "231          2017-11-22 17:28:34                           NaT   \n",
       "299          2018-07-04 15:20:00                           NaT   \n",
       "\n",
       "    order_estimated_delivery_date  \n",
       "44                     2018-06-28  \n",
       "154                    2018-02-07  \n",
       "162                    2017-06-08  \n",
       "231                    2017-12-13  \n",
       "299                    2018-08-03  "
      ]
     },
     "execution_count": 996,
     "metadata": {},
     "output_type": "execute_result"
    }
   ],
   "source": [
    "df_orders.query(\"order_status == 'shipped'\").head()"
   ]
  },
  {
   "cell_type": "code",
   "execution_count": 997,
   "id": "62a40097",
   "metadata": {},
   "outputs": [
    {
     "data": {
      "text/plain": [
       "(1107, 8)"
      ]
     },
     "execution_count": 997,
     "metadata": {},
     "output_type": "execute_result"
    }
   ],
   "source": [
    "df_orders.query(\"order_status == 'shipped'\").shape # количество строк = количество заказов с данным статусом"
   ]
  },
  {
   "cell_type": "code",
   "execution_count": 998,
   "id": "c337cc39",
   "metadata": {},
   "outputs": [
    {
     "data": {
      "text/plain": [
       "order_id                            0\n",
       "customer_id                         0\n",
       "order_status                        0\n",
       "order_purchase_timestamp            0\n",
       "order_approved_at                   0\n",
       "order_delivered_carrier_date        0\n",
       "order_delivered_customer_date    1107\n",
       "order_estimated_delivery_date       0\n",
       "dtype: int64"
      ]
     },
     "execution_count": 998,
     "metadata": {},
     "output_type": "execute_result"
    }
   ],
   "source": [
    "df_orders.query(\"order_status == 'shipped'\").isna().sum()"
   ]
  },
  {
   "cell_type": "markdown",
   "id": "19c9dcf3",
   "metadata": {},
   "source": [
    "Всего 1107 заказов со статусом shipped. У данных заказов не заполнена только колонка order_delivered_customer_date. Значит, оплата данных заказов подтверждена, они были переданы в логистическую службу, но не были доставлены до пользователя."
   ]
  },
  {
   "cell_type": "markdown",
   "id": "b69b0003",
   "metadata": {},
   "source": [
    "Проверим наличие заказов со статусом shipped в таблице df_items (таблица с товарными позициями, входящими в заказы)"
   ]
  },
  {
   "cell_type": "code",
   "execution_count": 999,
   "id": "a53be08c",
   "metadata": {},
   "outputs": [
    {
     "data": {
      "text/plain": [
       "True"
      ]
     },
     "execution_count": 999,
     "metadata": {},
     "output_type": "execute_result"
    }
   ],
   "source": [
    "df_items['order_id'].isin(df_orders.query(\"order_status == 'shipped'\").order_id).any()"
   ]
  },
  {
   "cell_type": "code",
   "execution_count": 1000,
   "id": "1b12ba3f",
   "metadata": {},
   "outputs": [
    {
     "data": {
      "text/html": [
       "<div>\n",
       "<style scoped>\n",
       "    .dataframe tbody tr th:only-of-type {\n",
       "        vertical-align: middle;\n",
       "    }\n",
       "\n",
       "    .dataframe tbody tr th {\n",
       "        vertical-align: top;\n",
       "    }\n",
       "\n",
       "    .dataframe thead th {\n",
       "        text-align: right;\n",
       "    }\n",
       "</style>\n",
       "<table border=\"1\" class=\"dataframe\">\n",
       "  <thead>\n",
       "    <tr style=\"text-align: right;\">\n",
       "      <th></th>\n",
       "      <th>order_id</th>\n",
       "      <th>order_item_id</th>\n",
       "      <th>product_id</th>\n",
       "      <th>seller_id</th>\n",
       "      <th>shipping_limit_date</th>\n",
       "      <th>price</th>\n",
       "      <th>freight_value</th>\n",
       "    </tr>\n",
       "  </thead>\n",
       "  <tbody>\n",
       "    <tr>\n",
       "      <th>79</th>\n",
       "      <td>002f19a65a2ddd70a090297872e6d64e</td>\n",
       "      <td>1</td>\n",
       "      <td>9eae06d51aaa383b2bed5547a19d581c</td>\n",
       "      <td>1835b56ce799e6a4dc4eddc053f04066</td>\n",
       "      <td>2018-03-27 13:15:27</td>\n",
       "      <td>53.98</td>\n",
       "      <td>23.31</td>\n",
       "    </tr>\n",
       "    <tr>\n",
       "      <th>260</th>\n",
       "      <td>00a99c50fdff7e36262caba33821875a</td>\n",
       "      <td>1</td>\n",
       "      <td>76d75f398634bf194ba99d7297e7d1fa</td>\n",
       "      <td>974cf2cb8f4b7add98709c30df02fe10</td>\n",
       "      <td>2018-08-21 16:35:18</td>\n",
       "      <td>52.99</td>\n",
       "      <td>22.30</td>\n",
       "    </tr>\n",
       "    <tr>\n",
       "      <th>553</th>\n",
       "      <td>01443cd06ea8bce82c554a46f307459f</td>\n",
       "      <td>1</td>\n",
       "      <td>f77dd338d9f75229a09cbb9a18fd0c9a</td>\n",
       "      <td>1c129092bf23f28a5930387c980c0dfc</td>\n",
       "      <td>2018-01-10 14:32:12</td>\n",
       "      <td>25.00</td>\n",
       "      <td>14.10</td>\n",
       "    </tr>\n",
       "    <tr>\n",
       "      <th>646</th>\n",
       "      <td>017c9c82265e832840e4209750680e94</td>\n",
       "      <td>1</td>\n",
       "      <td>59089e1668cc247d055ca3f9149093fc</td>\n",
       "      <td>6a51fc556dab5f766ced6fbc860bc613</td>\n",
       "      <td>2018-03-09 18:31:16</td>\n",
       "      <td>159.90</td>\n",
       "      <td>25.96</td>\n",
       "    </tr>\n",
       "    <tr>\n",
       "      <th>1069</th>\n",
       "      <td>027b013d2186e25c2b82beb3679d0833</td>\n",
       "      <td>1</td>\n",
       "      <td>f921da19d229dad9bf3a94e86e7f7f32</td>\n",
       "      <td>04e38a233f726ef161074ab1c9b0399a</td>\n",
       "      <td>2018-04-17 16:10:51</td>\n",
       "      <td>104.90</td>\n",
       "      <td>34.27</td>\n",
       "    </tr>\n",
       "  </tbody>\n",
       "</table>\n",
       "</div>"
      ],
      "text/plain": [
       "                              order_id  order_item_id  \\\n",
       "79    002f19a65a2ddd70a090297872e6d64e              1   \n",
       "260   00a99c50fdff7e36262caba33821875a              1   \n",
       "553   01443cd06ea8bce82c554a46f307459f              1   \n",
       "646   017c9c82265e832840e4209750680e94              1   \n",
       "1069  027b013d2186e25c2b82beb3679d0833              1   \n",
       "\n",
       "                            product_id                         seller_id  \\\n",
       "79    9eae06d51aaa383b2bed5547a19d581c  1835b56ce799e6a4dc4eddc053f04066   \n",
       "260   76d75f398634bf194ba99d7297e7d1fa  974cf2cb8f4b7add98709c30df02fe10   \n",
       "553   f77dd338d9f75229a09cbb9a18fd0c9a  1c129092bf23f28a5930387c980c0dfc   \n",
       "646   59089e1668cc247d055ca3f9149093fc  6a51fc556dab5f766ced6fbc860bc613   \n",
       "1069  f921da19d229dad9bf3a94e86e7f7f32  04e38a233f726ef161074ab1c9b0399a   \n",
       "\n",
       "     shipping_limit_date   price  freight_value  \n",
       "79   2018-03-27 13:15:27   53.98          23.31  \n",
       "260  2018-08-21 16:35:18   52.99          22.30  \n",
       "553  2018-01-10 14:32:12   25.00          14.10  \n",
       "646  2018-03-09 18:31:16  159.90          25.96  \n",
       "1069 2018-04-17 16:10:51  104.90          34.27  "
      ]
     },
     "execution_count": 1000,
     "metadata": {},
     "output_type": "execute_result"
    }
   ],
   "source": [
    "df_items.loc[df_items['order_id'].isin(df_orders.query(\"order_status == 'shipped'\").order_id)].head()"
   ]
  },
  {
   "cell_type": "code",
   "execution_count": 1001,
   "id": "f815661c",
   "metadata": {},
   "outputs": [
    {
     "data": {
      "text/plain": [
       "1106"
      ]
     },
     "execution_count": 1001,
     "metadata": {},
     "output_type": "execute_result"
    }
   ],
   "source": [
    "df_items.loc[df_items['order_id'].isin(df_orders.query(\"order_status == 'shipped'\").order_id)].order_id.nunique()"
   ]
  },
  {
   "cell_type": "markdown",
   "id": "585ea7e1",
   "metadata": {},
   "source": [
    "Не все заказы со статусом shipped есть в таблице df_items (не хватает 1 заказа)"
   ]
  },
  {
   "cell_type": "markdown",
   "id": "a1199881",
   "metadata": {},
   "source": [
    "Рассмотрим, какого именно заказа нет."
   ]
  },
  {
   "cell_type": "code",
   "execution_count": 1002,
   "id": "43ce1851",
   "metadata": {},
   "outputs": [
    {
     "data": {
      "text/html": [
       "<div>\n",
       "<style scoped>\n",
       "    .dataframe tbody tr th:only-of-type {\n",
       "        vertical-align: middle;\n",
       "    }\n",
       "\n",
       "    .dataframe tbody tr th {\n",
       "        vertical-align: top;\n",
       "    }\n",
       "\n",
       "    .dataframe thead th {\n",
       "        text-align: right;\n",
       "    }\n",
       "</style>\n",
       "<table border=\"1\" class=\"dataframe\">\n",
       "  <thead>\n",
       "    <tr style=\"text-align: right;\">\n",
       "      <th></th>\n",
       "      <th>order_id</th>\n",
       "      <th>customer_id</th>\n",
       "      <th>order_status</th>\n",
       "      <th>order_purchase_timestamp</th>\n",
       "      <th>order_approved_at</th>\n",
       "      <th>order_delivered_carrier_date</th>\n",
       "      <th>order_delivered_customer_date</th>\n",
       "      <th>order_estimated_delivery_date</th>\n",
       "    </tr>\n",
       "  </thead>\n",
       "  <tbody>\n",
       "    <tr>\n",
       "      <th>23254</th>\n",
       "      <td>a68ce1686d536ca72bd2dadc4b8671e5</td>\n",
       "      <td>d7bed5fac093a4136216072abaf599d5</td>\n",
       "      <td>shipped</td>\n",
       "      <td>2016-10-05 01:47:40</td>\n",
       "      <td>2016-10-07 03:11:22</td>\n",
       "      <td>2016-11-07 16:37:37</td>\n",
       "      <td>NaT</td>\n",
       "      <td>2016-12-01</td>\n",
       "    </tr>\n",
       "  </tbody>\n",
       "</table>\n",
       "</div>"
      ],
      "text/plain": [
       "                               order_id                       customer_id  \\\n",
       "23254  a68ce1686d536ca72bd2dadc4b8671e5  d7bed5fac093a4136216072abaf599d5   \n",
       "\n",
       "      order_status order_purchase_timestamp   order_approved_at  \\\n",
       "23254      shipped      2016-10-05 01:47:40 2016-10-07 03:11:22   \n",
       "\n",
       "      order_delivered_carrier_date order_delivered_customer_date  \\\n",
       "23254          2016-11-07 16:37:37                           NaT   \n",
       "\n",
       "      order_estimated_delivery_date  \n",
       "23254                    2016-12-01  "
      ]
     },
     "execution_count": 1002,
     "metadata": {},
     "output_type": "execute_result"
    }
   ],
   "source": [
    "df_orders.query(\"order_status == 'shipped'\").loc[~df_orders['order_id'].isin(df_items['order_id'])]"
   ]
  },
  {
   "cell_type": "markdown",
   "id": "9edab88c",
   "metadata": {},
   "source": [
    "Рассмотрим минимальные значения df_orders для заказов со статусом shipped"
   ]
  },
  {
   "cell_type": "code",
   "execution_count": 1003,
   "id": "54c0f606",
   "metadata": {},
   "outputs": [
    {
     "data": {
      "text/plain": [
       "order_id                         002f19a65a2ddd70a090297872e6d64e\n",
       "customer_id                      0026d252429f669d454d726e5e956aa1\n",
       "order_status                                              shipped\n",
       "order_purchase_timestamp                      2016-09-04 21:15:19\n",
       "order_approved_at                             2016-10-05 03:10:59\n",
       "order_delivered_carrier_date                  2016-10-11 16:12:23\n",
       "order_delivered_customer_date                                 NaT\n",
       "order_estimated_delivery_date                 2016-10-20 00:00:00\n",
       "dtype: object"
      ]
     },
     "execution_count": 1003,
     "metadata": {},
     "output_type": "execute_result"
    }
   ],
   "source": [
    "df_orders.query(\"order_status == 'shipped'\").min()"
   ]
  },
  {
   "cell_type": "markdown",
   "id": "e228c6fd",
   "metadata": {},
   "source": [
    "Видим, что у данного заказа нет минимальных значений по датам"
   ]
  },
  {
   "cell_type": "markdown",
   "id": "ed2be12e",
   "metadata": {},
   "source": [
    "### Заказы со статусом delivered"
   ]
  },
  {
   "cell_type": "code",
   "execution_count": 1004,
   "id": "dd364e99",
   "metadata": {},
   "outputs": [
    {
     "data": {
      "text/html": [
       "<div>\n",
       "<style scoped>\n",
       "    .dataframe tbody tr th:only-of-type {\n",
       "        vertical-align: middle;\n",
       "    }\n",
       "\n",
       "    .dataframe tbody tr th {\n",
       "        vertical-align: top;\n",
       "    }\n",
       "\n",
       "    .dataframe thead th {\n",
       "        text-align: right;\n",
       "    }\n",
       "</style>\n",
       "<table border=\"1\" class=\"dataframe\">\n",
       "  <thead>\n",
       "    <tr style=\"text-align: right;\">\n",
       "      <th></th>\n",
       "      <th>order_id</th>\n",
       "      <th>customer_id</th>\n",
       "      <th>order_status</th>\n",
       "      <th>order_purchase_timestamp</th>\n",
       "      <th>order_approved_at</th>\n",
       "      <th>order_delivered_carrier_date</th>\n",
       "      <th>order_delivered_customer_date</th>\n",
       "      <th>order_estimated_delivery_date</th>\n",
       "    </tr>\n",
       "  </thead>\n",
       "  <tbody>\n",
       "    <tr>\n",
       "      <th>0</th>\n",
       "      <td>e481f51cbdc54678b7cc49136f2d6af7</td>\n",
       "      <td>9ef432eb6251297304e76186b10a928d</td>\n",
       "      <td>delivered</td>\n",
       "      <td>2017-10-02 10:56:33</td>\n",
       "      <td>2017-10-02 11:07:15</td>\n",
       "      <td>2017-10-04 19:55:00</td>\n",
       "      <td>2017-10-10 21:25:13</td>\n",
       "      <td>2017-10-18</td>\n",
       "    </tr>\n",
       "    <tr>\n",
       "      <th>1</th>\n",
       "      <td>53cdb2fc8bc7dce0b6741e2150273451</td>\n",
       "      <td>b0830fb4747a6c6d20dea0b8c802d7ef</td>\n",
       "      <td>delivered</td>\n",
       "      <td>2018-07-24 20:41:37</td>\n",
       "      <td>2018-07-26 03:24:27</td>\n",
       "      <td>2018-07-26 14:31:00</td>\n",
       "      <td>2018-08-07 15:27:45</td>\n",
       "      <td>2018-08-13</td>\n",
       "    </tr>\n",
       "    <tr>\n",
       "      <th>2</th>\n",
       "      <td>47770eb9100c2d0c44946d9cf07ec65d</td>\n",
       "      <td>41ce2a54c0b03bf3443c3d931a367089</td>\n",
       "      <td>delivered</td>\n",
       "      <td>2018-08-08 08:38:49</td>\n",
       "      <td>2018-08-08 08:55:23</td>\n",
       "      <td>2018-08-08 13:50:00</td>\n",
       "      <td>2018-08-17 18:06:29</td>\n",
       "      <td>2018-09-04</td>\n",
       "    </tr>\n",
       "    <tr>\n",
       "      <th>3</th>\n",
       "      <td>949d5b44dbf5de918fe9c16f97b45f8a</td>\n",
       "      <td>f88197465ea7920adcdbec7375364d82</td>\n",
       "      <td>delivered</td>\n",
       "      <td>2017-11-18 19:28:06</td>\n",
       "      <td>2017-11-18 19:45:59</td>\n",
       "      <td>2017-11-22 13:39:59</td>\n",
       "      <td>2017-12-02 00:28:42</td>\n",
       "      <td>2017-12-15</td>\n",
       "    </tr>\n",
       "    <tr>\n",
       "      <th>4</th>\n",
       "      <td>ad21c59c0840e6cb83a9ceb5573f8159</td>\n",
       "      <td>8ab97904e6daea8866dbdbc4fb7aad2c</td>\n",
       "      <td>delivered</td>\n",
       "      <td>2018-02-13 21:18:39</td>\n",
       "      <td>2018-02-13 22:20:29</td>\n",
       "      <td>2018-02-14 19:46:34</td>\n",
       "      <td>2018-02-16 18:17:02</td>\n",
       "      <td>2018-02-26</td>\n",
       "    </tr>\n",
       "  </tbody>\n",
       "</table>\n",
       "</div>"
      ],
      "text/plain": [
       "                           order_id                       customer_id  \\\n",
       "0  e481f51cbdc54678b7cc49136f2d6af7  9ef432eb6251297304e76186b10a928d   \n",
       "1  53cdb2fc8bc7dce0b6741e2150273451  b0830fb4747a6c6d20dea0b8c802d7ef   \n",
       "2  47770eb9100c2d0c44946d9cf07ec65d  41ce2a54c0b03bf3443c3d931a367089   \n",
       "3  949d5b44dbf5de918fe9c16f97b45f8a  f88197465ea7920adcdbec7375364d82   \n",
       "4  ad21c59c0840e6cb83a9ceb5573f8159  8ab97904e6daea8866dbdbc4fb7aad2c   \n",
       "\n",
       "  order_status order_purchase_timestamp   order_approved_at  \\\n",
       "0    delivered      2017-10-02 10:56:33 2017-10-02 11:07:15   \n",
       "1    delivered      2018-07-24 20:41:37 2018-07-26 03:24:27   \n",
       "2    delivered      2018-08-08 08:38:49 2018-08-08 08:55:23   \n",
       "3    delivered      2017-11-18 19:28:06 2017-11-18 19:45:59   \n",
       "4    delivered      2018-02-13 21:18:39 2018-02-13 22:20:29   \n",
       "\n",
       "  order_delivered_carrier_date order_delivered_customer_date  \\\n",
       "0          2017-10-04 19:55:00           2017-10-10 21:25:13   \n",
       "1          2018-07-26 14:31:00           2018-08-07 15:27:45   \n",
       "2          2018-08-08 13:50:00           2018-08-17 18:06:29   \n",
       "3          2017-11-22 13:39:59           2017-12-02 00:28:42   \n",
       "4          2018-02-14 19:46:34           2018-02-16 18:17:02   \n",
       "\n",
       "  order_estimated_delivery_date  \n",
       "0                    2017-10-18  \n",
       "1                    2018-08-13  \n",
       "2                    2018-09-04  \n",
       "3                    2017-12-15  \n",
       "4                    2018-02-26  "
      ]
     },
     "execution_count": 1004,
     "metadata": {},
     "output_type": "execute_result"
    }
   ],
   "source": [
    "df_orders.query(\"order_status == 'delivered'\").head()"
   ]
  },
  {
   "cell_type": "code",
   "execution_count": 1005,
   "id": "029d5d8b",
   "metadata": {},
   "outputs": [
    {
     "data": {
      "text/plain": [
       "(96478, 8)"
      ]
     },
     "execution_count": 1005,
     "metadata": {},
     "output_type": "execute_result"
    }
   ],
   "source": [
    "df_orders.query(\"order_status == 'delivered'\").shape # количество строк = количество заказов с данным статусом"
   ]
  },
  {
   "cell_type": "code",
   "execution_count": 1006,
   "id": "584471f2",
   "metadata": {},
   "outputs": [
    {
     "data": {
      "text/plain": [
       "order_id                          0\n",
       "customer_id                       0\n",
       "order_status                      0\n",
       "order_purchase_timestamp          0\n",
       "order_approved_at                14\n",
       "order_delivered_carrier_date      2\n",
       "order_delivered_customer_date     8\n",
       "order_estimated_delivery_date     0\n",
       "dtype: int64"
      ]
     },
     "execution_count": 1006,
     "metadata": {},
     "output_type": "execute_result"
    }
   ],
   "source": [
    "df_orders.query(\"order_status == 'delivered'\").isna().sum()"
   ]
  },
  {
   "cell_type": "markdown",
   "id": "5646a63a",
   "metadata": {},
   "source": [
    "Всего 96478 заказов со статусом delivered. У 14 заказов пропущены значения в колонке order_approved_at, у 2 заказов пропущены значения в колонке order_delivered_carrier_date и у 8 заказов пропущены значения в колонке order_delivered_customer_date. Рассмотрим подробнее данные заказы. "
   ]
  },
  {
   "cell_type": "code",
   "execution_count": 1007,
   "id": "b62199e0",
   "metadata": {},
   "outputs": [
    {
     "data": {
      "text/html": [
       "<div>\n",
       "<style scoped>\n",
       "    .dataframe tbody tr th:only-of-type {\n",
       "        vertical-align: middle;\n",
       "    }\n",
       "\n",
       "    .dataframe tbody tr th {\n",
       "        vertical-align: top;\n",
       "    }\n",
       "\n",
       "    .dataframe thead th {\n",
       "        text-align: right;\n",
       "    }\n",
       "</style>\n",
       "<table border=\"1\" class=\"dataframe\">\n",
       "  <thead>\n",
       "    <tr style=\"text-align: right;\">\n",
       "      <th></th>\n",
       "      <th>order_id</th>\n",
       "      <th>customer_id</th>\n",
       "      <th>order_status</th>\n",
       "      <th>order_purchase_timestamp</th>\n",
       "      <th>order_approved_at</th>\n",
       "      <th>order_delivered_carrier_date</th>\n",
       "      <th>order_delivered_customer_date</th>\n",
       "      <th>order_estimated_delivery_date</th>\n",
       "    </tr>\n",
       "  </thead>\n",
       "  <tbody>\n",
       "    <tr>\n",
       "      <th>5323</th>\n",
       "      <td>e04abd8149ef81b95221e88f6ed9ab6a</td>\n",
       "      <td>2127dc6603ac33544953ef05ec155771</td>\n",
       "      <td>delivered</td>\n",
       "      <td>2017-02-18 14:40:00</td>\n",
       "      <td>NaT</td>\n",
       "      <td>2017-02-23 12:04:47</td>\n",
       "      <td>2017-03-01 13:25:33</td>\n",
       "      <td>2017-03-17</td>\n",
       "    </tr>\n",
       "    <tr>\n",
       "      <th>16567</th>\n",
       "      <td>8a9adc69528e1001fc68dd0aaebbb54a</td>\n",
       "      <td>4c1ccc74e00993733742a3c786dc3c1f</td>\n",
       "      <td>delivered</td>\n",
       "      <td>2017-02-18 12:45:31</td>\n",
       "      <td>NaT</td>\n",
       "      <td>2017-02-23 09:01:52</td>\n",
       "      <td>2017-03-02 10:05:06</td>\n",
       "      <td>2017-03-21</td>\n",
       "    </tr>\n",
       "    <tr>\n",
       "      <th>19031</th>\n",
       "      <td>7013bcfc1c97fe719a7b5e05e61c12db</td>\n",
       "      <td>2941af76d38100e0f8740a374f1a5dc3</td>\n",
       "      <td>delivered</td>\n",
       "      <td>2017-02-18 13:29:47</td>\n",
       "      <td>NaT</td>\n",
       "      <td>2017-02-22 16:25:25</td>\n",
       "      <td>2017-03-01 08:07:38</td>\n",
       "      <td>2017-03-17</td>\n",
       "    </tr>\n",
       "    <tr>\n",
       "      <th>22663</th>\n",
       "      <td>5cf925b116421afa85ee25e99b4c34fb</td>\n",
       "      <td>29c35fc91fc13fb5073c8f30505d860d</td>\n",
       "      <td>delivered</td>\n",
       "      <td>2017-02-18 16:48:35</td>\n",
       "      <td>NaT</td>\n",
       "      <td>2017-02-22 11:23:10</td>\n",
       "      <td>2017-03-09 07:28:47</td>\n",
       "      <td>2017-03-31</td>\n",
       "    </tr>\n",
       "    <tr>\n",
       "      <th>23156</th>\n",
       "      <td>12a95a3c06dbaec84bcfb0e2da5d228a</td>\n",
       "      <td>1e101e0daffaddce8159d25a8e53f2b2</td>\n",
       "      <td>delivered</td>\n",
       "      <td>2017-02-17 13:05:55</td>\n",
       "      <td>NaT</td>\n",
       "      <td>2017-02-22 11:23:11</td>\n",
       "      <td>2017-03-02 11:09:19</td>\n",
       "      <td>2017-03-20</td>\n",
       "    </tr>\n",
       "    <tr>\n",
       "      <th>26800</th>\n",
       "      <td>c1d4211b3dae76144deccd6c74144a88</td>\n",
       "      <td>684cb238dc5b5d6366244e0e0776b450</td>\n",
       "      <td>delivered</td>\n",
       "      <td>2017-01-19 12:48:08</td>\n",
       "      <td>NaT</td>\n",
       "      <td>2017-01-25 14:56:50</td>\n",
       "      <td>2017-01-30 18:16:01</td>\n",
       "      <td>2017-03-01</td>\n",
       "    </tr>\n",
       "    <tr>\n",
       "      <th>38290</th>\n",
       "      <td>d69e5d356402adc8cf17e08b5033acfb</td>\n",
       "      <td>68d081753ad4fe22fc4d410a9eb1ca01</td>\n",
       "      <td>delivered</td>\n",
       "      <td>2017-02-19 01:28:47</td>\n",
       "      <td>NaT</td>\n",
       "      <td>2017-02-23 03:11:48</td>\n",
       "      <td>2017-03-02 03:41:58</td>\n",
       "      <td>2017-03-27</td>\n",
       "    </tr>\n",
       "    <tr>\n",
       "      <th>39334</th>\n",
       "      <td>d77031d6a3c8a52f019764e68f211c69</td>\n",
       "      <td>0bf35cac6cc7327065da879e2d90fae8</td>\n",
       "      <td>delivered</td>\n",
       "      <td>2017-02-18 11:04:19</td>\n",
       "      <td>NaT</td>\n",
       "      <td>2017-02-23 07:23:36</td>\n",
       "      <td>2017-03-02 16:15:23</td>\n",
       "      <td>2017-03-22</td>\n",
       "    </tr>\n",
       "    <tr>\n",
       "      <th>48401</th>\n",
       "      <td>7002a78c79c519ac54022d4f8a65e6e8</td>\n",
       "      <td>d5de688c321096d15508faae67a27051</td>\n",
       "      <td>delivered</td>\n",
       "      <td>2017-01-19 22:26:59</td>\n",
       "      <td>NaT</td>\n",
       "      <td>2017-01-27 11:08:05</td>\n",
       "      <td>2017-02-06 14:22:19</td>\n",
       "      <td>2017-03-16</td>\n",
       "    </tr>\n",
       "    <tr>\n",
       "      <th>61743</th>\n",
       "      <td>2eecb0d85f281280f79fa00f9cec1a95</td>\n",
       "      <td>a3d3c38e58b9d2dfb9207cab690b6310</td>\n",
       "      <td>delivered</td>\n",
       "      <td>2017-02-17 17:21:55</td>\n",
       "      <td>NaT</td>\n",
       "      <td>2017-02-22 11:42:51</td>\n",
       "      <td>2017-03-03 12:16:03</td>\n",
       "      <td>2017-03-20</td>\n",
       "    </tr>\n",
       "    <tr>\n",
       "      <th>63052</th>\n",
       "      <td>51eb2eebd5d76a24625b31c33dd41449</td>\n",
       "      <td>07a2a7e0f63fd8cb757ed77d4245623c</td>\n",
       "      <td>delivered</td>\n",
       "      <td>2017-02-18 15:52:27</td>\n",
       "      <td>NaT</td>\n",
       "      <td>2017-02-23 03:09:14</td>\n",
       "      <td>2017-03-07 13:57:47</td>\n",
       "      <td>2017-03-29</td>\n",
       "    </tr>\n",
       "    <tr>\n",
       "      <th>67697</th>\n",
       "      <td>88083e8f64d95b932164187484d90212</td>\n",
       "      <td>f67cd1a215aae2a1074638bbd35a223a</td>\n",
       "      <td>delivered</td>\n",
       "      <td>2017-02-18 22:49:19</td>\n",
       "      <td>NaT</td>\n",
       "      <td>2017-02-22 11:31:06</td>\n",
       "      <td>2017-03-02 12:06:06</td>\n",
       "      <td>2017-03-21</td>\n",
       "    </tr>\n",
       "    <tr>\n",
       "      <th>72407</th>\n",
       "      <td>3c0b8706b065f9919d0505d3b3343881</td>\n",
       "      <td>d85919cb3c0529589c6fa617f5f43281</td>\n",
       "      <td>delivered</td>\n",
       "      <td>2017-02-17 15:53:27</td>\n",
       "      <td>NaT</td>\n",
       "      <td>2017-02-22 11:31:30</td>\n",
       "      <td>2017-03-03 11:47:47</td>\n",
       "      <td>2017-03-23</td>\n",
       "    </tr>\n",
       "    <tr>\n",
       "      <th>84999</th>\n",
       "      <td>2babbb4b15e6d2dfe95e2de765c97bce</td>\n",
       "      <td>74bebaf46603f9340e3b50c6b086f992</td>\n",
       "      <td>delivered</td>\n",
       "      <td>2017-02-18 17:15:03</td>\n",
       "      <td>NaT</td>\n",
       "      <td>2017-02-22 11:23:11</td>\n",
       "      <td>2017-03-03 18:43:43</td>\n",
       "      <td>2017-03-31</td>\n",
       "    </tr>\n",
       "  </tbody>\n",
       "</table>\n",
       "</div>"
      ],
      "text/plain": [
       "                               order_id                       customer_id  \\\n",
       "5323   e04abd8149ef81b95221e88f6ed9ab6a  2127dc6603ac33544953ef05ec155771   \n",
       "16567  8a9adc69528e1001fc68dd0aaebbb54a  4c1ccc74e00993733742a3c786dc3c1f   \n",
       "19031  7013bcfc1c97fe719a7b5e05e61c12db  2941af76d38100e0f8740a374f1a5dc3   \n",
       "22663  5cf925b116421afa85ee25e99b4c34fb  29c35fc91fc13fb5073c8f30505d860d   \n",
       "23156  12a95a3c06dbaec84bcfb0e2da5d228a  1e101e0daffaddce8159d25a8e53f2b2   \n",
       "26800  c1d4211b3dae76144deccd6c74144a88  684cb238dc5b5d6366244e0e0776b450   \n",
       "38290  d69e5d356402adc8cf17e08b5033acfb  68d081753ad4fe22fc4d410a9eb1ca01   \n",
       "39334  d77031d6a3c8a52f019764e68f211c69  0bf35cac6cc7327065da879e2d90fae8   \n",
       "48401  7002a78c79c519ac54022d4f8a65e6e8  d5de688c321096d15508faae67a27051   \n",
       "61743  2eecb0d85f281280f79fa00f9cec1a95  a3d3c38e58b9d2dfb9207cab690b6310   \n",
       "63052  51eb2eebd5d76a24625b31c33dd41449  07a2a7e0f63fd8cb757ed77d4245623c   \n",
       "67697  88083e8f64d95b932164187484d90212  f67cd1a215aae2a1074638bbd35a223a   \n",
       "72407  3c0b8706b065f9919d0505d3b3343881  d85919cb3c0529589c6fa617f5f43281   \n",
       "84999  2babbb4b15e6d2dfe95e2de765c97bce  74bebaf46603f9340e3b50c6b086f992   \n",
       "\n",
       "      order_status order_purchase_timestamp order_approved_at  \\\n",
       "5323     delivered      2017-02-18 14:40:00               NaT   \n",
       "16567    delivered      2017-02-18 12:45:31               NaT   \n",
       "19031    delivered      2017-02-18 13:29:47               NaT   \n",
       "22663    delivered      2017-02-18 16:48:35               NaT   \n",
       "23156    delivered      2017-02-17 13:05:55               NaT   \n",
       "26800    delivered      2017-01-19 12:48:08               NaT   \n",
       "38290    delivered      2017-02-19 01:28:47               NaT   \n",
       "39334    delivered      2017-02-18 11:04:19               NaT   \n",
       "48401    delivered      2017-01-19 22:26:59               NaT   \n",
       "61743    delivered      2017-02-17 17:21:55               NaT   \n",
       "63052    delivered      2017-02-18 15:52:27               NaT   \n",
       "67697    delivered      2017-02-18 22:49:19               NaT   \n",
       "72407    delivered      2017-02-17 15:53:27               NaT   \n",
       "84999    delivered      2017-02-18 17:15:03               NaT   \n",
       "\n",
       "      order_delivered_carrier_date order_delivered_customer_date  \\\n",
       "5323           2017-02-23 12:04:47           2017-03-01 13:25:33   \n",
       "16567          2017-02-23 09:01:52           2017-03-02 10:05:06   \n",
       "19031          2017-02-22 16:25:25           2017-03-01 08:07:38   \n",
       "22663          2017-02-22 11:23:10           2017-03-09 07:28:47   \n",
       "23156          2017-02-22 11:23:11           2017-03-02 11:09:19   \n",
       "26800          2017-01-25 14:56:50           2017-01-30 18:16:01   \n",
       "38290          2017-02-23 03:11:48           2017-03-02 03:41:58   \n",
       "39334          2017-02-23 07:23:36           2017-03-02 16:15:23   \n",
       "48401          2017-01-27 11:08:05           2017-02-06 14:22:19   \n",
       "61743          2017-02-22 11:42:51           2017-03-03 12:16:03   \n",
       "63052          2017-02-23 03:09:14           2017-03-07 13:57:47   \n",
       "67697          2017-02-22 11:31:06           2017-03-02 12:06:06   \n",
       "72407          2017-02-22 11:31:30           2017-03-03 11:47:47   \n",
       "84999          2017-02-22 11:23:11           2017-03-03 18:43:43   \n",
       "\n",
       "      order_estimated_delivery_date  \n",
       "5323                     2017-03-17  \n",
       "16567                    2017-03-21  \n",
       "19031                    2017-03-17  \n",
       "22663                    2017-03-31  \n",
       "23156                    2017-03-20  \n",
       "26800                    2017-03-01  \n",
       "38290                    2017-03-27  \n",
       "39334                    2017-03-22  \n",
       "48401                    2017-03-16  \n",
       "61743                    2017-03-20  \n",
       "63052                    2017-03-29  \n",
       "67697                    2017-03-21  \n",
       "72407                    2017-03-23  \n",
       "84999                    2017-03-31  "
      ]
     },
     "execution_count": 1007,
     "metadata": {},
     "output_type": "execute_result"
    }
   ],
   "source": [
    "df_orders.query(\"order_status == 'delivered'\").loc[df_orders.order_approved_at.isna()]"
   ]
  },
  {
   "cell_type": "markdown",
   "id": "faee9194",
   "metadata": {},
   "source": [
    "У данных 14 заказов пропущены значения только в колонке order_approved_at."
   ]
  },
  {
   "cell_type": "code",
   "execution_count": 1008,
   "id": "ae9a7eb6",
   "metadata": {},
   "outputs": [
    {
     "data": {
      "text/html": [
       "<div>\n",
       "<style scoped>\n",
       "    .dataframe tbody tr th:only-of-type {\n",
       "        vertical-align: middle;\n",
       "    }\n",
       "\n",
       "    .dataframe tbody tr th {\n",
       "        vertical-align: top;\n",
       "    }\n",
       "\n",
       "    .dataframe thead th {\n",
       "        text-align: right;\n",
       "    }\n",
       "</style>\n",
       "<table border=\"1\" class=\"dataframe\">\n",
       "  <thead>\n",
       "    <tr style=\"text-align: right;\">\n",
       "      <th></th>\n",
       "      <th>order_id</th>\n",
       "      <th>customer_id</th>\n",
       "      <th>order_status</th>\n",
       "      <th>order_purchase_timestamp</th>\n",
       "      <th>order_approved_at</th>\n",
       "      <th>order_delivered_carrier_date</th>\n",
       "      <th>order_delivered_customer_date</th>\n",
       "      <th>order_estimated_delivery_date</th>\n",
       "    </tr>\n",
       "  </thead>\n",
       "  <tbody>\n",
       "    <tr>\n",
       "      <th>73222</th>\n",
       "      <td>2aa91108853cecb43c84a5dc5b277475</td>\n",
       "      <td>afeb16c7f46396c0ed54acb45ccaaa40</td>\n",
       "      <td>delivered</td>\n",
       "      <td>2017-09-29 08:52:58</td>\n",
       "      <td>2017-09-29 09:07:16</td>\n",
       "      <td>NaT</td>\n",
       "      <td>2017-11-20 19:44:47</td>\n",
       "      <td>2017-11-14</td>\n",
       "    </tr>\n",
       "    <tr>\n",
       "      <th>92643</th>\n",
       "      <td>2d858f451373b04fb5c984a1cc2defaf</td>\n",
       "      <td>e08caf668d499a6d643dafd7c5cc498a</td>\n",
       "      <td>delivered</td>\n",
       "      <td>2017-05-25 23:22:43</td>\n",
       "      <td>2017-05-25 23:30:16</td>\n",
       "      <td>NaT</td>\n",
       "      <td>NaT</td>\n",
       "      <td>2017-06-23</td>\n",
       "    </tr>\n",
       "  </tbody>\n",
       "</table>\n",
       "</div>"
      ],
      "text/plain": [
       "                               order_id                       customer_id  \\\n",
       "73222  2aa91108853cecb43c84a5dc5b277475  afeb16c7f46396c0ed54acb45ccaaa40   \n",
       "92643  2d858f451373b04fb5c984a1cc2defaf  e08caf668d499a6d643dafd7c5cc498a   \n",
       "\n",
       "      order_status order_purchase_timestamp   order_approved_at  \\\n",
       "73222    delivered      2017-09-29 08:52:58 2017-09-29 09:07:16   \n",
       "92643    delivered      2017-05-25 23:22:43 2017-05-25 23:30:16   \n",
       "\n",
       "      order_delivered_carrier_date order_delivered_customer_date  \\\n",
       "73222                          NaT           2017-11-20 19:44:47   \n",
       "92643                          NaT                           NaT   \n",
       "\n",
       "      order_estimated_delivery_date  \n",
       "73222                    2017-11-14  \n",
       "92643                    2017-06-23  "
      ]
     },
     "execution_count": 1008,
     "metadata": {},
     "output_type": "execute_result"
    }
   ],
   "source": [
    "df_orders.query(\"order_status == 'delivered'\").loc[df_orders.order_delivered_carrier_date.isna()]"
   ]
  },
  {
   "cell_type": "markdown",
   "id": "573f2990",
   "metadata": {},
   "source": [
    "Видим, что у одного заказа пропущено значение только в колонке order_delivered_carrier_date, а у другого пропущены значения как в order_delivered_carrier_date, так и order_delivered_customer_date."
   ]
  },
  {
   "cell_type": "code",
   "execution_count": 1009,
   "id": "0b3277f7",
   "metadata": {},
   "outputs": [
    {
     "data": {
      "text/html": [
       "<div>\n",
       "<style scoped>\n",
       "    .dataframe tbody tr th:only-of-type {\n",
       "        vertical-align: middle;\n",
       "    }\n",
       "\n",
       "    .dataframe tbody tr th {\n",
       "        vertical-align: top;\n",
       "    }\n",
       "\n",
       "    .dataframe thead th {\n",
       "        text-align: right;\n",
       "    }\n",
       "</style>\n",
       "<table border=\"1\" class=\"dataframe\">\n",
       "  <thead>\n",
       "    <tr style=\"text-align: right;\">\n",
       "      <th></th>\n",
       "      <th>order_id</th>\n",
       "      <th>customer_id</th>\n",
       "      <th>order_status</th>\n",
       "      <th>order_purchase_timestamp</th>\n",
       "      <th>order_approved_at</th>\n",
       "      <th>order_delivered_carrier_date</th>\n",
       "      <th>order_delivered_customer_date</th>\n",
       "      <th>order_estimated_delivery_date</th>\n",
       "    </tr>\n",
       "  </thead>\n",
       "  <tbody>\n",
       "    <tr>\n",
       "      <th>3002</th>\n",
       "      <td>2d1e2d5bf4dc7227b3bfebb81328c15f</td>\n",
       "      <td>ec05a6d8558c6455f0cbbd8a420ad34f</td>\n",
       "      <td>delivered</td>\n",
       "      <td>2017-11-28 17:44:07</td>\n",
       "      <td>2017-11-28 17:56:40</td>\n",
       "      <td>2017-11-30 18:12:23</td>\n",
       "      <td>NaT</td>\n",
       "      <td>2017-12-18</td>\n",
       "    </tr>\n",
       "    <tr>\n",
       "      <th>20618</th>\n",
       "      <td>f5dd62b788049ad9fc0526e3ad11a097</td>\n",
       "      <td>5e89028e024b381dc84a13a3570decb4</td>\n",
       "      <td>delivered</td>\n",
       "      <td>2018-06-20 06:58:43</td>\n",
       "      <td>2018-06-20 07:19:05</td>\n",
       "      <td>2018-06-25 08:05:00</td>\n",
       "      <td>NaT</td>\n",
       "      <td>2018-07-16</td>\n",
       "    </tr>\n",
       "    <tr>\n",
       "      <th>43834</th>\n",
       "      <td>2ebdfc4f15f23b91474edf87475f108e</td>\n",
       "      <td>29f0540231702fda0cfdee0a310f11aa</td>\n",
       "      <td>delivered</td>\n",
       "      <td>2018-07-01 17:05:11</td>\n",
       "      <td>2018-07-01 17:15:12</td>\n",
       "      <td>2018-07-03 13:57:00</td>\n",
       "      <td>NaT</td>\n",
       "      <td>2018-07-30</td>\n",
       "    </tr>\n",
       "    <tr>\n",
       "      <th>79263</th>\n",
       "      <td>e69f75a717d64fc5ecdfae42b2e8e086</td>\n",
       "      <td>cfda40ca8dd0a5d486a9635b611b398a</td>\n",
       "      <td>delivered</td>\n",
       "      <td>2018-07-01 22:05:55</td>\n",
       "      <td>2018-07-01 22:15:14</td>\n",
       "      <td>2018-07-03 13:57:00</td>\n",
       "      <td>NaT</td>\n",
       "      <td>2018-07-30</td>\n",
       "    </tr>\n",
       "    <tr>\n",
       "      <th>82868</th>\n",
       "      <td>0d3268bad9b086af767785e3f0fc0133</td>\n",
       "      <td>4f1d63d35fb7c8999853b2699f5c7649</td>\n",
       "      <td>delivered</td>\n",
       "      <td>2018-07-01 21:14:02</td>\n",
       "      <td>2018-07-01 21:29:54</td>\n",
       "      <td>2018-07-03 09:28:00</td>\n",
       "      <td>NaT</td>\n",
       "      <td>2018-07-24</td>\n",
       "    </tr>\n",
       "    <tr>\n",
       "      <th>92643</th>\n",
       "      <td>2d858f451373b04fb5c984a1cc2defaf</td>\n",
       "      <td>e08caf668d499a6d643dafd7c5cc498a</td>\n",
       "      <td>delivered</td>\n",
       "      <td>2017-05-25 23:22:43</td>\n",
       "      <td>2017-05-25 23:30:16</td>\n",
       "      <td>NaT</td>\n",
       "      <td>NaT</td>\n",
       "      <td>2017-06-23</td>\n",
       "    </tr>\n",
       "    <tr>\n",
       "      <th>97647</th>\n",
       "      <td>ab7c89dc1bf4a1ead9d6ec1ec8968a84</td>\n",
       "      <td>dd1b84a7286eb4524d52af4256c0ba24</td>\n",
       "      <td>delivered</td>\n",
       "      <td>2018-06-08 12:09:39</td>\n",
       "      <td>2018-06-08 12:36:39</td>\n",
       "      <td>2018-06-12 14:10:00</td>\n",
       "      <td>NaT</td>\n",
       "      <td>2018-06-26</td>\n",
       "    </tr>\n",
       "    <tr>\n",
       "      <th>98038</th>\n",
       "      <td>20edc82cf5400ce95e1afacc25798b31</td>\n",
       "      <td>28c37425f1127d887d7337f284080a0f</td>\n",
       "      <td>delivered</td>\n",
       "      <td>2018-06-27 16:09:12</td>\n",
       "      <td>2018-06-27 16:29:30</td>\n",
       "      <td>2018-07-03 19:26:00</td>\n",
       "      <td>NaT</td>\n",
       "      <td>2018-07-19</td>\n",
       "    </tr>\n",
       "  </tbody>\n",
       "</table>\n",
       "</div>"
      ],
      "text/plain": [
       "                               order_id                       customer_id  \\\n",
       "3002   2d1e2d5bf4dc7227b3bfebb81328c15f  ec05a6d8558c6455f0cbbd8a420ad34f   \n",
       "20618  f5dd62b788049ad9fc0526e3ad11a097  5e89028e024b381dc84a13a3570decb4   \n",
       "43834  2ebdfc4f15f23b91474edf87475f108e  29f0540231702fda0cfdee0a310f11aa   \n",
       "79263  e69f75a717d64fc5ecdfae42b2e8e086  cfda40ca8dd0a5d486a9635b611b398a   \n",
       "82868  0d3268bad9b086af767785e3f0fc0133  4f1d63d35fb7c8999853b2699f5c7649   \n",
       "92643  2d858f451373b04fb5c984a1cc2defaf  e08caf668d499a6d643dafd7c5cc498a   \n",
       "97647  ab7c89dc1bf4a1ead9d6ec1ec8968a84  dd1b84a7286eb4524d52af4256c0ba24   \n",
       "98038  20edc82cf5400ce95e1afacc25798b31  28c37425f1127d887d7337f284080a0f   \n",
       "\n",
       "      order_status order_purchase_timestamp   order_approved_at  \\\n",
       "3002     delivered      2017-11-28 17:44:07 2017-11-28 17:56:40   \n",
       "20618    delivered      2018-06-20 06:58:43 2018-06-20 07:19:05   \n",
       "43834    delivered      2018-07-01 17:05:11 2018-07-01 17:15:12   \n",
       "79263    delivered      2018-07-01 22:05:55 2018-07-01 22:15:14   \n",
       "82868    delivered      2018-07-01 21:14:02 2018-07-01 21:29:54   \n",
       "92643    delivered      2017-05-25 23:22:43 2017-05-25 23:30:16   \n",
       "97647    delivered      2018-06-08 12:09:39 2018-06-08 12:36:39   \n",
       "98038    delivered      2018-06-27 16:09:12 2018-06-27 16:29:30   \n",
       "\n",
       "      order_delivered_carrier_date order_delivered_customer_date  \\\n",
       "3002           2017-11-30 18:12:23                           NaT   \n",
       "20618          2018-06-25 08:05:00                           NaT   \n",
       "43834          2018-07-03 13:57:00                           NaT   \n",
       "79263          2018-07-03 13:57:00                           NaT   \n",
       "82868          2018-07-03 09:28:00                           NaT   \n",
       "92643                          NaT                           NaT   \n",
       "97647          2018-06-12 14:10:00                           NaT   \n",
       "98038          2018-07-03 19:26:00                           NaT   \n",
       "\n",
       "      order_estimated_delivery_date  \n",
       "3002                     2017-12-18  \n",
       "20618                    2018-07-16  \n",
       "43834                    2018-07-30  \n",
       "79263                    2018-07-30  \n",
       "82868                    2018-07-24  \n",
       "92643                    2017-06-23  \n",
       "97647                    2018-06-26  \n",
       "98038                    2018-07-19  "
      ]
     },
     "execution_count": 1009,
     "metadata": {},
     "output_type": "execute_result"
    }
   ],
   "source": [
    "df_orders.query(\"order_status == 'delivered'\").loc[df_orders.order_delivered_customer_date.isna()]"
   ]
  },
  {
   "cell_type": "markdown",
   "id": "19ff7bd9",
   "metadata": {},
   "source": [
    "У 7 заказов пропущены значения только в колонке order_delivered_customer_date, у одного заказа, который был описан выше, пропущены значения как в order_delivered_customer_date, так и в order_delivered_carrier_date.<br>\n",
    "Следовательно, всего 14 + 2 + 7 = 23 заказа статуса delivered с пропущенными значениями."
   ]
  },
  {
   "cell_type": "markdown",
   "id": "9fa17122",
   "metadata": {},
   "source": [
    "Проверим наличие заказов со статусом delivered в таблице df_items (таблица с товарными позициями, входящими в заказы)"
   ]
  },
  {
   "cell_type": "code",
   "execution_count": 1010,
   "id": "c682cb33",
   "metadata": {},
   "outputs": [
    {
     "data": {
      "text/plain": [
       "True"
      ]
     },
     "execution_count": 1010,
     "metadata": {},
     "output_type": "execute_result"
    }
   ],
   "source": [
    "df_items['order_id'].isin(df_orders.query(\"order_status == 'delivered'\").order_id).any()"
   ]
  },
  {
   "cell_type": "code",
   "execution_count": 1011,
   "id": "4e4c779b",
   "metadata": {},
   "outputs": [
    {
     "data": {
      "text/html": [
       "<div>\n",
       "<style scoped>\n",
       "    .dataframe tbody tr th:only-of-type {\n",
       "        vertical-align: middle;\n",
       "    }\n",
       "\n",
       "    .dataframe tbody tr th {\n",
       "        vertical-align: top;\n",
       "    }\n",
       "\n",
       "    .dataframe thead th {\n",
       "        text-align: right;\n",
       "    }\n",
       "</style>\n",
       "<table border=\"1\" class=\"dataframe\">\n",
       "  <thead>\n",
       "    <tr style=\"text-align: right;\">\n",
       "      <th></th>\n",
       "      <th>order_id</th>\n",
       "      <th>order_item_id</th>\n",
       "      <th>product_id</th>\n",
       "      <th>seller_id</th>\n",
       "      <th>shipping_limit_date</th>\n",
       "      <th>price</th>\n",
       "      <th>freight_value</th>\n",
       "    </tr>\n",
       "  </thead>\n",
       "  <tbody>\n",
       "    <tr>\n",
       "      <th>0</th>\n",
       "      <td>00010242fe8c5a6d1ba2dd792cb16214</td>\n",
       "      <td>1</td>\n",
       "      <td>4244733e06e7ecb4970a6e2683c13e61</td>\n",
       "      <td>48436dade18ac8b2bce089ec2a041202</td>\n",
       "      <td>2017-09-19 09:45:35</td>\n",
       "      <td>58.90</td>\n",
       "      <td>13.29</td>\n",
       "    </tr>\n",
       "    <tr>\n",
       "      <th>1</th>\n",
       "      <td>00018f77f2f0320c557190d7a144bdd3</td>\n",
       "      <td>1</td>\n",
       "      <td>e5f2d52b802189ee658865ca93d83a8f</td>\n",
       "      <td>dd7ddc04e1b6c2c614352b383efe2d36</td>\n",
       "      <td>2017-05-03 11:05:13</td>\n",
       "      <td>239.90</td>\n",
       "      <td>19.93</td>\n",
       "    </tr>\n",
       "    <tr>\n",
       "      <th>2</th>\n",
       "      <td>000229ec398224ef6ca0657da4fc703e</td>\n",
       "      <td>1</td>\n",
       "      <td>c777355d18b72b67abbeef9df44fd0fd</td>\n",
       "      <td>5b51032eddd242adc84c38acab88f23d</td>\n",
       "      <td>2018-01-18 14:48:30</td>\n",
       "      <td>199.00</td>\n",
       "      <td>17.87</td>\n",
       "    </tr>\n",
       "    <tr>\n",
       "      <th>3</th>\n",
       "      <td>00024acbcdf0a6daa1e931b038114c75</td>\n",
       "      <td>1</td>\n",
       "      <td>7634da152a4610f1595efa32f14722fc</td>\n",
       "      <td>9d7a1d34a5052409006425275ba1c2b4</td>\n",
       "      <td>2018-08-15 10:10:18</td>\n",
       "      <td>12.99</td>\n",
       "      <td>12.79</td>\n",
       "    </tr>\n",
       "    <tr>\n",
       "      <th>4</th>\n",
       "      <td>00042b26cf59d7ce69dfabb4e55b4fd9</td>\n",
       "      <td>1</td>\n",
       "      <td>ac6c3623068f30de03045865e4e10089</td>\n",
       "      <td>df560393f3a51e74553ab94004ba5c87</td>\n",
       "      <td>2017-02-13 13:57:51</td>\n",
       "      <td>199.90</td>\n",
       "      <td>18.14</td>\n",
       "    </tr>\n",
       "  </tbody>\n",
       "</table>\n",
       "</div>"
      ],
      "text/plain": [
       "                           order_id  order_item_id  \\\n",
       "0  00010242fe8c5a6d1ba2dd792cb16214              1   \n",
       "1  00018f77f2f0320c557190d7a144bdd3              1   \n",
       "2  000229ec398224ef6ca0657da4fc703e              1   \n",
       "3  00024acbcdf0a6daa1e931b038114c75              1   \n",
       "4  00042b26cf59d7ce69dfabb4e55b4fd9              1   \n",
       "\n",
       "                         product_id                         seller_id  \\\n",
       "0  4244733e06e7ecb4970a6e2683c13e61  48436dade18ac8b2bce089ec2a041202   \n",
       "1  e5f2d52b802189ee658865ca93d83a8f  dd7ddc04e1b6c2c614352b383efe2d36   \n",
       "2  c777355d18b72b67abbeef9df44fd0fd  5b51032eddd242adc84c38acab88f23d   \n",
       "3  7634da152a4610f1595efa32f14722fc  9d7a1d34a5052409006425275ba1c2b4   \n",
       "4  ac6c3623068f30de03045865e4e10089  df560393f3a51e74553ab94004ba5c87   \n",
       "\n",
       "  shipping_limit_date   price  freight_value  \n",
       "0 2017-09-19 09:45:35   58.90          13.29  \n",
       "1 2017-05-03 11:05:13  239.90          19.93  \n",
       "2 2018-01-18 14:48:30  199.00          17.87  \n",
       "3 2018-08-15 10:10:18   12.99          12.79  \n",
       "4 2017-02-13 13:57:51  199.90          18.14  "
      ]
     },
     "execution_count": 1011,
     "metadata": {},
     "output_type": "execute_result"
    }
   ],
   "source": [
    "df_items.loc[df_items['order_id'].isin(df_orders.query(\"order_status == 'delivered'\").order_id)].head()"
   ]
  },
  {
   "cell_type": "code",
   "execution_count": 1012,
   "id": "ce5ea59e",
   "metadata": {},
   "outputs": [
    {
     "data": {
      "text/plain": [
       "96478"
      ]
     },
     "execution_count": 1012,
     "metadata": {},
     "output_type": "execute_result"
    }
   ],
   "source": [
    "df_items.loc[df_items['order_id'].isin(df_orders.query(\"order_status == 'delivered'\").order_id)].order_id.nunique()"
   ]
  },
  {
   "cell_type": "markdown",
   "id": "061d6e91",
   "metadata": {},
   "source": [
    "Все заказы со статусом delivered есть в таблице df_items"
   ]
  },
  {
   "cell_type": "markdown",
   "id": "08d80c53",
   "metadata": {},
   "source": [
    "### Заказы со статусом unavailable"
   ]
  },
  {
   "cell_type": "code",
   "execution_count": 1013,
   "id": "714500a5",
   "metadata": {},
   "outputs": [
    {
     "data": {
      "text/html": [
       "<div>\n",
       "<style scoped>\n",
       "    .dataframe tbody tr th:only-of-type {\n",
       "        vertical-align: middle;\n",
       "    }\n",
       "\n",
       "    .dataframe tbody tr th {\n",
       "        vertical-align: top;\n",
       "    }\n",
       "\n",
       "    .dataframe thead th {\n",
       "        text-align: right;\n",
       "    }\n",
       "</style>\n",
       "<table border=\"1\" class=\"dataframe\">\n",
       "  <thead>\n",
       "    <tr style=\"text-align: right;\">\n",
       "      <th></th>\n",
       "      <th>order_id</th>\n",
       "      <th>customer_id</th>\n",
       "      <th>order_status</th>\n",
       "      <th>order_purchase_timestamp</th>\n",
       "      <th>order_approved_at</th>\n",
       "      <th>order_delivered_carrier_date</th>\n",
       "      <th>order_delivered_customer_date</th>\n",
       "      <th>order_estimated_delivery_date</th>\n",
       "    </tr>\n",
       "  </thead>\n",
       "  <tbody>\n",
       "    <tr>\n",
       "      <th>266</th>\n",
       "      <td>8e24261a7e58791d10cb1bf9da94df5c</td>\n",
       "      <td>64a254d30eed42cd0e6c36dddb88adf0</td>\n",
       "      <td>unavailable</td>\n",
       "      <td>2017-11-16 15:09:28</td>\n",
       "      <td>2017-11-16 15:26:57</td>\n",
       "      <td>NaT</td>\n",
       "      <td>NaT</td>\n",
       "      <td>2017-12-05</td>\n",
       "    </tr>\n",
       "    <tr>\n",
       "      <th>586</th>\n",
       "      <td>c272bcd21c287498b4883c7512019702</td>\n",
       "      <td>9582c5bbecc65eb568e2c1d839b5cba1</td>\n",
       "      <td>unavailable</td>\n",
       "      <td>2018-01-31 11:31:37</td>\n",
       "      <td>2018-01-31 14:23:50</td>\n",
       "      <td>NaT</td>\n",
       "      <td>NaT</td>\n",
       "      <td>2018-02-16</td>\n",
       "    </tr>\n",
       "    <tr>\n",
       "      <th>687</th>\n",
       "      <td>37553832a3a89c9b2db59701c357ca67</td>\n",
       "      <td>7607cd563696c27ede287e515812d528</td>\n",
       "      <td>unavailable</td>\n",
       "      <td>2017-08-14 17:38:02</td>\n",
       "      <td>2017-08-17 00:15:18</td>\n",
       "      <td>NaT</td>\n",
       "      <td>NaT</td>\n",
       "      <td>2017-09-05</td>\n",
       "    </tr>\n",
       "    <tr>\n",
       "      <th>737</th>\n",
       "      <td>d57e15fb07fd180f06ab3926b39edcd2</td>\n",
       "      <td>470b93b3f1cde85550fc74cd3a476c78</td>\n",
       "      <td>unavailable</td>\n",
       "      <td>2018-01-08 19:39:03</td>\n",
       "      <td>2018-01-09 07:26:08</td>\n",
       "      <td>NaT</td>\n",
       "      <td>NaT</td>\n",
       "      <td>2018-02-06</td>\n",
       "    </tr>\n",
       "    <tr>\n",
       "      <th>1160</th>\n",
       "      <td>2f634e2cebf8c0283e7ef0989f77d217</td>\n",
       "      <td>7353b0fb8e8d9675e3a704c60ca44ebe</td>\n",
       "      <td>unavailable</td>\n",
       "      <td>2017-09-27 20:55:33</td>\n",
       "      <td>2017-09-28 01:32:50</td>\n",
       "      <td>NaT</td>\n",
       "      <td>NaT</td>\n",
       "      <td>2017-10-27</td>\n",
       "    </tr>\n",
       "  </tbody>\n",
       "</table>\n",
       "</div>"
      ],
      "text/plain": [
       "                              order_id                       customer_id  \\\n",
       "266   8e24261a7e58791d10cb1bf9da94df5c  64a254d30eed42cd0e6c36dddb88adf0   \n",
       "586   c272bcd21c287498b4883c7512019702  9582c5bbecc65eb568e2c1d839b5cba1   \n",
       "687   37553832a3a89c9b2db59701c357ca67  7607cd563696c27ede287e515812d528   \n",
       "737   d57e15fb07fd180f06ab3926b39edcd2  470b93b3f1cde85550fc74cd3a476c78   \n",
       "1160  2f634e2cebf8c0283e7ef0989f77d217  7353b0fb8e8d9675e3a704c60ca44ebe   \n",
       "\n",
       "     order_status order_purchase_timestamp   order_approved_at  \\\n",
       "266   unavailable      2017-11-16 15:09:28 2017-11-16 15:26:57   \n",
       "586   unavailable      2018-01-31 11:31:37 2018-01-31 14:23:50   \n",
       "687   unavailable      2017-08-14 17:38:02 2017-08-17 00:15:18   \n",
       "737   unavailable      2018-01-08 19:39:03 2018-01-09 07:26:08   \n",
       "1160  unavailable      2017-09-27 20:55:33 2017-09-28 01:32:50   \n",
       "\n",
       "     order_delivered_carrier_date order_delivered_customer_date  \\\n",
       "266                           NaT                           NaT   \n",
       "586                           NaT                           NaT   \n",
       "687                           NaT                           NaT   \n",
       "737                           NaT                           NaT   \n",
       "1160                          NaT                           NaT   \n",
       "\n",
       "     order_estimated_delivery_date  \n",
       "266                     2017-12-05  \n",
       "586                     2018-02-16  \n",
       "687                     2017-09-05  \n",
       "737                     2018-02-06  \n",
       "1160                    2017-10-27  "
      ]
     },
     "execution_count": 1013,
     "metadata": {},
     "output_type": "execute_result"
    }
   ],
   "source": [
    "df_orders.query(\"order_status == 'unavailable'\").head()"
   ]
  },
  {
   "cell_type": "code",
   "execution_count": 1014,
   "id": "83f01995",
   "metadata": {},
   "outputs": [
    {
     "data": {
      "text/plain": [
       "(609, 8)"
      ]
     },
     "execution_count": 1014,
     "metadata": {},
     "output_type": "execute_result"
    }
   ],
   "source": [
    "df_orders.query(\"order_status == 'unavailable'\").shape # количество строк = количество заказов с данным статусом"
   ]
  },
  {
   "cell_type": "code",
   "execution_count": 1015,
   "id": "66c289f5",
   "metadata": {},
   "outputs": [
    {
     "data": {
      "text/plain": [
       "order_id                           0\n",
       "customer_id                        0\n",
       "order_status                       0\n",
       "order_purchase_timestamp           0\n",
       "order_approved_at                  0\n",
       "order_delivered_carrier_date     609\n",
       "order_delivered_customer_date    609\n",
       "order_estimated_delivery_date      0\n",
       "dtype: int64"
      ]
     },
     "execution_count": 1015,
     "metadata": {},
     "output_type": "execute_result"
    }
   ],
   "source": [
    "df_orders.query(\"order_status == 'unavailable'\").isna().sum()"
   ]
  },
  {
   "cell_type": "code",
   "execution_count": 1016,
   "id": "db35a5d8",
   "metadata": {},
   "outputs": [
    {
     "data": {
      "text/plain": [
       "609"
      ]
     },
     "execution_count": 1016,
     "metadata": {},
     "output_type": "execute_result"
    }
   ],
   "source": [
    "(df_orders.query(\"order_status == 'unavailable'\").loc[df_orders.order_delivered_carrier_date.isna()].order_id == \n",
    " df_orders.query(\"order_status == 'unavailable'\").loc[df_orders.order_delivered_customer_date.isna()].order_id).sum()"
   ]
  },
  {
   "cell_type": "markdown",
   "id": "3cbc9dab",
   "metadata": {},
   "source": [
    "Всего 609 заказов со статусом unavailable. У данных заказов, как и у заказов со статусами approved, invoiced и processing, колонки order_delivered_carrier_date, order_delivered_customer_date не заполнены. Значит, оплата данных заказов подтверждена, но они не были переданы в логистическую службу и не были доставлены до пользователя."
   ]
  },
  {
   "cell_type": "markdown",
   "id": "caeca5e5",
   "metadata": {},
   "source": [
    "Проверим наличие заказов со статусом unavailable в таблице df_items (таблица с товарными позициями, входящими в заказы)"
   ]
  },
  {
   "cell_type": "code",
   "execution_count": 1017,
   "id": "8f23d965",
   "metadata": {},
   "outputs": [
    {
     "data": {
      "text/plain": [
       "True"
      ]
     },
     "execution_count": 1017,
     "metadata": {},
     "output_type": "execute_result"
    }
   ],
   "source": [
    "df_items['order_id'].isin(df_orders.query(\"order_status == 'unavailable'\").order_id).any()"
   ]
  },
  {
   "cell_type": "code",
   "execution_count": 1018,
   "id": "3ea783f2",
   "metadata": {},
   "outputs": [
    {
     "data": {
      "text/html": [
       "<div>\n",
       "<style scoped>\n",
       "    .dataframe tbody tr th:only-of-type {\n",
       "        vertical-align: middle;\n",
       "    }\n",
       "\n",
       "    .dataframe tbody tr th {\n",
       "        vertical-align: top;\n",
       "    }\n",
       "\n",
       "    .dataframe thead th {\n",
       "        text-align: right;\n",
       "    }\n",
       "</style>\n",
       "<table border=\"1\" class=\"dataframe\">\n",
       "  <thead>\n",
       "    <tr style=\"text-align: right;\">\n",
       "      <th></th>\n",
       "      <th>order_id</th>\n",
       "      <th>order_item_id</th>\n",
       "      <th>product_id</th>\n",
       "      <th>seller_id</th>\n",
       "      <th>shipping_limit_date</th>\n",
       "      <th>price</th>\n",
       "      <th>freight_value</th>\n",
       "    </tr>\n",
       "  </thead>\n",
       "  <tbody>\n",
       "    <tr>\n",
       "      <th>11558</th>\n",
       "      <td>1a47da1d66c70489c8e35fe2b5433ab7</td>\n",
       "      <td>1</td>\n",
       "      <td>eba7488e1c67729f045ab43fac426f2e</td>\n",
       "      <td>620c87c171fb2a6dd6e8bb4dec959fc6</td>\n",
       "      <td>2016-10-11 18:53:48</td>\n",
       "      <td>249.90</td>\n",
       "      <td>20.85</td>\n",
       "    </tr>\n",
       "    <tr>\n",
       "      <th>20902</th>\n",
       "      <td>2fd1c83dd4714cf3cf796fffb6c8de62</td>\n",
       "      <td>1</td>\n",
       "      <td>17c7ec33a1657924ad493e6978b4bf91</td>\n",
       "      <td>3d01d1c414c44b5943a09619ff3853cb</td>\n",
       "      <td>2016-10-10 15:55:42</td>\n",
       "      <td>99.00</td>\n",
       "      <td>9.12</td>\n",
       "    </tr>\n",
       "    <tr>\n",
       "      <th>20903</th>\n",
       "      <td>2fd1c83dd4714cf3cf796fffb6c8de62</td>\n",
       "      <td>2</td>\n",
       "      <td>966a067b38634929844120e39b1576bc</td>\n",
       "      <td>61f159ef6da2d441951d2c0efa719362</td>\n",
       "      <td>2016-10-10 15:55:41</td>\n",
       "      <td>59.99</td>\n",
       "      <td>24.08</td>\n",
       "    </tr>\n",
       "    <tr>\n",
       "      <th>26470</th>\n",
       "      <td>3c3ca08854ca922fe8e9cedfd6841c8a</td>\n",
       "      <td>1</td>\n",
       "      <td>ac6c24af9f913c9375a3ea77883bda6e</td>\n",
       "      <td>5206cc4bc2297c833e6061c49bf9c43f</td>\n",
       "      <td>2016-10-12 13:21:35</td>\n",
       "      <td>35.00</td>\n",
       "      <td>10.96</td>\n",
       "    </tr>\n",
       "    <tr>\n",
       "      <th>34411</th>\n",
       "      <td>4dd47e84e6b8ff4a63d0b8425e6d788e</td>\n",
       "      <td>1</td>\n",
       "      <td>2aa489c905e1d41d8c716a6d6912d8c2</td>\n",
       "      <td>620c87c171fb2a6dd6e8bb4dec959fc6</td>\n",
       "      <td>2016-10-11 01:09:09</td>\n",
       "      <td>299.90</td>\n",
       "      <td>13.68</td>\n",
       "    </tr>\n",
       "  </tbody>\n",
       "</table>\n",
       "</div>"
      ],
      "text/plain": [
       "                               order_id  order_item_id  \\\n",
       "11558  1a47da1d66c70489c8e35fe2b5433ab7              1   \n",
       "20902  2fd1c83dd4714cf3cf796fffb6c8de62              1   \n",
       "20903  2fd1c83dd4714cf3cf796fffb6c8de62              2   \n",
       "26470  3c3ca08854ca922fe8e9cedfd6841c8a              1   \n",
       "34411  4dd47e84e6b8ff4a63d0b8425e6d788e              1   \n",
       "\n",
       "                             product_id                         seller_id  \\\n",
       "11558  eba7488e1c67729f045ab43fac426f2e  620c87c171fb2a6dd6e8bb4dec959fc6   \n",
       "20902  17c7ec33a1657924ad493e6978b4bf91  3d01d1c414c44b5943a09619ff3853cb   \n",
       "20903  966a067b38634929844120e39b1576bc  61f159ef6da2d441951d2c0efa719362   \n",
       "26470  ac6c24af9f913c9375a3ea77883bda6e  5206cc4bc2297c833e6061c49bf9c43f   \n",
       "34411  2aa489c905e1d41d8c716a6d6912d8c2  620c87c171fb2a6dd6e8bb4dec959fc6   \n",
       "\n",
       "      shipping_limit_date   price  freight_value  \n",
       "11558 2016-10-11 18:53:48  249.90          20.85  \n",
       "20902 2016-10-10 15:55:42   99.00           9.12  \n",
       "20903 2016-10-10 15:55:41   59.99          24.08  \n",
       "26470 2016-10-12 13:21:35   35.00          10.96  \n",
       "34411 2016-10-11 01:09:09  299.90          13.68  "
      ]
     },
     "execution_count": 1018,
     "metadata": {},
     "output_type": "execute_result"
    }
   ],
   "source": [
    "df_items.loc[df_items['order_id'].isin(df_orders.query(\"order_status == 'unavailable'\").order_id)].head()"
   ]
  },
  {
   "cell_type": "code",
   "execution_count": 1019,
   "id": "c072cf37",
   "metadata": {},
   "outputs": [
    {
     "data": {
      "text/plain": [
       "6"
      ]
     },
     "execution_count": 1019,
     "metadata": {},
     "output_type": "execute_result"
    }
   ],
   "source": [
    "df_items.loc[df_items['order_id'].isin(df_orders.query(\"order_status == 'unavailable'\").order_id)].order_id.nunique()"
   ]
  },
  {
   "cell_type": "markdown",
   "id": "414f25e9",
   "metadata": {},
   "source": [
    "Видим, что среди всех 609 заказов со статусом unavailable лишь 6 заказов находятся в таблице df_items. <br> Рассмотрим данные заказы."
   ]
  },
  {
   "cell_type": "markdown",
   "id": "c108af1b",
   "metadata": {},
   "source": [
    "Найдём данные заказы в таблице df_orders и отсортируем по времени подтверждения оплаты заказа."
   ]
  },
  {
   "cell_type": "code",
   "execution_count": 1020,
   "id": "523e4766",
   "metadata": {},
   "outputs": [
    {
     "data": {
      "text/html": [
       "<div>\n",
       "<style scoped>\n",
       "    .dataframe tbody tr th:only-of-type {\n",
       "        vertical-align: middle;\n",
       "    }\n",
       "\n",
       "    .dataframe tbody tr th {\n",
       "        vertical-align: top;\n",
       "    }\n",
       "\n",
       "    .dataframe thead th {\n",
       "        text-align: right;\n",
       "    }\n",
       "</style>\n",
       "<table border=\"1\" class=\"dataframe\">\n",
       "  <thead>\n",
       "    <tr style=\"text-align: right;\">\n",
       "      <th></th>\n",
       "      <th>order_id</th>\n",
       "      <th>customer_id</th>\n",
       "      <th>order_status</th>\n",
       "      <th>order_purchase_timestamp</th>\n",
       "      <th>order_approved_at</th>\n",
       "      <th>order_delivered_carrier_date</th>\n",
       "      <th>order_delivered_customer_date</th>\n",
       "      <th>order_estimated_delivery_date</th>\n",
       "    </tr>\n",
       "  </thead>\n",
       "  <tbody>\n",
       "    <tr>\n",
       "      <th>62504</th>\n",
       "      <td>54bb06e1ca86bd99ee2a8d6288bf4ede</td>\n",
       "      <td>98bfbf477ed9f40a0264f5e527a446be</td>\n",
       "      <td>unavailable</td>\n",
       "      <td>2016-10-06 13:38:39</td>\n",
       "      <td>2016-10-06 14:22:19</td>\n",
       "      <td>NaT</td>\n",
       "      <td>NaT</td>\n",
       "      <td>2016-12-12</td>\n",
       "    </tr>\n",
       "    <tr>\n",
       "      <th>83645</th>\n",
       "      <td>2fd1c83dd4714cf3cf796fffb6c8de62</td>\n",
       "      <td>7f51c513004ef3f35e834c142f286778</td>\n",
       "      <td>unavailable</td>\n",
       "      <td>2016-10-05 17:21:29</td>\n",
       "      <td>2016-10-06 15:55:40</td>\n",
       "      <td>NaT</td>\n",
       "      <td>NaT</td>\n",
       "      <td>2016-11-29</td>\n",
       "    </tr>\n",
       "    <tr>\n",
       "      <th>33157</th>\n",
       "      <td>dc18a044b56ed174037ca164cdf2e921</td>\n",
       "      <td>4a06381959b6670756de02e07b83815f</td>\n",
       "      <td>unavailable</td>\n",
       "      <td>2016-10-05 14:16:28</td>\n",
       "      <td>2016-10-06 15:56:49</td>\n",
       "      <td>NaT</td>\n",
       "      <td>NaT</td>\n",
       "      <td>2016-11-29</td>\n",
       "    </tr>\n",
       "    <tr>\n",
       "      <th>50731</th>\n",
       "      <td>4dd47e84e6b8ff4a63d0b8425e6d788e</td>\n",
       "      <td>96bbcbc8372c86da857d842dfda6bd72</td>\n",
       "      <td>unavailable</td>\n",
       "      <td>2016-10-06 23:49:18</td>\n",
       "      <td>2016-10-07 01:09:08</td>\n",
       "      <td>NaT</td>\n",
       "      <td>NaT</td>\n",
       "      <td>2016-11-24</td>\n",
       "    </tr>\n",
       "    <tr>\n",
       "      <th>79275</th>\n",
       "      <td>1a47da1d66c70489c8e35fe2b5433ab7</td>\n",
       "      <td>3d8e326c3cef3a9bba7ca121baac5fc3</td>\n",
       "      <td>unavailable</td>\n",
       "      <td>2016-10-07 18:16:31</td>\n",
       "      <td>2016-10-07 18:53:48</td>\n",
       "      <td>NaT</td>\n",
       "      <td>NaT</td>\n",
       "      <td>2016-12-07</td>\n",
       "    </tr>\n",
       "    <tr>\n",
       "      <th>60805</th>\n",
       "      <td>3c3ca08854ca922fe8e9cedfd6841c8a</td>\n",
       "      <td>88c36fbd3df96094f90f0315e1d2dd90</td>\n",
       "      <td>unavailable</td>\n",
       "      <td>2016-10-08 12:13:38</td>\n",
       "      <td>2016-10-08 13:21:35</td>\n",
       "      <td>NaT</td>\n",
       "      <td>NaT</td>\n",
       "      <td>2016-11-30</td>\n",
       "    </tr>\n",
       "  </tbody>\n",
       "</table>\n",
       "</div>"
      ],
      "text/plain": [
       "                               order_id                       customer_id  \\\n",
       "62504  54bb06e1ca86bd99ee2a8d6288bf4ede  98bfbf477ed9f40a0264f5e527a446be   \n",
       "83645  2fd1c83dd4714cf3cf796fffb6c8de62  7f51c513004ef3f35e834c142f286778   \n",
       "33157  dc18a044b56ed174037ca164cdf2e921  4a06381959b6670756de02e07b83815f   \n",
       "50731  4dd47e84e6b8ff4a63d0b8425e6d788e  96bbcbc8372c86da857d842dfda6bd72   \n",
       "79275  1a47da1d66c70489c8e35fe2b5433ab7  3d8e326c3cef3a9bba7ca121baac5fc3   \n",
       "60805  3c3ca08854ca922fe8e9cedfd6841c8a  88c36fbd3df96094f90f0315e1d2dd90   \n",
       "\n",
       "      order_status order_purchase_timestamp   order_approved_at  \\\n",
       "62504  unavailable      2016-10-06 13:38:39 2016-10-06 14:22:19   \n",
       "83645  unavailable      2016-10-05 17:21:29 2016-10-06 15:55:40   \n",
       "33157  unavailable      2016-10-05 14:16:28 2016-10-06 15:56:49   \n",
       "50731  unavailable      2016-10-06 23:49:18 2016-10-07 01:09:08   \n",
       "79275  unavailable      2016-10-07 18:16:31 2016-10-07 18:53:48   \n",
       "60805  unavailable      2016-10-08 12:13:38 2016-10-08 13:21:35   \n",
       "\n",
       "      order_delivered_carrier_date order_delivered_customer_date  \\\n",
       "62504                          NaT                           NaT   \n",
       "83645                          NaT                           NaT   \n",
       "33157                          NaT                           NaT   \n",
       "50731                          NaT                           NaT   \n",
       "79275                          NaT                           NaT   \n",
       "60805                          NaT                           NaT   \n",
       "\n",
       "      order_estimated_delivery_date  \n",
       "62504                    2016-12-12  \n",
       "83645                    2016-11-29  \n",
       "33157                    2016-11-29  \n",
       "50731                    2016-11-24  \n",
       "79275                    2016-12-07  \n",
       "60805                    2016-11-30  "
      ]
     },
     "execution_count": 1020,
     "metadata": {},
     "output_type": "execute_result"
    }
   ],
   "source": [
    "(df_orders\n",
    " .query(\"order_status == 'unavailable'\")\n",
    " .loc[df_orders['order_id'].isin(df_items['order_id'])]\n",
    " .sort_values('order_approved_at'))"
   ]
  },
  {
   "cell_type": "markdown",
   "id": "e81868da",
   "metadata": {},
   "source": [
    "Теперь отсортируем таблицу df_orders по времени подтверждения оплаты заказа при условии, что статус заказа unavailable. Сравним полученный результат с результатом предыдущего запроса."
   ]
  },
  {
   "cell_type": "code",
   "execution_count": 1021,
   "id": "c751c44e",
   "metadata": {},
   "outputs": [
    {
     "data": {
      "text/html": [
       "<div>\n",
       "<style scoped>\n",
       "    .dataframe tbody tr th:only-of-type {\n",
       "        vertical-align: middle;\n",
       "    }\n",
       "\n",
       "    .dataframe tbody tr th {\n",
       "        vertical-align: top;\n",
       "    }\n",
       "\n",
       "    .dataframe thead th {\n",
       "        text-align: right;\n",
       "    }\n",
       "</style>\n",
       "<table border=\"1\" class=\"dataframe\">\n",
       "  <thead>\n",
       "    <tr style=\"text-align: right;\">\n",
       "      <th></th>\n",
       "      <th>order_id</th>\n",
       "      <th>customer_id</th>\n",
       "      <th>order_status</th>\n",
       "      <th>order_purchase_timestamp</th>\n",
       "      <th>order_approved_at</th>\n",
       "      <th>order_delivered_carrier_date</th>\n",
       "      <th>order_delivered_customer_date</th>\n",
       "      <th>order_estimated_delivery_date</th>\n",
       "    </tr>\n",
       "  </thead>\n",
       "  <tbody>\n",
       "    <tr>\n",
       "      <th>62504</th>\n",
       "      <td>54bb06e1ca86bd99ee2a8d6288bf4ede</td>\n",
       "      <td>98bfbf477ed9f40a0264f5e527a446be</td>\n",
       "      <td>unavailable</td>\n",
       "      <td>2016-10-06 13:38:39</td>\n",
       "      <td>2016-10-06 14:22:19</td>\n",
       "      <td>NaT</td>\n",
       "      <td>NaT</td>\n",
       "      <td>2016-12-12</td>\n",
       "    </tr>\n",
       "    <tr>\n",
       "      <th>83645</th>\n",
       "      <td>2fd1c83dd4714cf3cf796fffb6c8de62</td>\n",
       "      <td>7f51c513004ef3f35e834c142f286778</td>\n",
       "      <td>unavailable</td>\n",
       "      <td>2016-10-05 17:21:29</td>\n",
       "      <td>2016-10-06 15:55:40</td>\n",
       "      <td>NaT</td>\n",
       "      <td>NaT</td>\n",
       "      <td>2016-11-29</td>\n",
       "    </tr>\n",
       "    <tr>\n",
       "      <th>33157</th>\n",
       "      <td>dc18a044b56ed174037ca164cdf2e921</td>\n",
       "      <td>4a06381959b6670756de02e07b83815f</td>\n",
       "      <td>unavailable</td>\n",
       "      <td>2016-10-05 14:16:28</td>\n",
       "      <td>2016-10-06 15:56:49</td>\n",
       "      <td>NaT</td>\n",
       "      <td>NaT</td>\n",
       "      <td>2016-11-29</td>\n",
       "    </tr>\n",
       "    <tr>\n",
       "      <th>50731</th>\n",
       "      <td>4dd47e84e6b8ff4a63d0b8425e6d788e</td>\n",
       "      <td>96bbcbc8372c86da857d842dfda6bd72</td>\n",
       "      <td>unavailable</td>\n",
       "      <td>2016-10-06 23:49:18</td>\n",
       "      <td>2016-10-07 01:09:08</td>\n",
       "      <td>NaT</td>\n",
       "      <td>NaT</td>\n",
       "      <td>2016-11-24</td>\n",
       "    </tr>\n",
       "    <tr>\n",
       "      <th>79275</th>\n",
       "      <td>1a47da1d66c70489c8e35fe2b5433ab7</td>\n",
       "      <td>3d8e326c3cef3a9bba7ca121baac5fc3</td>\n",
       "      <td>unavailable</td>\n",
       "      <td>2016-10-07 18:16:31</td>\n",
       "      <td>2016-10-07 18:53:48</td>\n",
       "      <td>NaT</td>\n",
       "      <td>NaT</td>\n",
       "      <td>2016-12-07</td>\n",
       "    </tr>\n",
       "    <tr>\n",
       "      <th>60805</th>\n",
       "      <td>3c3ca08854ca922fe8e9cedfd6841c8a</td>\n",
       "      <td>88c36fbd3df96094f90f0315e1d2dd90</td>\n",
       "      <td>unavailable</td>\n",
       "      <td>2016-10-08 12:13:38</td>\n",
       "      <td>2016-10-08 13:21:35</td>\n",
       "      <td>NaT</td>\n",
       "      <td>NaT</td>\n",
       "      <td>2016-11-30</td>\n",
       "    </tr>\n",
       "    <tr>\n",
       "      <th>16534</th>\n",
       "      <td>0cafd6a7576a6aae0f891008a87f1546</td>\n",
       "      <td>c758396a502648cb2e77ef06e0807a00</td>\n",
       "      <td>unavailable</td>\n",
       "      <td>2017-01-20 10:31:53</td>\n",
       "      <td>2017-01-20 10:45:12</td>\n",
       "      <td>NaT</td>\n",
       "      <td>NaT</td>\n",
       "      <td>2017-02-22</td>\n",
       "    </tr>\n",
       "    <tr>\n",
       "      <th>94995</th>\n",
       "      <td>2867faaa7a912bbc2bf8d8e40d7a0354</td>\n",
       "      <td>c7da870eb04374fc25d71501117ab5f6</td>\n",
       "      <td>unavailable</td>\n",
       "      <td>2017-01-22 20:43:58</td>\n",
       "      <td>2017-01-22 20:55:10</td>\n",
       "      <td>NaT</td>\n",
       "      <td>NaT</td>\n",
       "      <td>2017-03-02</td>\n",
       "    </tr>\n",
       "    <tr>\n",
       "      <th>84666</th>\n",
       "      <td>d8a40a1358d3b2dca231abdaa566b054</td>\n",
       "      <td>83913bf92fd18aeb5d5763e3bc298d26</td>\n",
       "      <td>unavailable</td>\n",
       "      <td>2017-01-25 01:20:19</td>\n",
       "      <td>2017-01-26 01:25:07</td>\n",
       "      <td>NaT</td>\n",
       "      <td>NaT</td>\n",
       "      <td>2017-03-16</td>\n",
       "    </tr>\n",
       "    <tr>\n",
       "      <th>36771</th>\n",
       "      <td>dceb6ab566e0d15ffaba53ef637afa3c</td>\n",
       "      <td>c357638ad6b3773047a316462e992235</td>\n",
       "      <td>unavailable</td>\n",
       "      <td>2017-01-26 16:51:32</td>\n",
       "      <td>2017-01-27 06:55:25</td>\n",
       "      <td>NaT</td>\n",
       "      <td>NaT</td>\n",
       "      <td>2017-02-21</td>\n",
       "    </tr>\n",
       "  </tbody>\n",
       "</table>\n",
       "</div>"
      ],
      "text/plain": [
       "                               order_id                       customer_id  \\\n",
       "62504  54bb06e1ca86bd99ee2a8d6288bf4ede  98bfbf477ed9f40a0264f5e527a446be   \n",
       "83645  2fd1c83dd4714cf3cf796fffb6c8de62  7f51c513004ef3f35e834c142f286778   \n",
       "33157  dc18a044b56ed174037ca164cdf2e921  4a06381959b6670756de02e07b83815f   \n",
       "50731  4dd47e84e6b8ff4a63d0b8425e6d788e  96bbcbc8372c86da857d842dfda6bd72   \n",
       "79275  1a47da1d66c70489c8e35fe2b5433ab7  3d8e326c3cef3a9bba7ca121baac5fc3   \n",
       "60805  3c3ca08854ca922fe8e9cedfd6841c8a  88c36fbd3df96094f90f0315e1d2dd90   \n",
       "16534  0cafd6a7576a6aae0f891008a87f1546  c758396a502648cb2e77ef06e0807a00   \n",
       "94995  2867faaa7a912bbc2bf8d8e40d7a0354  c7da870eb04374fc25d71501117ab5f6   \n",
       "84666  d8a40a1358d3b2dca231abdaa566b054  83913bf92fd18aeb5d5763e3bc298d26   \n",
       "36771  dceb6ab566e0d15ffaba53ef637afa3c  c357638ad6b3773047a316462e992235   \n",
       "\n",
       "      order_status order_purchase_timestamp   order_approved_at  \\\n",
       "62504  unavailable      2016-10-06 13:38:39 2016-10-06 14:22:19   \n",
       "83645  unavailable      2016-10-05 17:21:29 2016-10-06 15:55:40   \n",
       "33157  unavailable      2016-10-05 14:16:28 2016-10-06 15:56:49   \n",
       "50731  unavailable      2016-10-06 23:49:18 2016-10-07 01:09:08   \n",
       "79275  unavailable      2016-10-07 18:16:31 2016-10-07 18:53:48   \n",
       "60805  unavailable      2016-10-08 12:13:38 2016-10-08 13:21:35   \n",
       "16534  unavailable      2017-01-20 10:31:53 2017-01-20 10:45:12   \n",
       "94995  unavailable      2017-01-22 20:43:58 2017-01-22 20:55:10   \n",
       "84666  unavailable      2017-01-25 01:20:19 2017-01-26 01:25:07   \n",
       "36771  unavailable      2017-01-26 16:51:32 2017-01-27 06:55:25   \n",
       "\n",
       "      order_delivered_carrier_date order_delivered_customer_date  \\\n",
       "62504                          NaT                           NaT   \n",
       "83645                          NaT                           NaT   \n",
       "33157                          NaT                           NaT   \n",
       "50731                          NaT                           NaT   \n",
       "79275                          NaT                           NaT   \n",
       "60805                          NaT                           NaT   \n",
       "16534                          NaT                           NaT   \n",
       "94995                          NaT                           NaT   \n",
       "84666                          NaT                           NaT   \n",
       "36771                          NaT                           NaT   \n",
       "\n",
       "      order_estimated_delivery_date  \n",
       "62504                    2016-12-12  \n",
       "83645                    2016-11-29  \n",
       "33157                    2016-11-29  \n",
       "50731                    2016-11-24  \n",
       "79275                    2016-12-07  \n",
       "60805                    2016-11-30  \n",
       "16534                    2017-02-22  \n",
       "94995                    2017-03-02  \n",
       "84666                    2017-03-16  \n",
       "36771                    2017-02-21  "
      ]
     },
     "execution_count": 1021,
     "metadata": {},
     "output_type": "execute_result"
    }
   ],
   "source": [
    "df_orders.query(\"order_status == 'unavailable'\").sort_values('order_approved_at').head(10)"
   ]
  },
  {
   "cell_type": "markdown",
   "id": "35bdd60c",
   "metadata": {},
   "source": [
    "Видим, что среди всех заказов со статусом unavailable рассмотренные 6 заказов являются самыми старыми относительно времени подтверждения оплаты заказа (order_approved_at). Только у данных заказов оплата была подтверждена в 2016 году."
   ]
  },
  {
   "cell_type": "markdown",
   "id": "0986ad9b",
   "metadata": {},
   "source": [
    "### Заказы со статусом canceled"
   ]
  },
  {
   "cell_type": "code",
   "execution_count": 1022,
   "id": "c34c370e",
   "metadata": {},
   "outputs": [
    {
     "data": {
      "text/html": [
       "<div>\n",
       "<style scoped>\n",
       "    .dataframe tbody tr th:only-of-type {\n",
       "        vertical-align: middle;\n",
       "    }\n",
       "\n",
       "    .dataframe tbody tr th {\n",
       "        vertical-align: top;\n",
       "    }\n",
       "\n",
       "    .dataframe thead th {\n",
       "        text-align: right;\n",
       "    }\n",
       "</style>\n",
       "<table border=\"1\" class=\"dataframe\">\n",
       "  <thead>\n",
       "    <tr style=\"text-align: right;\">\n",
       "      <th></th>\n",
       "      <th>order_id</th>\n",
       "      <th>customer_id</th>\n",
       "      <th>order_status</th>\n",
       "      <th>order_purchase_timestamp</th>\n",
       "      <th>order_approved_at</th>\n",
       "      <th>order_delivered_carrier_date</th>\n",
       "      <th>order_delivered_customer_date</th>\n",
       "      <th>order_estimated_delivery_date</th>\n",
       "    </tr>\n",
       "  </thead>\n",
       "  <tbody>\n",
       "    <tr>\n",
       "      <th>397</th>\n",
       "      <td>1b9ecfe83cdc259250e1a8aca174f0ad</td>\n",
       "      <td>6d6b50b66d79f80827b6d96751528d30</td>\n",
       "      <td>canceled</td>\n",
       "      <td>2018-08-04 14:29:27</td>\n",
       "      <td>2018-08-07 04:10:26</td>\n",
       "      <td>NaT</td>\n",
       "      <td>NaT</td>\n",
       "      <td>2018-08-14</td>\n",
       "    </tr>\n",
       "    <tr>\n",
       "      <th>613</th>\n",
       "      <td>714fb133a6730ab81fa1d3c1b2007291</td>\n",
       "      <td>e3fe72696c4713d64d3c10afe71e75ed</td>\n",
       "      <td>canceled</td>\n",
       "      <td>2018-01-26 21:34:08</td>\n",
       "      <td>2018-01-26 21:58:39</td>\n",
       "      <td>2018-01-29 22:33:25</td>\n",
       "      <td>NaT</td>\n",
       "      <td>2018-02-22</td>\n",
       "    </tr>\n",
       "    <tr>\n",
       "      <th>1058</th>\n",
       "      <td>3a129877493c8189c59c60eb71d97c29</td>\n",
       "      <td>0913cdce793684e52bbfac69d87e91fd</td>\n",
       "      <td>canceled</td>\n",
       "      <td>2018-01-25 13:34:24</td>\n",
       "      <td>2018-01-25 13:50:20</td>\n",
       "      <td>2018-01-26 21:42:18</td>\n",
       "      <td>NaT</td>\n",
       "      <td>2018-02-23</td>\n",
       "    </tr>\n",
       "    <tr>\n",
       "      <th>1130</th>\n",
       "      <td>00b1cb0320190ca0daa2c88b35206009</td>\n",
       "      <td>3532ba38a3fd242259a514ac2b6ae6b6</td>\n",
       "      <td>canceled</td>\n",
       "      <td>2018-08-28 15:26:39</td>\n",
       "      <td>NaT</td>\n",
       "      <td>NaT</td>\n",
       "      <td>NaT</td>\n",
       "      <td>2018-09-12</td>\n",
       "    </tr>\n",
       "    <tr>\n",
       "      <th>1801</th>\n",
       "      <td>ed3efbd3a87bea76c2812c66a0b32219</td>\n",
       "      <td>191984a8ba4cbb2145acb4fe35b69664</td>\n",
       "      <td>canceled</td>\n",
       "      <td>2018-09-20 13:54:16</td>\n",
       "      <td>NaT</td>\n",
       "      <td>NaT</td>\n",
       "      <td>NaT</td>\n",
       "      <td>2018-10-17</td>\n",
       "    </tr>\n",
       "  </tbody>\n",
       "</table>\n",
       "</div>"
      ],
      "text/plain": [
       "                              order_id                       customer_id  \\\n",
       "397   1b9ecfe83cdc259250e1a8aca174f0ad  6d6b50b66d79f80827b6d96751528d30   \n",
       "613   714fb133a6730ab81fa1d3c1b2007291  e3fe72696c4713d64d3c10afe71e75ed   \n",
       "1058  3a129877493c8189c59c60eb71d97c29  0913cdce793684e52bbfac69d87e91fd   \n",
       "1130  00b1cb0320190ca0daa2c88b35206009  3532ba38a3fd242259a514ac2b6ae6b6   \n",
       "1801  ed3efbd3a87bea76c2812c66a0b32219  191984a8ba4cbb2145acb4fe35b69664   \n",
       "\n",
       "     order_status order_purchase_timestamp   order_approved_at  \\\n",
       "397      canceled      2018-08-04 14:29:27 2018-08-07 04:10:26   \n",
       "613      canceled      2018-01-26 21:34:08 2018-01-26 21:58:39   \n",
       "1058     canceled      2018-01-25 13:34:24 2018-01-25 13:50:20   \n",
       "1130     canceled      2018-08-28 15:26:39                 NaT   \n",
       "1801     canceled      2018-09-20 13:54:16                 NaT   \n",
       "\n",
       "     order_delivered_carrier_date order_delivered_customer_date  \\\n",
       "397                           NaT                           NaT   \n",
       "613           2018-01-29 22:33:25                           NaT   \n",
       "1058          2018-01-26 21:42:18                           NaT   \n",
       "1130                          NaT                           NaT   \n",
       "1801                          NaT                           NaT   \n",
       "\n",
       "     order_estimated_delivery_date  \n",
       "397                     2018-08-14  \n",
       "613                     2018-02-22  \n",
       "1058                    2018-02-23  \n",
       "1130                    2018-09-12  \n",
       "1801                    2018-10-17  "
      ]
     },
     "execution_count": 1022,
     "metadata": {},
     "output_type": "execute_result"
    }
   ],
   "source": [
    "df_orders.query(\"order_status == 'canceled'\").head()"
   ]
  },
  {
   "cell_type": "code",
   "execution_count": 1023,
   "id": "0b394c1a",
   "metadata": {},
   "outputs": [
    {
     "data": {
      "text/plain": [
       "(625, 8)"
      ]
     },
     "execution_count": 1023,
     "metadata": {},
     "output_type": "execute_result"
    }
   ],
   "source": [
    "df_orders.query(\"order_status == 'canceled'\").shape # количество строк = количество заказов с данным статусом"
   ]
  },
  {
   "cell_type": "code",
   "execution_count": 1024,
   "id": "71843e08",
   "metadata": {},
   "outputs": [
    {
     "data": {
      "text/plain": [
       "order_id                           0\n",
       "customer_id                        0\n",
       "order_status                       0\n",
       "order_purchase_timestamp           0\n",
       "order_approved_at                141\n",
       "order_delivered_carrier_date     550\n",
       "order_delivered_customer_date    619\n",
       "order_estimated_delivery_date      0\n",
       "dtype: int64"
      ]
     },
     "execution_count": 1024,
     "metadata": {},
     "output_type": "execute_result"
    }
   ],
   "source": [
    "df_orders.query(\"order_status == 'canceled'\").isna().sum()"
   ]
  },
  {
   "cell_type": "markdown",
   "id": "668220d1",
   "metadata": {},
   "source": [
    "Всего 625 заказов со статусом canceled. У 141 заказа пропущены значения в колонке order_approved_at, у 550 заказов пропущены значения в колонке order_delivered_carrier_date и у 619 заказов пропущены значения в колонке order_delivered_customer_date. <br> Рассмотрим подробнее данные заказы."
   ]
  },
  {
   "cell_type": "markdown",
   "id": "620e451b",
   "metadata": {},
   "source": [
    "<b>Рассмотрим заказы со статусом canceled и пропусками в колонке order_approved_at.<b>"
   ]
  },
  {
   "cell_type": "code",
   "execution_count": 1025,
   "id": "40179183",
   "metadata": {},
   "outputs": [
    {
     "data": {
      "text/html": [
       "<div>\n",
       "<style scoped>\n",
       "    .dataframe tbody tr th:only-of-type {\n",
       "        vertical-align: middle;\n",
       "    }\n",
       "\n",
       "    .dataframe tbody tr th {\n",
       "        vertical-align: top;\n",
       "    }\n",
       "\n",
       "    .dataframe thead th {\n",
       "        text-align: right;\n",
       "    }\n",
       "</style>\n",
       "<table border=\"1\" class=\"dataframe\">\n",
       "  <thead>\n",
       "    <tr style=\"text-align: right;\">\n",
       "      <th></th>\n",
       "      <th>order_id</th>\n",
       "      <th>customer_id</th>\n",
       "      <th>order_status</th>\n",
       "      <th>order_purchase_timestamp</th>\n",
       "      <th>order_approved_at</th>\n",
       "      <th>order_delivered_carrier_date</th>\n",
       "      <th>order_delivered_customer_date</th>\n",
       "      <th>order_estimated_delivery_date</th>\n",
       "    </tr>\n",
       "  </thead>\n",
       "  <tbody>\n",
       "    <tr>\n",
       "      <th>1130</th>\n",
       "      <td>00b1cb0320190ca0daa2c88b35206009</td>\n",
       "      <td>3532ba38a3fd242259a514ac2b6ae6b6</td>\n",
       "      <td>canceled</td>\n",
       "      <td>2018-08-28 15:26:39</td>\n",
       "      <td>NaT</td>\n",
       "      <td>NaT</td>\n",
       "      <td>NaT</td>\n",
       "      <td>2018-09-12</td>\n",
       "    </tr>\n",
       "    <tr>\n",
       "      <th>1801</th>\n",
       "      <td>ed3efbd3a87bea76c2812c66a0b32219</td>\n",
       "      <td>191984a8ba4cbb2145acb4fe35b69664</td>\n",
       "      <td>canceled</td>\n",
       "      <td>2018-09-20 13:54:16</td>\n",
       "      <td>NaT</td>\n",
       "      <td>NaT</td>\n",
       "      <td>NaT</td>\n",
       "      <td>2018-10-17</td>\n",
       "    </tr>\n",
       "    <tr>\n",
       "      <th>1868</th>\n",
       "      <td>df8282afe61008dc26c6c31011474d02</td>\n",
       "      <td>aa797b187b5466bc6925aaaa4bb3bed1</td>\n",
       "      <td>canceled</td>\n",
       "      <td>2017-03-04 12:14:30</td>\n",
       "      <td>NaT</td>\n",
       "      <td>NaT</td>\n",
       "      <td>NaT</td>\n",
       "      <td>2017-04-10</td>\n",
       "    </tr>\n",
       "    <tr>\n",
       "      <th>2029</th>\n",
       "      <td>8d4c637f1accf7a88a4555f02741e606</td>\n",
       "      <td>b1dd715db389a2077f43174e7a675d07</td>\n",
       "      <td>canceled</td>\n",
       "      <td>2018-08-29 16:27:49</td>\n",
       "      <td>NaT</td>\n",
       "      <td>NaT</td>\n",
       "      <td>NaT</td>\n",
       "      <td>2018-09-13</td>\n",
       "    </tr>\n",
       "    <tr>\n",
       "      <th>2161</th>\n",
       "      <td>7a9d4c7f9b068337875b95465330f2fc</td>\n",
       "      <td>7f71ae48074c0cfec9195f88fcbfac55</td>\n",
       "      <td>canceled</td>\n",
       "      <td>2017-05-01 16:12:39</td>\n",
       "      <td>NaT</td>\n",
       "      <td>NaT</td>\n",
       "      <td>NaT</td>\n",
       "      <td>2017-05-30</td>\n",
       "    </tr>\n",
       "  </tbody>\n",
       "</table>\n",
       "</div>"
      ],
      "text/plain": [
       "                              order_id                       customer_id  \\\n",
       "1130  00b1cb0320190ca0daa2c88b35206009  3532ba38a3fd242259a514ac2b6ae6b6   \n",
       "1801  ed3efbd3a87bea76c2812c66a0b32219  191984a8ba4cbb2145acb4fe35b69664   \n",
       "1868  df8282afe61008dc26c6c31011474d02  aa797b187b5466bc6925aaaa4bb3bed1   \n",
       "2029  8d4c637f1accf7a88a4555f02741e606  b1dd715db389a2077f43174e7a675d07   \n",
       "2161  7a9d4c7f9b068337875b95465330f2fc  7f71ae48074c0cfec9195f88fcbfac55   \n",
       "\n",
       "     order_status order_purchase_timestamp order_approved_at  \\\n",
       "1130     canceled      2018-08-28 15:26:39               NaT   \n",
       "1801     canceled      2018-09-20 13:54:16               NaT   \n",
       "1868     canceled      2017-03-04 12:14:30               NaT   \n",
       "2029     canceled      2018-08-29 16:27:49               NaT   \n",
       "2161     canceled      2017-05-01 16:12:39               NaT   \n",
       "\n",
       "     order_delivered_carrier_date order_delivered_customer_date  \\\n",
       "1130                          NaT                           NaT   \n",
       "1801                          NaT                           NaT   \n",
       "1868                          NaT                           NaT   \n",
       "2029                          NaT                           NaT   \n",
       "2161                          NaT                           NaT   \n",
       "\n",
       "     order_estimated_delivery_date  \n",
       "1130                    2018-09-12  \n",
       "1801                    2018-10-17  \n",
       "1868                    2017-04-10  \n",
       "2029                    2018-09-13  \n",
       "2161                    2017-05-30  "
      ]
     },
     "execution_count": 1025,
     "metadata": {},
     "output_type": "execute_result"
    }
   ],
   "source": [
    "df_orders.query(\"order_status == 'canceled'\").loc[df_orders.order_approved_at.isna()].head()"
   ]
  },
  {
   "cell_type": "code",
   "execution_count": 1026,
   "id": "da3e7324",
   "metadata": {},
   "outputs": [
    {
     "data": {
      "text/plain": [
       "(141, 8)"
      ]
     },
     "execution_count": 1026,
     "metadata": {},
     "output_type": "execute_result"
    }
   ],
   "source": [
    "df_orders.query(\"order_status == 'canceled'\").loc[df_orders.order_approved_at.isna()].shape"
   ]
  },
  {
   "cell_type": "code",
   "execution_count": 1027,
   "id": "1efff731",
   "metadata": {},
   "outputs": [
    {
     "data": {
      "text/plain": [
       "order_id                           0\n",
       "customer_id                        0\n",
       "order_status                       0\n",
       "order_purchase_timestamp           0\n",
       "order_approved_at                141\n",
       "order_delivered_carrier_date     141\n",
       "order_delivered_customer_date    141\n",
       "order_estimated_delivery_date      0\n",
       "dtype: int64"
      ]
     },
     "execution_count": 1027,
     "metadata": {},
     "output_type": "execute_result"
    }
   ],
   "source": [
    "df_orders.query(\"order_status == 'canceled'\").loc[df_orders.order_approved_at.isna()].isna().sum()"
   ]
  },
  {
   "cell_type": "markdown",
   "id": "3e9e216c",
   "metadata": {},
   "source": [
    "Видим, что из всех заказов со статусом canceled у 141 заказа пропущены значения в колонках order_approved_at, order_delivered_carrier_date и order_delivered_customer_date. Проверим наличие данных заказов в таблице df_items."
   ]
  },
  {
   "cell_type": "code",
   "execution_count": 1028,
   "id": "2a7daf62",
   "metadata": {},
   "outputs": [
    {
     "data": {
      "text/plain": [
       "False"
      ]
     },
     "execution_count": 1028,
     "metadata": {},
     "output_type": "execute_result"
    }
   ],
   "source": [
    "(df_items['order_id']\n",
    " .isin(df_orders.query(\"order_status == 'canceled'\").loc[df_orders.order_approved_at.isna()].order_id).any())"
   ]
  },
  {
   "cell_type": "markdown",
   "id": "c6d8473f",
   "metadata": {},
   "source": [
    "Видим, что заказов со статусом canceled с пропущенными значениями в колонке order_approved_at нет в таблице df_items (таблица с товарными позициями, входящими в заказы)."
   ]
  },
  {
   "cell_type": "markdown",
   "id": "75118151",
   "metadata": {},
   "source": [
    "<b>Рассмотрим заказы со статусом canceled при условии, что пропуски в колонке order_approved_at не рассматриваются.<b>"
   ]
  },
  {
   "cell_type": "code",
   "execution_count": 1029,
   "id": "193013a6",
   "metadata": {},
   "outputs": [
    {
     "data": {
      "text/html": [
       "<div>\n",
       "<style scoped>\n",
       "    .dataframe tbody tr th:only-of-type {\n",
       "        vertical-align: middle;\n",
       "    }\n",
       "\n",
       "    .dataframe tbody tr th {\n",
       "        vertical-align: top;\n",
       "    }\n",
       "\n",
       "    .dataframe thead th {\n",
       "        text-align: right;\n",
       "    }\n",
       "</style>\n",
       "<table border=\"1\" class=\"dataframe\">\n",
       "  <thead>\n",
       "    <tr style=\"text-align: right;\">\n",
       "      <th></th>\n",
       "      <th>order_id</th>\n",
       "      <th>customer_id</th>\n",
       "      <th>order_status</th>\n",
       "      <th>order_purchase_timestamp</th>\n",
       "      <th>order_approved_at</th>\n",
       "      <th>order_delivered_carrier_date</th>\n",
       "      <th>order_delivered_customer_date</th>\n",
       "      <th>order_estimated_delivery_date</th>\n",
       "    </tr>\n",
       "  </thead>\n",
       "  <tbody>\n",
       "    <tr>\n",
       "      <th>397</th>\n",
       "      <td>1b9ecfe83cdc259250e1a8aca174f0ad</td>\n",
       "      <td>6d6b50b66d79f80827b6d96751528d30</td>\n",
       "      <td>canceled</td>\n",
       "      <td>2018-08-04 14:29:27</td>\n",
       "      <td>2018-08-07 04:10:26</td>\n",
       "      <td>NaT</td>\n",
       "      <td>NaT</td>\n",
       "      <td>2018-08-14</td>\n",
       "    </tr>\n",
       "    <tr>\n",
       "      <th>613</th>\n",
       "      <td>714fb133a6730ab81fa1d3c1b2007291</td>\n",
       "      <td>e3fe72696c4713d64d3c10afe71e75ed</td>\n",
       "      <td>canceled</td>\n",
       "      <td>2018-01-26 21:34:08</td>\n",
       "      <td>2018-01-26 21:58:39</td>\n",
       "      <td>2018-01-29 22:33:25</td>\n",
       "      <td>NaT</td>\n",
       "      <td>2018-02-22</td>\n",
       "    </tr>\n",
       "    <tr>\n",
       "      <th>1058</th>\n",
       "      <td>3a129877493c8189c59c60eb71d97c29</td>\n",
       "      <td>0913cdce793684e52bbfac69d87e91fd</td>\n",
       "      <td>canceled</td>\n",
       "      <td>2018-01-25 13:34:24</td>\n",
       "      <td>2018-01-25 13:50:20</td>\n",
       "      <td>2018-01-26 21:42:18</td>\n",
       "      <td>NaT</td>\n",
       "      <td>2018-02-23</td>\n",
       "    </tr>\n",
       "    <tr>\n",
       "      <th>1811</th>\n",
       "      <td>0966b61e30c4a07edbd7523f59b3f3e4</td>\n",
       "      <td>2fcc597b8934d99715dbfff7909dd27f</td>\n",
       "      <td>canceled</td>\n",
       "      <td>2018-05-22 18:50:55</td>\n",
       "      <td>2018-05-22 19:17:15</td>\n",
       "      <td>NaT</td>\n",
       "      <td>NaT</td>\n",
       "      <td>2018-07-03</td>\n",
       "    </tr>\n",
       "    <tr>\n",
       "      <th>1819</th>\n",
       "      <td>9021cf1919f615a121410790dcce848f</td>\n",
       "      <td>7acf55df0298e1d2c31200fb4f6fb93b</td>\n",
       "      <td>canceled</td>\n",
       "      <td>2018-07-04 16:05:56</td>\n",
       "      <td>2018-07-06 02:55:16</td>\n",
       "      <td>NaT</td>\n",
       "      <td>NaT</td>\n",
       "      <td>2018-08-22</td>\n",
       "    </tr>\n",
       "  </tbody>\n",
       "</table>\n",
       "</div>"
      ],
      "text/plain": [
       "                              order_id                       customer_id  \\\n",
       "397   1b9ecfe83cdc259250e1a8aca174f0ad  6d6b50b66d79f80827b6d96751528d30   \n",
       "613   714fb133a6730ab81fa1d3c1b2007291  e3fe72696c4713d64d3c10afe71e75ed   \n",
       "1058  3a129877493c8189c59c60eb71d97c29  0913cdce793684e52bbfac69d87e91fd   \n",
       "1811  0966b61e30c4a07edbd7523f59b3f3e4  2fcc597b8934d99715dbfff7909dd27f   \n",
       "1819  9021cf1919f615a121410790dcce848f  7acf55df0298e1d2c31200fb4f6fb93b   \n",
       "\n",
       "     order_status order_purchase_timestamp   order_approved_at  \\\n",
       "397      canceled      2018-08-04 14:29:27 2018-08-07 04:10:26   \n",
       "613      canceled      2018-01-26 21:34:08 2018-01-26 21:58:39   \n",
       "1058     canceled      2018-01-25 13:34:24 2018-01-25 13:50:20   \n",
       "1811     canceled      2018-05-22 18:50:55 2018-05-22 19:17:15   \n",
       "1819     canceled      2018-07-04 16:05:56 2018-07-06 02:55:16   \n",
       "\n",
       "     order_delivered_carrier_date order_delivered_customer_date  \\\n",
       "397                           NaT                           NaT   \n",
       "613           2018-01-29 22:33:25                           NaT   \n",
       "1058          2018-01-26 21:42:18                           NaT   \n",
       "1811                          NaT                           NaT   \n",
       "1819                          NaT                           NaT   \n",
       "\n",
       "     order_estimated_delivery_date  \n",
       "397                     2018-08-14  \n",
       "613                     2018-02-22  \n",
       "1058                    2018-02-23  \n",
       "1811                    2018-07-03  \n",
       "1819                    2018-08-22  "
      ]
     },
     "execution_count": 1029,
     "metadata": {},
     "output_type": "execute_result"
    }
   ],
   "source": [
    "df_orders.query(\"order_status == 'canceled'\").loc[df_orders.order_approved_at.notna()].head()"
   ]
  },
  {
   "cell_type": "code",
   "execution_count": 1030,
   "id": "d7eff8d8",
   "metadata": {},
   "outputs": [
    {
     "data": {
      "text/plain": [
       "(484, 8)"
      ]
     },
     "execution_count": 1030,
     "metadata": {},
     "output_type": "execute_result"
    }
   ],
   "source": [
    "df_orders.query(\"order_status == 'canceled'\").loc[df_orders.order_approved_at.notna()].shape"
   ]
  },
  {
   "cell_type": "code",
   "execution_count": 1031,
   "id": "370e7efe",
   "metadata": {},
   "outputs": [
    {
     "data": {
      "text/plain": [
       "order_id                           0\n",
       "customer_id                        0\n",
       "order_status                       0\n",
       "order_purchase_timestamp           0\n",
       "order_approved_at                  0\n",
       "order_delivered_carrier_date     409\n",
       "order_delivered_customer_date    478\n",
       "order_estimated_delivery_date      0\n",
       "dtype: int64"
      ]
     },
     "execution_count": 1031,
     "metadata": {},
     "output_type": "execute_result"
    }
   ],
   "source": [
    "df_orders.query(\"order_status == 'canceled'\").loc[df_orders.order_approved_at.notna()].isna().sum()"
   ]
  },
  {
   "cell_type": "markdown",
   "id": "1a1fd0a7",
   "metadata": {},
   "source": [
    "Видим, что из всех 484 заказов есть заказы как с пропущенными значениями в обеих колонках order_delivered_carrier_date и order_delivered_customer_date одновременно, так и с пропусками только в колонке order_delivered_customer_date. Также есть заказы со статусом canceled без пропущенных значений в какой-либо из колонок. Рассмотрим данные заказы подробнее."
   ]
  },
  {
   "cell_type": "code",
   "execution_count": 1032,
   "id": "71ab863d",
   "metadata": {},
   "outputs": [
    {
     "data": {
      "text/html": [
       "<div>\n",
       "<style scoped>\n",
       "    .dataframe tbody tr th:only-of-type {\n",
       "        vertical-align: middle;\n",
       "    }\n",
       "\n",
       "    .dataframe tbody tr th {\n",
       "        vertical-align: top;\n",
       "    }\n",
       "\n",
       "    .dataframe thead th {\n",
       "        text-align: right;\n",
       "    }\n",
       "</style>\n",
       "<table border=\"1\" class=\"dataframe\">\n",
       "  <thead>\n",
       "    <tr style=\"text-align: right;\">\n",
       "      <th></th>\n",
       "      <th>order_id</th>\n",
       "      <th>customer_id</th>\n",
       "      <th>order_status</th>\n",
       "      <th>order_purchase_timestamp</th>\n",
       "      <th>order_approved_at</th>\n",
       "      <th>order_delivered_carrier_date</th>\n",
       "      <th>order_delivered_customer_date</th>\n",
       "      <th>order_estimated_delivery_date</th>\n",
       "    </tr>\n",
       "  </thead>\n",
       "  <tbody>\n",
       "    <tr>\n",
       "      <th>2921</th>\n",
       "      <td>1950d777989f6a877539f53795b4c3c3</td>\n",
       "      <td>1bccb206de9f0f25adc6871a1bcf77b2</td>\n",
       "      <td>canceled</td>\n",
       "      <td>2018-02-19 19:48:52</td>\n",
       "      <td>2018-02-19 20:56:05</td>\n",
       "      <td>2018-02-20 19:57:13</td>\n",
       "      <td>2018-03-21 22:03:51</td>\n",
       "      <td>2018-03-09</td>\n",
       "    </tr>\n",
       "    <tr>\n",
       "      <th>8791</th>\n",
       "      <td>dabf2b0e35b423f94618bf965fcb7514</td>\n",
       "      <td>5cdec0bb8cbdf53ffc8fdc212cd247c6</td>\n",
       "      <td>canceled</td>\n",
       "      <td>2016-10-09 00:56:52</td>\n",
       "      <td>2016-10-09 13:36:58</td>\n",
       "      <td>2016-10-13 13:36:59</td>\n",
       "      <td>2016-10-16 14:36:59</td>\n",
       "      <td>2016-11-30</td>\n",
       "    </tr>\n",
       "    <tr>\n",
       "      <th>58266</th>\n",
       "      <td>770d331c84e5b214bd9dc70a10b829d0</td>\n",
       "      <td>6c57e6119369185e575b36712766b0ef</td>\n",
       "      <td>canceled</td>\n",
       "      <td>2016-10-07 14:52:30</td>\n",
       "      <td>2016-10-07 15:07:10</td>\n",
       "      <td>2016-10-11 15:07:11</td>\n",
       "      <td>2016-10-14 15:07:11</td>\n",
       "      <td>2016-11-29</td>\n",
       "    </tr>\n",
       "    <tr>\n",
       "      <th>59332</th>\n",
       "      <td>8beb59392e21af5eb9547ae1a9938d06</td>\n",
       "      <td>bf609b5741f71697f65ce3852c5d2623</td>\n",
       "      <td>canceled</td>\n",
       "      <td>2016-10-08 20:17:50</td>\n",
       "      <td>2016-10-09 14:34:30</td>\n",
       "      <td>2016-10-14 22:45:26</td>\n",
       "      <td>2016-10-19 18:47:43</td>\n",
       "      <td>2016-11-30</td>\n",
       "    </tr>\n",
       "    <tr>\n",
       "      <th>92636</th>\n",
       "      <td>65d1e226dfaeb8cdc42f665422522d14</td>\n",
       "      <td>70fc57eeae292675927697fe03ad3ff5</td>\n",
       "      <td>canceled</td>\n",
       "      <td>2016-10-03 21:01:41</td>\n",
       "      <td>2016-10-04 10:18:57</td>\n",
       "      <td>2016-10-25 12:14:28</td>\n",
       "      <td>2016-11-08 10:58:34</td>\n",
       "      <td>2016-11-25</td>\n",
       "    </tr>\n",
       "    <tr>\n",
       "      <th>94399</th>\n",
       "      <td>2c45c33d2f9cb8ff8b1c86cc28c11c30</td>\n",
       "      <td>de4caa97afa80c8eeac2ff4c8da5b72e</td>\n",
       "      <td>canceled</td>\n",
       "      <td>2016-10-09 15:39:56</td>\n",
       "      <td>2016-10-10 10:40:49</td>\n",
       "      <td>2016-10-14 10:40:50</td>\n",
       "      <td>2016-11-09 14:53:50</td>\n",
       "      <td>2016-12-08</td>\n",
       "    </tr>\n",
       "  </tbody>\n",
       "</table>\n",
       "</div>"
      ],
      "text/plain": [
       "                               order_id                       customer_id  \\\n",
       "2921   1950d777989f6a877539f53795b4c3c3  1bccb206de9f0f25adc6871a1bcf77b2   \n",
       "8791   dabf2b0e35b423f94618bf965fcb7514  5cdec0bb8cbdf53ffc8fdc212cd247c6   \n",
       "58266  770d331c84e5b214bd9dc70a10b829d0  6c57e6119369185e575b36712766b0ef   \n",
       "59332  8beb59392e21af5eb9547ae1a9938d06  bf609b5741f71697f65ce3852c5d2623   \n",
       "92636  65d1e226dfaeb8cdc42f665422522d14  70fc57eeae292675927697fe03ad3ff5   \n",
       "94399  2c45c33d2f9cb8ff8b1c86cc28c11c30  de4caa97afa80c8eeac2ff4c8da5b72e   \n",
       "\n",
       "      order_status order_purchase_timestamp   order_approved_at  \\\n",
       "2921      canceled      2018-02-19 19:48:52 2018-02-19 20:56:05   \n",
       "8791      canceled      2016-10-09 00:56:52 2016-10-09 13:36:58   \n",
       "58266     canceled      2016-10-07 14:52:30 2016-10-07 15:07:10   \n",
       "59332     canceled      2016-10-08 20:17:50 2016-10-09 14:34:30   \n",
       "92636     canceled      2016-10-03 21:01:41 2016-10-04 10:18:57   \n",
       "94399     canceled      2016-10-09 15:39:56 2016-10-10 10:40:49   \n",
       "\n",
       "      order_delivered_carrier_date order_delivered_customer_date  \\\n",
       "2921           2018-02-20 19:57:13           2018-03-21 22:03:51   \n",
       "8791           2016-10-13 13:36:59           2016-10-16 14:36:59   \n",
       "58266          2016-10-11 15:07:11           2016-10-14 15:07:11   \n",
       "59332          2016-10-14 22:45:26           2016-10-19 18:47:43   \n",
       "92636          2016-10-25 12:14:28           2016-11-08 10:58:34   \n",
       "94399          2016-10-14 10:40:50           2016-11-09 14:53:50   \n",
       "\n",
       "      order_estimated_delivery_date  \n",
       "2921                     2018-03-09  \n",
       "8791                     2016-11-30  \n",
       "58266                    2016-11-29  \n",
       "59332                    2016-11-30  \n",
       "92636                    2016-11-25  \n",
       "94399                    2016-12-08  "
      ]
     },
     "execution_count": 1032,
     "metadata": {},
     "output_type": "execute_result"
    }
   ],
   "source": [
    "df_orders.query(\"order_status == 'canceled'\").loc[df_orders.order_delivered_customer_date.notna()]"
   ]
  },
  {
   "cell_type": "code",
   "execution_count": 1033,
   "id": "34b44d13",
   "metadata": {},
   "outputs": [
    {
     "data": {
      "text/plain": [
       "(6, 8)"
      ]
     },
     "execution_count": 1033,
     "metadata": {},
     "output_type": "execute_result"
    }
   ],
   "source": [
    "df_orders.query(\"order_status == 'canceled'\").loc[df_orders.order_delivered_customer_date.notna()].shape"
   ]
  },
  {
   "cell_type": "markdown",
   "id": "1afc3027",
   "metadata": {},
   "source": [
    "Всего 6 заказов со статусом canceled без пропусков в какой-либо из колонок."
   ]
  },
  {
   "cell_type": "markdown",
   "id": "1a5fa306",
   "metadata": {},
   "source": [
    "Проверим наличие заказов со статусом canceled, заданных с условием отсутствия пропусков в колонке order_approved_at, в df_items (таблица с товарными позициями, входящими в заказы)."
   ]
  },
  {
   "cell_type": "code",
   "execution_count": 1034,
   "id": "095ac365",
   "metadata": {},
   "outputs": [],
   "source": [
    "df_items_canceled_orders_notna_approved = (df_items\n",
    "                                             .loc[df_items['order_id'].isin(df_orders.query(\"order_status == 'canceled'\")\n",
    "                                                                            .loc[df_orders.order_approved_at.notna()].order_id)])"
   ]
  },
  {
   "cell_type": "code",
   "execution_count": 1035,
   "id": "73d75822",
   "metadata": {},
   "outputs": [
    {
     "data": {
      "text/html": [
       "<div>\n",
       "<style scoped>\n",
       "    .dataframe tbody tr th:only-of-type {\n",
       "        vertical-align: middle;\n",
       "    }\n",
       "\n",
       "    .dataframe tbody tr th {\n",
       "        vertical-align: top;\n",
       "    }\n",
       "\n",
       "    .dataframe thead th {\n",
       "        text-align: right;\n",
       "    }\n",
       "</style>\n",
       "<table border=\"1\" class=\"dataframe\">\n",
       "  <thead>\n",
       "    <tr style=\"text-align: right;\">\n",
       "      <th></th>\n",
       "      <th>order_id</th>\n",
       "      <th>order_item_id</th>\n",
       "      <th>product_id</th>\n",
       "      <th>seller_id</th>\n",
       "      <th>shipping_limit_date</th>\n",
       "      <th>price</th>\n",
       "      <th>freight_value</th>\n",
       "    </tr>\n",
       "  </thead>\n",
       "  <tbody>\n",
       "    <tr>\n",
       "      <th>84</th>\n",
       "      <td>00310b0c75bb13015ec4d82d341865a4</td>\n",
       "      <td>1</td>\n",
       "      <td>c8e7c2ef329fcda4a233e7e2f8bb8b7d</td>\n",
       "      <td>a2deecd5398f5df4987110c80a1972a3</td>\n",
       "      <td>2018-08-17 15:04:25</td>\n",
       "      <td>39.90</td>\n",
       "      <td>15.38</td>\n",
       "    </tr>\n",
       "    <tr>\n",
       "      <th>270</th>\n",
       "      <td>00ae7a8b4936674ebb701d4a23719a79</td>\n",
       "      <td>1</td>\n",
       "      <td>66f09a6de4f2ef63aaf5349b60a0e0c0</td>\n",
       "      <td>bf0d50a6410d487dc97d2baac0a8c0be</td>\n",
       "      <td>2018-05-15 15:51:32</td>\n",
       "      <td>27.90</td>\n",
       "      <td>9.26</td>\n",
       "    </tr>\n",
       "    <tr>\n",
       "      <th>422</th>\n",
       "      <td>00ff0cf5583758e6964723e42f111bf4</td>\n",
       "      <td>1</td>\n",
       "      <td>bb1fe952bdc16ef8974d4ca11aec19b7</td>\n",
       "      <td>b17b679f4f5ce2e03ce6968c62648246</td>\n",
       "      <td>2017-04-14 01:03:29</td>\n",
       "      <td>154.90</td>\n",
       "      <td>15.25</td>\n",
       "    </tr>\n",
       "    <tr>\n",
       "      <th>543</th>\n",
       "      <td>013e9c654a339d80b53513da3c1ea437</td>\n",
       "      <td>1</td>\n",
       "      <td>bcac2cdcd851929a5caa3e1508d5abc9</td>\n",
       "      <td>0adac9fbd9a2b63cccaac4f8756c1ca8</td>\n",
       "      <td>2017-06-22 13:55:18</td>\n",
       "      <td>109.90</td>\n",
       "      <td>13.11</td>\n",
       "    </tr>\n",
       "    <tr>\n",
       "      <th>558</th>\n",
       "      <td>0148d3df00cebda592d4e5f966e300cc</td>\n",
       "      <td>1</td>\n",
       "      <td>ed08ea04c92f5f434c2362f7310fb328</td>\n",
       "      <td>0adac9fbd9a2b63cccaac4f8756c1ca8</td>\n",
       "      <td>2017-08-24 19:24:32</td>\n",
       "      <td>5.53</td>\n",
       "      <td>11.85</td>\n",
       "    </tr>\n",
       "  </tbody>\n",
       "</table>\n",
       "</div>"
      ],
      "text/plain": [
       "                             order_id  order_item_id  \\\n",
       "84   00310b0c75bb13015ec4d82d341865a4              1   \n",
       "270  00ae7a8b4936674ebb701d4a23719a79              1   \n",
       "422  00ff0cf5583758e6964723e42f111bf4              1   \n",
       "543  013e9c654a339d80b53513da3c1ea437              1   \n",
       "558  0148d3df00cebda592d4e5f966e300cc              1   \n",
       "\n",
       "                           product_id                         seller_id  \\\n",
       "84   c8e7c2ef329fcda4a233e7e2f8bb8b7d  a2deecd5398f5df4987110c80a1972a3   \n",
       "270  66f09a6de4f2ef63aaf5349b60a0e0c0  bf0d50a6410d487dc97d2baac0a8c0be   \n",
       "422  bb1fe952bdc16ef8974d4ca11aec19b7  b17b679f4f5ce2e03ce6968c62648246   \n",
       "543  bcac2cdcd851929a5caa3e1508d5abc9  0adac9fbd9a2b63cccaac4f8756c1ca8   \n",
       "558  ed08ea04c92f5f434c2362f7310fb328  0adac9fbd9a2b63cccaac4f8756c1ca8   \n",
       "\n",
       "    shipping_limit_date   price  freight_value  \n",
       "84  2018-08-17 15:04:25   39.90          15.38  \n",
       "270 2018-05-15 15:51:32   27.90           9.26  \n",
       "422 2017-04-14 01:03:29  154.90          15.25  \n",
       "543 2017-06-22 13:55:18  109.90          13.11  \n",
       "558 2017-08-24 19:24:32    5.53          11.85  "
      ]
     },
     "execution_count": 1035,
     "metadata": {},
     "output_type": "execute_result"
    }
   ],
   "source": [
    "df_items_canceled_orders_notna_approved.head()"
   ]
  },
  {
   "cell_type": "code",
   "execution_count": 1036,
   "id": "661ed683",
   "metadata": {},
   "outputs": [
    {
     "data": {
      "text/plain": [
       "461"
      ]
     },
     "execution_count": 1036,
     "metadata": {},
     "output_type": "execute_result"
    }
   ],
   "source": [
    "df_items_canceled_orders_notna_approved.order_id.nunique()"
   ]
  },
  {
   "cell_type": "markdown",
   "id": "49caf13d",
   "metadata": {},
   "source": [
    "461 из 484 заказов присутсвуют в таблице df_items. Определим, каких заказов не хватает."
   ]
  },
  {
   "cell_type": "code",
   "execution_count": 1037,
   "id": "2fd872bc",
   "metadata": {},
   "outputs": [
    {
     "data": {
      "text/html": [
       "<div>\n",
       "<style scoped>\n",
       "    .dataframe tbody tr th:only-of-type {\n",
       "        vertical-align: middle;\n",
       "    }\n",
       "\n",
       "    .dataframe tbody tr th {\n",
       "        vertical-align: top;\n",
       "    }\n",
       "\n",
       "    .dataframe thead th {\n",
       "        text-align: right;\n",
       "    }\n",
       "</style>\n",
       "<table border=\"1\" class=\"dataframe\">\n",
       "  <thead>\n",
       "    <tr style=\"text-align: right;\">\n",
       "      <th></th>\n",
       "      <th>order_id</th>\n",
       "      <th>customer_id</th>\n",
       "      <th>order_status</th>\n",
       "      <th>order_purchase_timestamp</th>\n",
       "      <th>order_approved_at</th>\n",
       "      <th>order_delivered_carrier_date</th>\n",
       "      <th>order_delivered_customer_date</th>\n",
       "      <th>order_estimated_delivery_date</th>\n",
       "    </tr>\n",
       "  </thead>\n",
       "  <tbody>\n",
       "    <tr>\n",
       "      <th>5754</th>\n",
       "      <td>d1b4fc9a8c1207433519a8ec52e2d03f</td>\n",
       "      <td>f9a6bf8bc89af704ecd48975eff11800</td>\n",
       "      <td>canceled</td>\n",
       "      <td>2018-05-08 10:05:26</td>\n",
       "      <td>2018-05-08 10:31:28</td>\n",
       "      <td>NaT</td>\n",
       "      <td>NaT</td>\n",
       "      <td>2018-05-16</td>\n",
       "    </tr>\n",
       "    <tr>\n",
       "      <th>7244</th>\n",
       "      <td>5226f1a731e8a1215da5e1bea64e2130</td>\n",
       "      <td>3489fb03bfa99335c385df8b863a701b</td>\n",
       "      <td>canceled</td>\n",
       "      <td>2016-10-10 09:51:13</td>\n",
       "      <td>2016-10-18 15:19:11</td>\n",
       "      <td>NaT</td>\n",
       "      <td>NaT</td>\n",
       "      <td>2016-11-18</td>\n",
       "    </tr>\n",
       "    <tr>\n",
       "      <th>10071</th>\n",
       "      <td>809a282bbd5dbcabb6f2f724fca862ec</td>\n",
       "      <td>622e13439d6b5a0b486c435618b2679e</td>\n",
       "      <td>canceled</td>\n",
       "      <td>2016-09-13 15:24:19</td>\n",
       "      <td>2016-10-07 13:16:46</td>\n",
       "      <td>NaT</td>\n",
       "      <td>NaT</td>\n",
       "      <td>2016-09-30</td>\n",
       "    </tr>\n",
       "    <tr>\n",
       "      <th>16947</th>\n",
       "      <td>93274b931b5771bd02154c9b716168ba</td>\n",
       "      <td>0d6ea3b6f1bf6ef08e6b60ce23db077b</td>\n",
       "      <td>canceled</td>\n",
       "      <td>2018-05-08 10:13:06</td>\n",
       "      <td>2018-05-08 10:31:32</td>\n",
       "      <td>NaT</td>\n",
       "      <td>NaT</td>\n",
       "      <td>2018-05-25</td>\n",
       "    </tr>\n",
       "    <tr>\n",
       "      <th>24610</th>\n",
       "      <td>4a44e928d587e7cd7068ea354471c477</td>\n",
       "      <td>f04cee5f84e73924695f31301c815ab8</td>\n",
       "      <td>canceled</td>\n",
       "      <td>2018-06-05 13:51:50</td>\n",
       "      <td>2018-06-05 14:31:18</td>\n",
       "      <td>NaT</td>\n",
       "      <td>NaT</td>\n",
       "      <td>2018-06-21</td>\n",
       "    </tr>\n",
       "    <tr>\n",
       "      <th>25068</th>\n",
       "      <td>6c16d886be4fe03174a289a4ca70a775</td>\n",
       "      <td>780b36c3e066c0251df695c5ce83994e</td>\n",
       "      <td>canceled</td>\n",
       "      <td>2018-06-05 15:06:16</td>\n",
       "      <td>2018-06-05 15:31:39</td>\n",
       "      <td>NaT</td>\n",
       "      <td>NaT</td>\n",
       "      <td>2018-06-29</td>\n",
       "    </tr>\n",
       "    <tr>\n",
       "      <th>25514</th>\n",
       "      <td>44b4829b58167b697a69c8aa8eb64733</td>\n",
       "      <td>9a4a3ebb868261c944c5ba16fdaff61b</td>\n",
       "      <td>canceled</td>\n",
       "      <td>2017-03-01 11:26:37</td>\n",
       "      <td>2017-03-02 11:30:21</td>\n",
       "      <td>NaT</td>\n",
       "      <td>NaT</td>\n",
       "      <td>2017-03-20</td>\n",
       "    </tr>\n",
       "    <tr>\n",
       "      <th>28846</th>\n",
       "      <td>9abe82df39e950e1e0c1a5969e22571e</td>\n",
       "      <td>0d0616e01497d605e2bc400cba06de99</td>\n",
       "      <td>canceled</td>\n",
       "      <td>2017-03-21 14:45:36</td>\n",
       "      <td>2017-03-21 14:45:36</td>\n",
       "      <td>NaT</td>\n",
       "      <td>NaT</td>\n",
       "      <td>2017-04-12</td>\n",
       "    </tr>\n",
       "    <tr>\n",
       "      <th>39655</th>\n",
       "      <td>1f66f9bfd244a5383aeb00a84ad12a66</td>\n",
       "      <td>b692755548475c6db9d19858c5da06f1</td>\n",
       "      <td>canceled</td>\n",
       "      <td>2016-10-10 10:49:54</td>\n",
       "      <td>2016-10-10 12:01:56</td>\n",
       "      <td>NaT</td>\n",
       "      <td>NaT</td>\n",
       "      <td>2016-12-08</td>\n",
       "    </tr>\n",
       "    <tr>\n",
       "      <th>40076</th>\n",
       "      <td>7fd4b0e047195ca197c3660772a8d8c0</td>\n",
       "      <td>fc253202cb10b4a99ac862321a854858</td>\n",
       "      <td>canceled</td>\n",
       "      <td>2016-10-08 07:02:33</td>\n",
       "      <td>2016-10-18 15:19:10</td>\n",
       "      <td>NaT</td>\n",
       "      <td>NaT</td>\n",
       "      <td>2016-11-18</td>\n",
       "    </tr>\n",
       "    <tr>\n",
       "      <th>45061</th>\n",
       "      <td>383bb8b07361166ea86f3f4b51e96ff7</td>\n",
       "      <td>980dbc98d42220a8cbeb85142b6f6ee1</td>\n",
       "      <td>canceled</td>\n",
       "      <td>2018-03-15 10:12:28</td>\n",
       "      <td>2018-03-15 10:29:39</td>\n",
       "      <td>NaT</td>\n",
       "      <td>NaT</td>\n",
       "      <td>2018-04-10</td>\n",
       "    </tr>\n",
       "    <tr>\n",
       "      <th>47905</th>\n",
       "      <td>6e98de3a85c84ead6689189b825d35b5</td>\n",
       "      <td>f34a6e874087ec1f0e3dab9fdf659c5d</td>\n",
       "      <td>canceled</td>\n",
       "      <td>2018-03-15 10:07:02</td>\n",
       "      <td>2018-03-15 10:29:33</td>\n",
       "      <td>NaT</td>\n",
       "      <td>NaT</td>\n",
       "      <td>2018-04-09</td>\n",
       "    </tr>\n",
       "    <tr>\n",
       "      <th>57015</th>\n",
       "      <td>08662c478bed0444d0515925af759547</td>\n",
       "      <td>e386d59b64144f2d4ec3ec84de244059</td>\n",
       "      <td>canceled</td>\n",
       "      <td>2017-03-20 08:00:14</td>\n",
       "      <td>2017-03-20 08:00:14</td>\n",
       "      <td>NaT</td>\n",
       "      <td>NaT</td>\n",
       "      <td>2017-04-17</td>\n",
       "    </tr>\n",
       "    <tr>\n",
       "      <th>57052</th>\n",
       "      <td>90eaac01afdf4e531a70ad869e092c75</td>\n",
       "      <td>9989fec0cc8309e9afcb1da811943f3a</td>\n",
       "      <td>canceled</td>\n",
       "      <td>2018-06-05 15:15:24</td>\n",
       "      <td>2018-06-05 15:36:54</td>\n",
       "      <td>NaT</td>\n",
       "      <td>NaT</td>\n",
       "      <td>2018-08-06</td>\n",
       "    </tr>\n",
       "    <tr>\n",
       "      <th>62406</th>\n",
       "      <td>123e27a1a4d0b2481d8618ac3dff7d4e</td>\n",
       "      <td>1fe4c3902c5bd6510a869b3d4fd3843b</td>\n",
       "      <td>canceled</td>\n",
       "      <td>2016-10-08 12:44:32</td>\n",
       "      <td>2016-10-18 15:19:08</td>\n",
       "      <td>NaT</td>\n",
       "      <td>NaT</td>\n",
       "      <td>2016-11-18</td>\n",
       "    </tr>\n",
       "    <tr>\n",
       "      <th>67963</th>\n",
       "      <td>5b9680f27b5067afded00b23f9cb4d61</td>\n",
       "      <td>8b20eb37b30208feef373de67fc749e0</td>\n",
       "      <td>canceled</td>\n",
       "      <td>2017-03-21 20:20:14</td>\n",
       "      <td>2017-03-21 20:20:14</td>\n",
       "      <td>NaT</td>\n",
       "      <td>NaT</td>\n",
       "      <td>2017-04-24</td>\n",
       "    </tr>\n",
       "    <tr>\n",
       "      <th>71603</th>\n",
       "      <td>b17fd4c033b06e8d888de8ea6105ef9d</td>\n",
       "      <td>70457f70bccd93467cce328f6b3bb89a</td>\n",
       "      <td>canceled</td>\n",
       "      <td>2017-03-20 19:38:10</td>\n",
       "      <td>2017-03-20 19:38:10</td>\n",
       "      <td>NaT</td>\n",
       "      <td>NaT</td>\n",
       "      <td>2017-04-12</td>\n",
       "    </tr>\n",
       "    <tr>\n",
       "      <th>73098</th>\n",
       "      <td>dc7a419b3cd13b51c38ff9442dfd4009</td>\n",
       "      <td>f97a6d5dc5996ca93920dba521495117</td>\n",
       "      <td>canceled</td>\n",
       "      <td>2017-03-21 19:17:48</td>\n",
       "      <td>2017-03-21 19:17:48</td>\n",
       "      <td>NaT</td>\n",
       "      <td>NaT</td>\n",
       "      <td>2017-04-17</td>\n",
       "    </tr>\n",
       "    <tr>\n",
       "      <th>75358</th>\n",
       "      <td>2b68bb35779189904b0cd730eaba3d1d</td>\n",
       "      <td>0d6dfc6e464d9f10db213e8b1898e4b1</td>\n",
       "      <td>canceled</td>\n",
       "      <td>2018-05-08 10:11:16</td>\n",
       "      <td>2018-05-08 10:31:31</td>\n",
       "      <td>NaT</td>\n",
       "      <td>NaT</td>\n",
       "      <td>2018-06-04</td>\n",
       "    </tr>\n",
       "    <tr>\n",
       "      <th>76582</th>\n",
       "      <td>1aecadf4362edaca7fa033e882076c8d</td>\n",
       "      <td>e81a9f176936e3124dfd90c483bf3289</td>\n",
       "      <td>canceled</td>\n",
       "      <td>2016-10-04 10:05:45</td>\n",
       "      <td>2016-10-04 10:26:40</td>\n",
       "      <td>NaT</td>\n",
       "      <td>NaT</td>\n",
       "      <td>2016-11-24</td>\n",
       "    </tr>\n",
       "    <tr>\n",
       "      <th>77055</th>\n",
       "      <td>620b0acb9258b51defbc51804c5298d5</td>\n",
       "      <td>9012f48ac2c416c82819101da4e4b75e</td>\n",
       "      <td>canceled</td>\n",
       "      <td>2016-10-04 11:44:01</td>\n",
       "      <td>2016-10-05 08:45:09</td>\n",
       "      <td>NaT</td>\n",
       "      <td>NaT</td>\n",
       "      <td>2016-12-06</td>\n",
       "    </tr>\n",
       "    <tr>\n",
       "      <th>80797</th>\n",
       "      <td>983e16bfbe23e60f23a6fcb9c4792204</td>\n",
       "      <td>2d6272fc5e22facb8937eba512bad93f</td>\n",
       "      <td>canceled</td>\n",
       "      <td>2017-03-27 08:24:03</td>\n",
       "      <td>2017-03-27 08:24:03</td>\n",
       "      <td>NaT</td>\n",
       "      <td>NaT</td>\n",
       "      <td>2017-04-20</td>\n",
       "    </tr>\n",
       "    <tr>\n",
       "      <th>96793</th>\n",
       "      <td>7159096c5aa9be77f7f0c26c01ee9793</td>\n",
       "      <td>d8f3aacf5cf5ddf9ceef4ad39e874c98</td>\n",
       "      <td>canceled</td>\n",
       "      <td>2018-03-15 10:06:35</td>\n",
       "      <td>2018-03-15 10:29:39</td>\n",
       "      <td>NaT</td>\n",
       "      <td>NaT</td>\n",
       "      <td>2018-04-06</td>\n",
       "    </tr>\n",
       "  </tbody>\n",
       "</table>\n",
       "</div>"
      ],
      "text/plain": [
       "                               order_id                       customer_id  \\\n",
       "5754   d1b4fc9a8c1207433519a8ec52e2d03f  f9a6bf8bc89af704ecd48975eff11800   \n",
       "7244   5226f1a731e8a1215da5e1bea64e2130  3489fb03bfa99335c385df8b863a701b   \n",
       "10071  809a282bbd5dbcabb6f2f724fca862ec  622e13439d6b5a0b486c435618b2679e   \n",
       "16947  93274b931b5771bd02154c9b716168ba  0d6ea3b6f1bf6ef08e6b60ce23db077b   \n",
       "24610  4a44e928d587e7cd7068ea354471c477  f04cee5f84e73924695f31301c815ab8   \n",
       "25068  6c16d886be4fe03174a289a4ca70a775  780b36c3e066c0251df695c5ce83994e   \n",
       "25514  44b4829b58167b697a69c8aa8eb64733  9a4a3ebb868261c944c5ba16fdaff61b   \n",
       "28846  9abe82df39e950e1e0c1a5969e22571e  0d0616e01497d605e2bc400cba06de99   \n",
       "39655  1f66f9bfd244a5383aeb00a84ad12a66  b692755548475c6db9d19858c5da06f1   \n",
       "40076  7fd4b0e047195ca197c3660772a8d8c0  fc253202cb10b4a99ac862321a854858   \n",
       "45061  383bb8b07361166ea86f3f4b51e96ff7  980dbc98d42220a8cbeb85142b6f6ee1   \n",
       "47905  6e98de3a85c84ead6689189b825d35b5  f34a6e874087ec1f0e3dab9fdf659c5d   \n",
       "57015  08662c478bed0444d0515925af759547  e386d59b64144f2d4ec3ec84de244059   \n",
       "57052  90eaac01afdf4e531a70ad869e092c75  9989fec0cc8309e9afcb1da811943f3a   \n",
       "62406  123e27a1a4d0b2481d8618ac3dff7d4e  1fe4c3902c5bd6510a869b3d4fd3843b   \n",
       "67963  5b9680f27b5067afded00b23f9cb4d61  8b20eb37b30208feef373de67fc749e0   \n",
       "71603  b17fd4c033b06e8d888de8ea6105ef9d  70457f70bccd93467cce328f6b3bb89a   \n",
       "73098  dc7a419b3cd13b51c38ff9442dfd4009  f97a6d5dc5996ca93920dba521495117   \n",
       "75358  2b68bb35779189904b0cd730eaba3d1d  0d6dfc6e464d9f10db213e8b1898e4b1   \n",
       "76582  1aecadf4362edaca7fa033e882076c8d  e81a9f176936e3124dfd90c483bf3289   \n",
       "77055  620b0acb9258b51defbc51804c5298d5  9012f48ac2c416c82819101da4e4b75e   \n",
       "80797  983e16bfbe23e60f23a6fcb9c4792204  2d6272fc5e22facb8937eba512bad93f   \n",
       "96793  7159096c5aa9be77f7f0c26c01ee9793  d8f3aacf5cf5ddf9ceef4ad39e874c98   \n",
       "\n",
       "      order_status order_purchase_timestamp   order_approved_at  \\\n",
       "5754      canceled      2018-05-08 10:05:26 2018-05-08 10:31:28   \n",
       "7244      canceled      2016-10-10 09:51:13 2016-10-18 15:19:11   \n",
       "10071     canceled      2016-09-13 15:24:19 2016-10-07 13:16:46   \n",
       "16947     canceled      2018-05-08 10:13:06 2018-05-08 10:31:32   \n",
       "24610     canceled      2018-06-05 13:51:50 2018-06-05 14:31:18   \n",
       "25068     canceled      2018-06-05 15:06:16 2018-06-05 15:31:39   \n",
       "25514     canceled      2017-03-01 11:26:37 2017-03-02 11:30:21   \n",
       "28846     canceled      2017-03-21 14:45:36 2017-03-21 14:45:36   \n",
       "39655     canceled      2016-10-10 10:49:54 2016-10-10 12:01:56   \n",
       "40076     canceled      2016-10-08 07:02:33 2016-10-18 15:19:10   \n",
       "45061     canceled      2018-03-15 10:12:28 2018-03-15 10:29:39   \n",
       "47905     canceled      2018-03-15 10:07:02 2018-03-15 10:29:33   \n",
       "57015     canceled      2017-03-20 08:00:14 2017-03-20 08:00:14   \n",
       "57052     canceled      2018-06-05 15:15:24 2018-06-05 15:36:54   \n",
       "62406     canceled      2016-10-08 12:44:32 2016-10-18 15:19:08   \n",
       "67963     canceled      2017-03-21 20:20:14 2017-03-21 20:20:14   \n",
       "71603     canceled      2017-03-20 19:38:10 2017-03-20 19:38:10   \n",
       "73098     canceled      2017-03-21 19:17:48 2017-03-21 19:17:48   \n",
       "75358     canceled      2018-05-08 10:11:16 2018-05-08 10:31:31   \n",
       "76582     canceled      2016-10-04 10:05:45 2016-10-04 10:26:40   \n",
       "77055     canceled      2016-10-04 11:44:01 2016-10-05 08:45:09   \n",
       "80797     canceled      2017-03-27 08:24:03 2017-03-27 08:24:03   \n",
       "96793     canceled      2018-03-15 10:06:35 2018-03-15 10:29:39   \n",
       "\n",
       "      order_delivered_carrier_date order_delivered_customer_date  \\\n",
       "5754                           NaT                           NaT   \n",
       "7244                           NaT                           NaT   \n",
       "10071                          NaT                           NaT   \n",
       "16947                          NaT                           NaT   \n",
       "24610                          NaT                           NaT   \n",
       "25068                          NaT                           NaT   \n",
       "25514                          NaT                           NaT   \n",
       "28846                          NaT                           NaT   \n",
       "39655                          NaT                           NaT   \n",
       "40076                          NaT                           NaT   \n",
       "45061                          NaT                           NaT   \n",
       "47905                          NaT                           NaT   \n",
       "57015                          NaT                           NaT   \n",
       "57052                          NaT                           NaT   \n",
       "62406                          NaT                           NaT   \n",
       "67963                          NaT                           NaT   \n",
       "71603                          NaT                           NaT   \n",
       "73098                          NaT                           NaT   \n",
       "75358                          NaT                           NaT   \n",
       "76582                          NaT                           NaT   \n",
       "77055                          NaT                           NaT   \n",
       "80797                          NaT                           NaT   \n",
       "96793                          NaT                           NaT   \n",
       "\n",
       "      order_estimated_delivery_date  \n",
       "5754                     2018-05-16  \n",
       "7244                     2016-11-18  \n",
       "10071                    2016-09-30  \n",
       "16947                    2018-05-25  \n",
       "24610                    2018-06-21  \n",
       "25068                    2018-06-29  \n",
       "25514                    2017-03-20  \n",
       "28846                    2017-04-12  \n",
       "39655                    2016-12-08  \n",
       "40076                    2016-11-18  \n",
       "45061                    2018-04-10  \n",
       "47905                    2018-04-09  \n",
       "57015                    2017-04-17  \n",
       "57052                    2018-08-06  \n",
       "62406                    2016-11-18  \n",
       "67963                    2017-04-24  \n",
       "71603                    2017-04-12  \n",
       "73098                    2017-04-17  \n",
       "75358                    2018-06-04  \n",
       "76582                    2016-11-24  \n",
       "77055                    2016-12-06  \n",
       "80797                    2017-04-20  \n",
       "96793                    2018-04-06  "
      ]
     },
     "execution_count": 1037,
     "metadata": {},
     "output_type": "execute_result"
    }
   ],
   "source": [
    "(df_orders.query(\"order_status == 'canceled'\")\n",
    " .loc[~df_orders['order_id'].isin(df_items_canceled_orders_notna_approved.order_id) & df_orders.order_approved_at.notna()])"
   ]
  },
  {
   "cell_type": "code",
   "execution_count": 1038,
   "id": "2f1198ba",
   "metadata": {},
   "outputs": [
    {
     "data": {
      "text/plain": [
       "(23, 8)"
      ]
     },
     "execution_count": 1038,
     "metadata": {},
     "output_type": "execute_result"
    }
   ],
   "source": [
    "(df_orders.query(\"order_status == 'canceled'\")\n",
    " .loc[~df_orders['order_id'].isin(df_items_canceled_orders_notna_approved.order_id) & df_orders.order_approved_at.notna()]).shape"
   ]
  },
  {
   "cell_type": "markdown",
   "id": "5278894d",
   "metadata": {},
   "source": [
    "У данных заказов нет какой-либо особенности"
   ]
  },
  {
   "cell_type": "markdown",
   "id": "f6e62729",
   "metadata": {},
   "source": [
    "## Выводы из проведённого исследования статуса заказов и определение покупок"
   ]
  },
  {
   "cell_type": "markdown",
   "id": "25df83f8",
   "metadata": {},
   "source": [
    "Приведу описание того, как, на мой взгляд, работает система с присвоениями статусов и записями в таблицы. Далее будут изложены мои предположения, на основе которых и будут определены заказы, являющиеся покупками."
   ]
  },
  {
   "cell_type": "markdown",
   "id": "d7b096dc",
   "metadata": {},
   "source": [
    "После того как пользователь сформировал заказ, в таблице df_orders появляется данный заказ со статусом created (order_status == 'created') и с заполненным полем order_purchase_timestamp (время создания заказа). Также автоматически расщитывается order_estimated_delivery_date (обещанная дата доставки). Для дальнейшей работы пользователь должен предоплатить часть заказа. После предоплаты заказу присваивается статус approved (order_status == 'approved') и заполняется поле order_approved_at (время подтверждения оплаты заказа). Далее онлайн-магазин проверяет наличие соответствующих товаров у продавцов и в случае наличия может внести залог за товары за счёт предоплаты клиента (моё предположение). Если товар, входящий в заказ, недоступен, данному заказу присваивается статус unavailable (order_status == 'unavailable') и возвращается предоплата. Если с товарами заказа проблем нет и заказ может быть доставлен до клиента, то в таблице df_items появляется информация о товарах данного заказа. После онлайн-магазин связывается с клиентом (на платформе магазина или по телефону), клиент получает текущую информацию о заказе (условия заказа, доступен он или нет), после уточняется готовность клиента оплатить счёт. Если клиент согласен со всеми условиями и готов оплатить оплатить полную сумму заказа, то ему выставляется счёт, а соответствующему заказу в таблице df_orders присваивается статус invoiced (order_status == 'invoiced').\n",
    "После оплаты счёта заказу присваивается статус processing (order_status == 'processing'), начинается сборка заказа. После сборки заказа и передачи его продавцом в логистическую службу, заказу присваивается статус shipped (order_status == 'shipped') и заполняется поле order_delivered_carrier_date (время передачи заказа в логистическую службу). После доставки заказа логистической службой пользователю, заказу присваивается статус delivered (order_status == 'delivered') и заполняется поле order_delivered_customer_date (время доставки заказа)."
   ]
  },
  {
   "cell_type": "markdown",
   "id": "312336d1",
   "metadata": {},
   "source": [
    "Насчёт отменённых заказов.<br>\n",
    "На основе моего исследования заказов предполагаю, что отменённые заказы можно разделить на три группы:\n",
    "<ol>\n",
    "<li>Заказы, отменённые до совершения предоплаты (присваивается статус canceled)</li>\n",
    "<li>Заказы, отменённые после предоплаты, но до оплаты счёта (статусы approved, invoiced остаются)</li>\n",
    "<li>Заказы, отменённые после оплаты счёта (присваивается статус canceled)</li>\n",
    "</ol>\n",
    "В первом случае заказ отменяется клиентом после стадии created (создание заказа), но до предоплаты. У данных заказов не заполнены колонки order_approved_at, order_delivered_carrier_date и order_delivered_customer_date, и их нет в таблице df_items.<br>\n",
    "Во втором случае пользователь отказывается от заказа после предоплаты, но до оплаты счёта. Пользователь со статусом approved может отказаться на стадии получения информации о своём заказе (после всех взаимодействия онлайн-магазина с продавцом). Тогда его статус (approved) не меняется. Если после выставления счёта (то есть статус пользователя invoiced) пользователь решает отказаться от заказа, то он не оплачивает счёт. Его статус (invoiced) также не меняется. Предполагаю, что в обоих случаях предоплата пользователю не возвращается. Также думаю, что оплата счёта даётся максимально короткое время (например 1 день), так как цель магазина и покупателя как можно скорее доставить товар. К тому же продавец не может ждать долго оплату счёта клиентом.<br>\n",
    "В третьем случае пользователь отказывается от заказа после оплаты счёта. Это может произойте на любой стадии: в процессе сборки заказа, во время доставки логистической службой и даже после доставки заказа (то есть клиент получил заказ, но по какой-то причине он его не устраивает). При отказе пользователю присваивается статус canceled, возврат средств, скорее всего, как-то регламентируется. Большинство данных заказов находится в таблице df_items (не все, об этом ниже)."
   ]
  },
  {
   "cell_type": "markdown",
   "id": "1a592472",
   "metadata": {},
   "source": [
    "Уточняющие моменты.<br><br>\n",
    "Из моих рассуждений следует, что заказы со статусом unavailable не записываются в таблицу df_items, однако из 609 заказов с данным статусом 6 заказов были записаны в df_items. В иследовании можно увидеть, что все 6 заказов были подтверждены пользователями (то есть предоплачены) в 2016 году (у остальных заказов данного статуса предоплата была осуществлена в 2017 и 2018 годах). По этому предполагаю, что в 2016 году система записывала заказы со статусом unavailable в таблицу df_items, но после (в 2017 и 2018 годах) от данного решения отказались.<br>\n",
    "Также есть заказы, которые не записаны в таблицу df_items, хотя должны были. Речь идёт о следующих заказах:\n",
    "<ol>\n",
    "<li>Заказы статуса invoiced: 2/314 (2 заказа из 314 статуса invoiced не были записаны в таблицу df_items) </li>\n",
    "<li>Заказы статуса shipped: 1/1107 </li>\n",
    "<li>Заказы статуса canceled: 23/484 (Заказы, отменённые после оплаты счёта)</li>\n",
    "</ol>\n",
    "То есть 26 заказов не были записаны в таблицу df_items, хотя должны были. Предполагаю, что это случилось из-за сбоев или ошибок системы, так каких либо особенностей данных заказов в исследовании найдено не было.<br><br>\n",
    "Насчёт заказов delivered. Подразумевается, что все колонки данных заказов должны быть заполнены, однако встречаются заказы с пропусками. Так, у 23 заказов из 96478 есть пропуски в некоторых колонках (подробно рассмотрено в исследовании заказов данного статуса), то есть пропуски есть у явного меньшенства (0.024% всех заказов статуса delivered). Предполагаю, что у данных 23 заказов не все поля заполнились из-за какого-то сбоя или ошибки системы. Данные заказы всё равно считаем доставленными до пользователя."
   ]
  },
  {
   "cell_type": "markdown",
   "id": "b1fcaa17",
   "metadata": {},
   "source": [
    "#### Определение покупок"
   ]
  },
  {
   "cell_type": "markdown",
   "id": "735fb085",
   "metadata": {},
   "source": [
    "Наконец, формилируем критерии, по которым будем определять покупки.<br>\n",
    "<ol>\n",
    "<li>Заказы должны находиться в таблице df_items.</li>\n",
    "<li>Заказ считается покупкой, если его счёт оплачен, то есть заказы статусов created, approved, invoiced, unavailable не являются покупками. Также не являются покупками заказы статуса canceled, которые были отменены до оплаты счёта.</li>\n",
    "</ol>\n",
    "Почему заказы должны находится в таблице df_items? В данном проекте мне нужно будет работать как с суммами покупок, так и с товарами, входящими в покупки. Поэтому данное условие необходимо.<br>\n",
    "В данном проекте я решил, что покупкой является заказ, счёт которого оплачен, по нескольким причинам. Во-первых, счёт является официальным документом, доказывающим факт совершения покупки. Во-вторых, после оплаты счёта клиентом магазин получает полную сумму денежных средств за заказ. В-третьих, данная трактовка покупки будет в разы удобнее при поиске ответов на дальнейшие вопросы проекта (например 3 и 4 вопросы из условия данного проекта). Как альтернативный вариант, покупками можно считать только доставленные заказы, однако это накладывает много ограничений для анализа и в таком случае теряются полезные данные для статистика онлайн-магазина."
   ]
  },
  {
   "cell_type": "markdown",
   "id": "bee9d01d",
   "metadata": {},
   "source": [
    "<b>Формируем таблицу с заказами, являющимеся покупками.<b>"
   ]
  },
  {
   "cell_type": "code",
   "execution_count": 1039,
   "id": "abce3547",
   "metadata": {},
   "outputs": [],
   "source": [
    "df_orders_with_purch_first_step = df_orders.loc[df_orders['order_id'].isin(df_items['order_id'])] \n",
    "# берём заказы, общие для таблиц df_orders и df_items"
   ]
  },
  {
   "cell_type": "code",
   "execution_count": 1040,
   "id": "f05af803",
   "metadata": {},
   "outputs": [
    {
     "data": {
      "text/plain": [
       "(98666, 8)"
      ]
     },
     "execution_count": 1040,
     "metadata": {},
     "output_type": "execute_result"
    }
   ],
   "source": [
    "df_orders_with_purch_first_step.shape"
   ]
  },
  {
   "cell_type": "markdown",
   "id": "cc181481",
   "metadata": {},
   "source": [
    "Так как в таблице df_items нет заказов со статусом created и части отменённых до оплаты счёта заказов (canceled до оплаты счёта), то после первого шага в получившейся таблице данных заказов не будет."
   ]
  },
  {
   "cell_type": "code",
   "execution_count": 1041,
   "id": "f97139fd",
   "metadata": {},
   "outputs": [],
   "source": [
    "df_orders_with_purch_second_step = df_orders_with_purch_first_step.query(\"order_status != 'approved'\")"
   ]
  },
  {
   "cell_type": "code",
   "execution_count": 1042,
   "id": "307ead46",
   "metadata": {},
   "outputs": [
    {
     "data": {
      "text/plain": [
       "(98664, 8)"
      ]
     },
     "execution_count": 1042,
     "metadata": {},
     "output_type": "execute_result"
    }
   ],
   "source": [
    "df_orders_with_purch_second_step.shape"
   ]
  },
  {
   "cell_type": "code",
   "execution_count": 1043,
   "id": "6a0fbe49",
   "metadata": {},
   "outputs": [],
   "source": [
    "df_orders_with_purch_third_step = df_orders_with_purch_second_step.query(\"order_status != 'invoiced'\")"
   ]
  },
  {
   "cell_type": "code",
   "execution_count": 1044,
   "id": "8eb0eb5f",
   "metadata": {},
   "outputs": [
    {
     "data": {
      "text/plain": [
       "(98352, 8)"
      ]
     },
     "execution_count": 1044,
     "metadata": {},
     "output_type": "execute_result"
    }
   ],
   "source": [
    "df_orders_with_purch_third_step.shape"
   ]
  },
  {
   "cell_type": "code",
   "execution_count": 1045,
   "id": "407ddff1",
   "metadata": {},
   "outputs": [],
   "source": [
    "df_orders_with_purch = df_orders_with_purch_third_step.query(\"order_status != 'unavailable'\")"
   ]
  },
  {
   "cell_type": "markdown",
   "id": "64ff7792",
   "metadata": {},
   "source": [
    "<b>Получаем таблицу покупок.<b>"
   ]
  },
  {
   "cell_type": "code",
   "execution_count": 1046,
   "id": "61bc594c",
   "metadata": {},
   "outputs": [
    {
     "data": {
      "text/html": [
       "<div>\n",
       "<style scoped>\n",
       "    .dataframe tbody tr th:only-of-type {\n",
       "        vertical-align: middle;\n",
       "    }\n",
       "\n",
       "    .dataframe tbody tr th {\n",
       "        vertical-align: top;\n",
       "    }\n",
       "\n",
       "    .dataframe thead th {\n",
       "        text-align: right;\n",
       "    }\n",
       "</style>\n",
       "<table border=\"1\" class=\"dataframe\">\n",
       "  <thead>\n",
       "    <tr style=\"text-align: right;\">\n",
       "      <th></th>\n",
       "      <th>order_id</th>\n",
       "      <th>customer_id</th>\n",
       "      <th>order_status</th>\n",
       "      <th>order_purchase_timestamp</th>\n",
       "      <th>order_approved_at</th>\n",
       "      <th>order_delivered_carrier_date</th>\n",
       "      <th>order_delivered_customer_date</th>\n",
       "      <th>order_estimated_delivery_date</th>\n",
       "    </tr>\n",
       "  </thead>\n",
       "  <tbody>\n",
       "    <tr>\n",
       "      <th>0</th>\n",
       "      <td>e481f51cbdc54678b7cc49136f2d6af7</td>\n",
       "      <td>9ef432eb6251297304e76186b10a928d</td>\n",
       "      <td>delivered</td>\n",
       "      <td>2017-10-02 10:56:33</td>\n",
       "      <td>2017-10-02 11:07:15</td>\n",
       "      <td>2017-10-04 19:55:00</td>\n",
       "      <td>2017-10-10 21:25:13</td>\n",
       "      <td>2017-10-18</td>\n",
       "    </tr>\n",
       "    <tr>\n",
       "      <th>1</th>\n",
       "      <td>53cdb2fc8bc7dce0b6741e2150273451</td>\n",
       "      <td>b0830fb4747a6c6d20dea0b8c802d7ef</td>\n",
       "      <td>delivered</td>\n",
       "      <td>2018-07-24 20:41:37</td>\n",
       "      <td>2018-07-26 03:24:27</td>\n",
       "      <td>2018-07-26 14:31:00</td>\n",
       "      <td>2018-08-07 15:27:45</td>\n",
       "      <td>2018-08-13</td>\n",
       "    </tr>\n",
       "    <tr>\n",
       "      <th>2</th>\n",
       "      <td>47770eb9100c2d0c44946d9cf07ec65d</td>\n",
       "      <td>41ce2a54c0b03bf3443c3d931a367089</td>\n",
       "      <td>delivered</td>\n",
       "      <td>2018-08-08 08:38:49</td>\n",
       "      <td>2018-08-08 08:55:23</td>\n",
       "      <td>2018-08-08 13:50:00</td>\n",
       "      <td>2018-08-17 18:06:29</td>\n",
       "      <td>2018-09-04</td>\n",
       "    </tr>\n",
       "    <tr>\n",
       "      <th>3</th>\n",
       "      <td>949d5b44dbf5de918fe9c16f97b45f8a</td>\n",
       "      <td>f88197465ea7920adcdbec7375364d82</td>\n",
       "      <td>delivered</td>\n",
       "      <td>2017-11-18 19:28:06</td>\n",
       "      <td>2017-11-18 19:45:59</td>\n",
       "      <td>2017-11-22 13:39:59</td>\n",
       "      <td>2017-12-02 00:28:42</td>\n",
       "      <td>2017-12-15</td>\n",
       "    </tr>\n",
       "    <tr>\n",
       "      <th>4</th>\n",
       "      <td>ad21c59c0840e6cb83a9ceb5573f8159</td>\n",
       "      <td>8ab97904e6daea8866dbdbc4fb7aad2c</td>\n",
       "      <td>delivered</td>\n",
       "      <td>2018-02-13 21:18:39</td>\n",
       "      <td>2018-02-13 22:20:29</td>\n",
       "      <td>2018-02-14 19:46:34</td>\n",
       "      <td>2018-02-16 18:17:02</td>\n",
       "      <td>2018-02-26</td>\n",
       "    </tr>\n",
       "  </tbody>\n",
       "</table>\n",
       "</div>"
      ],
      "text/plain": [
       "                           order_id                       customer_id  \\\n",
       "0  e481f51cbdc54678b7cc49136f2d6af7  9ef432eb6251297304e76186b10a928d   \n",
       "1  53cdb2fc8bc7dce0b6741e2150273451  b0830fb4747a6c6d20dea0b8c802d7ef   \n",
       "2  47770eb9100c2d0c44946d9cf07ec65d  41ce2a54c0b03bf3443c3d931a367089   \n",
       "3  949d5b44dbf5de918fe9c16f97b45f8a  f88197465ea7920adcdbec7375364d82   \n",
       "4  ad21c59c0840e6cb83a9ceb5573f8159  8ab97904e6daea8866dbdbc4fb7aad2c   \n",
       "\n",
       "  order_status order_purchase_timestamp   order_approved_at  \\\n",
       "0    delivered      2017-10-02 10:56:33 2017-10-02 11:07:15   \n",
       "1    delivered      2018-07-24 20:41:37 2018-07-26 03:24:27   \n",
       "2    delivered      2018-08-08 08:38:49 2018-08-08 08:55:23   \n",
       "3    delivered      2017-11-18 19:28:06 2017-11-18 19:45:59   \n",
       "4    delivered      2018-02-13 21:18:39 2018-02-13 22:20:29   \n",
       "\n",
       "  order_delivered_carrier_date order_delivered_customer_date  \\\n",
       "0          2017-10-04 19:55:00           2017-10-10 21:25:13   \n",
       "1          2018-07-26 14:31:00           2018-08-07 15:27:45   \n",
       "2          2018-08-08 13:50:00           2018-08-17 18:06:29   \n",
       "3          2017-11-22 13:39:59           2017-12-02 00:28:42   \n",
       "4          2018-02-14 19:46:34           2018-02-16 18:17:02   \n",
       "\n",
       "  order_estimated_delivery_date  \n",
       "0                    2017-10-18  \n",
       "1                    2018-08-13  \n",
       "2                    2018-09-04  \n",
       "3                    2017-12-15  \n",
       "4                    2018-02-26  "
      ]
     },
     "execution_count": 1046,
     "metadata": {},
     "output_type": "execute_result"
    }
   ],
   "source": [
    "df_orders_with_purch.head()"
   ]
  },
  {
   "cell_type": "code",
   "execution_count": 1047,
   "id": "d08fe073",
   "metadata": {},
   "outputs": [
    {
     "data": {
      "text/plain": [
       "(98346, 8)"
      ]
     },
     "execution_count": 1047,
     "metadata": {},
     "output_type": "execute_result"
    }
   ],
   "source": [
    "df_orders_with_purch.shape"
   ]
  },
  {
   "cell_type": "code",
   "execution_count": 1048,
   "id": "bd2ec404",
   "metadata": {},
   "outputs": [
    {
     "data": {
      "text/plain": [
       "order_status\n",
       "delivered     96478\n",
       "shipped        1106\n",
       "canceled        461\n",
       "processing      301\n",
       "Name: count, dtype: int64"
      ]
     },
     "execution_count": 1048,
     "metadata": {},
     "output_type": "execute_result"
    }
   ],
   "source": [
    "df_orders_with_purch.order_status.value_counts()"
   ]
  },
  {
   "cell_type": "markdown",
   "id": "c174e43f",
   "metadata": {},
   "source": [
    "<b>Определим таблицу с товарными позициями, входящими в покупки.<b>"
   ]
  },
  {
   "cell_type": "code",
   "execution_count": 1049,
   "id": "a2ca3836",
   "metadata": {},
   "outputs": [],
   "source": [
    "df_items_with_purch = df_items.loc[df_items['order_id'].isin(df_orders_with_purch['order_id'])]"
   ]
  },
  {
   "cell_type": "code",
   "execution_count": 1050,
   "id": "7b34da33",
   "metadata": {},
   "outputs": [
    {
     "data": {
      "text/html": [
       "<div>\n",
       "<style scoped>\n",
       "    .dataframe tbody tr th:only-of-type {\n",
       "        vertical-align: middle;\n",
       "    }\n",
       "\n",
       "    .dataframe tbody tr th {\n",
       "        vertical-align: top;\n",
       "    }\n",
       "\n",
       "    .dataframe thead th {\n",
       "        text-align: right;\n",
       "    }\n",
       "</style>\n",
       "<table border=\"1\" class=\"dataframe\">\n",
       "  <thead>\n",
       "    <tr style=\"text-align: right;\">\n",
       "      <th></th>\n",
       "      <th>order_id</th>\n",
       "      <th>order_item_id</th>\n",
       "      <th>product_id</th>\n",
       "      <th>seller_id</th>\n",
       "      <th>shipping_limit_date</th>\n",
       "      <th>price</th>\n",
       "      <th>freight_value</th>\n",
       "    </tr>\n",
       "  </thead>\n",
       "  <tbody>\n",
       "    <tr>\n",
       "      <th>0</th>\n",
       "      <td>00010242fe8c5a6d1ba2dd792cb16214</td>\n",
       "      <td>1</td>\n",
       "      <td>4244733e06e7ecb4970a6e2683c13e61</td>\n",
       "      <td>48436dade18ac8b2bce089ec2a041202</td>\n",
       "      <td>2017-09-19 09:45:35</td>\n",
       "      <td>58.90</td>\n",
       "      <td>13.29</td>\n",
       "    </tr>\n",
       "    <tr>\n",
       "      <th>1</th>\n",
       "      <td>00018f77f2f0320c557190d7a144bdd3</td>\n",
       "      <td>1</td>\n",
       "      <td>e5f2d52b802189ee658865ca93d83a8f</td>\n",
       "      <td>dd7ddc04e1b6c2c614352b383efe2d36</td>\n",
       "      <td>2017-05-03 11:05:13</td>\n",
       "      <td>239.90</td>\n",
       "      <td>19.93</td>\n",
       "    </tr>\n",
       "    <tr>\n",
       "      <th>2</th>\n",
       "      <td>000229ec398224ef6ca0657da4fc703e</td>\n",
       "      <td>1</td>\n",
       "      <td>c777355d18b72b67abbeef9df44fd0fd</td>\n",
       "      <td>5b51032eddd242adc84c38acab88f23d</td>\n",
       "      <td>2018-01-18 14:48:30</td>\n",
       "      <td>199.00</td>\n",
       "      <td>17.87</td>\n",
       "    </tr>\n",
       "    <tr>\n",
       "      <th>3</th>\n",
       "      <td>00024acbcdf0a6daa1e931b038114c75</td>\n",
       "      <td>1</td>\n",
       "      <td>7634da152a4610f1595efa32f14722fc</td>\n",
       "      <td>9d7a1d34a5052409006425275ba1c2b4</td>\n",
       "      <td>2018-08-15 10:10:18</td>\n",
       "      <td>12.99</td>\n",
       "      <td>12.79</td>\n",
       "    </tr>\n",
       "    <tr>\n",
       "      <th>4</th>\n",
       "      <td>00042b26cf59d7ce69dfabb4e55b4fd9</td>\n",
       "      <td>1</td>\n",
       "      <td>ac6c3623068f30de03045865e4e10089</td>\n",
       "      <td>df560393f3a51e74553ab94004ba5c87</td>\n",
       "      <td>2017-02-13 13:57:51</td>\n",
       "      <td>199.90</td>\n",
       "      <td>18.14</td>\n",
       "    </tr>\n",
       "  </tbody>\n",
       "</table>\n",
       "</div>"
      ],
      "text/plain": [
       "                           order_id  order_item_id  \\\n",
       "0  00010242fe8c5a6d1ba2dd792cb16214              1   \n",
       "1  00018f77f2f0320c557190d7a144bdd3              1   \n",
       "2  000229ec398224ef6ca0657da4fc703e              1   \n",
       "3  00024acbcdf0a6daa1e931b038114c75              1   \n",
       "4  00042b26cf59d7ce69dfabb4e55b4fd9              1   \n",
       "\n",
       "                         product_id                         seller_id  \\\n",
       "0  4244733e06e7ecb4970a6e2683c13e61  48436dade18ac8b2bce089ec2a041202   \n",
       "1  e5f2d52b802189ee658865ca93d83a8f  dd7ddc04e1b6c2c614352b383efe2d36   \n",
       "2  c777355d18b72b67abbeef9df44fd0fd  5b51032eddd242adc84c38acab88f23d   \n",
       "3  7634da152a4610f1595efa32f14722fc  9d7a1d34a5052409006425275ba1c2b4   \n",
       "4  ac6c3623068f30de03045865e4e10089  df560393f3a51e74553ab94004ba5c87   \n",
       "\n",
       "  shipping_limit_date   price  freight_value  \n",
       "0 2017-09-19 09:45:35   58.90          13.29  \n",
       "1 2017-05-03 11:05:13  239.90          19.93  \n",
       "2 2018-01-18 14:48:30  199.00          17.87  \n",
       "3 2018-08-15 10:10:18   12.99          12.79  \n",
       "4 2017-02-13 13:57:51  199.90          18.14  "
      ]
     },
     "execution_count": 1050,
     "metadata": {},
     "output_type": "execute_result"
    }
   ],
   "source": [
    "df_items_with_purch.head()"
   ]
  },
  {
   "cell_type": "code",
   "execution_count": 1051,
   "id": "1fbbe719",
   "metadata": {},
   "outputs": [
    {
     "data": {
      "text/plain": [
       "(112281, 7)"
      ]
     },
     "execution_count": 1051,
     "metadata": {},
     "output_type": "execute_result"
    }
   ],
   "source": [
    "df_items_with_purch.shape"
   ]
  },
  {
   "cell_type": "markdown",
   "id": "4dd1a6d6",
   "metadata": {},
   "source": [
    "<b>Определим таблицу с уникальными идентификаторами пользователей, совершивших покупки.<b>"
   ]
  },
  {
   "cell_type": "code",
   "execution_count": 1052,
   "id": "04e89c71",
   "metadata": {},
   "outputs": [],
   "source": [
    "df_customers_with_purch = df_customers.loc[df_customers['customer_id'].isin(df_orders_with_purch['customer_id'])]"
   ]
  },
  {
   "cell_type": "code",
   "execution_count": 1053,
   "id": "240f7f2d",
   "metadata": {},
   "outputs": [
    {
     "data": {
      "text/html": [
       "<div>\n",
       "<style scoped>\n",
       "    .dataframe tbody tr th:only-of-type {\n",
       "        vertical-align: middle;\n",
       "    }\n",
       "\n",
       "    .dataframe tbody tr th {\n",
       "        vertical-align: top;\n",
       "    }\n",
       "\n",
       "    .dataframe thead th {\n",
       "        text-align: right;\n",
       "    }\n",
       "</style>\n",
       "<table border=\"1\" class=\"dataframe\">\n",
       "  <thead>\n",
       "    <tr style=\"text-align: right;\">\n",
       "      <th></th>\n",
       "      <th>customer_id</th>\n",
       "      <th>customer_unique_id</th>\n",
       "      <th>customer_zip_code_prefix</th>\n",
       "      <th>customer_city</th>\n",
       "      <th>customer_state</th>\n",
       "    </tr>\n",
       "  </thead>\n",
       "  <tbody>\n",
       "    <tr>\n",
       "      <th>0</th>\n",
       "      <td>06b8999e2fba1a1fbc88172c00ba8bc7</td>\n",
       "      <td>861eff4711a542e4b93843c6dd7febb0</td>\n",
       "      <td>14409</td>\n",
       "      <td>franca</td>\n",
       "      <td>SP</td>\n",
       "    </tr>\n",
       "    <tr>\n",
       "      <th>1</th>\n",
       "      <td>18955e83d337fd6b2def6b18a428ac77</td>\n",
       "      <td>290c77bc529b7ac935b93aa66c333dc3</td>\n",
       "      <td>9790</td>\n",
       "      <td>sao bernardo do campo</td>\n",
       "      <td>SP</td>\n",
       "    </tr>\n",
       "    <tr>\n",
       "      <th>2</th>\n",
       "      <td>4e7b3e00288586ebd08712fdd0374a03</td>\n",
       "      <td>060e732b5b29e8181a18229c7b0b2b5e</td>\n",
       "      <td>1151</td>\n",
       "      <td>sao paulo</td>\n",
       "      <td>SP</td>\n",
       "    </tr>\n",
       "    <tr>\n",
       "      <th>3</th>\n",
       "      <td>b2b6027bc5c5109e529d4dc6358b12c3</td>\n",
       "      <td>259dac757896d24d7702b9acbbff3f3c</td>\n",
       "      <td>8775</td>\n",
       "      <td>mogi das cruzes</td>\n",
       "      <td>SP</td>\n",
       "    </tr>\n",
       "    <tr>\n",
       "      <th>4</th>\n",
       "      <td>4f2d8ab171c80ec8364f7c12e35b23ad</td>\n",
       "      <td>345ecd01c38d18a9036ed96c73b8d066</td>\n",
       "      <td>13056</td>\n",
       "      <td>campinas</td>\n",
       "      <td>SP</td>\n",
       "    </tr>\n",
       "  </tbody>\n",
       "</table>\n",
       "</div>"
      ],
      "text/plain": [
       "                        customer_id                customer_unique_id  \\\n",
       "0  06b8999e2fba1a1fbc88172c00ba8bc7  861eff4711a542e4b93843c6dd7febb0   \n",
       "1  18955e83d337fd6b2def6b18a428ac77  290c77bc529b7ac935b93aa66c333dc3   \n",
       "2  4e7b3e00288586ebd08712fdd0374a03  060e732b5b29e8181a18229c7b0b2b5e   \n",
       "3  b2b6027bc5c5109e529d4dc6358b12c3  259dac757896d24d7702b9acbbff3f3c   \n",
       "4  4f2d8ab171c80ec8364f7c12e35b23ad  345ecd01c38d18a9036ed96c73b8d066   \n",
       "\n",
       "   customer_zip_code_prefix          customer_city customer_state  \n",
       "0                     14409                 franca             SP  \n",
       "1                      9790  sao bernardo do campo             SP  \n",
       "2                      1151              sao paulo             SP  \n",
       "3                      8775        mogi das cruzes             SP  \n",
       "4                     13056               campinas             SP  "
      ]
     },
     "execution_count": 1053,
     "metadata": {},
     "output_type": "execute_result"
    }
   ],
   "source": [
    "df_customers_with_purch.head()"
   ]
  },
  {
   "cell_type": "code",
   "execution_count": 1054,
   "id": "bb9d337d",
   "metadata": {},
   "outputs": [
    {
     "data": {
      "text/plain": [
       "(98346, 5)"
      ]
     },
     "execution_count": 1054,
     "metadata": {},
     "output_type": "execute_result"
    }
   ],
   "source": [
    "df_customers_with_purch.shape"
   ]
  },
  {
   "cell_type": "markdown",
   "id": "5926c251",
   "metadata": {},
   "source": [
    "## 1. Сколько у нас пользователей, которые совершили покупку только один раз?"
   ]
  },
  {
   "cell_type": "markdown",
   "id": "e58df79e",
   "metadata": {},
   "source": [
    "Для каждого уникального пользователя колонки customer_unique_id таблицы df_customers_with_purch посчитаем количество сделанных заказов (то есть количество customer_id для каждого пользователя). После определим пользователей, совершивших только одну покупку, и посчитаем их количество."
   ]
  },
  {
   "cell_type": "code",
   "execution_count": 1055,
   "id": "a3377274",
   "metadata": {},
   "outputs": [
    {
     "data": {
      "text/plain": [
       "92218"
      ]
     },
     "execution_count": 1055,
     "metadata": {},
     "output_type": "execute_result"
    }
   ],
   "source": [
    "df_customers_with_purch.customer_unique_id.value_counts().to_frame().query(\"count == 1\").shape[0]"
   ]
  },
  {
   "cell_type": "markdown",
   "id": "4d7b4913",
   "metadata": {},
   "source": [
    "<b>Ответ:</b> 92218 пользователей совершили покупку только один раз."
   ]
  },
  {
   "cell_type": "markdown",
   "id": "a9edcfa5",
   "metadata": {},
   "source": [
    "## 2. Сколько заказов в месяц в среднем не доставляется по разным причинам (вывести детализацию по причинам)?"
   ]
  },
  {
   "cell_type": "markdown",
   "id": "bb107e61",
   "metadata": {},
   "source": [
    "Для ответа на данный вопрос рассматриваем только заказы, являющиеся покупками, так как именно после оплаты счёта (что равносильно совершению покупки) заказ переходит в стадию доставки до клиента (подготовка заказа, предача заказа в логистическую службу, доставка заказа логистической службой клиенту)."
   ]
  },
  {
   "cell_type": "code",
   "execution_count": 1056,
   "id": "6d1baff0",
   "metadata": {},
   "outputs": [
    {
     "data": {
      "text/html": [
       "<div>\n",
       "<style scoped>\n",
       "    .dataframe tbody tr th:only-of-type {\n",
       "        vertical-align: middle;\n",
       "    }\n",
       "\n",
       "    .dataframe tbody tr th {\n",
       "        vertical-align: top;\n",
       "    }\n",
       "\n",
       "    .dataframe thead th {\n",
       "        text-align: right;\n",
       "    }\n",
       "</style>\n",
       "<table border=\"1\" class=\"dataframe\">\n",
       "  <thead>\n",
       "    <tr style=\"text-align: right;\">\n",
       "      <th></th>\n",
       "      <th>order_id</th>\n",
       "      <th>customer_id</th>\n",
       "      <th>order_status</th>\n",
       "      <th>order_purchase_timestamp</th>\n",
       "      <th>order_approved_at</th>\n",
       "      <th>order_delivered_carrier_date</th>\n",
       "      <th>order_delivered_customer_date</th>\n",
       "      <th>order_estimated_delivery_date</th>\n",
       "    </tr>\n",
       "  </thead>\n",
       "  <tbody>\n",
       "    <tr>\n",
       "      <th>0</th>\n",
       "      <td>e481f51cbdc54678b7cc49136f2d6af7</td>\n",
       "      <td>9ef432eb6251297304e76186b10a928d</td>\n",
       "      <td>delivered</td>\n",
       "      <td>2017-10-02 10:56:33</td>\n",
       "      <td>2017-10-02 11:07:15</td>\n",
       "      <td>2017-10-04 19:55:00</td>\n",
       "      <td>2017-10-10 21:25:13</td>\n",
       "      <td>2017-10-18</td>\n",
       "    </tr>\n",
       "    <tr>\n",
       "      <th>1</th>\n",
       "      <td>53cdb2fc8bc7dce0b6741e2150273451</td>\n",
       "      <td>b0830fb4747a6c6d20dea0b8c802d7ef</td>\n",
       "      <td>delivered</td>\n",
       "      <td>2018-07-24 20:41:37</td>\n",
       "      <td>2018-07-26 03:24:27</td>\n",
       "      <td>2018-07-26 14:31:00</td>\n",
       "      <td>2018-08-07 15:27:45</td>\n",
       "      <td>2018-08-13</td>\n",
       "    </tr>\n",
       "    <tr>\n",
       "      <th>2</th>\n",
       "      <td>47770eb9100c2d0c44946d9cf07ec65d</td>\n",
       "      <td>41ce2a54c0b03bf3443c3d931a367089</td>\n",
       "      <td>delivered</td>\n",
       "      <td>2018-08-08 08:38:49</td>\n",
       "      <td>2018-08-08 08:55:23</td>\n",
       "      <td>2018-08-08 13:50:00</td>\n",
       "      <td>2018-08-17 18:06:29</td>\n",
       "      <td>2018-09-04</td>\n",
       "    </tr>\n",
       "    <tr>\n",
       "      <th>3</th>\n",
       "      <td>949d5b44dbf5de918fe9c16f97b45f8a</td>\n",
       "      <td>f88197465ea7920adcdbec7375364d82</td>\n",
       "      <td>delivered</td>\n",
       "      <td>2017-11-18 19:28:06</td>\n",
       "      <td>2017-11-18 19:45:59</td>\n",
       "      <td>2017-11-22 13:39:59</td>\n",
       "      <td>2017-12-02 00:28:42</td>\n",
       "      <td>2017-12-15</td>\n",
       "    </tr>\n",
       "    <tr>\n",
       "      <th>4</th>\n",
       "      <td>ad21c59c0840e6cb83a9ceb5573f8159</td>\n",
       "      <td>8ab97904e6daea8866dbdbc4fb7aad2c</td>\n",
       "      <td>delivered</td>\n",
       "      <td>2018-02-13 21:18:39</td>\n",
       "      <td>2018-02-13 22:20:29</td>\n",
       "      <td>2018-02-14 19:46:34</td>\n",
       "      <td>2018-02-16 18:17:02</td>\n",
       "      <td>2018-02-26</td>\n",
       "    </tr>\n",
       "  </tbody>\n",
       "</table>\n",
       "</div>"
      ],
      "text/plain": [
       "                           order_id                       customer_id  \\\n",
       "0  e481f51cbdc54678b7cc49136f2d6af7  9ef432eb6251297304e76186b10a928d   \n",
       "1  53cdb2fc8bc7dce0b6741e2150273451  b0830fb4747a6c6d20dea0b8c802d7ef   \n",
       "2  47770eb9100c2d0c44946d9cf07ec65d  41ce2a54c0b03bf3443c3d931a367089   \n",
       "3  949d5b44dbf5de918fe9c16f97b45f8a  f88197465ea7920adcdbec7375364d82   \n",
       "4  ad21c59c0840e6cb83a9ceb5573f8159  8ab97904e6daea8866dbdbc4fb7aad2c   \n",
       "\n",
       "  order_status order_purchase_timestamp   order_approved_at  \\\n",
       "0    delivered      2017-10-02 10:56:33 2017-10-02 11:07:15   \n",
       "1    delivered      2018-07-24 20:41:37 2018-07-26 03:24:27   \n",
       "2    delivered      2018-08-08 08:38:49 2018-08-08 08:55:23   \n",
       "3    delivered      2017-11-18 19:28:06 2017-11-18 19:45:59   \n",
       "4    delivered      2018-02-13 21:18:39 2018-02-13 22:20:29   \n",
       "\n",
       "  order_delivered_carrier_date order_delivered_customer_date  \\\n",
       "0          2017-10-04 19:55:00           2017-10-10 21:25:13   \n",
       "1          2018-07-26 14:31:00           2018-08-07 15:27:45   \n",
       "2          2018-08-08 13:50:00           2018-08-17 18:06:29   \n",
       "3          2017-11-22 13:39:59           2017-12-02 00:28:42   \n",
       "4          2018-02-14 19:46:34           2018-02-16 18:17:02   \n",
       "\n",
       "  order_estimated_delivery_date  \n",
       "0                    2017-10-18  \n",
       "1                    2018-08-13  \n",
       "2                    2018-09-04  \n",
       "3                    2017-12-15  \n",
       "4                    2018-02-26  "
      ]
     },
     "execution_count": 1056,
     "metadata": {},
     "output_type": "execute_result"
    }
   ],
   "source": [
    "df_orders_with_purch.head()"
   ]
  },
  {
   "cell_type": "code",
   "execution_count": 1057,
   "id": "18e2e9ed",
   "metadata": {},
   "outputs": [
    {
     "data": {
      "text/plain": [
       "order_status\n",
       "delivered     96478\n",
       "shipped        1106\n",
       "canceled        461\n",
       "processing      301\n",
       "Name: count, dtype: int64"
      ]
     },
     "execution_count": 1057,
     "metadata": {},
     "output_type": "execute_result"
    }
   ],
   "source": [
    "df_orders_with_purch.order_status.value_counts()"
   ]
  },
  {
   "cell_type": "markdown",
   "id": "60b094b1",
   "metadata": {},
   "source": [
    "В таблицу с недоставленными заказами не должны входить заказы статуса delivered, так как считаем, что заказы с данным статусом всегда были доставлены. Также в данную таблицу не входят те заказы статуса canceled, которые были отменены пользователями после получения."
   ]
  },
  {
   "cell_type": "code",
   "execution_count": 1058,
   "id": "94f6aae3",
   "metadata": {},
   "outputs": [],
   "source": [
    "df_orders_with_purch_without_delivered = df_orders_with_purch.query(\"order_status != 'delivered'\")\n",
    "# Исключаем заказы статуса delivered"
   ]
  },
  {
   "cell_type": "markdown",
   "id": "f5b13660",
   "metadata": {},
   "source": [
    "Определим заказы, отменённые после получения клиентом."
   ]
  },
  {
   "cell_type": "code",
   "execution_count": 1059,
   "id": "d75d2940",
   "metadata": {},
   "outputs": [],
   "source": [
    "orders_canceled_after_delivery = (df_orders_with_purch_without_delivered\n",
    "                                  .query(\"order_status == 'canceled'\")\n",
    "                                  .loc[df_orders_with_purch_without_delivered.order_delivered_customer_date.notna()])"
   ]
  },
  {
   "cell_type": "code",
   "execution_count": 1060,
   "id": "1626cbbb",
   "metadata": {},
   "outputs": [
    {
     "data": {
      "text/html": [
       "<div>\n",
       "<style scoped>\n",
       "    .dataframe tbody tr th:only-of-type {\n",
       "        vertical-align: middle;\n",
       "    }\n",
       "\n",
       "    .dataframe tbody tr th {\n",
       "        vertical-align: top;\n",
       "    }\n",
       "\n",
       "    .dataframe thead th {\n",
       "        text-align: right;\n",
       "    }\n",
       "</style>\n",
       "<table border=\"1\" class=\"dataframe\">\n",
       "  <thead>\n",
       "    <tr style=\"text-align: right;\">\n",
       "      <th></th>\n",
       "      <th>order_id</th>\n",
       "      <th>customer_id</th>\n",
       "      <th>order_status</th>\n",
       "      <th>order_purchase_timestamp</th>\n",
       "      <th>order_approved_at</th>\n",
       "      <th>order_delivered_carrier_date</th>\n",
       "      <th>order_delivered_customer_date</th>\n",
       "      <th>order_estimated_delivery_date</th>\n",
       "    </tr>\n",
       "  </thead>\n",
       "  <tbody>\n",
       "    <tr>\n",
       "      <th>2921</th>\n",
       "      <td>1950d777989f6a877539f53795b4c3c3</td>\n",
       "      <td>1bccb206de9f0f25adc6871a1bcf77b2</td>\n",
       "      <td>canceled</td>\n",
       "      <td>2018-02-19 19:48:52</td>\n",
       "      <td>2018-02-19 20:56:05</td>\n",
       "      <td>2018-02-20 19:57:13</td>\n",
       "      <td>2018-03-21 22:03:51</td>\n",
       "      <td>2018-03-09</td>\n",
       "    </tr>\n",
       "    <tr>\n",
       "      <th>8791</th>\n",
       "      <td>dabf2b0e35b423f94618bf965fcb7514</td>\n",
       "      <td>5cdec0bb8cbdf53ffc8fdc212cd247c6</td>\n",
       "      <td>canceled</td>\n",
       "      <td>2016-10-09 00:56:52</td>\n",
       "      <td>2016-10-09 13:36:58</td>\n",
       "      <td>2016-10-13 13:36:59</td>\n",
       "      <td>2016-10-16 14:36:59</td>\n",
       "      <td>2016-11-30</td>\n",
       "    </tr>\n",
       "    <tr>\n",
       "      <th>58266</th>\n",
       "      <td>770d331c84e5b214bd9dc70a10b829d0</td>\n",
       "      <td>6c57e6119369185e575b36712766b0ef</td>\n",
       "      <td>canceled</td>\n",
       "      <td>2016-10-07 14:52:30</td>\n",
       "      <td>2016-10-07 15:07:10</td>\n",
       "      <td>2016-10-11 15:07:11</td>\n",
       "      <td>2016-10-14 15:07:11</td>\n",
       "      <td>2016-11-29</td>\n",
       "    </tr>\n",
       "    <tr>\n",
       "      <th>59332</th>\n",
       "      <td>8beb59392e21af5eb9547ae1a9938d06</td>\n",
       "      <td>bf609b5741f71697f65ce3852c5d2623</td>\n",
       "      <td>canceled</td>\n",
       "      <td>2016-10-08 20:17:50</td>\n",
       "      <td>2016-10-09 14:34:30</td>\n",
       "      <td>2016-10-14 22:45:26</td>\n",
       "      <td>2016-10-19 18:47:43</td>\n",
       "      <td>2016-11-30</td>\n",
       "    </tr>\n",
       "    <tr>\n",
       "      <th>92636</th>\n",
       "      <td>65d1e226dfaeb8cdc42f665422522d14</td>\n",
       "      <td>70fc57eeae292675927697fe03ad3ff5</td>\n",
       "      <td>canceled</td>\n",
       "      <td>2016-10-03 21:01:41</td>\n",
       "      <td>2016-10-04 10:18:57</td>\n",
       "      <td>2016-10-25 12:14:28</td>\n",
       "      <td>2016-11-08 10:58:34</td>\n",
       "      <td>2016-11-25</td>\n",
       "    </tr>\n",
       "    <tr>\n",
       "      <th>94399</th>\n",
       "      <td>2c45c33d2f9cb8ff8b1c86cc28c11c30</td>\n",
       "      <td>de4caa97afa80c8eeac2ff4c8da5b72e</td>\n",
       "      <td>canceled</td>\n",
       "      <td>2016-10-09 15:39:56</td>\n",
       "      <td>2016-10-10 10:40:49</td>\n",
       "      <td>2016-10-14 10:40:50</td>\n",
       "      <td>2016-11-09 14:53:50</td>\n",
       "      <td>2016-12-08</td>\n",
       "    </tr>\n",
       "  </tbody>\n",
       "</table>\n",
       "</div>"
      ],
      "text/plain": [
       "                               order_id                       customer_id  \\\n",
       "2921   1950d777989f6a877539f53795b4c3c3  1bccb206de9f0f25adc6871a1bcf77b2   \n",
       "8791   dabf2b0e35b423f94618bf965fcb7514  5cdec0bb8cbdf53ffc8fdc212cd247c6   \n",
       "58266  770d331c84e5b214bd9dc70a10b829d0  6c57e6119369185e575b36712766b0ef   \n",
       "59332  8beb59392e21af5eb9547ae1a9938d06  bf609b5741f71697f65ce3852c5d2623   \n",
       "92636  65d1e226dfaeb8cdc42f665422522d14  70fc57eeae292675927697fe03ad3ff5   \n",
       "94399  2c45c33d2f9cb8ff8b1c86cc28c11c30  de4caa97afa80c8eeac2ff4c8da5b72e   \n",
       "\n",
       "      order_status order_purchase_timestamp   order_approved_at  \\\n",
       "2921      canceled      2018-02-19 19:48:52 2018-02-19 20:56:05   \n",
       "8791      canceled      2016-10-09 00:56:52 2016-10-09 13:36:58   \n",
       "58266     canceled      2016-10-07 14:52:30 2016-10-07 15:07:10   \n",
       "59332     canceled      2016-10-08 20:17:50 2016-10-09 14:34:30   \n",
       "92636     canceled      2016-10-03 21:01:41 2016-10-04 10:18:57   \n",
       "94399     canceled      2016-10-09 15:39:56 2016-10-10 10:40:49   \n",
       "\n",
       "      order_delivered_carrier_date order_delivered_customer_date  \\\n",
       "2921           2018-02-20 19:57:13           2018-03-21 22:03:51   \n",
       "8791           2016-10-13 13:36:59           2016-10-16 14:36:59   \n",
       "58266          2016-10-11 15:07:11           2016-10-14 15:07:11   \n",
       "59332          2016-10-14 22:45:26           2016-10-19 18:47:43   \n",
       "92636          2016-10-25 12:14:28           2016-11-08 10:58:34   \n",
       "94399          2016-10-14 10:40:50           2016-11-09 14:53:50   \n",
       "\n",
       "      order_estimated_delivery_date  \n",
       "2921                     2018-03-09  \n",
       "8791                     2016-11-30  \n",
       "58266                    2016-11-29  \n",
       "59332                    2016-11-30  \n",
       "92636                    2016-11-25  \n",
       "94399                    2016-12-08  "
      ]
     },
     "execution_count": 1060,
     "metadata": {},
     "output_type": "execute_result"
    }
   ],
   "source": [
    "orders_canceled_after_delivery # данные заказы были отменены после того, как были доставлены."
   ]
  },
  {
   "cell_type": "code",
   "execution_count": 1061,
   "id": "b6c58308",
   "metadata": {},
   "outputs": [],
   "source": [
    "df_orders_with_purch_not_delivered = (df_orders_with_purch_without_delivered\n",
    "                                      .loc[~df_orders_with_purch_without_delivered['order_id']\n",
    "                                           .isin(orders_canceled_after_delivery.order_id)])\n",
    "# Исключаем заказы, которые были отменены после того, как были доставлены."
   ]
  },
  {
   "cell_type": "code",
   "execution_count": 1062,
   "id": "d8a1603b",
   "metadata": {},
   "outputs": [
    {
     "data": {
      "text/html": [
       "<div>\n",
       "<style scoped>\n",
       "    .dataframe tbody tr th:only-of-type {\n",
       "        vertical-align: middle;\n",
       "    }\n",
       "\n",
       "    .dataframe tbody tr th {\n",
       "        vertical-align: top;\n",
       "    }\n",
       "\n",
       "    .dataframe thead th {\n",
       "        text-align: right;\n",
       "    }\n",
       "</style>\n",
       "<table border=\"1\" class=\"dataframe\">\n",
       "  <thead>\n",
       "    <tr style=\"text-align: right;\">\n",
       "      <th></th>\n",
       "      <th>order_id</th>\n",
       "      <th>customer_id</th>\n",
       "      <th>order_status</th>\n",
       "      <th>order_purchase_timestamp</th>\n",
       "      <th>order_approved_at</th>\n",
       "      <th>order_delivered_carrier_date</th>\n",
       "      <th>order_delivered_customer_date</th>\n",
       "      <th>order_estimated_delivery_date</th>\n",
       "    </tr>\n",
       "  </thead>\n",
       "  <tbody>\n",
       "    <tr>\n",
       "      <th>44</th>\n",
       "      <td>ee64d42b8cf066f35eac1cf57de1aa85</td>\n",
       "      <td>caded193e8e47b8362864762a83db3c5</td>\n",
       "      <td>shipped</td>\n",
       "      <td>2018-06-04 16:44:48</td>\n",
       "      <td>2018-06-05 04:31:18</td>\n",
       "      <td>2018-06-05 14:32:00</td>\n",
       "      <td>NaT</td>\n",
       "      <td>2018-06-28</td>\n",
       "    </tr>\n",
       "    <tr>\n",
       "      <th>128</th>\n",
       "      <td>15bed8e2fec7fdbadb186b57c46c92f2</td>\n",
       "      <td>f3f0e613e0bdb9c7cee75504f0f90679</td>\n",
       "      <td>processing</td>\n",
       "      <td>2017-09-03 14:22:03</td>\n",
       "      <td>2017-09-03 14:30:09</td>\n",
       "      <td>NaT</td>\n",
       "      <td>NaT</td>\n",
       "      <td>2017-10-03</td>\n",
       "    </tr>\n",
       "    <tr>\n",
       "      <th>154</th>\n",
       "      <td>6942b8da583c2f9957e990d028607019</td>\n",
       "      <td>52006a9383bf149a4fb24226b173106f</td>\n",
       "      <td>shipped</td>\n",
       "      <td>2018-01-10 11:33:07</td>\n",
       "      <td>2018-01-11 02:32:30</td>\n",
       "      <td>2018-01-11 19:39:23</td>\n",
       "      <td>NaT</td>\n",
       "      <td>2018-02-07</td>\n",
       "    </tr>\n",
       "    <tr>\n",
       "      <th>162</th>\n",
       "      <td>36530871a5e80138db53bcfd8a104d90</td>\n",
       "      <td>4dafe3c841d2d6cc8a8b6d25b35704b9</td>\n",
       "      <td>shipped</td>\n",
       "      <td>2017-05-09 11:48:37</td>\n",
       "      <td>2017-05-11 11:45:14</td>\n",
       "      <td>2017-05-11 13:21:47</td>\n",
       "      <td>NaT</td>\n",
       "      <td>2017-06-08</td>\n",
       "    </tr>\n",
       "    <tr>\n",
       "      <th>231</th>\n",
       "      <td>4d630f57194f5aba1a3d12ce23e71cd9</td>\n",
       "      <td>6d491c9fe2f04f6e2af6ec033cd8907c</td>\n",
       "      <td>shipped</td>\n",
       "      <td>2017-11-17 19:53:21</td>\n",
       "      <td>2017-11-18 19:50:31</td>\n",
       "      <td>2017-11-22 17:28:34</td>\n",
       "      <td>NaT</td>\n",
       "      <td>2017-12-13</td>\n",
       "    </tr>\n",
       "  </tbody>\n",
       "</table>\n",
       "</div>"
      ],
      "text/plain": [
       "                             order_id                       customer_id  \\\n",
       "44   ee64d42b8cf066f35eac1cf57de1aa85  caded193e8e47b8362864762a83db3c5   \n",
       "128  15bed8e2fec7fdbadb186b57c46c92f2  f3f0e613e0bdb9c7cee75504f0f90679   \n",
       "154  6942b8da583c2f9957e990d028607019  52006a9383bf149a4fb24226b173106f   \n",
       "162  36530871a5e80138db53bcfd8a104d90  4dafe3c841d2d6cc8a8b6d25b35704b9   \n",
       "231  4d630f57194f5aba1a3d12ce23e71cd9  6d491c9fe2f04f6e2af6ec033cd8907c   \n",
       "\n",
       "    order_status order_purchase_timestamp   order_approved_at  \\\n",
       "44       shipped      2018-06-04 16:44:48 2018-06-05 04:31:18   \n",
       "128   processing      2017-09-03 14:22:03 2017-09-03 14:30:09   \n",
       "154      shipped      2018-01-10 11:33:07 2018-01-11 02:32:30   \n",
       "162      shipped      2017-05-09 11:48:37 2017-05-11 11:45:14   \n",
       "231      shipped      2017-11-17 19:53:21 2017-11-18 19:50:31   \n",
       "\n",
       "    order_delivered_carrier_date order_delivered_customer_date  \\\n",
       "44           2018-06-05 14:32:00                           NaT   \n",
       "128                          NaT                           NaT   \n",
       "154          2018-01-11 19:39:23                           NaT   \n",
       "162          2017-05-11 13:21:47                           NaT   \n",
       "231          2017-11-22 17:28:34                           NaT   \n",
       "\n",
       "    order_estimated_delivery_date  \n",
       "44                     2018-06-28  \n",
       "128                    2017-10-03  \n",
       "154                    2018-02-07  \n",
       "162                    2017-06-08  \n",
       "231                    2017-12-13  "
      ]
     },
     "execution_count": 1062,
     "metadata": {},
     "output_type": "execute_result"
    }
   ],
   "source": [
    "df_orders_with_purch_not_delivered.head() # итоговая таблица с заказами, которые не были доставлены"
   ]
  },
  {
   "cell_type": "code",
   "execution_count": 1063,
   "id": "68980b12",
   "metadata": {},
   "outputs": [
    {
     "data": {
      "text/plain": [
       "order_status\n",
       "shipped       1106\n",
       "canceled       455\n",
       "processing     301\n",
       "Name: count, dtype: int64"
      ]
     },
     "execution_count": 1063,
     "metadata": {},
     "output_type": "execute_result"
    }
   ],
   "source": [
    "df_orders_with_purch_not_delivered.order_status.value_counts()"
   ]
  },
  {
   "cell_type": "markdown",
   "id": "3e9f84c0",
   "metadata": {},
   "source": [
    "#### Заказы статуса canceled.\n",
    "Сразу можно сказать, что заказы с данным статусом не были доставлены, потому что были отменены клиентом во время доставки или в момент, когда заказ ещё не был передан в службу доставки."
   ]
  },
  {
   "cell_type": "markdown",
   "id": "c30dee08",
   "metadata": {},
   "source": [
    "#### Заказы статуса processing.\n",
    "Рассмотрим подробнее заказы статуса processing. В таблице df_items_with_purch есть колонка shipping_limit_date - максимальная дата доставки продавцом для передачи заказа партнеру по логистике. Проверим, есть ли среди заказов со статусом processing те, которые не были вовремя доставлнеы продавцов в логистическую службу. Для этого сначала определим в таблице df_orders (содержит как заказы-покупки, так и заказы, которые покупками не являются) максимальную дату, то есть рассмотрим колонки order_purchase_timestamp, order_approved_at, order_delivered_carrier_date и order_delivered_customer_date и оапределим максимальную дату среди всех данных колонок. Будем считать, что относительно данной даты проводиться анализ. Колонка order_estimated_delivery_date не рассматривается, так как в ней содержутся обещанные даты доставки, то есть значения, подсчитанные системой и обозначающие будущие возможные события."
   ]
  },
  {
   "cell_type": "code",
   "execution_count": 1064,
   "id": "7d32f3f5",
   "metadata": {},
   "outputs": [],
   "source": [
    "current_date = max(df_orders[['order_purchase_timestamp', 'order_approved_at', \n",
    "                              'order_delivered_carrier_date', 'order_delivered_customer_date']]\n",
    "                   .max())\n",
    "# Считается, что относительно данного времени проводится анализ"
   ]
  },
  {
   "cell_type": "code",
   "execution_count": 1065,
   "id": "fd48be42",
   "metadata": {},
   "outputs": [
    {
     "name": "stdout",
     "output_type": "stream",
     "text": [
      "2018-10-17 17:30:18\n"
     ]
    }
   ],
   "source": [
    "print(current_date)"
   ]
  },
  {
   "cell_type": "code",
   "execution_count": 1066,
   "id": "bf2fc62b",
   "metadata": {},
   "outputs": [],
   "source": [
    "checking_only_processing = (df_orders_with_purch_not_delivered[['order_id', 'order_status', 'order_approved_at']]\n",
    "                            .query(\"order_status == 'processing'\")\n",
    "                            .sort_values('order_approved_at', ascending=False)\n",
    "                            .merge(df_items_with_purch[['order_id', 'shipping_limit_date']], \n",
    "                                   on='order_id', how='inner'))"
   ]
  },
  {
   "cell_type": "markdown",
   "id": "212d6f3d",
   "metadata": {},
   "source": [
    "Получаем таблицу, содержащую только заказы статуса processing. В колонке shipping_limit_date для каждого заказа указана максимальная дата доставки продавцом для передачи заказа партнеру по логистике."
   ]
  },
  {
   "cell_type": "code",
   "execution_count": 1067,
   "id": "d6fd5184",
   "metadata": {},
   "outputs": [
    {
     "data": {
      "text/html": [
       "<div>\n",
       "<style scoped>\n",
       "    .dataframe tbody tr th:only-of-type {\n",
       "        vertical-align: middle;\n",
       "    }\n",
       "\n",
       "    .dataframe tbody tr th {\n",
       "        vertical-align: top;\n",
       "    }\n",
       "\n",
       "    .dataframe thead th {\n",
       "        text-align: right;\n",
       "    }\n",
       "</style>\n",
       "<table border=\"1\" class=\"dataframe\">\n",
       "  <thead>\n",
       "    <tr style=\"text-align: right;\">\n",
       "      <th></th>\n",
       "      <th>order_id</th>\n",
       "      <th>order_status</th>\n",
       "      <th>order_approved_at</th>\n",
       "      <th>shipping_limit_date</th>\n",
       "    </tr>\n",
       "  </thead>\n",
       "  <tbody>\n",
       "    <tr>\n",
       "      <th>0</th>\n",
       "      <td>8bc9548dbe844e1bf48ac197c5609045</td>\n",
       "      <td>processing</td>\n",
       "      <td>2018-07-24 10:32:19</td>\n",
       "      <td>2018-07-26 09:17:48</td>\n",
       "    </tr>\n",
       "    <tr>\n",
       "      <th>1</th>\n",
       "      <td>8bc9548dbe844e1bf48ac197c5609045</td>\n",
       "      <td>processing</td>\n",
       "      <td>2018-07-24 10:32:19</td>\n",
       "      <td>2018-07-26 09:17:48</td>\n",
       "    </tr>\n",
       "    <tr>\n",
       "      <th>2</th>\n",
       "      <td>83fc33b62b8c7c39e2258d081955143d</td>\n",
       "      <td>processing</td>\n",
       "      <td>2018-05-17 02:55:42</td>\n",
       "      <td>2018-05-28 02:55:42</td>\n",
       "    </tr>\n",
       "    <tr>\n",
       "      <th>3</th>\n",
       "      <td>8124e0a6295df5f9ce4377ca0a8e0c18</td>\n",
       "      <td>processing</td>\n",
       "      <td>2018-05-09 17:36:39</td>\n",
       "      <td>2018-05-24 17:36:39</td>\n",
       "    </tr>\n",
       "    <tr>\n",
       "      <th>4</th>\n",
       "      <td>57c432fd96e9d52639f048eb1b2a5b10</td>\n",
       "      <td>processing</td>\n",
       "      <td>2018-05-09 04:31:31</td>\n",
       "      <td>2018-05-24 04:31:20</td>\n",
       "    </tr>\n",
       "  </tbody>\n",
       "</table>\n",
       "</div>"
      ],
      "text/plain": [
       "                           order_id order_status   order_approved_at  \\\n",
       "0  8bc9548dbe844e1bf48ac197c5609045   processing 2018-07-24 10:32:19   \n",
       "1  8bc9548dbe844e1bf48ac197c5609045   processing 2018-07-24 10:32:19   \n",
       "2  83fc33b62b8c7c39e2258d081955143d   processing 2018-05-17 02:55:42   \n",
       "3  8124e0a6295df5f9ce4377ca0a8e0c18   processing 2018-05-09 17:36:39   \n",
       "4  57c432fd96e9d52639f048eb1b2a5b10   processing 2018-05-09 04:31:31   \n",
       "\n",
       "  shipping_limit_date  \n",
       "0 2018-07-26 09:17:48  \n",
       "1 2018-07-26 09:17:48  \n",
       "2 2018-05-28 02:55:42  \n",
       "3 2018-05-24 17:36:39  \n",
       "4 2018-05-24 04:31:20  "
      ]
     },
     "execution_count": 1067,
     "metadata": {},
     "output_type": "execute_result"
    }
   ],
   "source": [
    "checking_only_processing.head()"
   ]
  },
  {
   "cell_type": "code",
   "execution_count": 1068,
   "id": "3875f476",
   "metadata": {},
   "outputs": [
    {
     "name": "stdout",
     "output_type": "stream",
     "text": [
      "['processing']\n"
     ]
    }
   ],
   "source": [
    "print(checking_only_processing.order_status.unique())"
   ]
  },
  {
   "cell_type": "markdown",
   "id": "9632ffde",
   "metadata": {},
   "source": [
    "В данную таблицу добавим колонку not_provided_to_delivery_service, в которой могут содержаться два значения: True - если заказ не был передан продавцом в службу доставки за максимально возможный срок, False - если заказ ещё может быть передан продавцом в службу доставки."
   ]
  },
  {
   "cell_type": "code",
   "execution_count": 1069,
   "id": "474fdb2a",
   "metadata": {},
   "outputs": [],
   "source": [
    "checking_only_processing['not_provided_to_delivery_service'] = (checking_only_processing\n",
    "                                                                .shipping_limit_date\n",
    "                                                                .apply(lambda x: True if x < current_date else False))\n",
    "# Присваиваем True, если продавец не успел в максимально допустимый срок передать заказ в логистическую службу.\n",
    "# False, если продавец ещё успевает доставить."
   ]
  },
  {
   "cell_type": "code",
   "execution_count": 1070,
   "id": "e2b9366d",
   "metadata": {},
   "outputs": [
    {
     "data": {
      "text/html": [
       "<div>\n",
       "<style scoped>\n",
       "    .dataframe tbody tr th:only-of-type {\n",
       "        vertical-align: middle;\n",
       "    }\n",
       "\n",
       "    .dataframe tbody tr th {\n",
       "        vertical-align: top;\n",
       "    }\n",
       "\n",
       "    .dataframe thead th {\n",
       "        text-align: right;\n",
       "    }\n",
       "</style>\n",
       "<table border=\"1\" class=\"dataframe\">\n",
       "  <thead>\n",
       "    <tr style=\"text-align: right;\">\n",
       "      <th></th>\n",
       "      <th>order_id</th>\n",
       "      <th>order_status</th>\n",
       "      <th>order_approved_at</th>\n",
       "      <th>shipping_limit_date</th>\n",
       "      <th>not_provided_to_delivery_service</th>\n",
       "    </tr>\n",
       "  </thead>\n",
       "  <tbody>\n",
       "    <tr>\n",
       "      <th>0</th>\n",
       "      <td>8bc9548dbe844e1bf48ac197c5609045</td>\n",
       "      <td>processing</td>\n",
       "      <td>2018-07-24 10:32:19</td>\n",
       "      <td>2018-07-26 09:17:48</td>\n",
       "      <td>True</td>\n",
       "    </tr>\n",
       "    <tr>\n",
       "      <th>1</th>\n",
       "      <td>8bc9548dbe844e1bf48ac197c5609045</td>\n",
       "      <td>processing</td>\n",
       "      <td>2018-07-24 10:32:19</td>\n",
       "      <td>2018-07-26 09:17:48</td>\n",
       "      <td>True</td>\n",
       "    </tr>\n",
       "    <tr>\n",
       "      <th>2</th>\n",
       "      <td>83fc33b62b8c7c39e2258d081955143d</td>\n",
       "      <td>processing</td>\n",
       "      <td>2018-05-17 02:55:42</td>\n",
       "      <td>2018-05-28 02:55:42</td>\n",
       "      <td>True</td>\n",
       "    </tr>\n",
       "    <tr>\n",
       "      <th>3</th>\n",
       "      <td>8124e0a6295df5f9ce4377ca0a8e0c18</td>\n",
       "      <td>processing</td>\n",
       "      <td>2018-05-09 17:36:39</td>\n",
       "      <td>2018-05-24 17:36:39</td>\n",
       "      <td>True</td>\n",
       "    </tr>\n",
       "    <tr>\n",
       "      <th>4</th>\n",
       "      <td>57c432fd96e9d52639f048eb1b2a5b10</td>\n",
       "      <td>processing</td>\n",
       "      <td>2018-05-09 04:31:31</td>\n",
       "      <td>2018-05-24 04:31:20</td>\n",
       "      <td>True</td>\n",
       "    </tr>\n",
       "  </tbody>\n",
       "</table>\n",
       "</div>"
      ],
      "text/plain": [
       "                           order_id order_status   order_approved_at  \\\n",
       "0  8bc9548dbe844e1bf48ac197c5609045   processing 2018-07-24 10:32:19   \n",
       "1  8bc9548dbe844e1bf48ac197c5609045   processing 2018-07-24 10:32:19   \n",
       "2  83fc33b62b8c7c39e2258d081955143d   processing 2018-05-17 02:55:42   \n",
       "3  8124e0a6295df5f9ce4377ca0a8e0c18   processing 2018-05-09 17:36:39   \n",
       "4  57c432fd96e9d52639f048eb1b2a5b10   processing 2018-05-09 04:31:31   \n",
       "\n",
       "  shipping_limit_date  not_provided_to_delivery_service  \n",
       "0 2018-07-26 09:17:48                              True  \n",
       "1 2018-07-26 09:17:48                              True  \n",
       "2 2018-05-28 02:55:42                              True  \n",
       "3 2018-05-24 17:36:39                              True  \n",
       "4 2018-05-24 04:31:20                              True  "
      ]
     },
     "execution_count": 1070,
     "metadata": {},
     "output_type": "execute_result"
    }
   ],
   "source": [
    "checking_only_processing.head()"
   ]
  },
  {
   "cell_type": "code",
   "execution_count": 1071,
   "id": "1aabfba1",
   "metadata": {},
   "outputs": [
    {
     "name": "stdout",
     "output_type": "stream",
     "text": [
      "[ True]\n"
     ]
    }
   ],
   "source": [
    "print(checking_only_processing.not_provided_to_delivery_service.unique())"
   ]
  },
  {
   "cell_type": "markdown",
   "id": "8e48e3f1",
   "metadata": {},
   "source": [
    "Видим, что заказов со значеним False в колонке not_provided_to_delivery_service нет. Значит все заказы статуса processing не были доставлены потому, что они не были вовремя переданы продавцами в логистическую службу."
   ]
  },
  {
   "cell_type": "markdown",
   "id": "f602e662",
   "metadata": {},
   "source": [
    "#### Заказы статуса shipped.¶"
   ]
  },
  {
   "cell_type": "code",
   "execution_count": 1072,
   "id": "12c61ec2",
   "metadata": {},
   "outputs": [],
   "source": [
    "df_shipped_checking = (df_orders_with_purch_not_delivered\n",
    "                       .query(\"order_status == 'shipped'\")\n",
    "                       .sort_values('order_estimated_delivery_date', ascending=False)\n",
    "                       [['order_id', 'order_status', 'order_approved_at', 'order_estimated_delivery_date']])"
   ]
  },
  {
   "cell_type": "markdown",
   "id": "98c4b2c5",
   "metadata": {},
   "source": [
    "Получаем таблицу, содержащую только заказы статуса shipped."
   ]
  },
  {
   "cell_type": "code",
   "execution_count": 1073,
   "id": "b9007960",
   "metadata": {},
   "outputs": [
    {
     "data": {
      "text/html": [
       "<div>\n",
       "<style scoped>\n",
       "    .dataframe tbody tr th:only-of-type {\n",
       "        vertical-align: middle;\n",
       "    }\n",
       "\n",
       "    .dataframe tbody tr th {\n",
       "        vertical-align: top;\n",
       "    }\n",
       "\n",
       "    .dataframe thead th {\n",
       "        text-align: right;\n",
       "    }\n",
       "</style>\n",
       "<table border=\"1\" class=\"dataframe\">\n",
       "  <thead>\n",
       "    <tr style=\"text-align: right;\">\n",
       "      <th></th>\n",
       "      <th>order_id</th>\n",
       "      <th>order_status</th>\n",
       "      <th>order_approved_at</th>\n",
       "      <th>order_estimated_delivery_date</th>\n",
       "    </tr>\n",
       "  </thead>\n",
       "  <tbody>\n",
       "    <tr>\n",
       "      <th>29454</th>\n",
       "      <td>00a99c50fdff7e36262caba33821875a</td>\n",
       "      <td>shipped</td>\n",
       "      <td>2018-08-17 16:35:18</td>\n",
       "      <td>2018-09-18</td>\n",
       "    </tr>\n",
       "    <tr>\n",
       "      <th>62360</th>\n",
       "      <td>54282e97f61c23b78330c15b154c867d</td>\n",
       "      <td>shipped</td>\n",
       "      <td>2018-09-03 17:40:06</td>\n",
       "      <td>2018-09-06</td>\n",
       "    </tr>\n",
       "    <tr>\n",
       "      <th>60511</th>\n",
       "      <td>b1c978cd633caac1ce86e36b61e8aeb3</td>\n",
       "      <td>shipped</td>\n",
       "      <td>2018-08-15 18:55:15</td>\n",
       "      <td>2018-09-06</td>\n",
       "    </tr>\n",
       "    <tr>\n",
       "      <th>87590</th>\n",
       "      <td>5e6f7229aec06e67732033777ee84816</td>\n",
       "      <td>shipped</td>\n",
       "      <td>2018-08-17 14:27:13</td>\n",
       "      <td>2018-09-04</td>\n",
       "    </tr>\n",
       "    <tr>\n",
       "      <th>46485</th>\n",
       "      <td>f79d2206d0301d47bc2a623636ea53d1</td>\n",
       "      <td>shipped</td>\n",
       "      <td>2018-08-13 22:30:15</td>\n",
       "      <td>2018-08-30</td>\n",
       "    </tr>\n",
       "  </tbody>\n",
       "</table>\n",
       "</div>"
      ],
      "text/plain": [
       "                               order_id order_status   order_approved_at  \\\n",
       "29454  00a99c50fdff7e36262caba33821875a      shipped 2018-08-17 16:35:18   \n",
       "62360  54282e97f61c23b78330c15b154c867d      shipped 2018-09-03 17:40:06   \n",
       "60511  b1c978cd633caac1ce86e36b61e8aeb3      shipped 2018-08-15 18:55:15   \n",
       "87590  5e6f7229aec06e67732033777ee84816      shipped 2018-08-17 14:27:13   \n",
       "46485  f79d2206d0301d47bc2a623636ea53d1      shipped 2018-08-13 22:30:15   \n",
       "\n",
       "      order_estimated_delivery_date  \n",
       "29454                    2018-09-18  \n",
       "62360                    2018-09-06  \n",
       "60511                    2018-09-06  \n",
       "87590                    2018-09-04  \n",
       "46485                    2018-08-30  "
      ]
     },
     "execution_count": 1073,
     "metadata": {},
     "output_type": "execute_result"
    }
   ],
   "source": [
    "df_shipped_checking.head()"
   ]
  },
  {
   "cell_type": "code",
   "execution_count": 1074,
   "id": "bd955bc7",
   "metadata": {},
   "outputs": [
    {
     "name": "stdout",
     "output_type": "stream",
     "text": [
      "['shipped']\n"
     ]
    }
   ],
   "source": [
    "print(df_shipped_checking.order_status.unique())"
   ]
  },
  {
   "cell_type": "markdown",
   "id": "21713d93",
   "metadata": {},
   "source": [
    "Статус shipped означает, что заказ передан в логистическую службу для доставки пользователю. Проверим, есть ли среди заказов со статусом shipped те, которые уже не могут быть доставлены в обещанную дату."
   ]
  },
  {
   "cell_type": "markdown",
   "id": "2dfca9d7",
   "metadata": {},
   "source": [
    "Создадим колонку diff_between_current_date_and_estimated_date, в которой для каждого заказа будет посчитана разница между current_date (дата, относительно которой проводится анализ) и order_estimated_delivery_date (обещанная дата доставки)."
   ]
  },
  {
   "cell_type": "code",
   "execution_count": 1075,
   "id": "8ef3ea61",
   "metadata": {},
   "outputs": [],
   "source": [
    "df_shipped_checking['diff_between_current_date_and_estimated_date'] = (current_date \n",
    "                                                                   - df_shipped_checking.order_estimated_delivery_date)"
   ]
  },
  {
   "cell_type": "code",
   "execution_count": 1076,
   "id": "70f34c31",
   "metadata": {},
   "outputs": [
    {
     "data": {
      "text/html": [
       "<div>\n",
       "<style scoped>\n",
       "    .dataframe tbody tr th:only-of-type {\n",
       "        vertical-align: middle;\n",
       "    }\n",
       "\n",
       "    .dataframe tbody tr th {\n",
       "        vertical-align: top;\n",
       "    }\n",
       "\n",
       "    .dataframe thead th {\n",
       "        text-align: right;\n",
       "    }\n",
       "</style>\n",
       "<table border=\"1\" class=\"dataframe\">\n",
       "  <thead>\n",
       "    <tr style=\"text-align: right;\">\n",
       "      <th></th>\n",
       "      <th>order_id</th>\n",
       "      <th>order_status</th>\n",
       "      <th>order_approved_at</th>\n",
       "      <th>order_estimated_delivery_date</th>\n",
       "      <th>diff_between_current_date_and_estimated_date</th>\n",
       "    </tr>\n",
       "  </thead>\n",
       "  <tbody>\n",
       "    <tr>\n",
       "      <th>29454</th>\n",
       "      <td>00a99c50fdff7e36262caba33821875a</td>\n",
       "      <td>shipped</td>\n",
       "      <td>2018-08-17 16:35:18</td>\n",
       "      <td>2018-09-18</td>\n",
       "      <td>29 days 17:30:18</td>\n",
       "    </tr>\n",
       "    <tr>\n",
       "      <th>62360</th>\n",
       "      <td>54282e97f61c23b78330c15b154c867d</td>\n",
       "      <td>shipped</td>\n",
       "      <td>2018-09-03 17:40:06</td>\n",
       "      <td>2018-09-06</td>\n",
       "      <td>41 days 17:30:18</td>\n",
       "    </tr>\n",
       "    <tr>\n",
       "      <th>60511</th>\n",
       "      <td>b1c978cd633caac1ce86e36b61e8aeb3</td>\n",
       "      <td>shipped</td>\n",
       "      <td>2018-08-15 18:55:15</td>\n",
       "      <td>2018-09-06</td>\n",
       "      <td>41 days 17:30:18</td>\n",
       "    </tr>\n",
       "    <tr>\n",
       "      <th>87590</th>\n",
       "      <td>5e6f7229aec06e67732033777ee84816</td>\n",
       "      <td>shipped</td>\n",
       "      <td>2018-08-17 14:27:13</td>\n",
       "      <td>2018-09-04</td>\n",
       "      <td>43 days 17:30:18</td>\n",
       "    </tr>\n",
       "    <tr>\n",
       "      <th>46485</th>\n",
       "      <td>f79d2206d0301d47bc2a623636ea53d1</td>\n",
       "      <td>shipped</td>\n",
       "      <td>2018-08-13 22:30:15</td>\n",
       "      <td>2018-08-30</td>\n",
       "      <td>48 days 17:30:18</td>\n",
       "    </tr>\n",
       "  </tbody>\n",
       "</table>\n",
       "</div>"
      ],
      "text/plain": [
       "                               order_id order_status   order_approved_at  \\\n",
       "29454  00a99c50fdff7e36262caba33821875a      shipped 2018-08-17 16:35:18   \n",
       "62360  54282e97f61c23b78330c15b154c867d      shipped 2018-09-03 17:40:06   \n",
       "60511  b1c978cd633caac1ce86e36b61e8aeb3      shipped 2018-08-15 18:55:15   \n",
       "87590  5e6f7229aec06e67732033777ee84816      shipped 2018-08-17 14:27:13   \n",
       "46485  f79d2206d0301d47bc2a623636ea53d1      shipped 2018-08-13 22:30:15   \n",
       "\n",
       "      order_estimated_delivery_date  \\\n",
       "29454                    2018-09-18   \n",
       "62360                    2018-09-06   \n",
       "60511                    2018-09-06   \n",
       "87590                    2018-09-04   \n",
       "46485                    2018-08-30   \n",
       "\n",
       "      diff_between_current_date_and_estimated_date  \n",
       "29454                             29 days 17:30:18  \n",
       "62360                             41 days 17:30:18  \n",
       "60511                             41 days 17:30:18  \n",
       "87590                             43 days 17:30:18  \n",
       "46485                             48 days 17:30:18  "
      ]
     },
     "execution_count": 1076,
     "metadata": {},
     "output_type": "execute_result"
    }
   ],
   "source": [
    "df_shipped_checking.head()"
   ]
  },
  {
   "cell_type": "code",
   "execution_count": 1077,
   "id": "120d0018",
   "metadata": {},
   "outputs": [
    {
     "data": {
      "text/html": [
       "<div>\n",
       "<style scoped>\n",
       "    .dataframe tbody tr th:only-of-type {\n",
       "        vertical-align: middle;\n",
       "    }\n",
       "\n",
       "    .dataframe tbody tr th {\n",
       "        vertical-align: top;\n",
       "    }\n",
       "\n",
       "    .dataframe thead th {\n",
       "        text-align: right;\n",
       "    }\n",
       "</style>\n",
       "<table border=\"1\" class=\"dataframe\">\n",
       "  <thead>\n",
       "    <tr style=\"text-align: right;\">\n",
       "      <th></th>\n",
       "      <th>order_id</th>\n",
       "      <th>order_status</th>\n",
       "      <th>order_approved_at</th>\n",
       "      <th>order_estimated_delivery_date</th>\n",
       "      <th>diff_between_current_date_and_estimated_date</th>\n",
       "    </tr>\n",
       "  </thead>\n",
       "  <tbody>\n",
       "    <tr>\n",
       "      <th>34523</th>\n",
       "      <td>45973912e490866800c0aea8f63099c8</td>\n",
       "      <td>shipped</td>\n",
       "      <td>2016-10-07 22:58:37</td>\n",
       "      <td>2016-12-01</td>\n",
       "      <td>685 days 17:30:18</td>\n",
       "    </tr>\n",
       "    <tr>\n",
       "      <th>47113</th>\n",
       "      <td>cda873529ca7ab71f677d5ec11a40304</td>\n",
       "      <td>shipped</td>\n",
       "      <td>2016-10-06 15:52:49</td>\n",
       "      <td>2016-12-01</td>\n",
       "      <td>685 days 17:30:18</td>\n",
       "    </tr>\n",
       "    <tr>\n",
       "      <th>19523</th>\n",
       "      <td>063b573b88fc80e516aba87df524f809</td>\n",
       "      <td>shipped</td>\n",
       "      <td>2016-10-07 19:29:20</td>\n",
       "      <td>2016-12-01</td>\n",
       "      <td>685 days 17:30:18</td>\n",
       "    </tr>\n",
       "    <tr>\n",
       "      <th>22948</th>\n",
       "      <td>3f913d30288c117e41ffe5cc74743dc9</td>\n",
       "      <td>shipped</td>\n",
       "      <td>2016-10-06 15:53:06</td>\n",
       "      <td>2016-11-29</td>\n",
       "      <td>687 days 17:30:18</td>\n",
       "    </tr>\n",
       "    <tr>\n",
       "      <th>4541</th>\n",
       "      <td>2e7a8482f6fb09756ca50c10d7bfc047</td>\n",
       "      <td>shipped</td>\n",
       "      <td>2016-10-07 13:18:03</td>\n",
       "      <td>2016-10-20</td>\n",
       "      <td>727 days 17:30:18</td>\n",
       "    </tr>\n",
       "  </tbody>\n",
       "</table>\n",
       "</div>"
      ],
      "text/plain": [
       "                               order_id order_status   order_approved_at  \\\n",
       "34523  45973912e490866800c0aea8f63099c8      shipped 2016-10-07 22:58:37   \n",
       "47113  cda873529ca7ab71f677d5ec11a40304      shipped 2016-10-06 15:52:49   \n",
       "19523  063b573b88fc80e516aba87df524f809      shipped 2016-10-07 19:29:20   \n",
       "22948  3f913d30288c117e41ffe5cc74743dc9      shipped 2016-10-06 15:53:06   \n",
       "4541   2e7a8482f6fb09756ca50c10d7bfc047      shipped 2016-10-07 13:18:03   \n",
       "\n",
       "      order_estimated_delivery_date  \\\n",
       "34523                    2016-12-01   \n",
       "47113                    2016-12-01   \n",
       "19523                    2016-12-01   \n",
       "22948                    2016-11-29   \n",
       "4541                     2016-10-20   \n",
       "\n",
       "      diff_between_current_date_and_estimated_date  \n",
       "34523                            685 days 17:30:18  \n",
       "47113                            685 days 17:30:18  \n",
       "19523                            685 days 17:30:18  \n",
       "22948                            687 days 17:30:18  \n",
       "4541                             727 days 17:30:18  "
      ]
     },
     "execution_count": 1077,
     "metadata": {},
     "output_type": "execute_result"
    }
   ],
   "source": [
    "df_shipped_checking.tail()"
   ]
  },
  {
   "cell_type": "markdown",
   "id": "6b968e7f",
   "metadata": {},
   "source": [
    "Если значение в колонке diff_between_current_date_and_estimated_date положительное, то заказ уже не может быть доставлен в обещанную дату. Если значение отрицательное, то ещё есть время, чтобы доставить заказ в обещанный срок."
   ]
  },
  {
   "cell_type": "code",
   "execution_count": 1078,
   "id": "b0361ade",
   "metadata": {},
   "outputs": [
    {
     "data": {
      "text/plain": [
       "count                           1106\n",
       "mean     290 days 10:23:14.853526220\n",
       "std      159 days 00:37:55.615638572\n",
       "min                 29 days 17:30:18\n",
       "25%                166 days 17:30:18\n",
       "50%                254 days 17:30:18\n",
       "75%                429 days 17:30:18\n",
       "max                727 days 17:30:18\n",
       "Name: diff_between_current_date_and_estimated_date, dtype: object"
      ]
     },
     "execution_count": 1078,
     "metadata": {},
     "output_type": "execute_result"
    }
   ],
   "source": [
    "df_shipped_checking.diff_between_current_date_and_estimated_date.describe()"
   ]
  },
  {
   "cell_type": "code",
   "execution_count": 1079,
   "id": "6e15f635",
   "metadata": {},
   "outputs": [
    {
     "name": "stdout",
     "output_type": "stream",
     "text": [
      "365 days 06:27:54.000000016\n"
     ]
    }
   ],
   "source": [
    "print(df_shipped_checking.diff_between_current_date_and_estimated_date.quantile(0.674))"
   ]
  },
  {
   "cell_type": "markdown",
   "id": "d8866c75",
   "metadata": {},
   "source": [
    "Видим, что минимальное значение колонки diff_between_current_date_and_estimated_date является положительным, из чего следует, что все значения данной колонки положительные. Значит, все заказы статуса shipped уже не могуть быть доставлены логистической службой в обещанную дату. При этом почти для 33% всех заказов со статусом shipped прошло больше года со дня обещанной даты доставки. Также есть заказ со статусом shipped, для которого прошло уже почти 2 года со дня обещанной даты доставки."
   ]
  },
  {
   "cell_type": "code",
   "execution_count": 1080,
   "id": "fdb935d8",
   "metadata": {},
   "outputs": [
    {
     "data": {
      "text/plain": [
       "<Axes: xlabel='diff_between_current_date_and_estimated_date', ylabel='Count'>"
      ]
     },
     "execution_count": 1080,
     "metadata": {},
     "output_type": "execute_result"
    },
    {
     "data": {
      "image/png": "[encoded data removed]",
      "text/plain": [
       "<Figure size 1000x500 with 1 Axes>"
      ]
     },
     "metadata": {},
     "output_type": "display_data"
    }
   ],
   "source": [
    "sns.histplot(data=df_shipped_checking.diff_between_current_date_and_estimated_date.dt.days, bins=120)"
   ]
  },
  {
   "cell_type": "markdown",
   "id": "a106db92",
   "metadata": {},
   "source": [
    "<b>Для каждого статуса определим количество заказов в месяц в среднем.</b><br>\n",
    "Для подсчёта количества недоставленных заказов в месяц в среднем берём значения дат из order_estimated_delivery_date (обещанная дата доставки)."
   ]
  },
  {
   "cell_type": "code",
   "execution_count": 1081,
   "id": "c7bab845",
   "metadata": {},
   "outputs": [],
   "source": [
    "df_orders_with_purch_not_delivered_month = (df_orders_with_purch_not_delivered\n",
    "                                            [['order_id', 'order_status', 'order_estimated_delivery_date']])"
   ]
  },
  {
   "cell_type": "code",
   "execution_count": 1082,
   "id": "0d6bf56c",
   "metadata": {},
   "outputs": [],
   "source": [
    "df_orders_with_purch_not_delivered_month.loc[:, 'order_estimated_delivery_date'] = df_orders_with_purch_not_delivered_month['order_estimated_delivery_date'].dt.strftime('%Y-%m')"
   ]
  },
  {
   "cell_type": "code",
   "execution_count": 1083,
   "id": "89a9ef3d",
   "metadata": {},
   "outputs": [
    {
     "data": {
      "text/html": [
       "<div>\n",
       "<style scoped>\n",
       "    .dataframe tbody tr th:only-of-type {\n",
       "        vertical-align: middle;\n",
       "    }\n",
       "\n",
       "    .dataframe tbody tr th {\n",
       "        vertical-align: top;\n",
       "    }\n",
       "\n",
       "    .dataframe thead th {\n",
       "        text-align: right;\n",
       "    }\n",
       "</style>\n",
       "<table border=\"1\" class=\"dataframe\">\n",
       "  <thead>\n",
       "    <tr style=\"text-align: right;\">\n",
       "      <th></th>\n",
       "      <th>order_id</th>\n",
       "      <th>order_status</th>\n",
       "      <th>order_estimated_delivery_date</th>\n",
       "    </tr>\n",
       "  </thead>\n",
       "  <tbody>\n",
       "    <tr>\n",
       "      <th>44</th>\n",
       "      <td>ee64d42b8cf066f35eac1cf57de1aa85</td>\n",
       "      <td>shipped</td>\n",
       "      <td>2018-06-01</td>\n",
       "    </tr>\n",
       "    <tr>\n",
       "      <th>128</th>\n",
       "      <td>15bed8e2fec7fdbadb186b57c46c92f2</td>\n",
       "      <td>processing</td>\n",
       "      <td>2017-10-01</td>\n",
       "    </tr>\n",
       "    <tr>\n",
       "      <th>154</th>\n",
       "      <td>6942b8da583c2f9957e990d028607019</td>\n",
       "      <td>shipped</td>\n",
       "      <td>2018-02-01</td>\n",
       "    </tr>\n",
       "    <tr>\n",
       "      <th>162</th>\n",
       "      <td>36530871a5e80138db53bcfd8a104d90</td>\n",
       "      <td>shipped</td>\n",
       "      <td>2017-06-01</td>\n",
       "    </tr>\n",
       "    <tr>\n",
       "      <th>231</th>\n",
       "      <td>4d630f57194f5aba1a3d12ce23e71cd9</td>\n",
       "      <td>shipped</td>\n",
       "      <td>2017-12-01</td>\n",
       "    </tr>\n",
       "  </tbody>\n",
       "</table>\n",
       "</div>"
      ],
      "text/plain": [
       "                             order_id order_status  \\\n",
       "44   ee64d42b8cf066f35eac1cf57de1aa85      shipped   \n",
       "128  15bed8e2fec7fdbadb186b57c46c92f2   processing   \n",
       "154  6942b8da583c2f9957e990d028607019      shipped   \n",
       "162  36530871a5e80138db53bcfd8a104d90      shipped   \n",
       "231  4d630f57194f5aba1a3d12ce23e71cd9      shipped   \n",
       "\n",
       "    order_estimated_delivery_date  \n",
       "44                     2018-06-01  \n",
       "128                    2017-10-01  \n",
       "154                    2018-02-01  \n",
       "162                    2017-06-01  \n",
       "231                    2017-12-01  "
      ]
     },
     "execution_count": 1083,
     "metadata": {},
     "output_type": "execute_result"
    }
   ],
   "source": [
    "df_orders_with_purch_not_delivered_month.head()"
   ]
  },
  {
   "cell_type": "code",
   "execution_count": 1084,
   "id": "bea1b7d9",
   "metadata": {},
   "outputs": [],
   "source": [
    "df_orders_not_delivered_in_each_month = (df_orders_with_purch_not_delivered_month\n",
    "                                         .groupby(['order_status', 'order_estimated_delivery_date'], as_index=False)\n",
    "                                         .agg({'order_id':'count'})\n",
    "                                         .rename(columns={'order_id':'quantity', 'order_estimated_delivery_date':'estimated_year_and_month'}))"
   ]
  },
  {
   "cell_type": "code",
   "execution_count": 1085,
   "id": "52a45981",
   "metadata": {},
   "outputs": [
    {
     "data": {
      "text/html": [
       "<div>\n",
       "<style scoped>\n",
       "    .dataframe tbody tr th:only-of-type {\n",
       "        vertical-align: middle;\n",
       "    }\n",
       "\n",
       "    .dataframe tbody tr th {\n",
       "        vertical-align: top;\n",
       "    }\n",
       "\n",
       "    .dataframe thead th {\n",
       "        text-align: right;\n",
       "    }\n",
       "</style>\n",
       "<table border=\"1\" class=\"dataframe\">\n",
       "  <thead>\n",
       "    <tr style=\"text-align: right;\">\n",
       "      <th></th>\n",
       "      <th>order_status</th>\n",
       "      <th>estimated_year_and_month</th>\n",
       "      <th>quantity</th>\n",
       "    </tr>\n",
       "  </thead>\n",
       "  <tbody>\n",
       "    <tr>\n",
       "      <th>0</th>\n",
       "      <td>canceled</td>\n",
       "      <td>2016-10-01</td>\n",
       "      <td>2</td>\n",
       "    </tr>\n",
       "    <tr>\n",
       "      <th>1</th>\n",
       "      <td>canceled</td>\n",
       "      <td>2016-11-01</td>\n",
       "      <td>1</td>\n",
       "    </tr>\n",
       "    <tr>\n",
       "      <th>2</th>\n",
       "      <td>canceled</td>\n",
       "      <td>2016-12-01</td>\n",
       "      <td>5</td>\n",
       "    </tr>\n",
       "    <tr>\n",
       "      <th>3</th>\n",
       "      <td>canceled</td>\n",
       "      <td>2017-02-01</td>\n",
       "      <td>1</td>\n",
       "    </tr>\n",
       "    <tr>\n",
       "      <th>4</th>\n",
       "      <td>canceled</td>\n",
       "      <td>2017-03-01</td>\n",
       "      <td>23</td>\n",
       "    </tr>\n",
       "  </tbody>\n",
       "</table>\n",
       "</div>"
      ],
      "text/plain": [
       "  order_status estimated_year_and_month  quantity\n",
       "0     canceled               2016-10-01         2\n",
       "1     canceled               2016-11-01         1\n",
       "2     canceled               2016-12-01         5\n",
       "3     canceled               2017-02-01         1\n",
       "4     canceled               2017-03-01        23"
      ]
     },
     "execution_count": 1085,
     "metadata": {},
     "output_type": "execute_result"
    }
   ],
   "source": [
    "df_orders_not_delivered_in_each_month.head()"
   ]
  },
  {
   "cell_type": "code",
   "execution_count": 1086,
   "id": "5b8c8044",
   "metadata": {},
   "outputs": [
    {
     "data": {
      "text/plain": [
       "(64, 3)"
      ]
     },
     "execution_count": 1086,
     "metadata": {},
     "output_type": "execute_result"
    }
   ],
   "source": [
    "df_orders_not_delivered_in_each_month.shape"
   ]
  },
  {
   "cell_type": "code",
   "execution_count": 1087,
   "id": "ed7bce0d",
   "metadata": {},
   "outputs": [],
   "source": [
    "df_not_delivered_mean_per_month = (df_orders_not_delivered_in_each_month\n",
    "                                   .groupby('order_status', as_index=False)\n",
    "                                   .agg({'quantity':'mean'}).rename(columns={'quantity':'avg_per_month'}))"
   ]
  },
  {
   "cell_type": "code",
   "execution_count": 1088,
   "id": "863e77a4",
   "metadata": {},
   "outputs": [
    {
     "data": {
      "text/html": [
       "<div>\n",
       "<style scoped>\n",
       "    .dataframe tbody tr th:only-of-type {\n",
       "        vertical-align: middle;\n",
       "    }\n",
       "\n",
       "    .dataframe tbody tr th {\n",
       "        vertical-align: top;\n",
       "    }\n",
       "\n",
       "    .dataframe thead th {\n",
       "        text-align: right;\n",
       "    }\n",
       "</style>\n",
       "<table border=\"1\" class=\"dataframe\">\n",
       "  <thead>\n",
       "    <tr style=\"text-align: right;\">\n",
       "      <th></th>\n",
       "      <th>order_status</th>\n",
       "      <th>avg_per_month</th>\n",
       "    </tr>\n",
       "  </thead>\n",
       "  <tbody>\n",
       "    <tr>\n",
       "      <th>0</th>\n",
       "      <td>canceled</td>\n",
       "      <td>20.681818</td>\n",
       "    </tr>\n",
       "    <tr>\n",
       "      <th>1</th>\n",
       "      <td>processing</td>\n",
       "      <td>15.842105</td>\n",
       "    </tr>\n",
       "    <tr>\n",
       "      <th>2</th>\n",
       "      <td>shipped</td>\n",
       "      <td>48.086957</td>\n",
       "    </tr>\n",
       "  </tbody>\n",
       "</table>\n",
       "</div>"
      ],
      "text/plain": [
       "  order_status  avg_per_month\n",
       "0     canceled      20.681818\n",
       "1   processing      15.842105\n",
       "2      shipped      48.086957"
      ]
     },
     "execution_count": 1088,
     "metadata": {},
     "output_type": "execute_result"
    }
   ],
   "source": [
    "df_not_delivered_mean_per_month"
   ]
  },
  {
   "cell_type": "code",
   "execution_count": 1089,
   "id": "4ffb86f4",
   "metadata": {},
   "outputs": [
    {
     "data": {
      "image/png": "[encoded data removed]",
      "text/plain": [
       "<Figure size 1000x500 with 1 Axes>"
      ]
     },
     "metadata": {},
     "output_type": "display_data"
    }
   ],
   "source": [
    "figure = sns.barplot(data=df_not_delivered_mean_per_month, x='order_status', y='avg_per_month')\n",
    "\n",
    "figure.set_xlabel('\\nOrder status')              # Label of x axis\n",
    "figure.set_ylabel('The mean value per month\\n')  # Label of y axis\n",
    "plt.yticks(range(0, 55, 5))\n",
    "sns.despine()"
   ]
  },
  {
   "cell_type": "markdown",
   "id": "d55acf9e",
   "metadata": {},
   "source": [
    "<b>Полученные данные показывают количество недоставленных заказов в месяц в среднем. Среди них:</b>\n",
    "<ol>\n",
    "<li>Отменённые заказы (<b>canceled</b>): данные заказы были отменены покупателем во время доставки или в момент, когда заказ ещё не был передан в службу доставки.</li>\n",
    "<li>Заказы, находящие в процессе сборки (<b>processing</b>): данные заказы не были переданы продавцом в службу доставки в максимально возможный срок.</li>\n",
    "<li>Отгруженные со склада заказы (<b>shipped</b>): данные заказы всё ещё находятся в пути, но они уже не могут быть доставлены в обещенную дату.</li>\n",
    "</ol>"
   ]
  },
  {
   "cell_type": "markdown",
   "id": "c2834e8b",
   "metadata": {},
   "source": [
    "<b>Ответ:</b><br>\n",
    "canceled: 20 заказов в месяц в среднем<br>\n",
    "processing: 15 заказов в месяц в среднем<br>\n",
    "shipped: 48 заказов в месяц в среднем<br>\n",
    "(В ответе значения были округлены до целого в меньшую сторону, так как количество заказов не может быть дробным числом)"
   ]
  },
  {
   "cell_type": "markdown",
   "id": "22f67ed8",
   "metadata": {},
   "source": [
    "## 3. По каждому товару определить, в какой день недели товар чаще всего покупается."
   ]
  },
  {
   "cell_type": "code",
   "execution_count": 1090,
   "id": "6c6b74fa",
   "metadata": {},
   "outputs": [
    {
     "data": {
      "text/html": [
       "<div>\n",
       "<style scoped>\n",
       "    .dataframe tbody tr th:only-of-type {\n",
       "        vertical-align: middle;\n",
       "    }\n",
       "\n",
       "    .dataframe tbody tr th {\n",
       "        vertical-align: top;\n",
       "    }\n",
       "\n",
       "    .dataframe thead th {\n",
       "        text-align: right;\n",
       "    }\n",
       "</style>\n",
       "<table border=\"1\" class=\"dataframe\">\n",
       "  <thead>\n",
       "    <tr style=\"text-align: right;\">\n",
       "      <th></th>\n",
       "      <th>order_id</th>\n",
       "      <th>order_item_id</th>\n",
       "      <th>product_id</th>\n",
       "      <th>seller_id</th>\n",
       "      <th>shipping_limit_date</th>\n",
       "      <th>price</th>\n",
       "      <th>freight_value</th>\n",
       "    </tr>\n",
       "  </thead>\n",
       "  <tbody>\n",
       "    <tr>\n",
       "      <th>0</th>\n",
       "      <td>00010242fe8c5a6d1ba2dd792cb16214</td>\n",
       "      <td>1</td>\n",
       "      <td>4244733e06e7ecb4970a6e2683c13e61</td>\n",
       "      <td>48436dade18ac8b2bce089ec2a041202</td>\n",
       "      <td>2017-09-19 09:45:35</td>\n",
       "      <td>58.90</td>\n",
       "      <td>13.29</td>\n",
       "    </tr>\n",
       "    <tr>\n",
       "      <th>1</th>\n",
       "      <td>00018f77f2f0320c557190d7a144bdd3</td>\n",
       "      <td>1</td>\n",
       "      <td>e5f2d52b802189ee658865ca93d83a8f</td>\n",
       "      <td>dd7ddc04e1b6c2c614352b383efe2d36</td>\n",
       "      <td>2017-05-03 11:05:13</td>\n",
       "      <td>239.90</td>\n",
       "      <td>19.93</td>\n",
       "    </tr>\n",
       "    <tr>\n",
       "      <th>2</th>\n",
       "      <td>000229ec398224ef6ca0657da4fc703e</td>\n",
       "      <td>1</td>\n",
       "      <td>c777355d18b72b67abbeef9df44fd0fd</td>\n",
       "      <td>5b51032eddd242adc84c38acab88f23d</td>\n",
       "      <td>2018-01-18 14:48:30</td>\n",
       "      <td>199.00</td>\n",
       "      <td>17.87</td>\n",
       "    </tr>\n",
       "    <tr>\n",
       "      <th>3</th>\n",
       "      <td>00024acbcdf0a6daa1e931b038114c75</td>\n",
       "      <td>1</td>\n",
       "      <td>7634da152a4610f1595efa32f14722fc</td>\n",
       "      <td>9d7a1d34a5052409006425275ba1c2b4</td>\n",
       "      <td>2018-08-15 10:10:18</td>\n",
       "      <td>12.99</td>\n",
       "      <td>12.79</td>\n",
       "    </tr>\n",
       "    <tr>\n",
       "      <th>4</th>\n",
       "      <td>00042b26cf59d7ce69dfabb4e55b4fd9</td>\n",
       "      <td>1</td>\n",
       "      <td>ac6c3623068f30de03045865e4e10089</td>\n",
       "      <td>df560393f3a51e74553ab94004ba5c87</td>\n",
       "      <td>2017-02-13 13:57:51</td>\n",
       "      <td>199.90</td>\n",
       "      <td>18.14</td>\n",
       "    </tr>\n",
       "  </tbody>\n",
       "</table>\n",
       "</div>"
      ],
      "text/plain": [
       "                           order_id  order_item_id  \\\n",
       "0  00010242fe8c5a6d1ba2dd792cb16214              1   \n",
       "1  00018f77f2f0320c557190d7a144bdd3              1   \n",
       "2  000229ec398224ef6ca0657da4fc703e              1   \n",
       "3  00024acbcdf0a6daa1e931b038114c75              1   \n",
       "4  00042b26cf59d7ce69dfabb4e55b4fd9              1   \n",
       "\n",
       "                         product_id                         seller_id  \\\n",
       "0  4244733e06e7ecb4970a6e2683c13e61  48436dade18ac8b2bce089ec2a041202   \n",
       "1  e5f2d52b802189ee658865ca93d83a8f  dd7ddc04e1b6c2c614352b383efe2d36   \n",
       "2  c777355d18b72b67abbeef9df44fd0fd  5b51032eddd242adc84c38acab88f23d   \n",
       "3  7634da152a4610f1595efa32f14722fc  9d7a1d34a5052409006425275ba1c2b4   \n",
       "4  ac6c3623068f30de03045865e4e10089  df560393f3a51e74553ab94004ba5c87   \n",
       "\n",
       "  shipping_limit_date   price  freight_value  \n",
       "0 2017-09-19 09:45:35   58.90          13.29  \n",
       "1 2017-05-03 11:05:13  239.90          19.93  \n",
       "2 2018-01-18 14:48:30  199.00          17.87  \n",
       "3 2018-08-15 10:10:18   12.99          12.79  \n",
       "4 2017-02-13 13:57:51  199.90          18.14  "
      ]
     },
     "execution_count": 1090,
     "metadata": {},
     "output_type": "execute_result"
    }
   ],
   "source": [
    "df_items_with_purch.head()"
   ]
  },
  {
   "cell_type": "code",
   "execution_count": 1091,
   "id": "e34373c2",
   "metadata": {},
   "outputs": [
    {
     "data": {
      "text/html": [
       "<div>\n",
       "<style scoped>\n",
       "    .dataframe tbody tr th:only-of-type {\n",
       "        vertical-align: middle;\n",
       "    }\n",
       "\n",
       "    .dataframe tbody tr th {\n",
       "        vertical-align: top;\n",
       "    }\n",
       "\n",
       "    .dataframe thead th {\n",
       "        text-align: right;\n",
       "    }\n",
       "</style>\n",
       "<table border=\"1\" class=\"dataframe\">\n",
       "  <thead>\n",
       "    <tr style=\"text-align: right;\">\n",
       "      <th></th>\n",
       "      <th>order_id</th>\n",
       "      <th>customer_id</th>\n",
       "      <th>order_status</th>\n",
       "      <th>order_purchase_timestamp</th>\n",
       "      <th>order_approved_at</th>\n",
       "      <th>order_delivered_carrier_date</th>\n",
       "      <th>order_delivered_customer_date</th>\n",
       "      <th>order_estimated_delivery_date</th>\n",
       "    </tr>\n",
       "  </thead>\n",
       "  <tbody>\n",
       "    <tr>\n",
       "      <th>0</th>\n",
       "      <td>e481f51cbdc54678b7cc49136f2d6af7</td>\n",
       "      <td>9ef432eb6251297304e76186b10a928d</td>\n",
       "      <td>delivered</td>\n",
       "      <td>2017-10-02 10:56:33</td>\n",
       "      <td>2017-10-02 11:07:15</td>\n",
       "      <td>2017-10-04 19:55:00</td>\n",
       "      <td>2017-10-10 21:25:13</td>\n",
       "      <td>2017-10-18</td>\n",
       "    </tr>\n",
       "    <tr>\n",
       "      <th>1</th>\n",
       "      <td>53cdb2fc8bc7dce0b6741e2150273451</td>\n",
       "      <td>b0830fb4747a6c6d20dea0b8c802d7ef</td>\n",
       "      <td>delivered</td>\n",
       "      <td>2018-07-24 20:41:37</td>\n",
       "      <td>2018-07-26 03:24:27</td>\n",
       "      <td>2018-07-26 14:31:00</td>\n",
       "      <td>2018-08-07 15:27:45</td>\n",
       "      <td>2018-08-13</td>\n",
       "    </tr>\n",
       "    <tr>\n",
       "      <th>2</th>\n",
       "      <td>47770eb9100c2d0c44946d9cf07ec65d</td>\n",
       "      <td>41ce2a54c0b03bf3443c3d931a367089</td>\n",
       "      <td>delivered</td>\n",
       "      <td>2018-08-08 08:38:49</td>\n",
       "      <td>2018-08-08 08:55:23</td>\n",
       "      <td>2018-08-08 13:50:00</td>\n",
       "      <td>2018-08-17 18:06:29</td>\n",
       "      <td>2018-09-04</td>\n",
       "    </tr>\n",
       "    <tr>\n",
       "      <th>3</th>\n",
       "      <td>949d5b44dbf5de918fe9c16f97b45f8a</td>\n",
       "      <td>f88197465ea7920adcdbec7375364d82</td>\n",
       "      <td>delivered</td>\n",
       "      <td>2017-11-18 19:28:06</td>\n",
       "      <td>2017-11-18 19:45:59</td>\n",
       "      <td>2017-11-22 13:39:59</td>\n",
       "      <td>2017-12-02 00:28:42</td>\n",
       "      <td>2017-12-15</td>\n",
       "    </tr>\n",
       "    <tr>\n",
       "      <th>4</th>\n",
       "      <td>ad21c59c0840e6cb83a9ceb5573f8159</td>\n",
       "      <td>8ab97904e6daea8866dbdbc4fb7aad2c</td>\n",
       "      <td>delivered</td>\n",
       "      <td>2018-02-13 21:18:39</td>\n",
       "      <td>2018-02-13 22:20:29</td>\n",
       "      <td>2018-02-14 19:46:34</td>\n",
       "      <td>2018-02-16 18:17:02</td>\n",
       "      <td>2018-02-26</td>\n",
       "    </tr>\n",
       "  </tbody>\n",
       "</table>\n",
       "</div>"
      ],
      "text/plain": [
       "                           order_id                       customer_id  \\\n",
       "0  e481f51cbdc54678b7cc49136f2d6af7  9ef432eb6251297304e76186b10a928d   \n",
       "1  53cdb2fc8bc7dce0b6741e2150273451  b0830fb4747a6c6d20dea0b8c802d7ef   \n",
       "2  47770eb9100c2d0c44946d9cf07ec65d  41ce2a54c0b03bf3443c3d931a367089   \n",
       "3  949d5b44dbf5de918fe9c16f97b45f8a  f88197465ea7920adcdbec7375364d82   \n",
       "4  ad21c59c0840e6cb83a9ceb5573f8159  8ab97904e6daea8866dbdbc4fb7aad2c   \n",
       "\n",
       "  order_status order_purchase_timestamp   order_approved_at  \\\n",
       "0    delivered      2017-10-02 10:56:33 2017-10-02 11:07:15   \n",
       "1    delivered      2018-07-24 20:41:37 2018-07-26 03:24:27   \n",
       "2    delivered      2018-08-08 08:38:49 2018-08-08 08:55:23   \n",
       "3    delivered      2017-11-18 19:28:06 2017-11-18 19:45:59   \n",
       "4    delivered      2018-02-13 21:18:39 2018-02-13 22:20:29   \n",
       "\n",
       "  order_delivered_carrier_date order_delivered_customer_date  \\\n",
       "0          2017-10-04 19:55:00           2017-10-10 21:25:13   \n",
       "1          2018-07-26 14:31:00           2018-08-07 15:27:45   \n",
       "2          2018-08-08 13:50:00           2018-08-17 18:06:29   \n",
       "3          2017-11-22 13:39:59           2017-12-02 00:28:42   \n",
       "4          2018-02-14 19:46:34           2018-02-16 18:17:02   \n",
       "\n",
       "  order_estimated_delivery_date  \n",
       "0                    2017-10-18  \n",
       "1                    2018-08-13  \n",
       "2                    2018-09-04  \n",
       "3                    2017-12-15  \n",
       "4                    2018-02-26  "
      ]
     },
     "execution_count": 1091,
     "metadata": {},
     "output_type": "execute_result"
    }
   ],
   "source": [
    "df_orders_with_purch.head()"
   ]
  },
  {
   "cell_type": "markdown",
   "id": "4b802b92",
   "metadata": {},
   "source": [
    "В таблице df_orders_with_purch нет отдельной колонки, содержащей время оплаты счёта (по моему предположению, order_approved_at заполняется после предоплаты части заказа, то есть при оплате счёта данная колонка уже заполнена. Данный момент подбробно расписан в блоке определения покупок). Считаем, что счёт оплачивается в день order_approved_at и на его оплату есть ограничение по времени (например 1 день). Это логично, так как в целях магазина как можно скорее оформить покупку после предоплаты. К тому же, предоплаченный товар (предоплата составляет некоторую часть полной суммы заказа) не может быть забронирован у продавца на долгое время (моё личное мнение)."
   ]
  },
  {
   "cell_type": "code",
   "execution_count": 1092,
   "id": "0f3faf08",
   "metadata": {},
   "outputs": [],
   "source": [
    "df_items_with_purch_with_date = (df_items_with_purch\n",
    "                                 .merge(df_orders_with_purch[['order_id', 'order_approved_at']], \n",
    "                                        how='inner', on='order_id'))"
   ]
  },
  {
   "cell_type": "code",
   "execution_count": 1093,
   "id": "db498cc2",
   "metadata": {},
   "outputs": [
    {
     "data": {
      "text/html": [
       "<div>\n",
       "<style scoped>\n",
       "    .dataframe tbody tr th:only-of-type {\n",
       "        vertical-align: middle;\n",
       "    }\n",
       "\n",
       "    .dataframe tbody tr th {\n",
       "        vertical-align: top;\n",
       "    }\n",
       "\n",
       "    .dataframe thead th {\n",
       "        text-align: right;\n",
       "    }\n",
       "</style>\n",
       "<table border=\"1\" class=\"dataframe\">\n",
       "  <thead>\n",
       "    <tr style=\"text-align: right;\">\n",
       "      <th></th>\n",
       "      <th>order_id</th>\n",
       "      <th>order_item_id</th>\n",
       "      <th>product_id</th>\n",
       "      <th>seller_id</th>\n",
       "      <th>shipping_limit_date</th>\n",
       "      <th>price</th>\n",
       "      <th>freight_value</th>\n",
       "      <th>order_approved_at</th>\n",
       "    </tr>\n",
       "  </thead>\n",
       "  <tbody>\n",
       "    <tr>\n",
       "      <th>0</th>\n",
       "      <td>00010242fe8c5a6d1ba2dd792cb16214</td>\n",
       "      <td>1</td>\n",
       "      <td>4244733e06e7ecb4970a6e2683c13e61</td>\n",
       "      <td>48436dade18ac8b2bce089ec2a041202</td>\n",
       "      <td>2017-09-19 09:45:35</td>\n",
       "      <td>58.90</td>\n",
       "      <td>13.29</td>\n",
       "      <td>2017-09-13 09:45:35</td>\n",
       "    </tr>\n",
       "    <tr>\n",
       "      <th>1</th>\n",
       "      <td>00018f77f2f0320c557190d7a144bdd3</td>\n",
       "      <td>1</td>\n",
       "      <td>e5f2d52b802189ee658865ca93d83a8f</td>\n",
       "      <td>dd7ddc04e1b6c2c614352b383efe2d36</td>\n",
       "      <td>2017-05-03 11:05:13</td>\n",
       "      <td>239.90</td>\n",
       "      <td>19.93</td>\n",
       "      <td>2017-04-26 11:05:13</td>\n",
       "    </tr>\n",
       "    <tr>\n",
       "      <th>2</th>\n",
       "      <td>000229ec398224ef6ca0657da4fc703e</td>\n",
       "      <td>1</td>\n",
       "      <td>c777355d18b72b67abbeef9df44fd0fd</td>\n",
       "      <td>5b51032eddd242adc84c38acab88f23d</td>\n",
       "      <td>2018-01-18 14:48:30</td>\n",
       "      <td>199.00</td>\n",
       "      <td>17.87</td>\n",
       "      <td>2018-01-14 14:48:30</td>\n",
       "    </tr>\n",
       "    <tr>\n",
       "      <th>3</th>\n",
       "      <td>00024acbcdf0a6daa1e931b038114c75</td>\n",
       "      <td>1</td>\n",
       "      <td>7634da152a4610f1595efa32f14722fc</td>\n",
       "      <td>9d7a1d34a5052409006425275ba1c2b4</td>\n",
       "      <td>2018-08-15 10:10:18</td>\n",
       "      <td>12.99</td>\n",
       "      <td>12.79</td>\n",
       "      <td>2018-08-08 10:10:18</td>\n",
       "    </tr>\n",
       "    <tr>\n",
       "      <th>4</th>\n",
       "      <td>00042b26cf59d7ce69dfabb4e55b4fd9</td>\n",
       "      <td>1</td>\n",
       "      <td>ac6c3623068f30de03045865e4e10089</td>\n",
       "      <td>df560393f3a51e74553ab94004ba5c87</td>\n",
       "      <td>2017-02-13 13:57:51</td>\n",
       "      <td>199.90</td>\n",
       "      <td>18.14</td>\n",
       "      <td>2017-02-04 14:10:13</td>\n",
       "    </tr>\n",
       "  </tbody>\n",
       "</table>\n",
       "</div>"
      ],
      "text/plain": [
       "                           order_id  order_item_id  \\\n",
       "0  00010242fe8c5a6d1ba2dd792cb16214              1   \n",
       "1  00018f77f2f0320c557190d7a144bdd3              1   \n",
       "2  000229ec398224ef6ca0657da4fc703e              1   \n",
       "3  00024acbcdf0a6daa1e931b038114c75              1   \n",
       "4  00042b26cf59d7ce69dfabb4e55b4fd9              1   \n",
       "\n",
       "                         product_id                         seller_id  \\\n",
       "0  4244733e06e7ecb4970a6e2683c13e61  48436dade18ac8b2bce089ec2a041202   \n",
       "1  e5f2d52b802189ee658865ca93d83a8f  dd7ddc04e1b6c2c614352b383efe2d36   \n",
       "2  c777355d18b72b67abbeef9df44fd0fd  5b51032eddd242adc84c38acab88f23d   \n",
       "3  7634da152a4610f1595efa32f14722fc  9d7a1d34a5052409006425275ba1c2b4   \n",
       "4  ac6c3623068f30de03045865e4e10089  df560393f3a51e74553ab94004ba5c87   \n",
       "\n",
       "  shipping_limit_date   price  freight_value   order_approved_at  \n",
       "0 2017-09-19 09:45:35   58.90          13.29 2017-09-13 09:45:35  \n",
       "1 2017-05-03 11:05:13  239.90          19.93 2017-04-26 11:05:13  \n",
       "2 2018-01-18 14:48:30  199.00          17.87 2018-01-14 14:48:30  \n",
       "3 2018-08-15 10:10:18   12.99          12.79 2018-08-08 10:10:18  \n",
       "4 2017-02-13 13:57:51  199.90          18.14 2017-02-04 14:10:13  "
      ]
     },
     "execution_count": 1093,
     "metadata": {},
     "output_type": "execute_result"
    }
   ],
   "source": [
    "df_items_with_purch_with_date.head()"
   ]
  },
  {
   "cell_type": "code",
   "execution_count": 1094,
   "id": "aa243aaa",
   "metadata": {},
   "outputs": [],
   "source": [
    "df_items_with_purch_with_date.loc[:, 'order_approved_at'] = (df_items_with_purch_with_date['order_approved_at']\n",
    "                                                             .dt.day_name())"
   ]
  },
  {
   "cell_type": "code",
   "execution_count": 1095,
   "id": "0837d8ee",
   "metadata": {},
   "outputs": [
    {
     "data": {
      "text/html": [
       "<div>\n",
       "<style scoped>\n",
       "    .dataframe tbody tr th:only-of-type {\n",
       "        vertical-align: middle;\n",
       "    }\n",
       "\n",
       "    .dataframe tbody tr th {\n",
       "        vertical-align: top;\n",
       "    }\n",
       "\n",
       "    .dataframe thead th {\n",
       "        text-align: right;\n",
       "    }\n",
       "</style>\n",
       "<table border=\"1\" class=\"dataframe\">\n",
       "  <thead>\n",
       "    <tr style=\"text-align: right;\">\n",
       "      <th></th>\n",
       "      <th>order_id</th>\n",
       "      <th>order_item_id</th>\n",
       "      <th>product_id</th>\n",
       "      <th>seller_id</th>\n",
       "      <th>shipping_limit_date</th>\n",
       "      <th>price</th>\n",
       "      <th>freight_value</th>\n",
       "      <th>order_approved_at</th>\n",
       "    </tr>\n",
       "  </thead>\n",
       "  <tbody>\n",
       "    <tr>\n",
       "      <th>0</th>\n",
       "      <td>00010242fe8c5a6d1ba2dd792cb16214</td>\n",
       "      <td>1</td>\n",
       "      <td>4244733e06e7ecb4970a6e2683c13e61</td>\n",
       "      <td>48436dade18ac8b2bce089ec2a041202</td>\n",
       "      <td>2017-09-19 09:45:35</td>\n",
       "      <td>58.90</td>\n",
       "      <td>13.29</td>\n",
       "      <td>Wednesday</td>\n",
       "    </tr>\n",
       "    <tr>\n",
       "      <th>1</th>\n",
       "      <td>00018f77f2f0320c557190d7a144bdd3</td>\n",
       "      <td>1</td>\n",
       "      <td>e5f2d52b802189ee658865ca93d83a8f</td>\n",
       "      <td>dd7ddc04e1b6c2c614352b383efe2d36</td>\n",
       "      <td>2017-05-03 11:05:13</td>\n",
       "      <td>239.90</td>\n",
       "      <td>19.93</td>\n",
       "      <td>Wednesday</td>\n",
       "    </tr>\n",
       "    <tr>\n",
       "      <th>2</th>\n",
       "      <td>000229ec398224ef6ca0657da4fc703e</td>\n",
       "      <td>1</td>\n",
       "      <td>c777355d18b72b67abbeef9df44fd0fd</td>\n",
       "      <td>5b51032eddd242adc84c38acab88f23d</td>\n",
       "      <td>2018-01-18 14:48:30</td>\n",
       "      <td>199.00</td>\n",
       "      <td>17.87</td>\n",
       "      <td>Sunday</td>\n",
       "    </tr>\n",
       "    <tr>\n",
       "      <th>3</th>\n",
       "      <td>00024acbcdf0a6daa1e931b038114c75</td>\n",
       "      <td>1</td>\n",
       "      <td>7634da152a4610f1595efa32f14722fc</td>\n",
       "      <td>9d7a1d34a5052409006425275ba1c2b4</td>\n",
       "      <td>2018-08-15 10:10:18</td>\n",
       "      <td>12.99</td>\n",
       "      <td>12.79</td>\n",
       "      <td>Wednesday</td>\n",
       "    </tr>\n",
       "    <tr>\n",
       "      <th>4</th>\n",
       "      <td>00042b26cf59d7ce69dfabb4e55b4fd9</td>\n",
       "      <td>1</td>\n",
       "      <td>ac6c3623068f30de03045865e4e10089</td>\n",
       "      <td>df560393f3a51e74553ab94004ba5c87</td>\n",
       "      <td>2017-02-13 13:57:51</td>\n",
       "      <td>199.90</td>\n",
       "      <td>18.14</td>\n",
       "      <td>Saturday</td>\n",
       "    </tr>\n",
       "  </tbody>\n",
       "</table>\n",
       "</div>"
      ],
      "text/plain": [
       "                           order_id  order_item_id  \\\n",
       "0  00010242fe8c5a6d1ba2dd792cb16214              1   \n",
       "1  00018f77f2f0320c557190d7a144bdd3              1   \n",
       "2  000229ec398224ef6ca0657da4fc703e              1   \n",
       "3  00024acbcdf0a6daa1e931b038114c75              1   \n",
       "4  00042b26cf59d7ce69dfabb4e55b4fd9              1   \n",
       "\n",
       "                         product_id                         seller_id  \\\n",
       "0  4244733e06e7ecb4970a6e2683c13e61  48436dade18ac8b2bce089ec2a041202   \n",
       "1  e5f2d52b802189ee658865ca93d83a8f  dd7ddc04e1b6c2c614352b383efe2d36   \n",
       "2  c777355d18b72b67abbeef9df44fd0fd  5b51032eddd242adc84c38acab88f23d   \n",
       "3  7634da152a4610f1595efa32f14722fc  9d7a1d34a5052409006425275ba1c2b4   \n",
       "4  ac6c3623068f30de03045865e4e10089  df560393f3a51e74553ab94004ba5c87   \n",
       "\n",
       "  shipping_limit_date   price  freight_value order_approved_at  \n",
       "0 2017-09-19 09:45:35   58.90          13.29         Wednesday  \n",
       "1 2017-05-03 11:05:13  239.90          19.93         Wednesday  \n",
       "2 2018-01-18 14:48:30  199.00          17.87            Sunday  \n",
       "3 2018-08-15 10:10:18   12.99          12.79         Wednesday  \n",
       "4 2017-02-13 13:57:51  199.90          18.14          Saturday  "
      ]
     },
     "execution_count": 1095,
     "metadata": {},
     "output_type": "execute_result"
    }
   ],
   "source": [
    "df_items_with_purch_with_date.head()"
   ]
  },
  {
   "cell_type": "code",
   "execution_count": 1096,
   "id": "eaf22960",
   "metadata": {},
   "outputs": [],
   "source": [
    "product_id_quantity_weekday = (df_items_with_purch_with_date.\n",
    "                               groupby(['product_id', 'order_approved_at'], as_index=False)\n",
    "                               .agg({'order_id':'count'})\n",
    "                               .rename(columns={'order_id':'quantity'})\n",
    "                               .sort_values('quantity', ascending=False))"
   ]
  },
  {
   "cell_type": "code",
   "execution_count": 1097,
   "id": "2c3c1ce8",
   "metadata": {},
   "outputs": [
    {
     "data": {
      "text/html": [
       "<div>\n",
       "<style scoped>\n",
       "    .dataframe tbody tr th:only-of-type {\n",
       "        vertical-align: middle;\n",
       "    }\n",
       "\n",
       "    .dataframe tbody tr th {\n",
       "        vertical-align: top;\n",
       "    }\n",
       "\n",
       "    .dataframe thead th {\n",
       "        text-align: right;\n",
       "    }\n",
       "</style>\n",
       "<table border=\"1\" class=\"dataframe\">\n",
       "  <thead>\n",
       "    <tr style=\"text-align: right;\">\n",
       "      <th></th>\n",
       "      <th>product_id</th>\n",
       "      <th>order_approved_at</th>\n",
       "      <th>quantity</th>\n",
       "    </tr>\n",
       "  </thead>\n",
       "  <tbody>\n",
       "    <tr>\n",
       "      <th>40927</th>\n",
       "      <td>aca2eb7d00ea1a7b8ebd4e68314663af</td>\n",
       "      <td>Tuesday</td>\n",
       "      <td>119</td>\n",
       "    </tr>\n",
       "    <tr>\n",
       "      <th>20077</th>\n",
       "      <td>53b36df67ebb7c41585e8d54d6772e08</td>\n",
       "      <td>Tuesday</td>\n",
       "      <td>105</td>\n",
       "    </tr>\n",
       "    <tr>\n",
       "      <th>40922</th>\n",
       "      <td>aca2eb7d00ea1a7b8ebd4e68314663af</td>\n",
       "      <td>Friday</td>\n",
       "      <td>96</td>\n",
       "    </tr>\n",
       "    <tr>\n",
       "      <th>15878</th>\n",
       "      <td>422879e10f46682990de24d770e7f83d</td>\n",
       "      <td>Tuesday</td>\n",
       "      <td>89</td>\n",
       "    </tr>\n",
       "    <tr>\n",
       "      <th>40928</th>\n",
       "      <td>aca2eb7d00ea1a7b8ebd4e68314663af</td>\n",
       "      <td>Wednesday</td>\n",
       "      <td>89</td>\n",
       "    </tr>\n",
       "  </tbody>\n",
       "</table>\n",
       "</div>"
      ],
      "text/plain": [
       "                             product_id order_approved_at  quantity\n",
       "40927  aca2eb7d00ea1a7b8ebd4e68314663af           Tuesday       119\n",
       "20077  53b36df67ebb7c41585e8d54d6772e08           Tuesday       105\n",
       "40922  aca2eb7d00ea1a7b8ebd4e68314663af            Friday        96\n",
       "15878  422879e10f46682990de24d770e7f83d           Tuesday        89\n",
       "40928  aca2eb7d00ea1a7b8ebd4e68314663af         Wednesday        89"
      ]
     },
     "execution_count": 1097,
     "metadata": {},
     "output_type": "execute_result"
    }
   ],
   "source": [
    "product_id_quantity_weekday.head()"
   ]
  },
  {
   "cell_type": "code",
   "execution_count": 1098,
   "id": "794faa1e",
   "metadata": {},
   "outputs": [
    {
     "data": {
      "text/plain": [
       "(60918, 3)"
      ]
     },
     "execution_count": 1098,
     "metadata": {},
     "output_type": "execute_result"
    }
   ],
   "source": [
    "product_id_quantity_weekday.shape"
   ]
  },
  {
   "cell_type": "markdown",
   "id": "17585f22",
   "metadata": {},
   "source": [
    "В таблице product_id_quantity_weekday для каждого product_id опрделим индексы с максимальными значениями в колонке quantity."
   ]
  },
  {
   "cell_type": "code",
   "execution_count": 1099,
   "id": "36c3b6a4",
   "metadata": {},
   "outputs": [],
   "source": [
    "max_quantity_index = product_id_quantity_weekday.groupby('product_id')['quantity'].idxmax()"
   ]
  },
  {
   "cell_type": "code",
   "execution_count": 1100,
   "id": "12cbf937",
   "metadata": {},
   "outputs": [
    {
     "data": {
      "text/plain": [
       "product_id\n",
       "00066f42aeeb9f3007548bb9d3f33c38        0\n",
       "00088930e925c41fd95ebfe695fd2655        1\n",
       "0009406fd7479715e4bef61dd91f2462        2\n",
       "000b8f95fcb9e0096488278317764d19        3\n",
       "000d9be29b5207b54e86aa1b1ac54872        5\n",
       "                                    ...  \n",
       "fff6177642830a9a94a0f2cba5e476d1    60910\n",
       "fff81cc3158d2725c0655ab9ba0f712c    60912\n",
       "fff9553ac224cec9d15d49f5a263411f    60913\n",
       "fffdb2d0ec8d6a61f0a0a0db3f25b441    60916\n",
       "fffe9eeff12fcbd74a2f2b007dde0c58    60917\n",
       "Name: quantity, Length: 32830, dtype: int64"
      ]
     },
     "execution_count": 1100,
     "metadata": {},
     "output_type": "execute_result"
    }
   ],
   "source": [
    "max_quantity_index"
   ]
  },
  {
   "cell_type": "code",
   "execution_count": 1101,
   "id": "c5748aee",
   "metadata": {},
   "outputs": [],
   "source": [
    "frequently_weekday_for_each_product = (product_id_quantity_weekday\n",
    "                                       .loc[max_quantity_index, :].sort_values('quantity', ascending=False))"
   ]
  },
  {
   "cell_type": "code",
   "execution_count": 1102,
   "id": "4ac60141",
   "metadata": {},
   "outputs": [
    {
     "data": {
      "text/html": [
       "<div>\n",
       "<style scoped>\n",
       "    .dataframe tbody tr th:only-of-type {\n",
       "        vertical-align: middle;\n",
       "    }\n",
       "\n",
       "    .dataframe tbody tr th {\n",
       "        vertical-align: top;\n",
       "    }\n",
       "\n",
       "    .dataframe thead th {\n",
       "        text-align: right;\n",
       "    }\n",
       "</style>\n",
       "<table border=\"1\" class=\"dataframe\">\n",
       "  <thead>\n",
       "    <tr style=\"text-align: right;\">\n",
       "      <th></th>\n",
       "      <th>product_id</th>\n",
       "      <th>order_approved_at</th>\n",
       "      <th>quantity</th>\n",
       "    </tr>\n",
       "  </thead>\n",
       "  <tbody>\n",
       "    <tr>\n",
       "      <th>40927</th>\n",
       "      <td>aca2eb7d00ea1a7b8ebd4e68314663af</td>\n",
       "      <td>Tuesday</td>\n",
       "      <td>119</td>\n",
       "    </tr>\n",
       "    <tr>\n",
       "      <th>20077</th>\n",
       "      <td>53b36df67ebb7c41585e8d54d6772e08</td>\n",
       "      <td>Tuesday</td>\n",
       "      <td>105</td>\n",
       "    </tr>\n",
       "    <tr>\n",
       "      <th>15878</th>\n",
       "      <td>422879e10f46682990de24d770e7f83d</td>\n",
       "      <td>Tuesday</td>\n",
       "      <td>89</td>\n",
       "    </tr>\n",
       "    <tr>\n",
       "      <th>36430</th>\n",
       "      <td>99a4788cb24856965c36a24e339b6058</td>\n",
       "      <td>Tuesday</td>\n",
       "      <td>82</td>\n",
       "    </tr>\n",
       "    <tr>\n",
       "      <th>13014</th>\n",
       "      <td>368c6c730842d78016ad823897a372db</td>\n",
       "      <td>Thursday</td>\n",
       "      <td>80</td>\n",
       "    </tr>\n",
       "  </tbody>\n",
       "</table>\n",
       "</div>"
      ],
      "text/plain": [
       "                             product_id order_approved_at  quantity\n",
       "40927  aca2eb7d00ea1a7b8ebd4e68314663af           Tuesday       119\n",
       "20077  53b36df67ebb7c41585e8d54d6772e08           Tuesday       105\n",
       "15878  422879e10f46682990de24d770e7f83d           Tuesday        89\n",
       "36430  99a4788cb24856965c36a24e339b6058           Tuesday        82\n",
       "13014  368c6c730842d78016ad823897a372db          Thursday        80"
      ]
     },
     "execution_count": 1102,
     "metadata": {},
     "output_type": "execute_result"
    }
   ],
   "source": [
    "frequently_weekday_for_each_product.head()"
   ]
  },
  {
   "cell_type": "code",
   "execution_count": 1103,
   "id": "c59f4825",
   "metadata": {},
   "outputs": [
    {
     "data": {
      "text/plain": [
       "(32830, 3)"
      ]
     },
     "execution_count": 1103,
     "metadata": {},
     "output_type": "execute_result"
    }
   ],
   "source": [
    "frequently_weekday_for_each_product.shape"
   ]
  },
  {
   "cell_type": "markdown",
   "id": "f58f4154",
   "metadata": {},
   "source": [
    "### Ответ: таблица frequently_weekday_for_each_product"
   ]
  },
  {
   "cell_type": "markdown",
   "id": "aabb91bb",
   "metadata": {},
   "source": [
    "## 4. Сколько у каждого из пользователей в среднем покупок в неделю (по месяцам)? Не стоит забывать, что внутри месяца может быть не целое количество недель. Например, в ноябре 2021 года 4,28 недели. И внутри метрики это нужно учесть."
   ]
  },
  {
   "cell_type": "code",
   "execution_count": 1104,
   "id": "0e4cfacf",
   "metadata": {},
   "outputs": [
    {
     "data": {
      "text/html": [
       "<div>\n",
       "<style scoped>\n",
       "    .dataframe tbody tr th:only-of-type {\n",
       "        vertical-align: middle;\n",
       "    }\n",
       "\n",
       "    .dataframe tbody tr th {\n",
       "        vertical-align: top;\n",
       "    }\n",
       "\n",
       "    .dataframe thead th {\n",
       "        text-align: right;\n",
       "    }\n",
       "</style>\n",
       "<table border=\"1\" class=\"dataframe\">\n",
       "  <thead>\n",
       "    <tr style=\"text-align: right;\">\n",
       "      <th></th>\n",
       "      <th>customer_id</th>\n",
       "      <th>customer_unique_id</th>\n",
       "      <th>customer_zip_code_prefix</th>\n",
       "      <th>customer_city</th>\n",
       "      <th>customer_state</th>\n",
       "    </tr>\n",
       "  </thead>\n",
       "  <tbody>\n",
       "    <tr>\n",
       "      <th>0</th>\n",
       "      <td>06b8999e2fba1a1fbc88172c00ba8bc7</td>\n",
       "      <td>861eff4711a542e4b93843c6dd7febb0</td>\n",
       "      <td>14409</td>\n",
       "      <td>franca</td>\n",
       "      <td>SP</td>\n",
       "    </tr>\n",
       "    <tr>\n",
       "      <th>1</th>\n",
       "      <td>18955e83d337fd6b2def6b18a428ac77</td>\n",
       "      <td>290c77bc529b7ac935b93aa66c333dc3</td>\n",
       "      <td>9790</td>\n",
       "      <td>sao bernardo do campo</td>\n",
       "      <td>SP</td>\n",
       "    </tr>\n",
       "    <tr>\n",
       "      <th>2</th>\n",
       "      <td>4e7b3e00288586ebd08712fdd0374a03</td>\n",
       "      <td>060e732b5b29e8181a18229c7b0b2b5e</td>\n",
       "      <td>1151</td>\n",
       "      <td>sao paulo</td>\n",
       "      <td>SP</td>\n",
       "    </tr>\n",
       "    <tr>\n",
       "      <th>3</th>\n",
       "      <td>b2b6027bc5c5109e529d4dc6358b12c3</td>\n",
       "      <td>259dac757896d24d7702b9acbbff3f3c</td>\n",
       "      <td>8775</td>\n",
       "      <td>mogi das cruzes</td>\n",
       "      <td>SP</td>\n",
       "    </tr>\n",
       "    <tr>\n",
       "      <th>4</th>\n",
       "      <td>4f2d8ab171c80ec8364f7c12e35b23ad</td>\n",
       "      <td>345ecd01c38d18a9036ed96c73b8d066</td>\n",
       "      <td>13056</td>\n",
       "      <td>campinas</td>\n",
       "      <td>SP</td>\n",
       "    </tr>\n",
       "  </tbody>\n",
       "</table>\n",
       "</div>"
      ],
      "text/plain": [
       "                        customer_id                customer_unique_id  \\\n",
       "0  06b8999e2fba1a1fbc88172c00ba8bc7  861eff4711a542e4b93843c6dd7febb0   \n",
       "1  18955e83d337fd6b2def6b18a428ac77  290c77bc529b7ac935b93aa66c333dc3   \n",
       "2  4e7b3e00288586ebd08712fdd0374a03  060e732b5b29e8181a18229c7b0b2b5e   \n",
       "3  b2b6027bc5c5109e529d4dc6358b12c3  259dac757896d24d7702b9acbbff3f3c   \n",
       "4  4f2d8ab171c80ec8364f7c12e35b23ad  345ecd01c38d18a9036ed96c73b8d066   \n",
       "\n",
       "   customer_zip_code_prefix          customer_city customer_state  \n",
       "0                     14409                 franca             SP  \n",
       "1                      9790  sao bernardo do campo             SP  \n",
       "2                      1151              sao paulo             SP  \n",
       "3                      8775        mogi das cruzes             SP  \n",
       "4                     13056               campinas             SP  "
      ]
     },
     "execution_count": 1104,
     "metadata": {},
     "output_type": "execute_result"
    }
   ],
   "source": [
    "df_customers_with_purch.head()"
   ]
  },
  {
   "cell_type": "code",
   "execution_count": 1105,
   "id": "efc1a1b4",
   "metadata": {},
   "outputs": [
    {
     "data": {
      "text/html": [
       "<div>\n",
       "<style scoped>\n",
       "    .dataframe tbody tr th:only-of-type {\n",
       "        vertical-align: middle;\n",
       "    }\n",
       "\n",
       "    .dataframe tbody tr th {\n",
       "        vertical-align: top;\n",
       "    }\n",
       "\n",
       "    .dataframe thead th {\n",
       "        text-align: right;\n",
       "    }\n",
       "</style>\n",
       "<table border=\"1\" class=\"dataframe\">\n",
       "  <thead>\n",
       "    <tr style=\"text-align: right;\">\n",
       "      <th></th>\n",
       "      <th>order_id</th>\n",
       "      <th>customer_id</th>\n",
       "      <th>order_status</th>\n",
       "      <th>order_purchase_timestamp</th>\n",
       "      <th>order_approved_at</th>\n",
       "      <th>order_delivered_carrier_date</th>\n",
       "      <th>order_delivered_customer_date</th>\n",
       "      <th>order_estimated_delivery_date</th>\n",
       "    </tr>\n",
       "  </thead>\n",
       "  <tbody>\n",
       "    <tr>\n",
       "      <th>0</th>\n",
       "      <td>e481f51cbdc54678b7cc49136f2d6af7</td>\n",
       "      <td>9ef432eb6251297304e76186b10a928d</td>\n",
       "      <td>delivered</td>\n",
       "      <td>2017-10-02 10:56:33</td>\n",
       "      <td>2017-10-02 11:07:15</td>\n",
       "      <td>2017-10-04 19:55:00</td>\n",
       "      <td>2017-10-10 21:25:13</td>\n",
       "      <td>2017-10-18</td>\n",
       "    </tr>\n",
       "    <tr>\n",
       "      <th>1</th>\n",
       "      <td>53cdb2fc8bc7dce0b6741e2150273451</td>\n",
       "      <td>b0830fb4747a6c6d20dea0b8c802d7ef</td>\n",
       "      <td>delivered</td>\n",
       "      <td>2018-07-24 20:41:37</td>\n",
       "      <td>2018-07-26 03:24:27</td>\n",
       "      <td>2018-07-26 14:31:00</td>\n",
       "      <td>2018-08-07 15:27:45</td>\n",
       "      <td>2018-08-13</td>\n",
       "    </tr>\n",
       "    <tr>\n",
       "      <th>2</th>\n",
       "      <td>47770eb9100c2d0c44946d9cf07ec65d</td>\n",
       "      <td>41ce2a54c0b03bf3443c3d931a367089</td>\n",
       "      <td>delivered</td>\n",
       "      <td>2018-08-08 08:38:49</td>\n",
       "      <td>2018-08-08 08:55:23</td>\n",
       "      <td>2018-08-08 13:50:00</td>\n",
       "      <td>2018-08-17 18:06:29</td>\n",
       "      <td>2018-09-04</td>\n",
       "    </tr>\n",
       "    <tr>\n",
       "      <th>3</th>\n",
       "      <td>949d5b44dbf5de918fe9c16f97b45f8a</td>\n",
       "      <td>f88197465ea7920adcdbec7375364d82</td>\n",
       "      <td>delivered</td>\n",
       "      <td>2017-11-18 19:28:06</td>\n",
       "      <td>2017-11-18 19:45:59</td>\n",
       "      <td>2017-11-22 13:39:59</td>\n",
       "      <td>2017-12-02 00:28:42</td>\n",
       "      <td>2017-12-15</td>\n",
       "    </tr>\n",
       "    <tr>\n",
       "      <th>4</th>\n",
       "      <td>ad21c59c0840e6cb83a9ceb5573f8159</td>\n",
       "      <td>8ab97904e6daea8866dbdbc4fb7aad2c</td>\n",
       "      <td>delivered</td>\n",
       "      <td>2018-02-13 21:18:39</td>\n",
       "      <td>2018-02-13 22:20:29</td>\n",
       "      <td>2018-02-14 19:46:34</td>\n",
       "      <td>2018-02-16 18:17:02</td>\n",
       "      <td>2018-02-26</td>\n",
       "    </tr>\n",
       "  </tbody>\n",
       "</table>\n",
       "</div>"
      ],
      "text/plain": [
       "                           order_id                       customer_id  \\\n",
       "0  e481f51cbdc54678b7cc49136f2d6af7  9ef432eb6251297304e76186b10a928d   \n",
       "1  53cdb2fc8bc7dce0b6741e2150273451  b0830fb4747a6c6d20dea0b8c802d7ef   \n",
       "2  47770eb9100c2d0c44946d9cf07ec65d  41ce2a54c0b03bf3443c3d931a367089   \n",
       "3  949d5b44dbf5de918fe9c16f97b45f8a  f88197465ea7920adcdbec7375364d82   \n",
       "4  ad21c59c0840e6cb83a9ceb5573f8159  8ab97904e6daea8866dbdbc4fb7aad2c   \n",
       "\n",
       "  order_status order_purchase_timestamp   order_approved_at  \\\n",
       "0    delivered      2017-10-02 10:56:33 2017-10-02 11:07:15   \n",
       "1    delivered      2018-07-24 20:41:37 2018-07-26 03:24:27   \n",
       "2    delivered      2018-08-08 08:38:49 2018-08-08 08:55:23   \n",
       "3    delivered      2017-11-18 19:28:06 2017-11-18 19:45:59   \n",
       "4    delivered      2018-02-13 21:18:39 2018-02-13 22:20:29   \n",
       "\n",
       "  order_delivered_carrier_date order_delivered_customer_date  \\\n",
       "0          2017-10-04 19:55:00           2017-10-10 21:25:13   \n",
       "1          2018-07-26 14:31:00           2018-08-07 15:27:45   \n",
       "2          2018-08-08 13:50:00           2018-08-17 18:06:29   \n",
       "3          2017-11-22 13:39:59           2017-12-02 00:28:42   \n",
       "4          2018-02-14 19:46:34           2018-02-16 18:17:02   \n",
       "\n",
       "  order_estimated_delivery_date  \n",
       "0                    2017-10-18  \n",
       "1                    2018-08-13  \n",
       "2                    2018-09-04  \n",
       "3                    2017-12-15  \n",
       "4                    2018-02-26  "
      ]
     },
     "execution_count": 1105,
     "metadata": {},
     "output_type": "execute_result"
    }
   ],
   "source": [
    "df_orders_with_purch.head()"
   ]
  },
  {
   "cell_type": "markdown",
   "id": "6f303ef9",
   "metadata": {},
   "source": [
    "Как и в прошлом задании, считаем, что покупка совершается в день, указанный в колонке order_approved_at (т.е. в данный день оплачивается счёт заказа)."
   ]
  },
  {
   "cell_type": "code",
   "execution_count": 1106,
   "id": "830cdfa6",
   "metadata": {},
   "outputs": [],
   "source": [
    "df_customers_purch_with_date = (df_customers_with_purch[['customer_id', 'customer_unique_id']]\n",
    "                                .merge(df_orders_with_purch[['customer_id', 'order_approved_at']], \n",
    "                                       on='customer_id', how='inner'))"
   ]
  },
  {
   "cell_type": "code",
   "execution_count": 1107,
   "id": "9987568d",
   "metadata": {},
   "outputs": [
    {
     "data": {
      "text/html": [
       "<div>\n",
       "<style scoped>\n",
       "    .dataframe tbody tr th:only-of-type {\n",
       "        vertical-align: middle;\n",
       "    }\n",
       "\n",
       "    .dataframe tbody tr th {\n",
       "        vertical-align: top;\n",
       "    }\n",
       "\n",
       "    .dataframe thead th {\n",
       "        text-align: right;\n",
       "    }\n",
       "</style>\n",
       "<table border=\"1\" class=\"dataframe\">\n",
       "  <thead>\n",
       "    <tr style=\"text-align: right;\">\n",
       "      <th></th>\n",
       "      <th>customer_id</th>\n",
       "      <th>customer_unique_id</th>\n",
       "      <th>order_approved_at</th>\n",
       "    </tr>\n",
       "  </thead>\n",
       "  <tbody>\n",
       "    <tr>\n",
       "      <th>0</th>\n",
       "      <td>06b8999e2fba1a1fbc88172c00ba8bc7</td>\n",
       "      <td>861eff4711a542e4b93843c6dd7febb0</td>\n",
       "      <td>2017-05-16 15:22:12</td>\n",
       "    </tr>\n",
       "    <tr>\n",
       "      <th>1</th>\n",
       "      <td>18955e83d337fd6b2def6b18a428ac77</td>\n",
       "      <td>290c77bc529b7ac935b93aa66c333dc3</td>\n",
       "      <td>2018-01-12 20:58:32</td>\n",
       "    </tr>\n",
       "    <tr>\n",
       "      <th>2</th>\n",
       "      <td>4e7b3e00288586ebd08712fdd0374a03</td>\n",
       "      <td>060e732b5b29e8181a18229c7b0b2b5e</td>\n",
       "      <td>2018-05-20 16:19:10</td>\n",
       "    </tr>\n",
       "    <tr>\n",
       "      <th>3</th>\n",
       "      <td>b2b6027bc5c5109e529d4dc6358b12c3</td>\n",
       "      <td>259dac757896d24d7702b9acbbff3f3c</td>\n",
       "      <td>2018-03-13 17:29:19</td>\n",
       "    </tr>\n",
       "    <tr>\n",
       "      <th>4</th>\n",
       "      <td>4f2d8ab171c80ec8364f7c12e35b23ad</td>\n",
       "      <td>345ecd01c38d18a9036ed96c73b8d066</td>\n",
       "      <td>2018-07-29 10:10:09</td>\n",
       "    </tr>\n",
       "  </tbody>\n",
       "</table>\n",
       "</div>"
      ],
      "text/plain": [
       "                        customer_id                customer_unique_id  \\\n",
       "0  06b8999e2fba1a1fbc88172c00ba8bc7  861eff4711a542e4b93843c6dd7febb0   \n",
       "1  18955e83d337fd6b2def6b18a428ac77  290c77bc529b7ac935b93aa66c333dc3   \n",
       "2  4e7b3e00288586ebd08712fdd0374a03  060e732b5b29e8181a18229c7b0b2b5e   \n",
       "3  b2b6027bc5c5109e529d4dc6358b12c3  259dac757896d24d7702b9acbbff3f3c   \n",
       "4  4f2d8ab171c80ec8364f7c12e35b23ad  345ecd01c38d18a9036ed96c73b8d066   \n",
       "\n",
       "    order_approved_at  \n",
       "0 2017-05-16 15:22:12  \n",
       "1 2018-01-12 20:58:32  \n",
       "2 2018-05-20 16:19:10  \n",
       "3 2018-03-13 17:29:19  \n",
       "4 2018-07-29 10:10:09  "
      ]
     },
     "execution_count": 1107,
     "metadata": {},
     "output_type": "execute_result"
    }
   ],
   "source": [
    "df_customers_purch_with_date.head()"
   ]
  },
  {
   "cell_type": "markdown",
   "id": "eabef63d",
   "metadata": {},
   "source": [
    "Получаем таблицу, в которой customer_id - позаказный идентификатор пользователя, customer_unique_id - уникальный идентификатор пользователя (аналог номера паспорта), order_approved_at - дата совершения покупки."
   ]
  },
  {
   "cell_type": "markdown",
   "id": "a23397aa",
   "metadata": {},
   "source": [
    "Приведём даты в колонке order_approved_at к типу год-месяц (также будет указан день 1, но в данном случае это неважно)."
   ]
  },
  {
   "cell_type": "code",
   "execution_count": 1108,
   "id": "778b7f72",
   "metadata": {},
   "outputs": [],
   "source": [
    "df_customers_purch_with_date.loc[:, 'order_approved_at'] = (df_customers_purch_with_date\n",
    "                                                            .order_approved_at.dt.strftime('%Y-%m'))"
   ]
  },
  {
   "cell_type": "code",
   "execution_count": 1109,
   "id": "7a94658a",
   "metadata": {},
   "outputs": [
    {
     "data": {
      "text/html": [
       "<div>\n",
       "<style scoped>\n",
       "    .dataframe tbody tr th:only-of-type {\n",
       "        vertical-align: middle;\n",
       "    }\n",
       "\n",
       "    .dataframe tbody tr th {\n",
       "        vertical-align: top;\n",
       "    }\n",
       "\n",
       "    .dataframe thead th {\n",
       "        text-align: right;\n",
       "    }\n",
       "</style>\n",
       "<table border=\"1\" class=\"dataframe\">\n",
       "  <thead>\n",
       "    <tr style=\"text-align: right;\">\n",
       "      <th></th>\n",
       "      <th>customer_id</th>\n",
       "      <th>customer_unique_id</th>\n",
       "      <th>order_approved_at</th>\n",
       "    </tr>\n",
       "  </thead>\n",
       "  <tbody>\n",
       "    <tr>\n",
       "      <th>0</th>\n",
       "      <td>06b8999e2fba1a1fbc88172c00ba8bc7</td>\n",
       "      <td>861eff4711a542e4b93843c6dd7febb0</td>\n",
       "      <td>2017-05-01</td>\n",
       "    </tr>\n",
       "    <tr>\n",
       "      <th>1</th>\n",
       "      <td>18955e83d337fd6b2def6b18a428ac77</td>\n",
       "      <td>290c77bc529b7ac935b93aa66c333dc3</td>\n",
       "      <td>2018-01-01</td>\n",
       "    </tr>\n",
       "    <tr>\n",
       "      <th>2</th>\n",
       "      <td>4e7b3e00288586ebd08712fdd0374a03</td>\n",
       "      <td>060e732b5b29e8181a18229c7b0b2b5e</td>\n",
       "      <td>2018-05-01</td>\n",
       "    </tr>\n",
       "    <tr>\n",
       "      <th>3</th>\n",
       "      <td>b2b6027bc5c5109e529d4dc6358b12c3</td>\n",
       "      <td>259dac757896d24d7702b9acbbff3f3c</td>\n",
       "      <td>2018-03-01</td>\n",
       "    </tr>\n",
       "    <tr>\n",
       "      <th>4</th>\n",
       "      <td>4f2d8ab171c80ec8364f7c12e35b23ad</td>\n",
       "      <td>345ecd01c38d18a9036ed96c73b8d066</td>\n",
       "      <td>2018-07-01</td>\n",
       "    </tr>\n",
       "  </tbody>\n",
       "</table>\n",
       "</div>"
      ],
      "text/plain": [
       "                        customer_id                customer_unique_id  \\\n",
       "0  06b8999e2fba1a1fbc88172c00ba8bc7  861eff4711a542e4b93843c6dd7febb0   \n",
       "1  18955e83d337fd6b2def6b18a428ac77  290c77bc529b7ac935b93aa66c333dc3   \n",
       "2  4e7b3e00288586ebd08712fdd0374a03  060e732b5b29e8181a18229c7b0b2b5e   \n",
       "3  b2b6027bc5c5109e529d4dc6358b12c3  259dac757896d24d7702b9acbbff3f3c   \n",
       "4  4f2d8ab171c80ec8364f7c12e35b23ad  345ecd01c38d18a9036ed96c73b8d066   \n",
       "\n",
       "  order_approved_at  \n",
       "0        2017-05-01  \n",
       "1        2018-01-01  \n",
       "2        2018-05-01  \n",
       "3        2018-03-01  \n",
       "4        2018-07-01  "
      ]
     },
     "execution_count": 1109,
     "metadata": {},
     "output_type": "execute_result"
    }
   ],
   "source": [
    "df_customers_purch_with_date.head()"
   ]
  },
  {
   "cell_type": "code",
   "execution_count": 1110,
   "id": "99e8ebbb",
   "metadata": {},
   "outputs": [
    {
     "data": {
      "text/plain": [
       "customer_id                   object\n",
       "customer_unique_id            object\n",
       "order_approved_at     datetime64[ns]\n",
       "dtype: object"
      ]
     },
     "execution_count": 1110,
     "metadata": {},
     "output_type": "execute_result"
    }
   ],
   "source": [
    "df_customers_purch_with_date.dtypes"
   ]
  },
  {
   "cell_type": "code",
   "execution_count": 1111,
   "id": "5057c82b",
   "metadata": {},
   "outputs": [],
   "source": [
    "df_quantity_per_month = (df_customers_purch_with_date\n",
    "                         .groupby(['customer_unique_id', 'order_approved_at'], as_index=False)\n",
    "                         .agg({'customer_id':'count'})\n",
    "                         .rename(columns={'customer_id':'quantity_of_purch'})\n",
    "                         .sort_values('quantity_of_purch', ascending=False))"
   ]
  },
  {
   "cell_type": "code",
   "execution_count": 1112,
   "id": "ac8effb0",
   "metadata": {},
   "outputs": [
    {
     "data": {
      "text/html": [
       "<div>\n",
       "<style scoped>\n",
       "    .dataframe tbody tr th:only-of-type {\n",
       "        vertical-align: middle;\n",
       "    }\n",
       "\n",
       "    .dataframe tbody tr th {\n",
       "        vertical-align: top;\n",
       "    }\n",
       "\n",
       "    .dataframe thead th {\n",
       "        text-align: right;\n",
       "    }\n",
       "</style>\n",
       "<table border=\"1\" class=\"dataframe\">\n",
       "  <thead>\n",
       "    <tr style=\"text-align: right;\">\n",
       "      <th></th>\n",
       "      <th>customer_unique_id</th>\n",
       "      <th>order_approved_at</th>\n",
       "      <th>quantity_of_purch</th>\n",
       "    </tr>\n",
       "  </thead>\n",
       "  <tbody>\n",
       "    <tr>\n",
       "      <th>7251</th>\n",
       "      <td>12f5d6e1cbf93dafd9dcc19095df0b3d</td>\n",
       "      <td>2017-01-01</td>\n",
       "      <td>6</td>\n",
       "    </tr>\n",
       "    <tr>\n",
       "      <th>23682</th>\n",
       "      <td>3e43e6105506432c953e165fb2acf44c</td>\n",
       "      <td>2018-02-01</td>\n",
       "      <td>4</td>\n",
       "    </tr>\n",
       "    <tr>\n",
       "      <th>14335</th>\n",
       "      <td>25a560b9a6006157838aab1bdbd68624</td>\n",
       "      <td>2017-04-01</td>\n",
       "      <td>4</td>\n",
       "    </tr>\n",
       "    <tr>\n",
       "      <th>50086</th>\n",
       "      <td>83e7958a94bd7f74a9414d8782f87628</td>\n",
       "      <td>2017-01-01</td>\n",
       "      <td>4</td>\n",
       "    </tr>\n",
       "    <tr>\n",
       "      <th>61531</th>\n",
       "      <td>a239b8e2fbce33780f1f1912e2ee5275</td>\n",
       "      <td>2017-02-01</td>\n",
       "      <td>4</td>\n",
       "    </tr>\n",
       "  </tbody>\n",
       "</table>\n",
       "</div>"
      ],
      "text/plain": [
       "                     customer_unique_id order_approved_at  quantity_of_purch\n",
       "7251   12f5d6e1cbf93dafd9dcc19095df0b3d        2017-01-01                  6\n",
       "23682  3e43e6105506432c953e165fb2acf44c        2018-02-01                  4\n",
       "14335  25a560b9a6006157838aab1bdbd68624        2017-04-01                  4\n",
       "50086  83e7958a94bd7f74a9414d8782f87628        2017-01-01                  4\n",
       "61531  a239b8e2fbce33780f1f1912e2ee5275        2017-02-01                  4"
      ]
     },
     "execution_count": 1112,
     "metadata": {},
     "output_type": "execute_result"
    }
   ],
   "source": [
    "df_quantity_per_month.head()"
   ]
  },
  {
   "cell_type": "code",
   "execution_count": 1113,
   "id": "7abeea00",
   "metadata": {},
   "outputs": [
    {
     "data": {
      "text/plain": [
       "(96992, 3)"
      ]
     },
     "execution_count": 1113,
     "metadata": {},
     "output_type": "execute_result"
    }
   ],
   "source": [
    "df_quantity_per_month.shape"
   ]
  },
  {
   "cell_type": "markdown",
   "id": "dc1591ff",
   "metadata": {},
   "source": [
    "Определим количество дней в каждом месяце и разделим данное число на 7, чтобы получить количество недель в каждом месяце. Полученное число чаще всего будет нецелым, так как во всех месяцах, кроме февраля (28 дней / 7 = 4 недели, но в високосный год в феврале 29 дней, то есть в високосный год февраль тоже содержит нецелое число недель), содержится нецелое число недель."
   ]
  },
  {
   "cell_type": "markdown",
   "id": "152dbbbf",
   "metadata": {},
   "source": [
    "Для определения количества дней в месяце воспользуемся функцией monthrange(year, month) модуля calendar. Данная функция возвращает 2 значения: день недели первого числа рассматриваемого месяца и количество дней в месяце. Нам необходимо только второе значение."
   ]
  },
  {
   "cell_type": "code",
   "execution_count": 1114,
   "id": "8bf9992f",
   "metadata": {},
   "outputs": [],
   "source": [
    "df_quantity_per_month['weeks'] = (df_quantity_per_month.order_approved_at\n",
    "                                           .apply(lambda x: calendar.monthrange(x.year, x.month)[1] / 7))"
   ]
  },
  {
   "cell_type": "code",
   "execution_count": 1115,
   "id": "09d50c79",
   "metadata": {},
   "outputs": [
    {
     "data": {
      "text/html": [
       "<div>\n",
       "<style scoped>\n",
       "    .dataframe tbody tr th:only-of-type {\n",
       "        vertical-align: middle;\n",
       "    }\n",
       "\n",
       "    .dataframe tbody tr th {\n",
       "        vertical-align: top;\n",
       "    }\n",
       "\n",
       "    .dataframe thead th {\n",
       "        text-align: right;\n",
       "    }\n",
       "</style>\n",
       "<table border=\"1\" class=\"dataframe\">\n",
       "  <thead>\n",
       "    <tr style=\"text-align: right;\">\n",
       "      <th></th>\n",
       "      <th>customer_unique_id</th>\n",
       "      <th>order_approved_at</th>\n",
       "      <th>quantity_of_purch</th>\n",
       "      <th>weeks</th>\n",
       "    </tr>\n",
       "  </thead>\n",
       "  <tbody>\n",
       "    <tr>\n",
       "      <th>7251</th>\n",
       "      <td>12f5d6e1cbf93dafd9dcc19095df0b3d</td>\n",
       "      <td>2017-01-01</td>\n",
       "      <td>6</td>\n",
       "      <td>4.428571</td>\n",
       "    </tr>\n",
       "    <tr>\n",
       "      <th>23682</th>\n",
       "      <td>3e43e6105506432c953e165fb2acf44c</td>\n",
       "      <td>2018-02-01</td>\n",
       "      <td>4</td>\n",
       "      <td>4.000000</td>\n",
       "    </tr>\n",
       "    <tr>\n",
       "      <th>14335</th>\n",
       "      <td>25a560b9a6006157838aab1bdbd68624</td>\n",
       "      <td>2017-04-01</td>\n",
       "      <td>4</td>\n",
       "      <td>4.285714</td>\n",
       "    </tr>\n",
       "    <tr>\n",
       "      <th>50086</th>\n",
       "      <td>83e7958a94bd7f74a9414d8782f87628</td>\n",
       "      <td>2017-01-01</td>\n",
       "      <td>4</td>\n",
       "      <td>4.428571</td>\n",
       "    </tr>\n",
       "    <tr>\n",
       "      <th>61531</th>\n",
       "      <td>a239b8e2fbce33780f1f1912e2ee5275</td>\n",
       "      <td>2017-02-01</td>\n",
       "      <td>4</td>\n",
       "      <td>4.000000</td>\n",
       "    </tr>\n",
       "  </tbody>\n",
       "</table>\n",
       "</div>"
      ],
      "text/plain": [
       "                     customer_unique_id order_approved_at  quantity_of_purch  \\\n",
       "7251   12f5d6e1cbf93dafd9dcc19095df0b3d        2017-01-01                  6   \n",
       "23682  3e43e6105506432c953e165fb2acf44c        2018-02-01                  4   \n",
       "14335  25a560b9a6006157838aab1bdbd68624        2017-04-01                  4   \n",
       "50086  83e7958a94bd7f74a9414d8782f87628        2017-01-01                  4   \n",
       "61531  a239b8e2fbce33780f1f1912e2ee5275        2017-02-01                  4   \n",
       "\n",
       "          weeks  \n",
       "7251   4.428571  \n",
       "23682  4.000000  \n",
       "14335  4.285714  \n",
       "50086  4.428571  \n",
       "61531  4.000000  "
      ]
     },
     "execution_count": 1115,
     "metadata": {},
     "output_type": "execute_result"
    }
   ],
   "source": [
    "df_quantity_per_month.head()"
   ]
  },
  {
   "cell_type": "code",
   "execution_count": 1116,
   "id": "9f0b1105",
   "metadata": {},
   "outputs": [
    {
     "data": {
      "text/plain": [
       "quantity_of_purch\n",
       "1    95716\n",
       "2     1222\n",
       "3       46\n",
       "4        7\n",
       "6        1\n",
       "Name: count, dtype: int64"
      ]
     },
     "execution_count": 1116,
     "metadata": {},
     "output_type": "execute_result"
    }
   ],
   "source": [
    "df_quantity_per_month.quantity_of_purch.value_counts()"
   ]
  },
  {
   "cell_type": "code",
   "execution_count": 1117,
   "id": "d0721a7b",
   "metadata": {},
   "outputs": [
    {
     "data": {
      "text/plain": [
       "1.0"
      ]
     },
     "execution_count": 1117,
     "metadata": {},
     "output_type": "execute_result"
    }
   ],
   "source": [
    "df_quantity_per_month.quantity_of_purch.quantile(0.98)"
   ]
  },
  {
   "cell_type": "code",
   "execution_count": 1118,
   "id": "9dc5f772",
   "metadata": {},
   "outputs": [
    {
     "data": {
      "text/plain": [
       "2.0"
      ]
     },
     "execution_count": 1118,
     "metadata": {},
     "output_type": "execute_result"
    }
   ],
   "source": [
    "df_quantity_per_month.quantity_of_purch.quantile(0.99)"
   ]
  },
  {
   "cell_type": "markdown",
   "id": "8edd4572",
   "metadata": {},
   "source": [
    "Чаще всего (в 98% случаев) в месяц был куплен только один заказ."
   ]
  },
  {
   "cell_type": "markdown",
   "id": "fe09547b",
   "metadata": {},
   "source": [
    "В задании сказано \"Сколько у каждого из пользователей в среднем покупок в неделю (<b>по месяцам</b>)?\" Не очень понятно, что значит \"по месяцам\". Возможны 2 случая:\n",
    "<ol>\n",
    "<li>Подразумевается год и месяц (как в таблице df_quantity_per_month).</li>\n",
    "<li>Подразумевается месяц независимо от года.</li>\n",
    "</ol>\n",
    "Определим, как много пользователей совершили покупки в один и тот же месяц разных лет."
   ]
  },
  {
   "cell_type": "code",
   "execution_count": 1119,
   "id": "186ef889",
   "metadata": {},
   "outputs": [],
   "source": [
    "checking = df_quantity_per_month.copy()"
   ]
  },
  {
   "cell_type": "code",
   "execution_count": 1120,
   "id": "f1687028",
   "metadata": {},
   "outputs": [],
   "source": [
    "checking['order_approved_at'] = checking.order_approved_at.dt.month_name()"
   ]
  },
  {
   "cell_type": "code",
   "execution_count": 1121,
   "id": "c60db938",
   "metadata": {},
   "outputs": [
    {
     "data": {
      "text/html": [
       "<div>\n",
       "<style scoped>\n",
       "    .dataframe tbody tr th:only-of-type {\n",
       "        vertical-align: middle;\n",
       "    }\n",
       "\n",
       "    .dataframe tbody tr th {\n",
       "        vertical-align: top;\n",
       "    }\n",
       "\n",
       "    .dataframe thead th {\n",
       "        text-align: right;\n",
       "    }\n",
       "</style>\n",
       "<table border=\"1\" class=\"dataframe\">\n",
       "  <thead>\n",
       "    <tr style=\"text-align: right;\">\n",
       "      <th></th>\n",
       "      <th>customer_unique_id</th>\n",
       "      <th>order_approved_at</th>\n",
       "      <th>quantity_of_purch</th>\n",
       "      <th>weeks</th>\n",
       "    </tr>\n",
       "  </thead>\n",
       "  <tbody>\n",
       "    <tr>\n",
       "      <th>7251</th>\n",
       "      <td>12f5d6e1cbf93dafd9dcc19095df0b3d</td>\n",
       "      <td>January</td>\n",
       "      <td>6</td>\n",
       "      <td>4.428571</td>\n",
       "    </tr>\n",
       "    <tr>\n",
       "      <th>23682</th>\n",
       "      <td>3e43e6105506432c953e165fb2acf44c</td>\n",
       "      <td>February</td>\n",
       "      <td>4</td>\n",
       "      <td>4.000000</td>\n",
       "    </tr>\n",
       "    <tr>\n",
       "      <th>14335</th>\n",
       "      <td>25a560b9a6006157838aab1bdbd68624</td>\n",
       "      <td>April</td>\n",
       "      <td>4</td>\n",
       "      <td>4.285714</td>\n",
       "    </tr>\n",
       "    <tr>\n",
       "      <th>50086</th>\n",
       "      <td>83e7958a94bd7f74a9414d8782f87628</td>\n",
       "      <td>January</td>\n",
       "      <td>4</td>\n",
       "      <td>4.428571</td>\n",
       "    </tr>\n",
       "    <tr>\n",
       "      <th>61531</th>\n",
       "      <td>a239b8e2fbce33780f1f1912e2ee5275</td>\n",
       "      <td>February</td>\n",
       "      <td>4</td>\n",
       "      <td>4.000000</td>\n",
       "    </tr>\n",
       "  </tbody>\n",
       "</table>\n",
       "</div>"
      ],
      "text/plain": [
       "                     customer_unique_id order_approved_at  quantity_of_purch  \\\n",
       "7251   12f5d6e1cbf93dafd9dcc19095df0b3d           January                  6   \n",
       "23682  3e43e6105506432c953e165fb2acf44c          February                  4   \n",
       "14335  25a560b9a6006157838aab1bdbd68624             April                  4   \n",
       "50086  83e7958a94bd7f74a9414d8782f87628           January                  4   \n",
       "61531  a239b8e2fbce33780f1f1912e2ee5275          February                  4   \n",
       "\n",
       "          weeks  \n",
       "7251   4.428571  \n",
       "23682  4.000000  \n",
       "14335  4.285714  \n",
       "50086  4.428571  \n",
       "61531  4.000000  "
      ]
     },
     "execution_count": 1121,
     "metadata": {},
     "output_type": "execute_result"
    }
   ],
   "source": [
    "checking.head()"
   ]
  },
  {
   "cell_type": "code",
   "execution_count": 1122,
   "id": "8021bdef",
   "metadata": {},
   "outputs": [
    {
     "name": "stdout",
     "output_type": "stream",
     "text": [
      "41\n"
     ]
    }
   ],
   "source": [
    "print(checking.duplicated(subset=['customer_unique_id', 'order_approved_at']).sum())\n",
    "# количество пользователей, совершивших покупки в один и тот же месяц разных лет."
   ]
  },
  {
   "cell_type": "code",
   "execution_count": 1123,
   "id": "96a47769",
   "metadata": {},
   "outputs": [
    {
     "data": {
      "text/html": [
       "<div>\n",
       "<style scoped>\n",
       "    .dataframe tbody tr th:only-of-type {\n",
       "        vertical-align: middle;\n",
       "    }\n",
       "\n",
       "    .dataframe tbody tr th {\n",
       "        vertical-align: top;\n",
       "    }\n",
       "\n",
       "    .dataframe thead th {\n",
       "        text-align: right;\n",
       "    }\n",
       "</style>\n",
       "<table border=\"1\" class=\"dataframe\">\n",
       "  <thead>\n",
       "    <tr style=\"text-align: right;\">\n",
       "      <th></th>\n",
       "      <th>customer_unique_id</th>\n",
       "      <th>order_approved_at</th>\n",
       "      <th>quantity_of_purch</th>\n",
       "      <th>weeks</th>\n",
       "    </tr>\n",
       "  </thead>\n",
       "  <tbody>\n",
       "    <tr>\n",
       "      <th>53454</th>\n",
       "      <td>8d50f5eadf50201ccdcedfb9e2ac8455</td>\n",
       "      <td>August</td>\n",
       "      <td>3</td>\n",
       "      <td>4.428571</td>\n",
       "    </tr>\n",
       "    <tr>\n",
       "      <th>53447</th>\n",
       "      <td>8d50f5eadf50201ccdcedfb9e2ac8455</td>\n",
       "      <td>July</td>\n",
       "      <td>2</td>\n",
       "      <td>4.428571</td>\n",
       "    </tr>\n",
       "    <tr>\n",
       "      <th>53452</th>\n",
       "      <td>8d50f5eadf50201ccdcedfb9e2ac8455</td>\n",
       "      <td>May</td>\n",
       "      <td>2</td>\n",
       "      <td>4.428571</td>\n",
       "    </tr>\n",
       "    <tr>\n",
       "      <th>53453</th>\n",
       "      <td>8d50f5eadf50201ccdcedfb9e2ac8455</td>\n",
       "      <td>July</td>\n",
       "      <td>2</td>\n",
       "      <td>4.428571</td>\n",
       "    </tr>\n",
       "    <tr>\n",
       "      <th>37927</th>\n",
       "      <td>63cfc61cee11cbe306bff5857d00bfe4</td>\n",
       "      <td>May</td>\n",
       "      <td>2</td>\n",
       "      <td>4.428571</td>\n",
       "    </tr>\n",
       "  </tbody>\n",
       "</table>\n",
       "</div>"
      ],
      "text/plain": [
       "                     customer_unique_id order_approved_at  quantity_of_purch  \\\n",
       "53454  8d50f5eadf50201ccdcedfb9e2ac8455            August                  3   \n",
       "53447  8d50f5eadf50201ccdcedfb9e2ac8455              July                  2   \n",
       "53452  8d50f5eadf50201ccdcedfb9e2ac8455               May                  2   \n",
       "53453  8d50f5eadf50201ccdcedfb9e2ac8455              July                  2   \n",
       "37927  63cfc61cee11cbe306bff5857d00bfe4               May                  2   \n",
       "\n",
       "          weeks  \n",
       "53454  4.428571  \n",
       "53447  4.428571  \n",
       "53452  4.428571  \n",
       "53453  4.428571  \n",
       "37927  4.428571  "
      ]
     },
     "execution_count": 1123,
     "metadata": {},
     "output_type": "execute_result"
    }
   ],
   "source": [
    "checking.loc[checking.duplicated(subset=['customer_unique_id', 'order_approved_at'], keep=False)].head()"
   ]
  },
  {
   "cell_type": "code",
   "execution_count": 1124,
   "id": "84079b51",
   "metadata": {},
   "outputs": [
    {
     "data": {
      "text/plain": [
       "(82, 4)"
      ]
     },
     "execution_count": 1124,
     "metadata": {},
     "output_type": "execute_result"
    }
   ],
   "source": [
    "checking.loc[checking.duplicated(subset=['customer_unique_id', 'order_approved_at'], keep=False)].shape"
   ]
  },
  {
   "cell_type": "code",
   "execution_count": 1125,
   "id": "dc89968a",
   "metadata": {},
   "outputs": [
    {
     "data": {
      "text/plain": [
       "count    82.000000\n",
       "mean      1.121951\n",
       "std       0.364818\n",
       "min       1.000000\n",
       "25%       1.000000\n",
       "50%       1.000000\n",
       "75%       1.000000\n",
       "max       3.000000\n",
       "Name: quantity_of_purch, dtype: float64"
      ]
     },
     "execution_count": 1125,
     "metadata": {},
     "output_type": "execute_result"
    }
   ],
   "source": [
    "(checking\n",
    " .loc[checking.duplicated(subset=['customer_unique_id', 'order_approved_at'], keep=False)]\n",
    " .quantity_of_purch.describe())"
   ]
  },
  {
   "cell_type": "code",
   "execution_count": 1126,
   "id": "40633b05",
   "metadata": {},
   "outputs": [
    {
     "name": "stdout",
     "output_type": "stream",
     "text": [
      "95103\n"
     ]
    }
   ],
   "source": [
    "print(checking.customer_unique_id.nunique())\n",
    "# количество уникальных пользователей, совершивших покупки"
   ]
  },
  {
   "cell_type": "markdown",
   "id": "3bbd688d",
   "metadata": {},
   "source": [
    "Видим, что из всех 95103 пользователей, совершивших покупки, лишь 41 пользователь совершили покупки в один и тот же месяц разных лет.<br>\n",
    "Считаем, что в задании в словосочетании 'по месяцам' имеется ввиду месяц и соответствующий ему год, так как не вижу смысла в поиске среднего количества покупок, сделанных в один и тот же месяц разных лет, для каждого пользователя и месяца."
   ]
  },
  {
   "cell_type": "markdown",
   "id": "6ec94645",
   "metadata": {},
   "source": [
    "Определим сколько у каждого из пользователей в среднем покупок в неделю (по месяцам)"
   ]
  },
  {
   "cell_type": "code",
   "execution_count": 1127,
   "id": "d08ca73c",
   "metadata": {},
   "outputs": [],
   "source": [
    "df_quantity_per_month['avg_per_week'] = df_quantity_per_month.quantity_of_purch / df_quantity_per_month.weeks"
   ]
  },
  {
   "cell_type": "code",
   "execution_count": 1128,
   "id": "67a1668e",
   "metadata": {},
   "outputs": [
    {
     "data": {
      "text/html": [
       "<div>\n",
       "<style scoped>\n",
       "    .dataframe tbody tr th:only-of-type {\n",
       "        vertical-align: middle;\n",
       "    }\n",
       "\n",
       "    .dataframe tbody tr th {\n",
       "        vertical-align: top;\n",
       "    }\n",
       "\n",
       "    .dataframe thead th {\n",
       "        text-align: right;\n",
       "    }\n",
       "</style>\n",
       "<table border=\"1\" class=\"dataframe\">\n",
       "  <thead>\n",
       "    <tr style=\"text-align: right;\">\n",
       "      <th></th>\n",
       "      <th>customer_unique_id</th>\n",
       "      <th>order_approved_at</th>\n",
       "      <th>quantity_of_purch</th>\n",
       "      <th>weeks</th>\n",
       "      <th>avg_per_week</th>\n",
       "    </tr>\n",
       "  </thead>\n",
       "  <tbody>\n",
       "    <tr>\n",
       "      <th>7251</th>\n",
       "      <td>12f5d6e1cbf93dafd9dcc19095df0b3d</td>\n",
       "      <td>2017-01-01</td>\n",
       "      <td>6</td>\n",
       "      <td>4.428571</td>\n",
       "      <td>1.354839</td>\n",
       "    </tr>\n",
       "    <tr>\n",
       "      <th>23682</th>\n",
       "      <td>3e43e6105506432c953e165fb2acf44c</td>\n",
       "      <td>2018-02-01</td>\n",
       "      <td>4</td>\n",
       "      <td>4.000000</td>\n",
       "      <td>1.000000</td>\n",
       "    </tr>\n",
       "    <tr>\n",
       "      <th>14335</th>\n",
       "      <td>25a560b9a6006157838aab1bdbd68624</td>\n",
       "      <td>2017-04-01</td>\n",
       "      <td>4</td>\n",
       "      <td>4.285714</td>\n",
       "      <td>0.933333</td>\n",
       "    </tr>\n",
       "    <tr>\n",
       "      <th>50086</th>\n",
       "      <td>83e7958a94bd7f74a9414d8782f87628</td>\n",
       "      <td>2017-01-01</td>\n",
       "      <td>4</td>\n",
       "      <td>4.428571</td>\n",
       "      <td>0.903226</td>\n",
       "    </tr>\n",
       "    <tr>\n",
       "      <th>61531</th>\n",
       "      <td>a239b8e2fbce33780f1f1912e2ee5275</td>\n",
       "      <td>2017-02-01</td>\n",
       "      <td>4</td>\n",
       "      <td>4.000000</td>\n",
       "      <td>1.000000</td>\n",
       "    </tr>\n",
       "  </tbody>\n",
       "</table>\n",
       "</div>"
      ],
      "text/plain": [
       "                     customer_unique_id order_approved_at  quantity_of_purch  \\\n",
       "7251   12f5d6e1cbf93dafd9dcc19095df0b3d        2017-01-01                  6   \n",
       "23682  3e43e6105506432c953e165fb2acf44c        2018-02-01                  4   \n",
       "14335  25a560b9a6006157838aab1bdbd68624        2017-04-01                  4   \n",
       "50086  83e7958a94bd7f74a9414d8782f87628        2017-01-01                  4   \n",
       "61531  a239b8e2fbce33780f1f1912e2ee5275        2017-02-01                  4   \n",
       "\n",
       "          weeks  avg_per_week  \n",
       "7251   4.428571      1.354839  \n",
       "23682  4.000000      1.000000  \n",
       "14335  4.285714      0.933333  \n",
       "50086  4.428571      0.903226  \n",
       "61531  4.000000      1.000000  "
      ]
     },
     "execution_count": 1128,
     "metadata": {},
     "output_type": "execute_result"
    }
   ],
   "source": [
    "df_quantity_per_month.head()"
   ]
  },
  {
   "cell_type": "code",
   "execution_count": 1129,
   "id": "3a753bfd",
   "metadata": {},
   "outputs": [],
   "source": [
    "df_quantity_per_week = (df_quantity_per_month[['customer_unique_id', 'order_approved_at', 'avg_per_week']]\n",
    "                        .sort_values('avg_per_week', ascending=False))"
   ]
  },
  {
   "cell_type": "code",
   "execution_count": 1130,
   "id": "8d10864d",
   "metadata": {},
   "outputs": [
    {
     "data": {
      "text/html": [
       "<div>\n",
       "<style scoped>\n",
       "    .dataframe tbody tr th:only-of-type {\n",
       "        vertical-align: middle;\n",
       "    }\n",
       "\n",
       "    .dataframe tbody tr th {\n",
       "        vertical-align: top;\n",
       "    }\n",
       "\n",
       "    .dataframe thead th {\n",
       "        text-align: right;\n",
       "    }\n",
       "</style>\n",
       "<table border=\"1\" class=\"dataframe\">\n",
       "  <thead>\n",
       "    <tr style=\"text-align: right;\">\n",
       "      <th></th>\n",
       "      <th>customer_unique_id</th>\n",
       "      <th>order_approved_at</th>\n",
       "      <th>avg_per_week</th>\n",
       "    </tr>\n",
       "  </thead>\n",
       "  <tbody>\n",
       "    <tr>\n",
       "      <th>7251</th>\n",
       "      <td>12f5d6e1cbf93dafd9dcc19095df0b3d</td>\n",
       "      <td>2017-01-01</td>\n",
       "      <td>1.354839</td>\n",
       "    </tr>\n",
       "    <tr>\n",
       "      <th>61531</th>\n",
       "      <td>a239b8e2fbce33780f1f1912e2ee5275</td>\n",
       "      <td>2017-02-01</td>\n",
       "      <td>1.000000</td>\n",
       "    </tr>\n",
       "    <tr>\n",
       "      <th>68655</th>\n",
       "      <td>b4e4f24de1e8725b74e4a1f4975116ed</td>\n",
       "      <td>2018-02-01</td>\n",
       "      <td>1.000000</td>\n",
       "    </tr>\n",
       "    <tr>\n",
       "      <th>23682</th>\n",
       "      <td>3e43e6105506432c953e165fb2acf44c</td>\n",
       "      <td>2018-02-01</td>\n",
       "      <td>1.000000</td>\n",
       "    </tr>\n",
       "    <tr>\n",
       "      <th>14335</th>\n",
       "      <td>25a560b9a6006157838aab1bdbd68624</td>\n",
       "      <td>2017-04-01</td>\n",
       "      <td>0.933333</td>\n",
       "    </tr>\n",
       "  </tbody>\n",
       "</table>\n",
       "</div>"
      ],
      "text/plain": [
       "                     customer_unique_id order_approved_at  avg_per_week\n",
       "7251   12f5d6e1cbf93dafd9dcc19095df0b3d        2017-01-01      1.354839\n",
       "61531  a239b8e2fbce33780f1f1912e2ee5275        2017-02-01      1.000000\n",
       "68655  b4e4f24de1e8725b74e4a1f4975116ed        2018-02-01      1.000000\n",
       "23682  3e43e6105506432c953e165fb2acf44c        2018-02-01      1.000000\n",
       "14335  25a560b9a6006157838aab1bdbd68624        2017-04-01      0.933333"
      ]
     },
     "execution_count": 1130,
     "metadata": {},
     "output_type": "execute_result"
    }
   ],
   "source": [
    "df_quantity_per_week.head()"
   ]
  },
  {
   "cell_type": "code",
   "execution_count": 1131,
   "id": "75f3abc2",
   "metadata": {},
   "outputs": [
    {
     "data": {
      "text/plain": [
       "(96992, 3)"
      ]
     },
     "execution_count": 1131,
     "metadata": {},
     "output_type": "execute_result"
    }
   ],
   "source": [
    "df_quantity_per_week.shape"
   ]
  },
  {
   "cell_type": "markdown",
   "id": "b6e01adc",
   "metadata": {},
   "source": [
    "Для удобства округлим значения в колонке avg_per_week до 3 знака после запятой."
   ]
  },
  {
   "cell_type": "code",
   "execution_count": 1132,
   "id": "ad930081",
   "metadata": {},
   "outputs": [],
   "source": [
    "df_quantity_per_week['avg_per_week'] = round(df_quantity_per_week.avg_per_week, 3)"
   ]
  },
  {
   "cell_type": "code",
   "execution_count": 1133,
   "id": "baedd05d",
   "metadata": {},
   "outputs": [
    {
     "data": {
      "text/html": [
       "<div>\n",
       "<style scoped>\n",
       "    .dataframe tbody tr th:only-of-type {\n",
       "        vertical-align: middle;\n",
       "    }\n",
       "\n",
       "    .dataframe tbody tr th {\n",
       "        vertical-align: top;\n",
       "    }\n",
       "\n",
       "    .dataframe thead th {\n",
       "        text-align: right;\n",
       "    }\n",
       "</style>\n",
       "<table border=\"1\" class=\"dataframe\">\n",
       "  <thead>\n",
       "    <tr style=\"text-align: right;\">\n",
       "      <th></th>\n",
       "      <th>customer_unique_id</th>\n",
       "      <th>order_approved_at</th>\n",
       "      <th>avg_per_week</th>\n",
       "    </tr>\n",
       "  </thead>\n",
       "  <tbody>\n",
       "    <tr>\n",
       "      <th>7251</th>\n",
       "      <td>12f5d6e1cbf93dafd9dcc19095df0b3d</td>\n",
       "      <td>2017-01-01</td>\n",
       "      <td>1.355</td>\n",
       "    </tr>\n",
       "    <tr>\n",
       "      <th>61531</th>\n",
       "      <td>a239b8e2fbce33780f1f1912e2ee5275</td>\n",
       "      <td>2017-02-01</td>\n",
       "      <td>1.000</td>\n",
       "    </tr>\n",
       "    <tr>\n",
       "      <th>68655</th>\n",
       "      <td>b4e4f24de1e8725b74e4a1f4975116ed</td>\n",
       "      <td>2018-02-01</td>\n",
       "      <td>1.000</td>\n",
       "    </tr>\n",
       "    <tr>\n",
       "      <th>23682</th>\n",
       "      <td>3e43e6105506432c953e165fb2acf44c</td>\n",
       "      <td>2018-02-01</td>\n",
       "      <td>1.000</td>\n",
       "    </tr>\n",
       "    <tr>\n",
       "      <th>14335</th>\n",
       "      <td>25a560b9a6006157838aab1bdbd68624</td>\n",
       "      <td>2017-04-01</td>\n",
       "      <td>0.933</td>\n",
       "    </tr>\n",
       "  </tbody>\n",
       "</table>\n",
       "</div>"
      ],
      "text/plain": [
       "                     customer_unique_id order_approved_at  avg_per_week\n",
       "7251   12f5d6e1cbf93dafd9dcc19095df0b3d        2017-01-01         1.355\n",
       "61531  a239b8e2fbce33780f1f1912e2ee5275        2017-02-01         1.000\n",
       "68655  b4e4f24de1e8725b74e4a1f4975116ed        2018-02-01         1.000\n",
       "23682  3e43e6105506432c953e165fb2acf44c        2018-02-01         1.000\n",
       "14335  25a560b9a6006157838aab1bdbd68624        2017-04-01         0.933"
      ]
     },
     "execution_count": 1133,
     "metadata": {},
     "output_type": "execute_result"
    }
   ],
   "source": [
    "df_quantity_per_week.head()"
   ]
  },
  {
   "cell_type": "code",
   "execution_count": 1134,
   "id": "07205572",
   "metadata": {},
   "outputs": [
    {
     "data": {
      "text/plain": [
       "avg_per_week\n",
       "1.355        1\n",
       "0.933        2\n",
       "0.903        2\n",
       "1.000        3\n",
       "0.750        6\n",
       "0.700       13\n",
       "0.677       27\n",
       "0.500      162\n",
       "0.467      331\n",
       "0.452      729\n",
       "0.250     8020\n",
       "0.233    29294\n",
       "0.226    58402\n",
       "Name: count, dtype: int64"
      ]
     },
     "execution_count": 1134,
     "metadata": {},
     "output_type": "execute_result"
    }
   ],
   "source": [
    "df_quantity_per_week.avg_per_week.value_counts().sort_values()"
   ]
  },
  {
   "cell_type": "code",
   "execution_count": 1135,
   "id": "cb71227d",
   "metadata": {},
   "outputs": [
    {
     "data": {
      "text/plain": [
       "count    96992.000000\n",
       "mean         0.233363\n",
       "std          0.029510\n",
       "min          0.226000\n",
       "25%          0.226000\n",
       "50%          0.226000\n",
       "75%          0.233000\n",
       "max          1.355000\n",
       "Name: avg_per_week, dtype: float64"
      ]
     },
     "execution_count": 1135,
     "metadata": {},
     "output_type": "execute_result"
    }
   ],
   "source": [
    "df_quantity_per_week.avg_per_week.describe()"
   ]
  },
  {
   "cell_type": "code",
   "execution_count": 1136,
   "id": "2c199aea",
   "metadata": {},
   "outputs": [
    {
     "data": {
      "text/plain": [
       "<Axes: xlabel='avg_per_week', ylabel='count'>"
      ]
     },
     "execution_count": 1136,
     "metadata": {},
     "output_type": "execute_result"
    },
    {
     "data": {
      "image/png": "[encoded data removed]",
      "text/plain": [
       "<Figure size 1000x500 with 1 Axes>"
      ]
     },
     "metadata": {},
     "output_type": "display_data"
    }
   ],
   "source": [
    "sns.countplot(data=df_quantity_per_week, x='avg_per_week')"
   ]
  },
  {
   "cell_type": "markdown",
   "id": "eb9fbaba",
   "metadata": {},
   "source": [
    "### Ответ: таблица df_quantity_per_week"
   ]
  },
  {
   "cell_type": "markdown",
   "id": "59038644",
   "metadata": {},
   "source": [
    "## 5. Используя pandas, проведи когортный анализ пользователей. В период с января по декабрь выяви когорту с самым высоким retention на 3й месяц."
   ]
  },
  {
   "cell_type": "code",
   "execution_count": 1137,
   "id": "268dd8c8",
   "metadata": {},
   "outputs": [
    {
     "data": {
      "text/html": [
       "<div>\n",
       "<style scoped>\n",
       "    .dataframe tbody tr th:only-of-type {\n",
       "        vertical-align: middle;\n",
       "    }\n",
       "\n",
       "    .dataframe tbody tr th {\n",
       "        vertical-align: top;\n",
       "    }\n",
       "\n",
       "    .dataframe thead th {\n",
       "        text-align: right;\n",
       "    }\n",
       "</style>\n",
       "<table border=\"1\" class=\"dataframe\">\n",
       "  <thead>\n",
       "    <tr style=\"text-align: right;\">\n",
       "      <th></th>\n",
       "      <th>customer_id</th>\n",
       "      <th>customer_unique_id</th>\n",
       "      <th>customer_zip_code_prefix</th>\n",
       "      <th>customer_city</th>\n",
       "      <th>customer_state</th>\n",
       "    </tr>\n",
       "  </thead>\n",
       "  <tbody>\n",
       "    <tr>\n",
       "      <th>0</th>\n",
       "      <td>06b8999e2fba1a1fbc88172c00ba8bc7</td>\n",
       "      <td>861eff4711a542e4b93843c6dd7febb0</td>\n",
       "      <td>14409</td>\n",
       "      <td>franca</td>\n",
       "      <td>SP</td>\n",
       "    </tr>\n",
       "    <tr>\n",
       "      <th>1</th>\n",
       "      <td>18955e83d337fd6b2def6b18a428ac77</td>\n",
       "      <td>290c77bc529b7ac935b93aa66c333dc3</td>\n",
       "      <td>9790</td>\n",
       "      <td>sao bernardo do campo</td>\n",
       "      <td>SP</td>\n",
       "    </tr>\n",
       "    <tr>\n",
       "      <th>2</th>\n",
       "      <td>4e7b3e00288586ebd08712fdd0374a03</td>\n",
       "      <td>060e732b5b29e8181a18229c7b0b2b5e</td>\n",
       "      <td>1151</td>\n",
       "      <td>sao paulo</td>\n",
       "      <td>SP</td>\n",
       "    </tr>\n",
       "    <tr>\n",
       "      <th>3</th>\n",
       "      <td>b2b6027bc5c5109e529d4dc6358b12c3</td>\n",
       "      <td>259dac757896d24d7702b9acbbff3f3c</td>\n",
       "      <td>8775</td>\n",
       "      <td>mogi das cruzes</td>\n",
       "      <td>SP</td>\n",
       "    </tr>\n",
       "    <tr>\n",
       "      <th>4</th>\n",
       "      <td>4f2d8ab171c80ec8364f7c12e35b23ad</td>\n",
       "      <td>345ecd01c38d18a9036ed96c73b8d066</td>\n",
       "      <td>13056</td>\n",
       "      <td>campinas</td>\n",
       "      <td>SP</td>\n",
       "    </tr>\n",
       "  </tbody>\n",
       "</table>\n",
       "</div>"
      ],
      "text/plain": [
       "                        customer_id                customer_unique_id  \\\n",
       "0  06b8999e2fba1a1fbc88172c00ba8bc7  861eff4711a542e4b93843c6dd7febb0   \n",
       "1  18955e83d337fd6b2def6b18a428ac77  290c77bc529b7ac935b93aa66c333dc3   \n",
       "2  4e7b3e00288586ebd08712fdd0374a03  060e732b5b29e8181a18229c7b0b2b5e   \n",
       "3  b2b6027bc5c5109e529d4dc6358b12c3  259dac757896d24d7702b9acbbff3f3c   \n",
       "4  4f2d8ab171c80ec8364f7c12e35b23ad  345ecd01c38d18a9036ed96c73b8d066   \n",
       "\n",
       "   customer_zip_code_prefix          customer_city customer_state  \n",
       "0                     14409                 franca             SP  \n",
       "1                      9790  sao bernardo do campo             SP  \n",
       "2                      1151              sao paulo             SP  \n",
       "3                      8775        mogi das cruzes             SP  \n",
       "4                     13056               campinas             SP  "
      ]
     },
     "execution_count": 1137,
     "metadata": {},
     "output_type": "execute_result"
    }
   ],
   "source": [
    "df_customers_with_purch.head()"
   ]
  },
  {
   "cell_type": "code",
   "execution_count": 1138,
   "id": "ebe6fe49",
   "metadata": {},
   "outputs": [
    {
     "data": {
      "text/plain": [
       "(98346, 5)"
      ]
     },
     "execution_count": 1138,
     "metadata": {},
     "output_type": "execute_result"
    }
   ],
   "source": [
    "df_customers_with_purch.shape"
   ]
  },
  {
   "cell_type": "code",
   "execution_count": 1139,
   "id": "9d4b5b2d",
   "metadata": {},
   "outputs": [
    {
     "data": {
      "text/html": [
       "<div>\n",
       "<style scoped>\n",
       "    .dataframe tbody tr th:only-of-type {\n",
       "        vertical-align: middle;\n",
       "    }\n",
       "\n",
       "    .dataframe tbody tr th {\n",
       "        vertical-align: top;\n",
       "    }\n",
       "\n",
       "    .dataframe thead th {\n",
       "        text-align: right;\n",
       "    }\n",
       "</style>\n",
       "<table border=\"1\" class=\"dataframe\">\n",
       "  <thead>\n",
       "    <tr style=\"text-align: right;\">\n",
       "      <th></th>\n",
       "      <th>order_id</th>\n",
       "      <th>customer_id</th>\n",
       "      <th>order_status</th>\n",
       "      <th>order_purchase_timestamp</th>\n",
       "      <th>order_approved_at</th>\n",
       "      <th>order_delivered_carrier_date</th>\n",
       "      <th>order_delivered_customer_date</th>\n",
       "      <th>order_estimated_delivery_date</th>\n",
       "    </tr>\n",
       "  </thead>\n",
       "  <tbody>\n",
       "    <tr>\n",
       "      <th>0</th>\n",
       "      <td>e481f51cbdc54678b7cc49136f2d6af7</td>\n",
       "      <td>9ef432eb6251297304e76186b10a928d</td>\n",
       "      <td>delivered</td>\n",
       "      <td>2017-10-02 10:56:33</td>\n",
       "      <td>2017-10-02 11:07:15</td>\n",
       "      <td>2017-10-04 19:55:00</td>\n",
       "      <td>2017-10-10 21:25:13</td>\n",
       "      <td>2017-10-18</td>\n",
       "    </tr>\n",
       "    <tr>\n",
       "      <th>1</th>\n",
       "      <td>53cdb2fc8bc7dce0b6741e2150273451</td>\n",
       "      <td>b0830fb4747a6c6d20dea0b8c802d7ef</td>\n",
       "      <td>delivered</td>\n",
       "      <td>2018-07-24 20:41:37</td>\n",
       "      <td>2018-07-26 03:24:27</td>\n",
       "      <td>2018-07-26 14:31:00</td>\n",
       "      <td>2018-08-07 15:27:45</td>\n",
       "      <td>2018-08-13</td>\n",
       "    </tr>\n",
       "    <tr>\n",
       "      <th>2</th>\n",
       "      <td>47770eb9100c2d0c44946d9cf07ec65d</td>\n",
       "      <td>41ce2a54c0b03bf3443c3d931a367089</td>\n",
       "      <td>delivered</td>\n",
       "      <td>2018-08-08 08:38:49</td>\n",
       "      <td>2018-08-08 08:55:23</td>\n",
       "      <td>2018-08-08 13:50:00</td>\n",
       "      <td>2018-08-17 18:06:29</td>\n",
       "      <td>2018-09-04</td>\n",
       "    </tr>\n",
       "    <tr>\n",
       "      <th>3</th>\n",
       "      <td>949d5b44dbf5de918fe9c16f97b45f8a</td>\n",
       "      <td>f88197465ea7920adcdbec7375364d82</td>\n",
       "      <td>delivered</td>\n",
       "      <td>2017-11-18 19:28:06</td>\n",
       "      <td>2017-11-18 19:45:59</td>\n",
       "      <td>2017-11-22 13:39:59</td>\n",
       "      <td>2017-12-02 00:28:42</td>\n",
       "      <td>2017-12-15</td>\n",
       "    </tr>\n",
       "    <tr>\n",
       "      <th>4</th>\n",
       "      <td>ad21c59c0840e6cb83a9ceb5573f8159</td>\n",
       "      <td>8ab97904e6daea8866dbdbc4fb7aad2c</td>\n",
       "      <td>delivered</td>\n",
       "      <td>2018-02-13 21:18:39</td>\n",
       "      <td>2018-02-13 22:20:29</td>\n",
       "      <td>2018-02-14 19:46:34</td>\n",
       "      <td>2018-02-16 18:17:02</td>\n",
       "      <td>2018-02-26</td>\n",
       "    </tr>\n",
       "  </tbody>\n",
       "</table>\n",
       "</div>"
      ],
      "text/plain": [
       "                           order_id                       customer_id  \\\n",
       "0  e481f51cbdc54678b7cc49136f2d6af7  9ef432eb6251297304e76186b10a928d   \n",
       "1  53cdb2fc8bc7dce0b6741e2150273451  b0830fb4747a6c6d20dea0b8c802d7ef   \n",
       "2  47770eb9100c2d0c44946d9cf07ec65d  41ce2a54c0b03bf3443c3d931a367089   \n",
       "3  949d5b44dbf5de918fe9c16f97b45f8a  f88197465ea7920adcdbec7375364d82   \n",
       "4  ad21c59c0840e6cb83a9ceb5573f8159  8ab97904e6daea8866dbdbc4fb7aad2c   \n",
       "\n",
       "  order_status order_purchase_timestamp   order_approved_at  \\\n",
       "0    delivered      2017-10-02 10:56:33 2017-10-02 11:07:15   \n",
       "1    delivered      2018-07-24 20:41:37 2018-07-26 03:24:27   \n",
       "2    delivered      2018-08-08 08:38:49 2018-08-08 08:55:23   \n",
       "3    delivered      2017-11-18 19:28:06 2017-11-18 19:45:59   \n",
       "4    delivered      2018-02-13 21:18:39 2018-02-13 22:20:29   \n",
       "\n",
       "  order_delivered_carrier_date order_delivered_customer_date  \\\n",
       "0          2017-10-04 19:55:00           2017-10-10 21:25:13   \n",
       "1          2018-07-26 14:31:00           2018-08-07 15:27:45   \n",
       "2          2018-08-08 13:50:00           2018-08-17 18:06:29   \n",
       "3          2017-11-22 13:39:59           2017-12-02 00:28:42   \n",
       "4          2018-02-14 19:46:34           2018-02-16 18:17:02   \n",
       "\n",
       "  order_estimated_delivery_date  \n",
       "0                    2017-10-18  \n",
       "1                    2018-08-13  \n",
       "2                    2018-09-04  \n",
       "3                    2017-12-15  \n",
       "4                    2018-02-26  "
      ]
     },
     "execution_count": 1139,
     "metadata": {},
     "output_type": "execute_result"
    }
   ],
   "source": [
    "df_orders_with_purch.head()"
   ]
  },
  {
   "cell_type": "code",
   "execution_count": 1140,
   "id": "07b09b29",
   "metadata": {},
   "outputs": [
    {
     "data": {
      "text/plain": [
       "(98346, 8)"
      ]
     },
     "execution_count": 1140,
     "metadata": {},
     "output_type": "execute_result"
    }
   ],
   "source": [
    "df_orders_with_purch.shape"
   ]
  },
  {
   "cell_type": "markdown",
   "id": "c5955e26",
   "metadata": {},
   "source": [
    "Как и в прошлом задании, считаем, что покупка совершается в день, указанный в колонке order_approved_at (т.е. в данный день оплачивается счёт заказа)."
   ]
  },
  {
   "cell_type": "code",
   "execution_count": 1141,
   "id": "10f04890",
   "metadata": {},
   "outputs": [],
   "source": [
    "df_customers_with_purch_date = (df_customers_with_purch[['customer_id', 'customer_unique_id']]\n",
    "                                .merge(df_orders_with_purch[['customer_id', 'order_approved_at']], \n",
    "                                       on='customer_id', how='inner'))"
   ]
  },
  {
   "cell_type": "code",
   "execution_count": 1142,
   "id": "c8f4e314",
   "metadata": {},
   "outputs": [
    {
     "data": {
      "text/html": [
       "<div>\n",
       "<style scoped>\n",
       "    .dataframe tbody tr th:only-of-type {\n",
       "        vertical-align: middle;\n",
       "    }\n",
       "\n",
       "    .dataframe tbody tr th {\n",
       "        vertical-align: top;\n",
       "    }\n",
       "\n",
       "    .dataframe thead th {\n",
       "        text-align: right;\n",
       "    }\n",
       "</style>\n",
       "<table border=\"1\" class=\"dataframe\">\n",
       "  <thead>\n",
       "    <tr style=\"text-align: right;\">\n",
       "      <th></th>\n",
       "      <th>customer_id</th>\n",
       "      <th>customer_unique_id</th>\n",
       "      <th>order_approved_at</th>\n",
       "    </tr>\n",
       "  </thead>\n",
       "  <tbody>\n",
       "    <tr>\n",
       "      <th>0</th>\n",
       "      <td>06b8999e2fba1a1fbc88172c00ba8bc7</td>\n",
       "      <td>861eff4711a542e4b93843c6dd7febb0</td>\n",
       "      <td>2017-05-16 15:22:12</td>\n",
       "    </tr>\n",
       "    <tr>\n",
       "      <th>1</th>\n",
       "      <td>18955e83d337fd6b2def6b18a428ac77</td>\n",
       "      <td>290c77bc529b7ac935b93aa66c333dc3</td>\n",
       "      <td>2018-01-12 20:58:32</td>\n",
       "    </tr>\n",
       "    <tr>\n",
       "      <th>2</th>\n",
       "      <td>4e7b3e00288586ebd08712fdd0374a03</td>\n",
       "      <td>060e732b5b29e8181a18229c7b0b2b5e</td>\n",
       "      <td>2018-05-20 16:19:10</td>\n",
       "    </tr>\n",
       "    <tr>\n",
       "      <th>3</th>\n",
       "      <td>b2b6027bc5c5109e529d4dc6358b12c3</td>\n",
       "      <td>259dac757896d24d7702b9acbbff3f3c</td>\n",
       "      <td>2018-03-13 17:29:19</td>\n",
       "    </tr>\n",
       "    <tr>\n",
       "      <th>4</th>\n",
       "      <td>4f2d8ab171c80ec8364f7c12e35b23ad</td>\n",
       "      <td>345ecd01c38d18a9036ed96c73b8d066</td>\n",
       "      <td>2018-07-29 10:10:09</td>\n",
       "    </tr>\n",
       "  </tbody>\n",
       "</table>\n",
       "</div>"
      ],
      "text/plain": [
       "                        customer_id                customer_unique_id  \\\n",
       "0  06b8999e2fba1a1fbc88172c00ba8bc7  861eff4711a542e4b93843c6dd7febb0   \n",
       "1  18955e83d337fd6b2def6b18a428ac77  290c77bc529b7ac935b93aa66c333dc3   \n",
       "2  4e7b3e00288586ebd08712fdd0374a03  060e732b5b29e8181a18229c7b0b2b5e   \n",
       "3  b2b6027bc5c5109e529d4dc6358b12c3  259dac757896d24d7702b9acbbff3f3c   \n",
       "4  4f2d8ab171c80ec8364f7c12e35b23ad  345ecd01c38d18a9036ed96c73b8d066   \n",
       "\n",
       "    order_approved_at  \n",
       "0 2017-05-16 15:22:12  \n",
       "1 2018-01-12 20:58:32  \n",
       "2 2018-05-20 16:19:10  \n",
       "3 2018-03-13 17:29:19  \n",
       "4 2018-07-29 10:10:09  "
      ]
     },
     "execution_count": 1142,
     "metadata": {},
     "output_type": "execute_result"
    }
   ],
   "source": [
    "df_customers_with_purch_date.head()"
   ]
  },
  {
   "cell_type": "code",
   "execution_count": 1143,
   "id": "066ae0dc",
   "metadata": {},
   "outputs": [
    {
     "data": {
      "text/plain": [
       "(98346, 3)"
      ]
     },
     "execution_count": 1143,
     "metadata": {},
     "output_type": "execute_result"
    }
   ],
   "source": [
    "df_customers_with_purch_date.shape"
   ]
  },
  {
   "cell_type": "code",
   "execution_count": 1144,
   "id": "86c173d7",
   "metadata": {},
   "outputs": [
    {
     "data": {
      "text/plain": [
       "customer_id            0\n",
       "customer_unique_id     0\n",
       "order_approved_at     14\n",
       "dtype: int64"
      ]
     },
     "execution_count": 1144,
     "metadata": {},
     "output_type": "execute_result"
    }
   ],
   "source": [
    "df_customers_with_purch_date.isna().sum()"
   ]
  },
  {
   "cell_type": "markdown",
   "id": "65f473d8",
   "metadata": {},
   "source": [
    "Заказы с пропущенными значениями в колонке order_approved_at относятся к заказам статуса delivered. Найдём данные заказы в таблице df_orders_with_purch и убедимся в этом."
   ]
  },
  {
   "cell_type": "code",
   "execution_count": 1145,
   "id": "f9dc4cd5",
   "metadata": {},
   "outputs": [],
   "source": [
    "df_customers_with_missed_date = (df_customers_with_purch_date\n",
    "                                 .loc[df_customers_with_purch_date.order_approved_at.isna()])"
   ]
  },
  {
   "cell_type": "code",
   "execution_count": 1146,
   "id": "dda8ae48",
   "metadata": {},
   "outputs": [
    {
     "data": {
      "text/html": [
       "<div>\n",
       "<style scoped>\n",
       "    .dataframe tbody tr th:only-of-type {\n",
       "        vertical-align: middle;\n",
       "    }\n",
       "\n",
       "    .dataframe tbody tr th {\n",
       "        vertical-align: top;\n",
       "    }\n",
       "\n",
       "    .dataframe thead th {\n",
       "        text-align: right;\n",
       "    }\n",
       "</style>\n",
       "<table border=\"1\" class=\"dataframe\">\n",
       "  <thead>\n",
       "    <tr style=\"text-align: right;\">\n",
       "      <th></th>\n",
       "      <th>customer_id</th>\n",
       "      <th>customer_unique_id</th>\n",
       "      <th>order_approved_at</th>\n",
       "    </tr>\n",
       "  </thead>\n",
       "  <tbody>\n",
       "    <tr>\n",
       "      <th>8874</th>\n",
       "      <td>0bf35cac6cc7327065da879e2d90fae8</td>\n",
       "      <td>c4c0011e639bdbcf26059ddc38bd3c18</td>\n",
       "      <td>NaT</td>\n",
       "    </tr>\n",
       "    <tr>\n",
       "      <th>13747</th>\n",
       "      <td>1e101e0daffaddce8159d25a8e53f2b2</td>\n",
       "      <td>c8822fce1d0bfa7ddf0da24fff947172</td>\n",
       "      <td>NaT</td>\n",
       "    </tr>\n",
       "    <tr>\n",
       "      <th>20657</th>\n",
       "      <td>d5de688c321096d15508faae67a27051</td>\n",
       "      <td>d49f3dae6bad25d05160fc17aca5942d</td>\n",
       "      <td>NaT</td>\n",
       "    </tr>\n",
       "    <tr>\n",
       "      <th>22481</th>\n",
       "      <td>07a2a7e0f63fd8cb757ed77d4245623c</td>\n",
       "      <td>79af1bbf230a2630487975aa5d7d6220</td>\n",
       "      <td>NaT</td>\n",
       "    </tr>\n",
       "    <tr>\n",
       "      <th>27168</th>\n",
       "      <td>68d081753ad4fe22fc4d410a9eb1ca01</td>\n",
       "      <td>2e0a2166aa23da2472c6a60c4af6f7a6</td>\n",
       "      <td>NaT</td>\n",
       "    </tr>\n",
       "  </tbody>\n",
       "</table>\n",
       "</div>"
      ],
      "text/plain": [
       "                            customer_id                customer_unique_id  \\\n",
       "8874   0bf35cac6cc7327065da879e2d90fae8  c4c0011e639bdbcf26059ddc38bd3c18   \n",
       "13747  1e101e0daffaddce8159d25a8e53f2b2  c8822fce1d0bfa7ddf0da24fff947172   \n",
       "20657  d5de688c321096d15508faae67a27051  d49f3dae6bad25d05160fc17aca5942d   \n",
       "22481  07a2a7e0f63fd8cb757ed77d4245623c  79af1bbf230a2630487975aa5d7d6220   \n",
       "27168  68d081753ad4fe22fc4d410a9eb1ca01  2e0a2166aa23da2472c6a60c4af6f7a6   \n",
       "\n",
       "      order_approved_at  \n",
       "8874                NaT  \n",
       "13747               NaT  \n",
       "20657               NaT  \n",
       "22481               NaT  \n",
       "27168               NaT  "
      ]
     },
     "execution_count": 1146,
     "metadata": {},
     "output_type": "execute_result"
    }
   ],
   "source": [
    "df_customers_with_missed_date.head()"
   ]
  },
  {
   "cell_type": "code",
   "execution_count": 1147,
   "id": "760fe622",
   "metadata": {},
   "outputs": [
    {
     "data": {
      "text/plain": [
       "(14, 3)"
      ]
     },
     "execution_count": 1147,
     "metadata": {},
     "output_type": "execute_result"
    }
   ],
   "source": [
    "df_customers_with_missed_date.shape"
   ]
  },
  {
   "cell_type": "code",
   "execution_count": 1148,
   "id": "7219df28",
   "metadata": {},
   "outputs": [],
   "source": [
    "df_orders_checking_missed = (df_orders_with_purch\n",
    "                             .loc[df_orders_with_purch['customer_id']\n",
    "                                  .isin(df_customers_with_missed_date['customer_id'])])"
   ]
  },
  {
   "cell_type": "code",
   "execution_count": 1149,
   "id": "25a21e9b",
   "metadata": {},
   "outputs": [
    {
     "data": {
      "text/html": [
       "<div>\n",
       "<style scoped>\n",
       "    .dataframe tbody tr th:only-of-type {\n",
       "        vertical-align: middle;\n",
       "    }\n",
       "\n",
       "    .dataframe tbody tr th {\n",
       "        vertical-align: top;\n",
       "    }\n",
       "\n",
       "    .dataframe thead th {\n",
       "        text-align: right;\n",
       "    }\n",
       "</style>\n",
       "<table border=\"1\" class=\"dataframe\">\n",
       "  <thead>\n",
       "    <tr style=\"text-align: right;\">\n",
       "      <th></th>\n",
       "      <th>order_id</th>\n",
       "      <th>customer_id</th>\n",
       "      <th>order_status</th>\n",
       "      <th>order_purchase_timestamp</th>\n",
       "      <th>order_approved_at</th>\n",
       "      <th>order_delivered_carrier_date</th>\n",
       "      <th>order_delivered_customer_date</th>\n",
       "      <th>order_estimated_delivery_date</th>\n",
       "    </tr>\n",
       "  </thead>\n",
       "  <tbody>\n",
       "    <tr>\n",
       "      <th>5323</th>\n",
       "      <td>e04abd8149ef81b95221e88f6ed9ab6a</td>\n",
       "      <td>2127dc6603ac33544953ef05ec155771</td>\n",
       "      <td>delivered</td>\n",
       "      <td>2017-02-18 14:40:00</td>\n",
       "      <td>NaT</td>\n",
       "      <td>2017-02-23 12:04:47</td>\n",
       "      <td>2017-03-01 13:25:33</td>\n",
       "      <td>2017-03-17</td>\n",
       "    </tr>\n",
       "    <tr>\n",
       "      <th>16567</th>\n",
       "      <td>8a9adc69528e1001fc68dd0aaebbb54a</td>\n",
       "      <td>4c1ccc74e00993733742a3c786dc3c1f</td>\n",
       "      <td>delivered</td>\n",
       "      <td>2017-02-18 12:45:31</td>\n",
       "      <td>NaT</td>\n",
       "      <td>2017-02-23 09:01:52</td>\n",
       "      <td>2017-03-02 10:05:06</td>\n",
       "      <td>2017-03-21</td>\n",
       "    </tr>\n",
       "    <tr>\n",
       "      <th>19031</th>\n",
       "      <td>7013bcfc1c97fe719a7b5e05e61c12db</td>\n",
       "      <td>2941af76d38100e0f8740a374f1a5dc3</td>\n",
       "      <td>delivered</td>\n",
       "      <td>2017-02-18 13:29:47</td>\n",
       "      <td>NaT</td>\n",
       "      <td>2017-02-22 16:25:25</td>\n",
       "      <td>2017-03-01 08:07:38</td>\n",
       "      <td>2017-03-17</td>\n",
       "    </tr>\n",
       "    <tr>\n",
       "      <th>22663</th>\n",
       "      <td>5cf925b116421afa85ee25e99b4c34fb</td>\n",
       "      <td>29c35fc91fc13fb5073c8f30505d860d</td>\n",
       "      <td>delivered</td>\n",
       "      <td>2017-02-18 16:48:35</td>\n",
       "      <td>NaT</td>\n",
       "      <td>2017-02-22 11:23:10</td>\n",
       "      <td>2017-03-09 07:28:47</td>\n",
       "      <td>2017-03-31</td>\n",
       "    </tr>\n",
       "    <tr>\n",
       "      <th>23156</th>\n",
       "      <td>12a95a3c06dbaec84bcfb0e2da5d228a</td>\n",
       "      <td>1e101e0daffaddce8159d25a8e53f2b2</td>\n",
       "      <td>delivered</td>\n",
       "      <td>2017-02-17 13:05:55</td>\n",
       "      <td>NaT</td>\n",
       "      <td>2017-02-22 11:23:11</td>\n",
       "      <td>2017-03-02 11:09:19</td>\n",
       "      <td>2017-03-20</td>\n",
       "    </tr>\n",
       "    <tr>\n",
       "      <th>26800</th>\n",
       "      <td>c1d4211b3dae76144deccd6c74144a88</td>\n",
       "      <td>684cb238dc5b5d6366244e0e0776b450</td>\n",
       "      <td>delivered</td>\n",
       "      <td>2017-01-19 12:48:08</td>\n",
       "      <td>NaT</td>\n",
       "      <td>2017-01-25 14:56:50</td>\n",
       "      <td>2017-01-30 18:16:01</td>\n",
       "      <td>2017-03-01</td>\n",
       "    </tr>\n",
       "    <tr>\n",
       "      <th>38290</th>\n",
       "      <td>d69e5d356402adc8cf17e08b5033acfb</td>\n",
       "      <td>68d081753ad4fe22fc4d410a9eb1ca01</td>\n",
       "      <td>delivered</td>\n",
       "      <td>2017-02-19 01:28:47</td>\n",
       "      <td>NaT</td>\n",
       "      <td>2017-02-23 03:11:48</td>\n",
       "      <td>2017-03-02 03:41:58</td>\n",
       "      <td>2017-03-27</td>\n",
       "    </tr>\n",
       "    <tr>\n",
       "      <th>39334</th>\n",
       "      <td>d77031d6a3c8a52f019764e68f211c69</td>\n",
       "      <td>0bf35cac6cc7327065da879e2d90fae8</td>\n",
       "      <td>delivered</td>\n",
       "      <td>2017-02-18 11:04:19</td>\n",
       "      <td>NaT</td>\n",
       "      <td>2017-02-23 07:23:36</td>\n",
       "      <td>2017-03-02 16:15:23</td>\n",
       "      <td>2017-03-22</td>\n",
       "    </tr>\n",
       "    <tr>\n",
       "      <th>48401</th>\n",
       "      <td>7002a78c79c519ac54022d4f8a65e6e8</td>\n",
       "      <td>d5de688c321096d15508faae67a27051</td>\n",
       "      <td>delivered</td>\n",
       "      <td>2017-01-19 22:26:59</td>\n",
       "      <td>NaT</td>\n",
       "      <td>2017-01-27 11:08:05</td>\n",
       "      <td>2017-02-06 14:22:19</td>\n",
       "      <td>2017-03-16</td>\n",
       "    </tr>\n",
       "    <tr>\n",
       "      <th>61743</th>\n",
       "      <td>2eecb0d85f281280f79fa00f9cec1a95</td>\n",
       "      <td>a3d3c38e58b9d2dfb9207cab690b6310</td>\n",
       "      <td>delivered</td>\n",
       "      <td>2017-02-17 17:21:55</td>\n",
       "      <td>NaT</td>\n",
       "      <td>2017-02-22 11:42:51</td>\n",
       "      <td>2017-03-03 12:16:03</td>\n",
       "      <td>2017-03-20</td>\n",
       "    </tr>\n",
       "    <tr>\n",
       "      <th>63052</th>\n",
       "      <td>51eb2eebd5d76a24625b31c33dd41449</td>\n",
       "      <td>07a2a7e0f63fd8cb757ed77d4245623c</td>\n",
       "      <td>delivered</td>\n",
       "      <td>2017-02-18 15:52:27</td>\n",
       "      <td>NaT</td>\n",
       "      <td>2017-02-23 03:09:14</td>\n",
       "      <td>2017-03-07 13:57:47</td>\n",
       "      <td>2017-03-29</td>\n",
       "    </tr>\n",
       "    <tr>\n",
       "      <th>67697</th>\n",
       "      <td>88083e8f64d95b932164187484d90212</td>\n",
       "      <td>f67cd1a215aae2a1074638bbd35a223a</td>\n",
       "      <td>delivered</td>\n",
       "      <td>2017-02-18 22:49:19</td>\n",
       "      <td>NaT</td>\n",
       "      <td>2017-02-22 11:31:06</td>\n",
       "      <td>2017-03-02 12:06:06</td>\n",
       "      <td>2017-03-21</td>\n",
       "    </tr>\n",
       "    <tr>\n",
       "      <th>72407</th>\n",
       "      <td>3c0b8706b065f9919d0505d3b3343881</td>\n",
       "      <td>d85919cb3c0529589c6fa617f5f43281</td>\n",
       "      <td>delivered</td>\n",
       "      <td>2017-02-17 15:53:27</td>\n",
       "      <td>NaT</td>\n",
       "      <td>2017-02-22 11:31:30</td>\n",
       "      <td>2017-03-03 11:47:47</td>\n",
       "      <td>2017-03-23</td>\n",
       "    </tr>\n",
       "    <tr>\n",
       "      <th>84999</th>\n",
       "      <td>2babbb4b15e6d2dfe95e2de765c97bce</td>\n",
       "      <td>74bebaf46603f9340e3b50c6b086f992</td>\n",
       "      <td>delivered</td>\n",
       "      <td>2017-02-18 17:15:03</td>\n",
       "      <td>NaT</td>\n",
       "      <td>2017-02-22 11:23:11</td>\n",
       "      <td>2017-03-03 18:43:43</td>\n",
       "      <td>2017-03-31</td>\n",
       "    </tr>\n",
       "  </tbody>\n",
       "</table>\n",
       "</div>"
      ],
      "text/plain": [
       "                               order_id                       customer_id  \\\n",
       "5323   e04abd8149ef81b95221e88f6ed9ab6a  2127dc6603ac33544953ef05ec155771   \n",
       "16567  8a9adc69528e1001fc68dd0aaebbb54a  4c1ccc74e00993733742a3c786dc3c1f   \n",
       "19031  7013bcfc1c97fe719a7b5e05e61c12db  2941af76d38100e0f8740a374f1a5dc3   \n",
       "22663  5cf925b116421afa85ee25e99b4c34fb  29c35fc91fc13fb5073c8f30505d860d   \n",
       "23156  12a95a3c06dbaec84bcfb0e2da5d228a  1e101e0daffaddce8159d25a8e53f2b2   \n",
       "26800  c1d4211b3dae76144deccd6c74144a88  684cb238dc5b5d6366244e0e0776b450   \n",
       "38290  d69e5d356402adc8cf17e08b5033acfb  68d081753ad4fe22fc4d410a9eb1ca01   \n",
       "39334  d77031d6a3c8a52f019764e68f211c69  0bf35cac6cc7327065da879e2d90fae8   \n",
       "48401  7002a78c79c519ac54022d4f8a65e6e8  d5de688c321096d15508faae67a27051   \n",
       "61743  2eecb0d85f281280f79fa00f9cec1a95  a3d3c38e58b9d2dfb9207cab690b6310   \n",
       "63052  51eb2eebd5d76a24625b31c33dd41449  07a2a7e0f63fd8cb757ed77d4245623c   \n",
       "67697  88083e8f64d95b932164187484d90212  f67cd1a215aae2a1074638bbd35a223a   \n",
       "72407  3c0b8706b065f9919d0505d3b3343881  d85919cb3c0529589c6fa617f5f43281   \n",
       "84999  2babbb4b15e6d2dfe95e2de765c97bce  74bebaf46603f9340e3b50c6b086f992   \n",
       "\n",
       "      order_status order_purchase_timestamp order_approved_at  \\\n",
       "5323     delivered      2017-02-18 14:40:00               NaT   \n",
       "16567    delivered      2017-02-18 12:45:31               NaT   \n",
       "19031    delivered      2017-02-18 13:29:47               NaT   \n",
       "22663    delivered      2017-02-18 16:48:35               NaT   \n",
       "23156    delivered      2017-02-17 13:05:55               NaT   \n",
       "26800    delivered      2017-01-19 12:48:08               NaT   \n",
       "38290    delivered      2017-02-19 01:28:47               NaT   \n",
       "39334    delivered      2017-02-18 11:04:19               NaT   \n",
       "48401    delivered      2017-01-19 22:26:59               NaT   \n",
       "61743    delivered      2017-02-17 17:21:55               NaT   \n",
       "63052    delivered      2017-02-18 15:52:27               NaT   \n",
       "67697    delivered      2017-02-18 22:49:19               NaT   \n",
       "72407    delivered      2017-02-17 15:53:27               NaT   \n",
       "84999    delivered      2017-02-18 17:15:03               NaT   \n",
       "\n",
       "      order_delivered_carrier_date order_delivered_customer_date  \\\n",
       "5323           2017-02-23 12:04:47           2017-03-01 13:25:33   \n",
       "16567          2017-02-23 09:01:52           2017-03-02 10:05:06   \n",
       "19031          2017-02-22 16:25:25           2017-03-01 08:07:38   \n",
       "22663          2017-02-22 11:23:10           2017-03-09 07:28:47   \n",
       "23156          2017-02-22 11:23:11           2017-03-02 11:09:19   \n",
       "26800          2017-01-25 14:56:50           2017-01-30 18:16:01   \n",
       "38290          2017-02-23 03:11:48           2017-03-02 03:41:58   \n",
       "39334          2017-02-23 07:23:36           2017-03-02 16:15:23   \n",
       "48401          2017-01-27 11:08:05           2017-02-06 14:22:19   \n",
       "61743          2017-02-22 11:42:51           2017-03-03 12:16:03   \n",
       "63052          2017-02-23 03:09:14           2017-03-07 13:57:47   \n",
       "67697          2017-02-22 11:31:06           2017-03-02 12:06:06   \n",
       "72407          2017-02-22 11:31:30           2017-03-03 11:47:47   \n",
       "84999          2017-02-22 11:23:11           2017-03-03 18:43:43   \n",
       "\n",
       "      order_estimated_delivery_date  \n",
       "5323                     2017-03-17  \n",
       "16567                    2017-03-21  \n",
       "19031                    2017-03-17  \n",
       "22663                    2017-03-31  \n",
       "23156                    2017-03-20  \n",
       "26800                    2017-03-01  \n",
       "38290                    2017-03-27  \n",
       "39334                    2017-03-22  \n",
       "48401                    2017-03-16  \n",
       "61743                    2017-03-20  \n",
       "63052                    2017-03-29  \n",
       "67697                    2017-03-21  \n",
       "72407                    2017-03-23  \n",
       "84999                    2017-03-31  "
      ]
     },
     "execution_count": 1149,
     "metadata": {},
     "output_type": "execute_result"
    }
   ],
   "source": [
    "df_orders_checking_missed"
   ]
  },
  {
   "cell_type": "code",
   "execution_count": 1150,
   "id": "6a7a0b46",
   "metadata": {},
   "outputs": [
    {
     "data": {
      "text/plain": [
       "(14, 8)"
      ]
     },
     "execution_count": 1150,
     "metadata": {},
     "output_type": "execute_result"
    }
   ],
   "source": [
    "df_orders_checking_missed.shape"
   ]
  },
  {
   "cell_type": "markdown",
   "id": "e44c9bf2",
   "metadata": {},
   "source": [
    "Все 14 заказов относятся к статусу delivered, то есть они были доставлено до пользователя. Однако, как я предположил на этапе определения покупок, из-за какой-то ошибки колонка order_approved_at не заполнилась. Можно понять, что должно соблюдаться неравенство:<br> <b>order_purchase_timestamp < order_approved_at < order_delivered_carrier_date</b> <br>\n",
    "У каждого заказа год и месяц в колонках order_purchase_timestamp и order_delivered_carrier_date совпадают (было определено визуально, так как заказов всего 14), значит в колонке order_approved_at у данных заказов должны были быть такие же месяц и год, как и в колонках order_purchase_timestamp и order_delivered_carrier_date.<br>\n",
    "Заказы в когортном анализе будут разбиты на когорты год-месяц, поэтому в качестве даты order_approved_at для данных заказов возьмём дату order_purchase_timestamp. "
   ]
  },
  {
   "cell_type": "code",
   "execution_count": 1151,
   "id": "ba207353",
   "metadata": {},
   "outputs": [],
   "source": [
    "df_orders_checking_missed_for_fillna = (df_orders_checking_missed\n",
    "                                        .drop(columns='order_approved_at')\n",
    "                                        .rename(columns={'order_purchase_timestamp': 'order_approved_at'})\n",
    "                                        .set_index('customer_id'))\n",
    "# Далее будем заполнять пустые значения в таблице df_customers_with_purch_date с помощью метода fillna() "
   ]
  },
  {
   "cell_type": "code",
   "execution_count": 1152,
   "id": "0a51071a",
   "metadata": {},
   "outputs": [
    {
     "data": {
      "text/html": [
       "<div>\n",
       "<style scoped>\n",
       "    .dataframe tbody tr th:only-of-type {\n",
       "        vertical-align: middle;\n",
       "    }\n",
       "\n",
       "    .dataframe tbody tr th {\n",
       "        vertical-align: top;\n",
       "    }\n",
       "\n",
       "    .dataframe thead th {\n",
       "        text-align: right;\n",
       "    }\n",
       "</style>\n",
       "<table border=\"1\" class=\"dataframe\">\n",
       "  <thead>\n",
       "    <tr style=\"text-align: right;\">\n",
       "      <th></th>\n",
       "      <th>order_id</th>\n",
       "      <th>order_status</th>\n",
       "      <th>order_approved_at</th>\n",
       "      <th>order_delivered_carrier_date</th>\n",
       "      <th>order_delivered_customer_date</th>\n",
       "      <th>order_estimated_delivery_date</th>\n",
       "    </tr>\n",
       "    <tr>\n",
       "      <th>customer_id</th>\n",
       "      <th></th>\n",
       "      <th></th>\n",
       "      <th></th>\n",
       "      <th></th>\n",
       "      <th></th>\n",
       "      <th></th>\n",
       "    </tr>\n",
       "  </thead>\n",
       "  <tbody>\n",
       "    <tr>\n",
       "      <th>2127dc6603ac33544953ef05ec155771</th>\n",
       "      <td>e04abd8149ef81b95221e88f6ed9ab6a</td>\n",
       "      <td>delivered</td>\n",
       "      <td>2017-02-18 14:40:00</td>\n",
       "      <td>2017-02-23 12:04:47</td>\n",
       "      <td>2017-03-01 13:25:33</td>\n",
       "      <td>2017-03-17</td>\n",
       "    </tr>\n",
       "    <tr>\n",
       "      <th>4c1ccc74e00993733742a3c786dc3c1f</th>\n",
       "      <td>8a9adc69528e1001fc68dd0aaebbb54a</td>\n",
       "      <td>delivered</td>\n",
       "      <td>2017-02-18 12:45:31</td>\n",
       "      <td>2017-02-23 09:01:52</td>\n",
       "      <td>2017-03-02 10:05:06</td>\n",
       "      <td>2017-03-21</td>\n",
       "    </tr>\n",
       "    <tr>\n",
       "      <th>2941af76d38100e0f8740a374f1a5dc3</th>\n",
       "      <td>7013bcfc1c97fe719a7b5e05e61c12db</td>\n",
       "      <td>delivered</td>\n",
       "      <td>2017-02-18 13:29:47</td>\n",
       "      <td>2017-02-22 16:25:25</td>\n",
       "      <td>2017-03-01 08:07:38</td>\n",
       "      <td>2017-03-17</td>\n",
       "    </tr>\n",
       "    <tr>\n",
       "      <th>29c35fc91fc13fb5073c8f30505d860d</th>\n",
       "      <td>5cf925b116421afa85ee25e99b4c34fb</td>\n",
       "      <td>delivered</td>\n",
       "      <td>2017-02-18 16:48:35</td>\n",
       "      <td>2017-02-22 11:23:10</td>\n",
       "      <td>2017-03-09 07:28:47</td>\n",
       "      <td>2017-03-31</td>\n",
       "    </tr>\n",
       "    <tr>\n",
       "      <th>1e101e0daffaddce8159d25a8e53f2b2</th>\n",
       "      <td>12a95a3c06dbaec84bcfb0e2da5d228a</td>\n",
       "      <td>delivered</td>\n",
       "      <td>2017-02-17 13:05:55</td>\n",
       "      <td>2017-02-22 11:23:11</td>\n",
       "      <td>2017-03-02 11:09:19</td>\n",
       "      <td>2017-03-20</td>\n",
       "    </tr>\n",
       "    <tr>\n",
       "      <th>684cb238dc5b5d6366244e0e0776b450</th>\n",
       "      <td>c1d4211b3dae76144deccd6c74144a88</td>\n",
       "      <td>delivered</td>\n",
       "      <td>2017-01-19 12:48:08</td>\n",
       "      <td>2017-01-25 14:56:50</td>\n",
       "      <td>2017-01-30 18:16:01</td>\n",
       "      <td>2017-03-01</td>\n",
       "    </tr>\n",
       "    <tr>\n",
       "      <th>68d081753ad4fe22fc4d410a9eb1ca01</th>\n",
       "      <td>d69e5d356402adc8cf17e08b5033acfb</td>\n",
       "      <td>delivered</td>\n",
       "      <td>2017-02-19 01:28:47</td>\n",
       "      <td>2017-02-23 03:11:48</td>\n",
       "      <td>2017-03-02 03:41:58</td>\n",
       "      <td>2017-03-27</td>\n",
       "    </tr>\n",
       "    <tr>\n",
       "      <th>0bf35cac6cc7327065da879e2d90fae8</th>\n",
       "      <td>d77031d6a3c8a52f019764e68f211c69</td>\n",
       "      <td>delivered</td>\n",
       "      <td>2017-02-18 11:04:19</td>\n",
       "      <td>2017-02-23 07:23:36</td>\n",
       "      <td>2017-03-02 16:15:23</td>\n",
       "      <td>2017-03-22</td>\n",
       "    </tr>\n",
       "    <tr>\n",
       "      <th>d5de688c321096d15508faae67a27051</th>\n",
       "      <td>7002a78c79c519ac54022d4f8a65e6e8</td>\n",
       "      <td>delivered</td>\n",
       "      <td>2017-01-19 22:26:59</td>\n",
       "      <td>2017-01-27 11:08:05</td>\n",
       "      <td>2017-02-06 14:22:19</td>\n",
       "      <td>2017-03-16</td>\n",
       "    </tr>\n",
       "    <tr>\n",
       "      <th>a3d3c38e58b9d2dfb9207cab690b6310</th>\n",
       "      <td>2eecb0d85f281280f79fa00f9cec1a95</td>\n",
       "      <td>delivered</td>\n",
       "      <td>2017-02-17 17:21:55</td>\n",
       "      <td>2017-02-22 11:42:51</td>\n",
       "      <td>2017-03-03 12:16:03</td>\n",
       "      <td>2017-03-20</td>\n",
       "    </tr>\n",
       "    <tr>\n",
       "      <th>07a2a7e0f63fd8cb757ed77d4245623c</th>\n",
       "      <td>51eb2eebd5d76a24625b31c33dd41449</td>\n",
       "      <td>delivered</td>\n",
       "      <td>2017-02-18 15:52:27</td>\n",
       "      <td>2017-02-23 03:09:14</td>\n",
       "      <td>2017-03-07 13:57:47</td>\n",
       "      <td>2017-03-29</td>\n",
       "    </tr>\n",
       "    <tr>\n",
       "      <th>f67cd1a215aae2a1074638bbd35a223a</th>\n",
       "      <td>88083e8f64d95b932164187484d90212</td>\n",
       "      <td>delivered</td>\n",
       "      <td>2017-02-18 22:49:19</td>\n",
       "      <td>2017-02-22 11:31:06</td>\n",
       "      <td>2017-03-02 12:06:06</td>\n",
       "      <td>2017-03-21</td>\n",
       "    </tr>\n",
       "    <tr>\n",
       "      <th>d85919cb3c0529589c6fa617f5f43281</th>\n",
       "      <td>3c0b8706b065f9919d0505d3b3343881</td>\n",
       "      <td>delivered</td>\n",
       "      <td>2017-02-17 15:53:27</td>\n",
       "      <td>2017-02-22 11:31:30</td>\n",
       "      <td>2017-03-03 11:47:47</td>\n",
       "      <td>2017-03-23</td>\n",
       "    </tr>\n",
       "    <tr>\n",
       "      <th>74bebaf46603f9340e3b50c6b086f992</th>\n",
       "      <td>2babbb4b15e6d2dfe95e2de765c97bce</td>\n",
       "      <td>delivered</td>\n",
       "      <td>2017-02-18 17:15:03</td>\n",
       "      <td>2017-02-22 11:23:11</td>\n",
       "      <td>2017-03-03 18:43:43</td>\n",
       "      <td>2017-03-31</td>\n",
       "    </tr>\n",
       "  </tbody>\n",
       "</table>\n",
       "</div>"
      ],
      "text/plain": [
       "                                                          order_id  \\\n",
       "customer_id                                                          \n",
       "2127dc6603ac33544953ef05ec155771  e04abd8149ef81b95221e88f6ed9ab6a   \n",
       "4c1ccc74e00993733742a3c786dc3c1f  8a9adc69528e1001fc68dd0aaebbb54a   \n",
       "2941af76d38100e0f8740a374f1a5dc3  7013bcfc1c97fe719a7b5e05e61c12db   \n",
       "29c35fc91fc13fb5073c8f30505d860d  5cf925b116421afa85ee25e99b4c34fb   \n",
       "1e101e0daffaddce8159d25a8e53f2b2  12a95a3c06dbaec84bcfb0e2da5d228a   \n",
       "684cb238dc5b5d6366244e0e0776b450  c1d4211b3dae76144deccd6c74144a88   \n",
       "68d081753ad4fe22fc4d410a9eb1ca01  d69e5d356402adc8cf17e08b5033acfb   \n",
       "0bf35cac6cc7327065da879e2d90fae8  d77031d6a3c8a52f019764e68f211c69   \n",
       "d5de688c321096d15508faae67a27051  7002a78c79c519ac54022d4f8a65e6e8   \n",
       "a3d3c38e58b9d2dfb9207cab690b6310  2eecb0d85f281280f79fa00f9cec1a95   \n",
       "07a2a7e0f63fd8cb757ed77d4245623c  51eb2eebd5d76a24625b31c33dd41449   \n",
       "f67cd1a215aae2a1074638bbd35a223a  88083e8f64d95b932164187484d90212   \n",
       "d85919cb3c0529589c6fa617f5f43281  3c0b8706b065f9919d0505d3b3343881   \n",
       "74bebaf46603f9340e3b50c6b086f992  2babbb4b15e6d2dfe95e2de765c97bce   \n",
       "\n",
       "                                 order_status   order_approved_at  \\\n",
       "customer_id                                                         \n",
       "2127dc6603ac33544953ef05ec155771    delivered 2017-02-18 14:40:00   \n",
       "4c1ccc74e00993733742a3c786dc3c1f    delivered 2017-02-18 12:45:31   \n",
       "2941af76d38100e0f8740a374f1a5dc3    delivered 2017-02-18 13:29:47   \n",
       "29c35fc91fc13fb5073c8f30505d860d    delivered 2017-02-18 16:48:35   \n",
       "1e101e0daffaddce8159d25a8e53f2b2    delivered 2017-02-17 13:05:55   \n",
       "684cb238dc5b5d6366244e0e0776b450    delivered 2017-01-19 12:48:08   \n",
       "68d081753ad4fe22fc4d410a9eb1ca01    delivered 2017-02-19 01:28:47   \n",
       "0bf35cac6cc7327065da879e2d90fae8    delivered 2017-02-18 11:04:19   \n",
       "d5de688c321096d15508faae67a27051    delivered 2017-01-19 22:26:59   \n",
       "a3d3c38e58b9d2dfb9207cab690b6310    delivered 2017-02-17 17:21:55   \n",
       "07a2a7e0f63fd8cb757ed77d4245623c    delivered 2017-02-18 15:52:27   \n",
       "f67cd1a215aae2a1074638bbd35a223a    delivered 2017-02-18 22:49:19   \n",
       "d85919cb3c0529589c6fa617f5f43281    delivered 2017-02-17 15:53:27   \n",
       "74bebaf46603f9340e3b50c6b086f992    delivered 2017-02-18 17:15:03   \n",
       "\n",
       "                                 order_delivered_carrier_date  \\\n",
       "customer_id                                                     \n",
       "2127dc6603ac33544953ef05ec155771          2017-02-23 12:04:47   \n",
       "4c1ccc74e00993733742a3c786dc3c1f          2017-02-23 09:01:52   \n",
       "2941af76d38100e0f8740a374f1a5dc3          2017-02-22 16:25:25   \n",
       "29c35fc91fc13fb5073c8f30505d860d          2017-02-22 11:23:10   \n",
       "1e101e0daffaddce8159d25a8e53f2b2          2017-02-22 11:23:11   \n",
       "684cb238dc5b5d6366244e0e0776b450          2017-01-25 14:56:50   \n",
       "68d081753ad4fe22fc4d410a9eb1ca01          2017-02-23 03:11:48   \n",
       "0bf35cac6cc7327065da879e2d90fae8          2017-02-23 07:23:36   \n",
       "d5de688c321096d15508faae67a27051          2017-01-27 11:08:05   \n",
       "a3d3c38e58b9d2dfb9207cab690b6310          2017-02-22 11:42:51   \n",
       "07a2a7e0f63fd8cb757ed77d4245623c          2017-02-23 03:09:14   \n",
       "f67cd1a215aae2a1074638bbd35a223a          2017-02-22 11:31:06   \n",
       "d85919cb3c0529589c6fa617f5f43281          2017-02-22 11:31:30   \n",
       "74bebaf46603f9340e3b50c6b086f992          2017-02-22 11:23:11   \n",
       "\n",
       "                                 order_delivered_customer_date  \\\n",
       "customer_id                                                      \n",
       "2127dc6603ac33544953ef05ec155771           2017-03-01 13:25:33   \n",
       "4c1ccc74e00993733742a3c786dc3c1f           2017-03-02 10:05:06   \n",
       "2941af76d38100e0f8740a374f1a5dc3           2017-03-01 08:07:38   \n",
       "29c35fc91fc13fb5073c8f30505d860d           2017-03-09 07:28:47   \n",
       "1e101e0daffaddce8159d25a8e53f2b2           2017-03-02 11:09:19   \n",
       "684cb238dc5b5d6366244e0e0776b450           2017-01-30 18:16:01   \n",
       "68d081753ad4fe22fc4d410a9eb1ca01           2017-03-02 03:41:58   \n",
       "0bf35cac6cc7327065da879e2d90fae8           2017-03-02 16:15:23   \n",
       "d5de688c321096d15508faae67a27051           2017-02-06 14:22:19   \n",
       "a3d3c38e58b9d2dfb9207cab690b6310           2017-03-03 12:16:03   \n",
       "07a2a7e0f63fd8cb757ed77d4245623c           2017-03-07 13:57:47   \n",
       "f67cd1a215aae2a1074638bbd35a223a           2017-03-02 12:06:06   \n",
       "d85919cb3c0529589c6fa617f5f43281           2017-03-03 11:47:47   \n",
       "74bebaf46603f9340e3b50c6b086f992           2017-03-03 18:43:43   \n",
       "\n",
       "                                 order_estimated_delivery_date  \n",
       "customer_id                                                     \n",
       "2127dc6603ac33544953ef05ec155771                    2017-03-17  \n",
       "4c1ccc74e00993733742a3c786dc3c1f                    2017-03-21  \n",
       "2941af76d38100e0f8740a374f1a5dc3                    2017-03-17  \n",
       "29c35fc91fc13fb5073c8f30505d860d                    2017-03-31  \n",
       "1e101e0daffaddce8159d25a8e53f2b2                    2017-03-20  \n",
       "684cb238dc5b5d6366244e0e0776b450                    2017-03-01  \n",
       "68d081753ad4fe22fc4d410a9eb1ca01                    2017-03-27  \n",
       "0bf35cac6cc7327065da879e2d90fae8                    2017-03-22  \n",
       "d5de688c321096d15508faae67a27051                    2017-03-16  \n",
       "a3d3c38e58b9d2dfb9207cab690b6310                    2017-03-20  \n",
       "07a2a7e0f63fd8cb757ed77d4245623c                    2017-03-29  \n",
       "f67cd1a215aae2a1074638bbd35a223a                    2017-03-21  \n",
       "d85919cb3c0529589c6fa617f5f43281                    2017-03-23  \n",
       "74bebaf46603f9340e3b50c6b086f992                    2017-03-31  "
      ]
     },
     "execution_count": 1152,
     "metadata": {},
     "output_type": "execute_result"
    }
   ],
   "source": [
    "df_orders_checking_missed_for_fillna"
   ]
  },
  {
   "cell_type": "code",
   "execution_count": 1153,
   "id": "3ba22a7d",
   "metadata": {},
   "outputs": [],
   "source": [
    "df_customers_with_purch_date = (df_customers_with_purch_date.set_index('customer_id')\n",
    "                                .fillna(df_orders_checking_missed_for_fillna).reset_index())"
   ]
  },
  {
   "cell_type": "code",
   "execution_count": 1154,
   "id": "50898b7f",
   "metadata": {},
   "outputs": [
    {
     "data": {
      "text/html": [
       "<div>\n",
       "<style scoped>\n",
       "    .dataframe tbody tr th:only-of-type {\n",
       "        vertical-align: middle;\n",
       "    }\n",
       "\n",
       "    .dataframe tbody tr th {\n",
       "        vertical-align: top;\n",
       "    }\n",
       "\n",
       "    .dataframe thead th {\n",
       "        text-align: right;\n",
       "    }\n",
       "</style>\n",
       "<table border=\"1\" class=\"dataframe\">\n",
       "  <thead>\n",
       "    <tr style=\"text-align: right;\">\n",
       "      <th></th>\n",
       "      <th>customer_id</th>\n",
       "      <th>customer_unique_id</th>\n",
       "      <th>order_approved_at</th>\n",
       "    </tr>\n",
       "  </thead>\n",
       "  <tbody>\n",
       "    <tr>\n",
       "      <th>0</th>\n",
       "      <td>06b8999e2fba1a1fbc88172c00ba8bc7</td>\n",
       "      <td>861eff4711a542e4b93843c6dd7febb0</td>\n",
       "      <td>2017-05-16 15:22:12</td>\n",
       "    </tr>\n",
       "    <tr>\n",
       "      <th>1</th>\n",
       "      <td>18955e83d337fd6b2def6b18a428ac77</td>\n",
       "      <td>290c77bc529b7ac935b93aa66c333dc3</td>\n",
       "      <td>2018-01-12 20:58:32</td>\n",
       "    </tr>\n",
       "    <tr>\n",
       "      <th>2</th>\n",
       "      <td>4e7b3e00288586ebd08712fdd0374a03</td>\n",
       "      <td>060e732b5b29e8181a18229c7b0b2b5e</td>\n",
       "      <td>2018-05-20 16:19:10</td>\n",
       "    </tr>\n",
       "    <tr>\n",
       "      <th>3</th>\n",
       "      <td>b2b6027bc5c5109e529d4dc6358b12c3</td>\n",
       "      <td>259dac757896d24d7702b9acbbff3f3c</td>\n",
       "      <td>2018-03-13 17:29:19</td>\n",
       "    </tr>\n",
       "    <tr>\n",
       "      <th>4</th>\n",
       "      <td>4f2d8ab171c80ec8364f7c12e35b23ad</td>\n",
       "      <td>345ecd01c38d18a9036ed96c73b8d066</td>\n",
       "      <td>2018-07-29 10:10:09</td>\n",
       "    </tr>\n",
       "  </tbody>\n",
       "</table>\n",
       "</div>"
      ],
      "text/plain": [
       "                        customer_id                customer_unique_id  \\\n",
       "0  06b8999e2fba1a1fbc88172c00ba8bc7  861eff4711a542e4b93843c6dd7febb0   \n",
       "1  18955e83d337fd6b2def6b18a428ac77  290c77bc529b7ac935b93aa66c333dc3   \n",
       "2  4e7b3e00288586ebd08712fdd0374a03  060e732b5b29e8181a18229c7b0b2b5e   \n",
       "3  b2b6027bc5c5109e529d4dc6358b12c3  259dac757896d24d7702b9acbbff3f3c   \n",
       "4  4f2d8ab171c80ec8364f7c12e35b23ad  345ecd01c38d18a9036ed96c73b8d066   \n",
       "\n",
       "    order_approved_at  \n",
       "0 2017-05-16 15:22:12  \n",
       "1 2018-01-12 20:58:32  \n",
       "2 2018-05-20 16:19:10  \n",
       "3 2018-03-13 17:29:19  \n",
       "4 2018-07-29 10:10:09  "
      ]
     },
     "execution_count": 1154,
     "metadata": {},
     "output_type": "execute_result"
    }
   ],
   "source": [
    "df_customers_with_purch_date.head()"
   ]
  },
  {
   "cell_type": "code",
   "execution_count": 1155,
   "id": "a5b56242",
   "metadata": {},
   "outputs": [
    {
     "data": {
      "text/plain": [
       "customer_id           0\n",
       "customer_unique_id    0\n",
       "order_approved_at     0\n",
       "dtype: int64"
      ]
     },
     "execution_count": 1155,
     "metadata": {},
     "output_type": "execute_result"
    }
   ],
   "source": [
    "df_customers_with_purch_date.isna().sum()"
   ]
  },
  {
   "cell_type": "markdown",
   "id": "8411d101",
   "metadata": {},
   "source": [
    "Определим, к какой когорте относится каждый пользователь. Для этого отсортируем данные по order_approved_at по возрастанию и затем удалим все строки с повторами в колонке customer_unique_id, оставляя только самое первое появление."
   ]
  },
  {
   "cell_type": "code",
   "execution_count": 1156,
   "id": "489fb3dc",
   "metadata": {},
   "outputs": [],
   "source": [
    "df_customers_cohort = (df_customers_with_purch_date[['customer_unique_id', 'order_approved_at']]\n",
    "                       .sort_values('order_approved_at')\n",
    "                       .drop_duplicates(subset=['customer_unique_id'], keep='first'))"
   ]
  },
  {
   "cell_type": "code",
   "execution_count": 1157,
   "id": "916a76dd",
   "metadata": {},
   "outputs": [
    {
     "data": {
      "text/html": [
       "<div>\n",
       "<style scoped>\n",
       "    .dataframe tbody tr th:only-of-type {\n",
       "        vertical-align: middle;\n",
       "    }\n",
       "\n",
       "    .dataframe tbody tr th {\n",
       "        vertical-align: top;\n",
       "    }\n",
       "\n",
       "    .dataframe thead th {\n",
       "        text-align: right;\n",
       "    }\n",
       "</style>\n",
       "<table border=\"1\" class=\"dataframe\">\n",
       "  <thead>\n",
       "    <tr style=\"text-align: right;\">\n",
       "      <th></th>\n",
       "      <th>customer_unique_id</th>\n",
       "      <th>order_approved_at</th>\n",
       "    </tr>\n",
       "  </thead>\n",
       "  <tbody>\n",
       "    <tr>\n",
       "      <th>20915</th>\n",
       "      <td>830d5b7aaa3b6f1e9ad63703bec97d23</td>\n",
       "      <td>2016-09-15 12:16:38</td>\n",
       "    </tr>\n",
       "    <tr>\n",
       "      <th>17357</th>\n",
       "      <td>14359ea0c7a105749c0a56478825b015</td>\n",
       "      <td>2016-10-04 09:43:32</td>\n",
       "    </tr>\n",
       "    <tr>\n",
       "      <th>59049</th>\n",
       "      <td>b8b8726af116a5cfb35b0315ecef9172</td>\n",
       "      <td>2016-10-04 10:18:57</td>\n",
       "    </tr>\n",
       "    <tr>\n",
       "      <th>19678</th>\n",
       "      <td>87776adb449c551e74c13fc34f036105</td>\n",
       "      <td>2016-10-04 10:19:23</td>\n",
       "    </tr>\n",
       "    <tr>\n",
       "      <th>21583</th>\n",
       "      <td>88bc832f104b6dd684a17dbb1b76e778</td>\n",
       "      <td>2016-10-04 10:25:46</td>\n",
       "    </tr>\n",
       "  </tbody>\n",
       "</table>\n",
       "</div>"
      ],
      "text/plain": [
       "                     customer_unique_id   order_approved_at\n",
       "20915  830d5b7aaa3b6f1e9ad63703bec97d23 2016-09-15 12:16:38\n",
       "17357  14359ea0c7a105749c0a56478825b015 2016-10-04 09:43:32\n",
       "59049  b8b8726af116a5cfb35b0315ecef9172 2016-10-04 10:18:57\n",
       "19678  87776adb449c551e74c13fc34f036105 2016-10-04 10:19:23\n",
       "21583  88bc832f104b6dd684a17dbb1b76e778 2016-10-04 10:25:46"
      ]
     },
     "execution_count": 1157,
     "metadata": {},
     "output_type": "execute_result"
    }
   ],
   "source": [
    "df_customers_cohort.head()"
   ]
  },
  {
   "cell_type": "code",
   "execution_count": 1158,
   "id": "31d6ea19",
   "metadata": {},
   "outputs": [],
   "source": [
    "df_customers_cohort.loc[:, 'order_approved_at'] = (df_customers_cohort\n",
    "                                                   .order_approved_at.dt.strftime('%Y-%m'))"
   ]
  },
  {
   "cell_type": "code",
   "execution_count": 1159,
   "id": "9db9a741",
   "metadata": {},
   "outputs": [],
   "source": [
    "df_customers_cohort = df_customers_cohort.rename(columns={'order_approved_at': 'cohort'})"
   ]
  },
  {
   "cell_type": "markdown",
   "id": "b32ea9bb",
   "metadata": {},
   "source": [
    "Получаем таблице с информацией о том, к какой горте относится каждый пользователь."
   ]
  },
  {
   "cell_type": "code",
   "execution_count": 1160,
   "id": "df1802c5",
   "metadata": {},
   "outputs": [
    {
     "data": {
      "text/html": [
       "<div>\n",
       "<style scoped>\n",
       "    .dataframe tbody tr th:only-of-type {\n",
       "        vertical-align: middle;\n",
       "    }\n",
       "\n",
       "    .dataframe tbody tr th {\n",
       "        vertical-align: top;\n",
       "    }\n",
       "\n",
       "    .dataframe thead th {\n",
       "        text-align: right;\n",
       "    }\n",
       "</style>\n",
       "<table border=\"1\" class=\"dataframe\">\n",
       "  <thead>\n",
       "    <tr style=\"text-align: right;\">\n",
       "      <th></th>\n",
       "      <th>customer_unique_id</th>\n",
       "      <th>cohort</th>\n",
       "    </tr>\n",
       "  </thead>\n",
       "  <tbody>\n",
       "    <tr>\n",
       "      <th>20915</th>\n",
       "      <td>830d5b7aaa3b6f1e9ad63703bec97d23</td>\n",
       "      <td>2016-09-01</td>\n",
       "    </tr>\n",
       "    <tr>\n",
       "      <th>17357</th>\n",
       "      <td>14359ea0c7a105749c0a56478825b015</td>\n",
       "      <td>2016-10-01</td>\n",
       "    </tr>\n",
       "    <tr>\n",
       "      <th>59049</th>\n",
       "      <td>b8b8726af116a5cfb35b0315ecef9172</td>\n",
       "      <td>2016-10-01</td>\n",
       "    </tr>\n",
       "    <tr>\n",
       "      <th>19678</th>\n",
       "      <td>87776adb449c551e74c13fc34f036105</td>\n",
       "      <td>2016-10-01</td>\n",
       "    </tr>\n",
       "    <tr>\n",
       "      <th>21583</th>\n",
       "      <td>88bc832f104b6dd684a17dbb1b76e778</td>\n",
       "      <td>2016-10-01</td>\n",
       "    </tr>\n",
       "  </tbody>\n",
       "</table>\n",
       "</div>"
      ],
      "text/plain": [
       "                     customer_unique_id     cohort\n",
       "20915  830d5b7aaa3b6f1e9ad63703bec97d23 2016-09-01\n",
       "17357  14359ea0c7a105749c0a56478825b015 2016-10-01\n",
       "59049  b8b8726af116a5cfb35b0315ecef9172 2016-10-01\n",
       "19678  87776adb449c551e74c13fc34f036105 2016-10-01\n",
       "21583  88bc832f104b6dd684a17dbb1b76e778 2016-10-01"
      ]
     },
     "execution_count": 1160,
     "metadata": {},
     "output_type": "execute_result"
    }
   ],
   "source": [
    "df_customers_cohort.head()"
   ]
  },
  {
   "cell_type": "code",
   "execution_count": 1161,
   "id": "44661ad2",
   "metadata": {},
   "outputs": [
    {
     "data": {
      "text/plain": [
       "(95116, 2)"
      ]
     },
     "execution_count": 1161,
     "metadata": {},
     "output_type": "execute_result"
    }
   ],
   "source": [
    "df_customers_cohort.shape"
   ]
  },
  {
   "cell_type": "code",
   "execution_count": 1162,
   "id": "349135b9",
   "metadata": {},
   "outputs": [
    {
     "data": {
      "text/plain": [
       "customer_unique_id            object\n",
       "cohort                datetime64[ns]\n",
       "dtype: object"
      ]
     },
     "execution_count": 1162,
     "metadata": {},
     "output_type": "execute_result"
    }
   ],
   "source": [
    "df_customers_cohort.dtypes"
   ]
  },
  {
   "cell_type": "code",
   "execution_count": 1163,
   "id": "c5275ab0",
   "metadata": {},
   "outputs": [],
   "source": [
    "df_customers_with_purch_date_and_cohort = (df_customers_with_purch_date\n",
    "                                           .merge(df_customers_cohort, on='customer_unique_id', how='left'))"
   ]
  },
  {
   "cell_type": "code",
   "execution_count": 1164,
   "id": "3062a3a5",
   "metadata": {},
   "outputs": [
    {
     "data": {
      "text/html": [
       "<div>\n",
       "<style scoped>\n",
       "    .dataframe tbody tr th:only-of-type {\n",
       "        vertical-align: middle;\n",
       "    }\n",
       "\n",
       "    .dataframe tbody tr th {\n",
       "        vertical-align: top;\n",
       "    }\n",
       "\n",
       "    .dataframe thead th {\n",
       "        text-align: right;\n",
       "    }\n",
       "</style>\n",
       "<table border=\"1\" class=\"dataframe\">\n",
       "  <thead>\n",
       "    <tr style=\"text-align: right;\">\n",
       "      <th></th>\n",
       "      <th>customer_id</th>\n",
       "      <th>customer_unique_id</th>\n",
       "      <th>order_approved_at</th>\n",
       "      <th>cohort</th>\n",
       "    </tr>\n",
       "  </thead>\n",
       "  <tbody>\n",
       "    <tr>\n",
       "      <th>0</th>\n",
       "      <td>06b8999e2fba1a1fbc88172c00ba8bc7</td>\n",
       "      <td>861eff4711a542e4b93843c6dd7febb0</td>\n",
       "      <td>2017-05-16 15:22:12</td>\n",
       "      <td>2017-05-01</td>\n",
       "    </tr>\n",
       "    <tr>\n",
       "      <th>1</th>\n",
       "      <td>18955e83d337fd6b2def6b18a428ac77</td>\n",
       "      <td>290c77bc529b7ac935b93aa66c333dc3</td>\n",
       "      <td>2018-01-12 20:58:32</td>\n",
       "      <td>2018-01-01</td>\n",
       "    </tr>\n",
       "    <tr>\n",
       "      <th>2</th>\n",
       "      <td>4e7b3e00288586ebd08712fdd0374a03</td>\n",
       "      <td>060e732b5b29e8181a18229c7b0b2b5e</td>\n",
       "      <td>2018-05-20 16:19:10</td>\n",
       "      <td>2018-05-01</td>\n",
       "    </tr>\n",
       "    <tr>\n",
       "      <th>3</th>\n",
       "      <td>b2b6027bc5c5109e529d4dc6358b12c3</td>\n",
       "      <td>259dac757896d24d7702b9acbbff3f3c</td>\n",
       "      <td>2018-03-13 17:29:19</td>\n",
       "      <td>2018-03-01</td>\n",
       "    </tr>\n",
       "    <tr>\n",
       "      <th>4</th>\n",
       "      <td>4f2d8ab171c80ec8364f7c12e35b23ad</td>\n",
       "      <td>345ecd01c38d18a9036ed96c73b8d066</td>\n",
       "      <td>2018-07-29 10:10:09</td>\n",
       "      <td>2018-07-01</td>\n",
       "    </tr>\n",
       "  </tbody>\n",
       "</table>\n",
       "</div>"
      ],
      "text/plain": [
       "                        customer_id                customer_unique_id  \\\n",
       "0  06b8999e2fba1a1fbc88172c00ba8bc7  861eff4711a542e4b93843c6dd7febb0   \n",
       "1  18955e83d337fd6b2def6b18a428ac77  290c77bc529b7ac935b93aa66c333dc3   \n",
       "2  4e7b3e00288586ebd08712fdd0374a03  060e732b5b29e8181a18229c7b0b2b5e   \n",
       "3  b2b6027bc5c5109e529d4dc6358b12c3  259dac757896d24d7702b9acbbff3f3c   \n",
       "4  4f2d8ab171c80ec8364f7c12e35b23ad  345ecd01c38d18a9036ed96c73b8d066   \n",
       "\n",
       "    order_approved_at     cohort  \n",
       "0 2017-05-16 15:22:12 2017-05-01  \n",
       "1 2018-01-12 20:58:32 2018-01-01  \n",
       "2 2018-05-20 16:19:10 2018-05-01  \n",
       "3 2018-03-13 17:29:19 2018-03-01  \n",
       "4 2018-07-29 10:10:09 2018-07-01  "
      ]
     },
     "execution_count": 1164,
     "metadata": {},
     "output_type": "execute_result"
    }
   ],
   "source": [
    "df_customers_with_purch_date_and_cohort.head()"
   ]
  },
  {
   "cell_type": "code",
   "execution_count": 1165,
   "id": "62b805a3",
   "metadata": {},
   "outputs": [
    {
     "data": {
      "text/plain": [
       "(98346, 4)"
      ]
     },
     "execution_count": 1165,
     "metadata": {},
     "output_type": "execute_result"
    }
   ],
   "source": [
    "df_customers_with_purch_date_and_cohort.shape"
   ]
  },
  {
   "cell_type": "markdown",
   "id": "62a03569",
   "metadata": {},
   "source": [
    "Проверим, что когорты были присвоены верно."
   ]
  },
  {
   "cell_type": "code",
   "execution_count": 1166,
   "id": "483968e1",
   "metadata": {},
   "outputs": [
    {
     "data": {
      "text/html": [
       "<div>\n",
       "<style scoped>\n",
       "    .dataframe tbody tr th:only-of-type {\n",
       "        vertical-align: middle;\n",
       "    }\n",
       "\n",
       "    .dataframe tbody tr th {\n",
       "        vertical-align: top;\n",
       "    }\n",
       "\n",
       "    .dataframe thead th {\n",
       "        text-align: right;\n",
       "    }\n",
       "</style>\n",
       "<table border=\"1\" class=\"dataframe\">\n",
       "  <thead>\n",
       "    <tr style=\"text-align: right;\">\n",
       "      <th></th>\n",
       "      <th>customer_id</th>\n",
       "      <th>customer_unique_id</th>\n",
       "      <th>order_approved_at</th>\n",
       "      <th>cohort</th>\n",
       "    </tr>\n",
       "  </thead>\n",
       "  <tbody>\n",
       "    <tr>\n",
       "      <th>19825</th>\n",
       "      <td>1b4a75b3478138e99902678254b260f4</td>\n",
       "      <td>004288347e5e88a27ded2bb23747066c</td>\n",
       "      <td>2017-07-27 14:25:14</td>\n",
       "      <td>2017-07-01</td>\n",
       "    </tr>\n",
       "    <tr>\n",
       "      <th>21848</th>\n",
       "      <td>f6efe5d5c7b85e12355f9d5c3db46da2</td>\n",
       "      <td>004288347e5e88a27ded2bb23747066c</td>\n",
       "      <td>2018-01-14 07:49:28</td>\n",
       "      <td>2017-07-01</td>\n",
       "    </tr>\n",
       "    <tr>\n",
       "      <th>71649</th>\n",
       "      <td>49cf243e0d353cd418ca77868e24a670</td>\n",
       "      <td>004b45ec5c64187465168251cd1c9c2f</td>\n",
       "      <td>2017-09-05 04:30:20</td>\n",
       "      <td>2017-09-01</td>\n",
       "    </tr>\n",
       "    <tr>\n",
       "      <th>86038</th>\n",
       "      <td>d95f60d70d9ea9a7fe37c53c931940bb</td>\n",
       "      <td>004b45ec5c64187465168251cd1c9c2f</td>\n",
       "      <td>2018-05-29 03:31:20</td>\n",
       "      <td>2017-09-01</td>\n",
       "    </tr>\n",
       "    <tr>\n",
       "      <th>60730</th>\n",
       "      <td>f530197ea86ced9488a03d055e118ebf</td>\n",
       "      <td>0058f300f57d7b93c477a131a59b36c3</td>\n",
       "      <td>2018-02-19 17:20:52</td>\n",
       "      <td>2018-02-01</td>\n",
       "    </tr>\n",
       "    <tr>\n",
       "      <th>35888</th>\n",
       "      <td>8ac44e9c15d396b8c3c7cbab0fff4536</td>\n",
       "      <td>0058f300f57d7b93c477a131a59b36c3</td>\n",
       "      <td>2018-03-22 18:27:58</td>\n",
       "      <td>2018-02-01</td>\n",
       "    </tr>\n",
       "    <tr>\n",
       "      <th>54282</th>\n",
       "      <td>876356df457f952458a764348e1858bc</td>\n",
       "      <td>00a39521eb40f7012db50455bf083460</td>\n",
       "      <td>2018-05-23 20:35:15</td>\n",
       "      <td>2018-05-01</td>\n",
       "    </tr>\n",
       "    <tr>\n",
       "      <th>86436</th>\n",
       "      <td>cbb68c721ba9ddb30d8a490cc1897fa1</td>\n",
       "      <td>00a39521eb40f7012db50455bf083460</td>\n",
       "      <td>2018-06-03 10:50:00</td>\n",
       "      <td>2018-05-01</td>\n",
       "    </tr>\n",
       "    <tr>\n",
       "      <th>8864</th>\n",
       "      <td>c0a44bf37d5601228051fc07852f951f</td>\n",
       "      <td>00cc12a6d8b578b8ebd21ea4e2ae8b27</td>\n",
       "      <td>2017-03-21 19:25:22</td>\n",
       "      <td>2017-03-01</td>\n",
       "    </tr>\n",
       "    <tr>\n",
       "      <th>659</th>\n",
       "      <td>102fc0966044243157bb81e4ee0a251e</td>\n",
       "      <td>00cc12a6d8b578b8ebd21ea4e2ae8b27</td>\n",
       "      <td>2017-03-21 19:25:23</td>\n",
       "      <td>2017-03-01</td>\n",
       "    </tr>\n",
       "    <tr>\n",
       "      <th>57936</th>\n",
       "      <td>bc4011fd2a5106761b5ba943c8fbd1b2</td>\n",
       "      <td>011575986092c30523ecb71ff10cb473</td>\n",
       "      <td>2018-02-17 16:06:43</td>\n",
       "      <td>2018-02-01</td>\n",
       "    </tr>\n",
       "    <tr>\n",
       "      <th>3979</th>\n",
       "      <td>71c7265705afd84d030d6adc3122d8dd</td>\n",
       "      <td>011575986092c30523ecb71ff10cb473</td>\n",
       "      <td>2018-04-18 22:11:01</td>\n",
       "      <td>2018-02-01</td>\n",
       "    </tr>\n",
       "    <tr>\n",
       "      <th>95428</th>\n",
       "      <td>7e16c78f08de9b2ec5b9eff657934019</td>\n",
       "      <td>011b4adcd54683b480c4d841250a987f</td>\n",
       "      <td>2017-08-22 13:08:00</td>\n",
       "      <td>2017-08-01</td>\n",
       "    </tr>\n",
       "    <tr>\n",
       "      <th>89150</th>\n",
       "      <td>3db635076c27c1d6a8618bc5a6e70ad2</td>\n",
       "      <td>011b4adcd54683b480c4d841250a987f</td>\n",
       "      <td>2018-02-15 12:40:28</td>\n",
       "      <td>2017-08-01</td>\n",
       "    </tr>\n",
       "    <tr>\n",
       "      <th>53453</th>\n",
       "      <td>e024c1515b1062b1e7e613f840c35ba3</td>\n",
       "      <td>012452d40dafae4df401bced74cdb490</td>\n",
       "      <td>2017-06-18 23:06:00</td>\n",
       "      <td>2017-06-01</td>\n",
       "    </tr>\n",
       "    <tr>\n",
       "      <th>44835</th>\n",
       "      <td>f8e05a045de09e7855c9df3bb8815e0e</td>\n",
       "      <td>012452d40dafae4df401bced74cdb490</td>\n",
       "      <td>2018-05-14 12:40:00</td>\n",
       "      <td>2017-06-01</td>\n",
       "    </tr>\n",
       "    <tr>\n",
       "      <th>51965</th>\n",
       "      <td>c276d4ce04e35d109575d3282cd2bd20</td>\n",
       "      <td>012a218df8995d3ec3bb221828360c86</td>\n",
       "      <td>2018-05-08 20:15:40</td>\n",
       "      <td>2018-05-01</td>\n",
       "    </tr>\n",
       "    <tr>\n",
       "      <th>12830</th>\n",
       "      <td>e4bee874d6368c127e7ca2a6fd7545ff</td>\n",
       "      <td>012a218df8995d3ec3bb221828360c86</td>\n",
       "      <td>2018-06-18 13:39:32</td>\n",
       "      <td>2018-05-01</td>\n",
       "    </tr>\n",
       "    <tr>\n",
       "      <th>57671</th>\n",
       "      <td>d4f243fba8f7e8213c43f98eb04b6213</td>\n",
       "      <td>013ef03e0f3f408dd9bf555e4edcdc0a</td>\n",
       "      <td>2018-06-21 05:16:24</td>\n",
       "      <td>2018-06-01</td>\n",
       "    </tr>\n",
       "    <tr>\n",
       "      <th>50729</th>\n",
       "      <td>450a869eb52446baa38f4beeecbc5843</td>\n",
       "      <td>013ef03e0f3f408dd9bf555e4edcdc0a</td>\n",
       "      <td>2018-07-20 04:25:10</td>\n",
       "      <td>2018-06-01</td>\n",
       "    </tr>\n",
       "    <tr>\n",
       "      <th>46923</th>\n",
       "      <td>94074895c5b185e9642b1a66a3ef05a7</td>\n",
       "      <td>013f4353d26bb05dc6652f1269458d8d</td>\n",
       "      <td>2017-11-24 15:53:40</td>\n",
       "      <td>2017-11-01</td>\n",
       "    </tr>\n",
       "    <tr>\n",
       "      <th>70947</th>\n",
       "      <td>13e7480f7e6534616eca292f8267ef56</td>\n",
       "      <td>013f4353d26bb05dc6652f1269458d8d</td>\n",
       "      <td>2017-11-28 13:51:05</td>\n",
       "      <td>2017-11-01</td>\n",
       "    </tr>\n",
       "    <tr>\n",
       "      <th>19506</th>\n",
       "      <td>4aeab499f910ba9d5d5c8ae745546b7e</td>\n",
       "      <td>015557c9912277312b9073947804a7ba</td>\n",
       "      <td>2017-03-25 02:33:46</td>\n",
       "      <td>2017-03-01</td>\n",
       "    </tr>\n",
       "    <tr>\n",
       "      <th>85646</th>\n",
       "      <td>0e94fdb092e81e1a604cca2ddbad0825</td>\n",
       "      <td>015557c9912277312b9073947804a7ba</td>\n",
       "      <td>2017-05-01 15:02:20</td>\n",
       "      <td>2017-03-01</td>\n",
       "    </tr>\n",
       "    <tr>\n",
       "      <th>90707</th>\n",
       "      <td>483468a56a54dbbbf8f2b2354cc8a729</td>\n",
       "      <td>0178b244a5c281fb2ade54038dd4b161</td>\n",
       "      <td>2017-05-10 20:15:14</td>\n",
       "      <td>2017-05-01</td>\n",
       "    </tr>\n",
       "    <tr>\n",
       "      <th>56589</th>\n",
       "      <td>ea6ba2b2e27f7efea73bdeab7fd6e4a0</td>\n",
       "      <td>0178b244a5c281fb2ade54038dd4b161</td>\n",
       "      <td>2018-07-30 16:05:13</td>\n",
       "      <td>2017-05-01</td>\n",
       "    </tr>\n",
       "    <tr>\n",
       "      <th>81149</th>\n",
       "      <td>7f6a3aaafc26964ec75650f5b487de99</td>\n",
       "      <td>01886ef98f995e4f2dd75a1d04c97397</td>\n",
       "      <td>2017-11-27 22:37:24</td>\n",
       "      <td>2017-11-01</td>\n",
       "    </tr>\n",
       "    <tr>\n",
       "      <th>81355</th>\n",
       "      <td>306e7f5a781430174600acfec52a1843</td>\n",
       "      <td>01886ef98f995e4f2dd75a1d04c97397</td>\n",
       "      <td>2018-03-09 21:10:31</td>\n",
       "      <td>2017-11-01</td>\n",
       "    </tr>\n",
       "    <tr>\n",
       "      <th>64085</th>\n",
       "      <td>b98e0d5aca458a26a6ff30fee0416ca2</td>\n",
       "      <td>018b5a7502c30eb5f230f1b4eb23a156</td>\n",
       "      <td>2017-05-19 02:25:40</td>\n",
       "      <td>2017-05-01</td>\n",
       "    </tr>\n",
       "    <tr>\n",
       "      <th>81399</th>\n",
       "      <td>026ca919d538ee454a6d43fc8bd01de0</td>\n",
       "      <td>018b5a7502c30eb5f230f1b4eb23a156</td>\n",
       "      <td>2017-08-21 15:55:20</td>\n",
       "      <td>2017-05-01</td>\n",
       "    </tr>\n",
       "    <tr>\n",
       "      <th>75826</th>\n",
       "      <td>6aa38fdee597dd9814ab987b44cbda55</td>\n",
       "      <td>01a22e2079ea71e17313b88e5811e54a</td>\n",
       "      <td>2018-01-22 22:56:04</td>\n",
       "      <td>2018-01-01</td>\n",
       "    </tr>\n",
       "    <tr>\n",
       "      <th>20730</th>\n",
       "      <td>e98d4459ce911f6ae3aa3c9c0f3d94bd</td>\n",
       "      <td>01a22e2079ea71e17313b88e5811e54a</td>\n",
       "      <td>2018-01-22 23:38:23</td>\n",
       "      <td>2018-01-01</td>\n",
       "    </tr>\n",
       "    <tr>\n",
       "      <th>21436</th>\n",
       "      <td>5586f979cd49ae9f5a78c57f6eccd8cd</td>\n",
       "      <td>01c289bb06354cdc7e6549570f20ada4</td>\n",
       "      <td>2017-06-03 19:25:17</td>\n",
       "      <td>2017-06-01</td>\n",
       "    </tr>\n",
       "    <tr>\n",
       "      <th>40578</th>\n",
       "      <td>2c2917bd12c5663dde831f0a22df9caa</td>\n",
       "      <td>01c289bb06354cdc7e6549570f20ada4</td>\n",
       "      <td>2017-12-26 21:27:55</td>\n",
       "      <td>2017-06-01</td>\n",
       "    </tr>\n",
       "    <tr>\n",
       "      <th>38822</th>\n",
       "      <td>c69c846746a623c12b98b6162c3dd725</td>\n",
       "      <td>01ea7dfdac01a4e8fbe2902b73510b20</td>\n",
       "      <td>2018-02-09 17:50:36</td>\n",
       "      <td>2018-02-01</td>\n",
       "    </tr>\n",
       "    <tr>\n",
       "      <th>18973</th>\n",
       "      <td>aa5ca8afef8fe0f0ef822a9da12d2cf1</td>\n",
       "      <td>01ea7dfdac01a4e8fbe2902b73510b20</td>\n",
       "      <td>2018-02-10 07:08:42</td>\n",
       "      <td>2018-02-01</td>\n",
       "    </tr>\n",
       "    <tr>\n",
       "      <th>48546</th>\n",
       "      <td>85f6549a336f5dc9e1cd95fc23d2b60b</td>\n",
       "      <td>01f2285f85a1c603eb7ef755ad311769</td>\n",
       "      <td>2017-04-29 14:50:17</td>\n",
       "      <td>2017-04-01</td>\n",
       "    </tr>\n",
       "    <tr>\n",
       "      <th>92801</th>\n",
       "      <td>7d5e98a2e485f0735beee6e2d1c43e0e</td>\n",
       "      <td>01f2285f85a1c603eb7ef755ad311769</td>\n",
       "      <td>2018-05-31 15:12:10</td>\n",
       "      <td>2017-04-01</td>\n",
       "    </tr>\n",
       "    <tr>\n",
       "      <th>27749</th>\n",
       "      <td>7ff28e5763744b926226d1e9ec551062</td>\n",
       "      <td>02168ea18740a0fdaaa15f11bebba5db</td>\n",
       "      <td>2017-08-20 21:15:09</td>\n",
       "      <td>2017-08-01</td>\n",
       "    </tr>\n",
       "    <tr>\n",
       "      <th>80221</th>\n",
       "      <td>dcf9da02825b471237d9f83bd0c39fe6</td>\n",
       "      <td>02168ea18740a0fdaaa15f11bebba5db</td>\n",
       "      <td>2017-10-09 22:14:24</td>\n",
       "      <td>2017-08-01</td>\n",
       "    </tr>\n",
       "    <tr>\n",
       "      <th>72221</th>\n",
       "      <td>216360d7df0e08d493f369b39a5fb69a</td>\n",
       "      <td>0241fa2e9adf0576cb0f845377d05c03</td>\n",
       "      <td>2018-06-21 15:59:52</td>\n",
       "      <td>2018-06-01</td>\n",
       "    </tr>\n",
       "    <tr>\n",
       "      <th>69666</th>\n",
       "      <td>e22aed657258e707c7bfdaf734971ba0</td>\n",
       "      <td>0241fa2e9adf0576cb0f845377d05c03</td>\n",
       "      <td>2018-07-25 21:15:22</td>\n",
       "      <td>2018-06-01</td>\n",
       "    </tr>\n",
       "    <tr>\n",
       "      <th>40003</th>\n",
       "      <td>5d146b89f4c6cca290b3470a4bb12bcf</td>\n",
       "      <td>027803eb28cc01fbdf5da72b109fabee</td>\n",
       "      <td>2017-10-17 12:06:54</td>\n",
       "      <td>2017-10-01</td>\n",
       "    </tr>\n",
       "    <tr>\n",
       "      <th>8789</th>\n",
       "      <td>faba85ebc5cfe2a7bb060d3287493701</td>\n",
       "      <td>027803eb28cc01fbdf5da72b109fabee</td>\n",
       "      <td>2017-10-17 12:07:04</td>\n",
       "      <td>2017-10-01</td>\n",
       "    </tr>\n",
       "    <tr>\n",
       "      <th>38278</th>\n",
       "      <td>a382d42829c2c119982c1eb049e6a8bf</td>\n",
       "      <td>029b457bd01199c39136f89e0eddcd3a</td>\n",
       "      <td>2017-05-16 03:45:40</td>\n",
       "      <td>2017-05-01</td>\n",
       "    </tr>\n",
       "    <tr>\n",
       "      <th>1211</th>\n",
       "      <td>460120cb864985d447516e2a69e244c0</td>\n",
       "      <td>029b457bd01199c39136f89e0eddcd3a</td>\n",
       "      <td>2018-01-06 02:27:48</td>\n",
       "      <td>2017-05-01</td>\n",
       "    </tr>\n",
       "    <tr>\n",
       "      <th>96671</th>\n",
       "      <td>f227e7071caf55fbd19620ad628aa80e</td>\n",
       "      <td>02b20b7c813efede140142ac610e36dc</td>\n",
       "      <td>2018-03-19 21:09:09</td>\n",
       "      <td>2018-03-01</td>\n",
       "    </tr>\n",
       "    <tr>\n",
       "      <th>9176</th>\n",
       "      <td>c2dcd18bfda62523dbd2c53ead8b5fe8</td>\n",
       "      <td>02b20b7c813efede140142ac610e36dc</td>\n",
       "      <td>2018-03-19 21:09:12</td>\n",
       "      <td>2018-03-01</td>\n",
       "    </tr>\n",
       "    <tr>\n",
       "      <th>10010</th>\n",
       "      <td>952e1e91df6ac8e016c891075ec23aa0</td>\n",
       "      <td>02e4c56fefa30628768ffe326d332e2f</td>\n",
       "      <td>2017-03-29 19:22:34</td>\n",
       "      <td>2017-03-01</td>\n",
       "    </tr>\n",
       "    <tr>\n",
       "      <th>43232</th>\n",
       "      <td>9c24c996759c0865e07e4fe69506e151</td>\n",
       "      <td>02e4c56fefa30628768ffe326d332e2f</td>\n",
       "      <td>2018-01-11 12:15:24</td>\n",
       "      <td>2017-03-01</td>\n",
       "    </tr>\n",
       "  </tbody>\n",
       "</table>\n",
       "</div>"
      ],
      "text/plain": [
       "                            customer_id                customer_unique_id  \\\n",
       "19825  1b4a75b3478138e99902678254b260f4  004288347e5e88a27ded2bb23747066c   \n",
       "21848  f6efe5d5c7b85e12355f9d5c3db46da2  004288347e5e88a27ded2bb23747066c   \n",
       "71649  49cf243e0d353cd418ca77868e24a670  004b45ec5c64187465168251cd1c9c2f   \n",
       "86038  d95f60d70d9ea9a7fe37c53c931940bb  004b45ec5c64187465168251cd1c9c2f   \n",
       "60730  f530197ea86ced9488a03d055e118ebf  0058f300f57d7b93c477a131a59b36c3   \n",
       "35888  8ac44e9c15d396b8c3c7cbab0fff4536  0058f300f57d7b93c477a131a59b36c3   \n",
       "54282  876356df457f952458a764348e1858bc  00a39521eb40f7012db50455bf083460   \n",
       "86436  cbb68c721ba9ddb30d8a490cc1897fa1  00a39521eb40f7012db50455bf083460   \n",
       "8864   c0a44bf37d5601228051fc07852f951f  00cc12a6d8b578b8ebd21ea4e2ae8b27   \n",
       "659    102fc0966044243157bb81e4ee0a251e  00cc12a6d8b578b8ebd21ea4e2ae8b27   \n",
       "57936  bc4011fd2a5106761b5ba943c8fbd1b2  011575986092c30523ecb71ff10cb473   \n",
       "3979   71c7265705afd84d030d6adc3122d8dd  011575986092c30523ecb71ff10cb473   \n",
       "95428  7e16c78f08de9b2ec5b9eff657934019  011b4adcd54683b480c4d841250a987f   \n",
       "89150  3db635076c27c1d6a8618bc5a6e70ad2  011b4adcd54683b480c4d841250a987f   \n",
       "53453  e024c1515b1062b1e7e613f840c35ba3  012452d40dafae4df401bced74cdb490   \n",
       "44835  f8e05a045de09e7855c9df3bb8815e0e  012452d40dafae4df401bced74cdb490   \n",
       "51965  c276d4ce04e35d109575d3282cd2bd20  012a218df8995d3ec3bb221828360c86   \n",
       "12830  e4bee874d6368c127e7ca2a6fd7545ff  012a218df8995d3ec3bb221828360c86   \n",
       "57671  d4f243fba8f7e8213c43f98eb04b6213  013ef03e0f3f408dd9bf555e4edcdc0a   \n",
       "50729  450a869eb52446baa38f4beeecbc5843  013ef03e0f3f408dd9bf555e4edcdc0a   \n",
       "46923  94074895c5b185e9642b1a66a3ef05a7  013f4353d26bb05dc6652f1269458d8d   \n",
       "70947  13e7480f7e6534616eca292f8267ef56  013f4353d26bb05dc6652f1269458d8d   \n",
       "19506  4aeab499f910ba9d5d5c8ae745546b7e  015557c9912277312b9073947804a7ba   \n",
       "85646  0e94fdb092e81e1a604cca2ddbad0825  015557c9912277312b9073947804a7ba   \n",
       "90707  483468a56a54dbbbf8f2b2354cc8a729  0178b244a5c281fb2ade54038dd4b161   \n",
       "56589  ea6ba2b2e27f7efea73bdeab7fd6e4a0  0178b244a5c281fb2ade54038dd4b161   \n",
       "81149  7f6a3aaafc26964ec75650f5b487de99  01886ef98f995e4f2dd75a1d04c97397   \n",
       "81355  306e7f5a781430174600acfec52a1843  01886ef98f995e4f2dd75a1d04c97397   \n",
       "64085  b98e0d5aca458a26a6ff30fee0416ca2  018b5a7502c30eb5f230f1b4eb23a156   \n",
       "81399  026ca919d538ee454a6d43fc8bd01de0  018b5a7502c30eb5f230f1b4eb23a156   \n",
       "75826  6aa38fdee597dd9814ab987b44cbda55  01a22e2079ea71e17313b88e5811e54a   \n",
       "20730  e98d4459ce911f6ae3aa3c9c0f3d94bd  01a22e2079ea71e17313b88e5811e54a   \n",
       "21436  5586f979cd49ae9f5a78c57f6eccd8cd  01c289bb06354cdc7e6549570f20ada4   \n",
       "40578  2c2917bd12c5663dde831f0a22df9caa  01c289bb06354cdc7e6549570f20ada4   \n",
       "38822  c69c846746a623c12b98b6162c3dd725  01ea7dfdac01a4e8fbe2902b73510b20   \n",
       "18973  aa5ca8afef8fe0f0ef822a9da12d2cf1  01ea7dfdac01a4e8fbe2902b73510b20   \n",
       "48546  85f6549a336f5dc9e1cd95fc23d2b60b  01f2285f85a1c603eb7ef755ad311769   \n",
       "92801  7d5e98a2e485f0735beee6e2d1c43e0e  01f2285f85a1c603eb7ef755ad311769   \n",
       "27749  7ff28e5763744b926226d1e9ec551062  02168ea18740a0fdaaa15f11bebba5db   \n",
       "80221  dcf9da02825b471237d9f83bd0c39fe6  02168ea18740a0fdaaa15f11bebba5db   \n",
       "72221  216360d7df0e08d493f369b39a5fb69a  0241fa2e9adf0576cb0f845377d05c03   \n",
       "69666  e22aed657258e707c7bfdaf734971ba0  0241fa2e9adf0576cb0f845377d05c03   \n",
       "40003  5d146b89f4c6cca290b3470a4bb12bcf  027803eb28cc01fbdf5da72b109fabee   \n",
       "8789   faba85ebc5cfe2a7bb060d3287493701  027803eb28cc01fbdf5da72b109fabee   \n",
       "38278  a382d42829c2c119982c1eb049e6a8bf  029b457bd01199c39136f89e0eddcd3a   \n",
       "1211   460120cb864985d447516e2a69e244c0  029b457bd01199c39136f89e0eddcd3a   \n",
       "96671  f227e7071caf55fbd19620ad628aa80e  02b20b7c813efede140142ac610e36dc   \n",
       "9176   c2dcd18bfda62523dbd2c53ead8b5fe8  02b20b7c813efede140142ac610e36dc   \n",
       "10010  952e1e91df6ac8e016c891075ec23aa0  02e4c56fefa30628768ffe326d332e2f   \n",
       "43232  9c24c996759c0865e07e4fe69506e151  02e4c56fefa30628768ffe326d332e2f   \n",
       "\n",
       "        order_approved_at     cohort  \n",
       "19825 2017-07-27 14:25:14 2017-07-01  \n",
       "21848 2018-01-14 07:49:28 2017-07-01  \n",
       "71649 2017-09-05 04:30:20 2017-09-01  \n",
       "86038 2018-05-29 03:31:20 2017-09-01  \n",
       "60730 2018-02-19 17:20:52 2018-02-01  \n",
       "35888 2018-03-22 18:27:58 2018-02-01  \n",
       "54282 2018-05-23 20:35:15 2018-05-01  \n",
       "86436 2018-06-03 10:50:00 2018-05-01  \n",
       "8864  2017-03-21 19:25:22 2017-03-01  \n",
       "659   2017-03-21 19:25:23 2017-03-01  \n",
       "57936 2018-02-17 16:06:43 2018-02-01  \n",
       "3979  2018-04-18 22:11:01 2018-02-01  \n",
       "95428 2017-08-22 13:08:00 2017-08-01  \n",
       "89150 2018-02-15 12:40:28 2017-08-01  \n",
       "53453 2017-06-18 23:06:00 2017-06-01  \n",
       "44835 2018-05-14 12:40:00 2017-06-01  \n",
       "51965 2018-05-08 20:15:40 2018-05-01  \n",
       "12830 2018-06-18 13:39:32 2018-05-01  \n",
       "57671 2018-06-21 05:16:24 2018-06-01  \n",
       "50729 2018-07-20 04:25:10 2018-06-01  \n",
       "46923 2017-11-24 15:53:40 2017-11-01  \n",
       "70947 2017-11-28 13:51:05 2017-11-01  \n",
       "19506 2017-03-25 02:33:46 2017-03-01  \n",
       "85646 2017-05-01 15:02:20 2017-03-01  \n",
       "90707 2017-05-10 20:15:14 2017-05-01  \n",
       "56589 2018-07-30 16:05:13 2017-05-01  \n",
       "81149 2017-11-27 22:37:24 2017-11-01  \n",
       "81355 2018-03-09 21:10:31 2017-11-01  \n",
       "64085 2017-05-19 02:25:40 2017-05-01  \n",
       "81399 2017-08-21 15:55:20 2017-05-01  \n",
       "75826 2018-01-22 22:56:04 2018-01-01  \n",
       "20730 2018-01-22 23:38:23 2018-01-01  \n",
       "21436 2017-06-03 19:25:17 2017-06-01  \n",
       "40578 2017-12-26 21:27:55 2017-06-01  \n",
       "38822 2018-02-09 17:50:36 2018-02-01  \n",
       "18973 2018-02-10 07:08:42 2018-02-01  \n",
       "48546 2017-04-29 14:50:17 2017-04-01  \n",
       "92801 2018-05-31 15:12:10 2017-04-01  \n",
       "27749 2017-08-20 21:15:09 2017-08-01  \n",
       "80221 2017-10-09 22:14:24 2017-08-01  \n",
       "72221 2018-06-21 15:59:52 2018-06-01  \n",
       "69666 2018-07-25 21:15:22 2018-06-01  \n",
       "40003 2017-10-17 12:06:54 2017-10-01  \n",
       "8789  2017-10-17 12:07:04 2017-10-01  \n",
       "38278 2017-05-16 03:45:40 2017-05-01  \n",
       "1211  2018-01-06 02:27:48 2017-05-01  \n",
       "96671 2018-03-19 21:09:09 2018-03-01  \n",
       "9176  2018-03-19 21:09:12 2018-03-01  \n",
       "10010 2017-03-29 19:22:34 2017-03-01  \n",
       "43232 2018-01-11 12:15:24 2017-03-01  "
      ]
     },
     "execution_count": 1166,
     "metadata": {},
     "output_type": "execute_result"
    }
   ],
   "source": [
    "(df_customers_with_purch_date_and_cohort\n",
    " .loc[df_customers_with_purch_date_and_cohort.duplicated(subset='customer_unique_id', keep=False)]\n",
    " .sort_values(['customer_unique_id', 'order_approved_at']).head(50))"
   ]
  },
  {
   "cell_type": "markdown",
   "id": "3b8814df",
   "metadata": {},
   "source": [
    "Видим, что у первого дублирующегося значения год и месяц даты колонки order_approved_at совпадают с годом и месяцем в cohort. У последующих дублирующихся значений дата в cohort остаётся прежней, но дата в order_approved_at меняется."
   ]
  },
  {
   "cell_type": "code",
   "execution_count": 1167,
   "id": "b1c61aa9",
   "metadata": {},
   "outputs": [
    {
     "data": {
      "text/plain": [
       "count                            98346\n",
       "mean     2018-01-01 13:49:56.171506944\n",
       "min                2016-09-15 12:16:38\n",
       "25%      2017-09-13 18:44:22.249999872\n",
       "50%                2018-01-20 12:51:00\n",
       "75%                2018-05-05 10:34:01\n",
       "max                2018-09-03 17:40:06\n",
       "Name: order_approved_at, dtype: object"
      ]
     },
     "execution_count": 1167,
     "metadata": {},
     "output_type": "execute_result"
    }
   ],
   "source": [
    "df_customers_with_purch_date_and_cohort.order_approved_at.describe()"
   ]
  },
  {
   "cell_type": "markdown",
   "id": "c6cb95bb",
   "metadata": {},
   "source": [
    "В задании сказано \"В период с января по декабрь выяви когорту с самым высоким retention на 3й месяц\". \n",
    "Так как были собраны данные за период (2016-09-15, 2018-09-03), то можно понять, что данные за полный год были собраны только в 2017 году. Следовательно, проведём когортный анализ только для данных 2017 года."
   ]
  },
  {
   "cell_type": "code",
   "execution_count": 1168,
   "id": "39462b56",
   "metadata": {},
   "outputs": [],
   "source": [
    "df_customers_cohort_analysis_2017 = (df_customers_with_purch_date_and_cohort\n",
    "                                     .query(\"'2016-12-31' < order_approved_at < '2018-01-01' & cohort > '2016-12-01'\"))"
   ]
  },
  {
   "cell_type": "code",
   "execution_count": 1169,
   "id": "9531d2f1",
   "metadata": {},
   "outputs": [],
   "source": [
    "df_customers_cohort_analysis_2017.loc[:, 'order_approved_at'] = (df_customers_cohort_analysis_2017\n",
    "                                                                 .order_approved_at.dt.strftime('%Y-%m'))"
   ]
  },
  {
   "cell_type": "code",
   "execution_count": 1170,
   "id": "58baafa4",
   "metadata": {},
   "outputs": [],
   "source": [
    "df_customers_cohort_analysis_2017 = (df_customers_cohort_analysis_2017\n",
    "                                     .rename(columns={'order_approved_at':'current_month'}))"
   ]
  },
  {
   "cell_type": "code",
   "execution_count": 1171,
   "id": "35620037",
   "metadata": {},
   "outputs": [
    {
     "data": {
      "text/html": [
       "<div>\n",
       "<style scoped>\n",
       "    .dataframe tbody tr th:only-of-type {\n",
       "        vertical-align: middle;\n",
       "    }\n",
       "\n",
       "    .dataframe tbody tr th {\n",
       "        vertical-align: top;\n",
       "    }\n",
       "\n",
       "    .dataframe thead th {\n",
       "        text-align: right;\n",
       "    }\n",
       "</style>\n",
       "<table border=\"1\" class=\"dataframe\">\n",
       "  <thead>\n",
       "    <tr style=\"text-align: right;\">\n",
       "      <th></th>\n",
       "      <th>customer_id</th>\n",
       "      <th>customer_unique_id</th>\n",
       "      <th>current_month</th>\n",
       "      <th>cohort</th>\n",
       "    </tr>\n",
       "  </thead>\n",
       "  <tbody>\n",
       "    <tr>\n",
       "      <th>0</th>\n",
       "      <td>06b8999e2fba1a1fbc88172c00ba8bc7</td>\n",
       "      <td>861eff4711a542e4b93843c6dd7febb0</td>\n",
       "      <td>2017-05-01</td>\n",
       "      <td>2017-05-01</td>\n",
       "    </tr>\n",
       "    <tr>\n",
       "      <th>5</th>\n",
       "      <td>879864dab9bc3047522c92c82e1212b8</td>\n",
       "      <td>4c93744516667ad3b8f1fb645a3116a4</td>\n",
       "      <td>2017-09-01</td>\n",
       "      <td>2017-09-01</td>\n",
       "    </tr>\n",
       "    <tr>\n",
       "      <th>7</th>\n",
       "      <td>5e274e7a0c3809e14aba7ad5aae0d407</td>\n",
       "      <td>57b2a98a409812fe9618067b6b8ebe4f</td>\n",
       "      <td>2017-11-01</td>\n",
       "      <td>2017-11-01</td>\n",
       "    </tr>\n",
       "    <tr>\n",
       "      <th>10</th>\n",
       "      <td>9fb35e4ed6f0a14a4977cd9aea4042bb</td>\n",
       "      <td>2a7745e1ed516b289ed9b29c7d0539a5</td>\n",
       "      <td>2017-11-01</td>\n",
       "      <td>2017-11-01</td>\n",
       "    </tr>\n",
       "    <tr>\n",
       "      <th>12</th>\n",
       "      <td>b2d1536598b73a9abd18e0d75d92f0a3</td>\n",
       "      <td>918dc87cd72cd9f6ed4bd442ed785235</td>\n",
       "      <td>2017-09-01</td>\n",
       "      <td>2017-09-01</td>\n",
       "    </tr>\n",
       "  </tbody>\n",
       "</table>\n",
       "</div>"
      ],
      "text/plain": [
       "                         customer_id                customer_unique_id  \\\n",
       "0   06b8999e2fba1a1fbc88172c00ba8bc7  861eff4711a542e4b93843c6dd7febb0   \n",
       "5   879864dab9bc3047522c92c82e1212b8  4c93744516667ad3b8f1fb645a3116a4   \n",
       "7   5e274e7a0c3809e14aba7ad5aae0d407  57b2a98a409812fe9618067b6b8ebe4f   \n",
       "10  9fb35e4ed6f0a14a4977cd9aea4042bb  2a7745e1ed516b289ed9b29c7d0539a5   \n",
       "12  b2d1536598b73a9abd18e0d75d92f0a3  918dc87cd72cd9f6ed4bd442ed785235   \n",
       "\n",
       "   current_month     cohort  \n",
       "0     2017-05-01 2017-05-01  \n",
       "5     2017-09-01 2017-09-01  \n",
       "7     2017-11-01 2017-11-01  \n",
       "10    2017-11-01 2017-11-01  \n",
       "12    2017-09-01 2017-09-01  "
      ]
     },
     "execution_count": 1171,
     "metadata": {},
     "output_type": "execute_result"
    }
   ],
   "source": [
    "df_customers_cohort_analysis_2017.head()"
   ]
  },
  {
   "cell_type": "code",
   "execution_count": 1172,
   "id": "f2919c88",
   "metadata": {},
   "outputs": [
    {
     "data": {
      "text/plain": [
       "(44340, 4)"
      ]
     },
     "execution_count": 1172,
     "metadata": {},
     "output_type": "execute_result"
    }
   ],
   "source": [
    "df_customers_cohort_analysis_2017.shape"
   ]
  },
  {
   "cell_type": "markdown",
   "id": "d15b3932",
   "metadata": {},
   "source": [
    "Для подсчёта retention нам необходимо знать, сколько пользователей совершали покупки спустя заданное время. То есть в данном случае нет необходимости знать, как много покупок совершил один пользователь когорты в рассматриваемый месяц. Для дальнейшего когортного анализа и определения retention для каждой когорты спустя заданное время из таблицы df_customers_cohort_analysis_2017 удалим дублирующиеся значения [customer_unique_id, current_month]. Без этого мы бы считали количество покупок, сделанных когортой в определённый месяц (current_month), а не количество пользователей, совершивших покупки в определённый месяц (current_month)."
   ]
  },
  {
   "cell_type": "code",
   "execution_count": 1173,
   "id": "8ef6c934",
   "metadata": {},
   "outputs": [],
   "source": [
    "df_customers_cohort_analysis_2017_for_retention = (df_customers_cohort_analysis_2017\n",
    "                                                   .drop_duplicates(subset=['customer_unique_id', 'current_month'], \n",
    "                                                                    keep='first'))"
   ]
  },
  {
   "cell_type": "code",
   "execution_count": 1174,
   "id": "54e0cc3f",
   "metadata": {},
   "outputs": [
    {
     "data": {
      "text/html": [
       "<div>\n",
       "<style scoped>\n",
       "    .dataframe tbody tr th:only-of-type {\n",
       "        vertical-align: middle;\n",
       "    }\n",
       "\n",
       "    .dataframe tbody tr th {\n",
       "        vertical-align: top;\n",
       "    }\n",
       "\n",
       "    .dataframe thead th {\n",
       "        text-align: right;\n",
       "    }\n",
       "</style>\n",
       "<table border=\"1\" class=\"dataframe\">\n",
       "  <thead>\n",
       "    <tr style=\"text-align: right;\">\n",
       "      <th></th>\n",
       "      <th>customer_id</th>\n",
       "      <th>customer_unique_id</th>\n",
       "      <th>current_month</th>\n",
       "      <th>cohort</th>\n",
       "    </tr>\n",
       "  </thead>\n",
       "  <tbody>\n",
       "    <tr>\n",
       "      <th>0</th>\n",
       "      <td>06b8999e2fba1a1fbc88172c00ba8bc7</td>\n",
       "      <td>861eff4711a542e4b93843c6dd7febb0</td>\n",
       "      <td>2017-05-01</td>\n",
       "      <td>2017-05-01</td>\n",
       "    </tr>\n",
       "    <tr>\n",
       "      <th>5</th>\n",
       "      <td>879864dab9bc3047522c92c82e1212b8</td>\n",
       "      <td>4c93744516667ad3b8f1fb645a3116a4</td>\n",
       "      <td>2017-09-01</td>\n",
       "      <td>2017-09-01</td>\n",
       "    </tr>\n",
       "    <tr>\n",
       "      <th>7</th>\n",
       "      <td>5e274e7a0c3809e14aba7ad5aae0d407</td>\n",
       "      <td>57b2a98a409812fe9618067b6b8ebe4f</td>\n",
       "      <td>2017-11-01</td>\n",
       "      <td>2017-11-01</td>\n",
       "    </tr>\n",
       "    <tr>\n",
       "      <th>10</th>\n",
       "      <td>9fb35e4ed6f0a14a4977cd9aea4042bb</td>\n",
       "      <td>2a7745e1ed516b289ed9b29c7d0539a5</td>\n",
       "      <td>2017-11-01</td>\n",
       "      <td>2017-11-01</td>\n",
       "    </tr>\n",
       "    <tr>\n",
       "      <th>12</th>\n",
       "      <td>b2d1536598b73a9abd18e0d75d92f0a3</td>\n",
       "      <td>918dc87cd72cd9f6ed4bd442ed785235</td>\n",
       "      <td>2017-09-01</td>\n",
       "      <td>2017-09-01</td>\n",
       "    </tr>\n",
       "  </tbody>\n",
       "</table>\n",
       "</div>"
      ],
      "text/plain": [
       "                         customer_id                customer_unique_id  \\\n",
       "0   06b8999e2fba1a1fbc88172c00ba8bc7  861eff4711a542e4b93843c6dd7febb0   \n",
       "5   879864dab9bc3047522c92c82e1212b8  4c93744516667ad3b8f1fb645a3116a4   \n",
       "7   5e274e7a0c3809e14aba7ad5aae0d407  57b2a98a409812fe9618067b6b8ebe4f   \n",
       "10  9fb35e4ed6f0a14a4977cd9aea4042bb  2a7745e1ed516b289ed9b29c7d0539a5   \n",
       "12  b2d1536598b73a9abd18e0d75d92f0a3  918dc87cd72cd9f6ed4bd442ed785235   \n",
       "\n",
       "   current_month     cohort  \n",
       "0     2017-05-01 2017-05-01  \n",
       "5     2017-09-01 2017-09-01  \n",
       "7     2017-11-01 2017-11-01  \n",
       "10    2017-11-01 2017-11-01  \n",
       "12    2017-09-01 2017-09-01  "
      ]
     },
     "execution_count": 1174,
     "metadata": {},
     "output_type": "execute_result"
    }
   ],
   "source": [
    "df_customers_cohort_analysis_2017_for_retention.head()"
   ]
  },
  {
   "cell_type": "code",
   "execution_count": 1175,
   "id": "9805ec28",
   "metadata": {},
   "outputs": [
    {
     "data": {
      "text/plain": [
       "(43610, 4)"
      ]
     },
     "execution_count": 1175,
     "metadata": {},
     "output_type": "execute_result"
    }
   ],
   "source": [
    "df_customers_cohort_analysis_2017_for_retention.shape"
   ]
  },
  {
   "cell_type": "code",
   "execution_count": 1176,
   "id": "01c999f3",
   "metadata": {},
   "outputs": [
    {
     "data": {
      "text/plain": [
       "customer_id                   object\n",
       "customer_unique_id            object\n",
       "current_month         datetime64[ns]\n",
       "cohort                datetime64[ns]\n",
       "dtype: object"
      ]
     },
     "execution_count": 1176,
     "metadata": {},
     "output_type": "execute_result"
    }
   ],
   "source": [
    "df_customers_cohort_analysis_2017_for_retention.dtypes"
   ]
  },
  {
   "cell_type": "code",
   "execution_count": 1177,
   "id": "0db1e5d5",
   "metadata": {},
   "outputs": [
    {
     "data": {
      "text/plain": [
       "<DatetimeArray>\n",
       "['2017-01-01 00:00:00', '2017-02-01 00:00:00', '2017-03-01 00:00:00',\n",
       " '2017-04-01 00:00:00', '2017-05-01 00:00:00', '2017-06-01 00:00:00',\n",
       " '2017-07-01 00:00:00', '2017-08-01 00:00:00', '2017-09-01 00:00:00',\n",
       " '2017-10-01 00:00:00', '2017-11-01 00:00:00', '2017-12-01 00:00:00']\n",
       "Length: 12, dtype: datetime64[ns]"
      ]
     },
     "execution_count": 1177,
     "metadata": {},
     "output_type": "execute_result"
    }
   ],
   "source": [
    "df_customers_cohort_analysis_2017_for_retention.cohort.sort_values().unique()"
   ]
  },
  {
   "cell_type": "markdown",
   "id": "6c2dcd78",
   "metadata": {},
   "source": [
    "Посчитаем, как много пользователей каждой когорты совершали покупки в каждый месяц."
   ]
  },
  {
   "cell_type": "code",
   "execution_count": 1178,
   "id": "b27af447",
   "metadata": {},
   "outputs": [],
   "source": [
    "df_cohort_analysis_2017 = (df_customers_cohort_analysis_2017_for_retention\n",
    "                           .groupby(['current_month', 'cohort'], as_index=False)\n",
    "                           .agg({'customer_id':'count'}).rename(columns={'customer_id':'quantity'}))"
   ]
  },
  {
   "cell_type": "code",
   "execution_count": 1179,
   "id": "03252d25",
   "metadata": {},
   "outputs": [
    {
     "data": {
      "text/html": [
       "<div>\n",
       "<style scoped>\n",
       "    .dataframe tbody tr th:only-of-type {\n",
       "        vertical-align: middle;\n",
       "    }\n",
       "\n",
       "    .dataframe tbody tr th {\n",
       "        vertical-align: top;\n",
       "    }\n",
       "\n",
       "    .dataframe thead th {\n",
       "        text-align: right;\n",
       "    }\n",
       "</style>\n",
       "<table border=\"1\" class=\"dataframe\">\n",
       "  <thead>\n",
       "    <tr style=\"text-align: right;\">\n",
       "      <th></th>\n",
       "      <th>current_month</th>\n",
       "      <th>cohort</th>\n",
       "      <th>quantity</th>\n",
       "    </tr>\n",
       "  </thead>\n",
       "  <tbody>\n",
       "    <tr>\n",
       "      <th>0</th>\n",
       "      <td>2017-01-01</td>\n",
       "      <td>2017-01-01</td>\n",
       "      <td>709</td>\n",
       "    </tr>\n",
       "    <tr>\n",
       "      <th>1</th>\n",
       "      <td>2017-02-01</td>\n",
       "      <td>2017-01-01</td>\n",
       "      <td>4</td>\n",
       "    </tr>\n",
       "    <tr>\n",
       "      <th>2</th>\n",
       "      <td>2017-02-01</td>\n",
       "      <td>2017-02-01</td>\n",
       "      <td>1688</td>\n",
       "    </tr>\n",
       "    <tr>\n",
       "      <th>3</th>\n",
       "      <td>2017-03-01</td>\n",
       "      <td>2017-01-01</td>\n",
       "      <td>2</td>\n",
       "    </tr>\n",
       "    <tr>\n",
       "      <th>4</th>\n",
       "      <td>2017-03-01</td>\n",
       "      <td>2017-02-01</td>\n",
       "      <td>4</td>\n",
       "    </tr>\n",
       "  </tbody>\n",
       "</table>\n",
       "</div>"
      ],
      "text/plain": [
       "  current_month     cohort  quantity\n",
       "0    2017-01-01 2017-01-01       709\n",
       "1    2017-02-01 2017-01-01         4\n",
       "2    2017-02-01 2017-02-01      1688\n",
       "3    2017-03-01 2017-01-01         2\n",
       "4    2017-03-01 2017-02-01         4"
      ]
     },
     "execution_count": 1179,
     "metadata": {},
     "output_type": "execute_result"
    }
   ],
   "source": [
    "df_cohort_analysis_2017.head()"
   ]
  },
  {
   "cell_type": "code",
   "execution_count": 1180,
   "id": "79bb8a7e",
   "metadata": {},
   "outputs": [
    {
     "data": {
      "text/plain": [
       "(77, 3)"
      ]
     },
     "execution_count": 1180,
     "metadata": {},
     "output_type": "execute_result"
    }
   ],
   "source": [
    "df_cohort_analysis_2017.shape"
   ]
  },
  {
   "cell_type": "code",
   "execution_count": 1181,
   "id": "804ac66e",
   "metadata": {},
   "outputs": [],
   "source": [
    "df_cohort_analysis_2017 = (df_cohort_analysis_2017\n",
    "                           .rename(columns={'current_month':'CohortPeriod', 'cohort':'Cohort'}))"
   ]
  },
  {
   "cell_type": "code",
   "execution_count": 1182,
   "id": "1526ea12",
   "metadata": {},
   "outputs": [],
   "source": [
    "df_cohort_analysis_2017['CohortPeriod'] = (df_cohort_analysis_2017.CohortPeriod.dt.month \n",
    "                                           - df_cohort_analysis_2017.Cohort.dt.month)"
   ]
  },
  {
   "cell_type": "code",
   "execution_count": 1183,
   "id": "b2428fbb",
   "metadata": {},
   "outputs": [],
   "source": [
    "df_cohort_analysis_2017['Cohort'] = (df_cohort_analysis_2017\n",
    "                                     .Cohort.dt.strftime('%Y-%m'))"
   ]
  },
  {
   "cell_type": "code",
   "execution_count": 1184,
   "id": "2bda99ee",
   "metadata": {},
   "outputs": [
    {
     "data": {
      "text/html": [
       "<div>\n",
       "<style scoped>\n",
       "    .dataframe tbody tr th:only-of-type {\n",
       "        vertical-align: middle;\n",
       "    }\n",
       "\n",
       "    .dataframe tbody tr th {\n",
       "        vertical-align: top;\n",
       "    }\n",
       "\n",
       "    .dataframe thead th {\n",
       "        text-align: right;\n",
       "    }\n",
       "</style>\n",
       "<table border=\"1\" class=\"dataframe\">\n",
       "  <thead>\n",
       "    <tr style=\"text-align: right;\">\n",
       "      <th></th>\n",
       "      <th>CohortPeriod</th>\n",
       "      <th>Cohort</th>\n",
       "      <th>quantity</th>\n",
       "    </tr>\n",
       "  </thead>\n",
       "  <tbody>\n",
       "    <tr>\n",
       "      <th>0</th>\n",
       "      <td>0</td>\n",
       "      <td>2017-01</td>\n",
       "      <td>709</td>\n",
       "    </tr>\n",
       "    <tr>\n",
       "      <th>1</th>\n",
       "      <td>1</td>\n",
       "      <td>2017-01</td>\n",
       "      <td>4</td>\n",
       "    </tr>\n",
       "    <tr>\n",
       "      <th>2</th>\n",
       "      <td>0</td>\n",
       "      <td>2017-02</td>\n",
       "      <td>1688</td>\n",
       "    </tr>\n",
       "    <tr>\n",
       "      <th>3</th>\n",
       "      <td>2</td>\n",
       "      <td>2017-01</td>\n",
       "      <td>2</td>\n",
       "    </tr>\n",
       "    <tr>\n",
       "      <th>4</th>\n",
       "      <td>1</td>\n",
       "      <td>2017-02</td>\n",
       "      <td>4</td>\n",
       "    </tr>\n",
       "  </tbody>\n",
       "</table>\n",
       "</div>"
      ],
      "text/plain": [
       "   CohortPeriod   Cohort  quantity\n",
       "0             0  2017-01       709\n",
       "1             1  2017-01         4\n",
       "2             0  2017-02      1688\n",
       "3             2  2017-01         2\n",
       "4             1  2017-02         4"
      ]
     },
     "execution_count": 1184,
     "metadata": {},
     "output_type": "execute_result"
    }
   ],
   "source": [
    "df_cohort_analysis_2017.head()"
   ]
  },
  {
   "cell_type": "code",
   "execution_count": 1185,
   "id": "89df7423",
   "metadata": {},
   "outputs": [],
   "source": [
    "df_cohort_analysis_2017_pivot = (df_cohort_analysis_2017\n",
    "                                 .pivot(columns='CohortPeriod', index='Cohort', values='quantity'))"
   ]
  },
  {
   "cell_type": "code",
   "execution_count": 1186,
   "id": "d5ef3598",
   "metadata": {},
   "outputs": [
    {
     "data": {
      "text/html": [
       "<div>\n",
       "<style scoped>\n",
       "    .dataframe tbody tr th:only-of-type {\n",
       "        vertical-align: middle;\n",
       "    }\n",
       "\n",
       "    .dataframe tbody tr th {\n",
       "        vertical-align: top;\n",
       "    }\n",
       "\n",
       "    .dataframe thead th {\n",
       "        text-align: right;\n",
       "    }\n",
       "</style>\n",
       "<table border=\"1\" class=\"dataframe\">\n",
       "  <thead>\n",
       "    <tr style=\"text-align: right;\">\n",
       "      <th>CohortPeriod</th>\n",
       "      <th>0</th>\n",
       "      <th>1</th>\n",
       "      <th>2</th>\n",
       "      <th>3</th>\n",
       "      <th>4</th>\n",
       "      <th>5</th>\n",
       "      <th>6</th>\n",
       "      <th>7</th>\n",
       "      <th>8</th>\n",
       "      <th>9</th>\n",
       "      <th>10</th>\n",
       "      <th>11</th>\n",
       "    </tr>\n",
       "    <tr>\n",
       "      <th>Cohort</th>\n",
       "      <th></th>\n",
       "      <th></th>\n",
       "      <th></th>\n",
       "      <th></th>\n",
       "      <th></th>\n",
       "      <th></th>\n",
       "      <th></th>\n",
       "      <th></th>\n",
       "      <th></th>\n",
       "      <th></th>\n",
       "      <th></th>\n",
       "      <th></th>\n",
       "    </tr>\n",
       "  </thead>\n",
       "  <tbody>\n",
       "    <tr>\n",
       "      <th>2017-01</th>\n",
       "      <td>709.0</td>\n",
       "      <td>4.0</td>\n",
       "      <td>2.0</td>\n",
       "      <td>1.0</td>\n",
       "      <td>3.0</td>\n",
       "      <td>1.0</td>\n",
       "      <td>3.0</td>\n",
       "      <td>1.0</td>\n",
       "      <td>1.0</td>\n",
       "      <td>NaN</td>\n",
       "      <td>2.0</td>\n",
       "      <td>2.0</td>\n",
       "    </tr>\n",
       "    <tr>\n",
       "      <th>2017-02</th>\n",
       "      <td>1688.0</td>\n",
       "      <td>4.0</td>\n",
       "      <td>4.0</td>\n",
       "      <td>3.0</td>\n",
       "      <td>7.0</td>\n",
       "      <td>2.0</td>\n",
       "      <td>4.0</td>\n",
       "      <td>3.0</td>\n",
       "      <td>2.0</td>\n",
       "      <td>3.0</td>\n",
       "      <td>2.0</td>\n",
       "      <td>NaN</td>\n",
       "    </tr>\n",
       "    <tr>\n",
       "      <th>2017-03</th>\n",
       "      <td>2601.0</td>\n",
       "      <td>13.0</td>\n",
       "      <td>9.0</td>\n",
       "      <td>9.0</td>\n",
       "      <td>9.0</td>\n",
       "      <td>4.0</td>\n",
       "      <td>4.0</td>\n",
       "      <td>8.0</td>\n",
       "      <td>8.0</td>\n",
       "      <td>3.0</td>\n",
       "      <td>NaN</td>\n",
       "      <td>NaN</td>\n",
       "    </tr>\n",
       "    <tr>\n",
       "      <th>2017-04</th>\n",
       "      <td>2299.0</td>\n",
       "      <td>14.0</td>\n",
       "      <td>5.0</td>\n",
       "      <td>4.0</td>\n",
       "      <td>7.0</td>\n",
       "      <td>6.0</td>\n",
       "      <td>8.0</td>\n",
       "      <td>6.0</td>\n",
       "      <td>8.0</td>\n",
       "      <td>NaN</td>\n",
       "      <td>NaN</td>\n",
       "      <td>NaN</td>\n",
       "    </tr>\n",
       "    <tr>\n",
       "      <th>2017-05</th>\n",
       "      <td>3545.0</td>\n",
       "      <td>19.0</td>\n",
       "      <td>17.0</td>\n",
       "      <td>14.0</td>\n",
       "      <td>11.0</td>\n",
       "      <td>12.0</td>\n",
       "      <td>15.0</td>\n",
       "      <td>5.0</td>\n",
       "      <td>NaN</td>\n",
       "      <td>NaN</td>\n",
       "      <td>NaN</td>\n",
       "      <td>NaN</td>\n",
       "    </tr>\n",
       "    <tr>\n",
       "      <th>2017-06</th>\n",
       "      <td>3116.0</td>\n",
       "      <td>15.0</td>\n",
       "      <td>11.0</td>\n",
       "      <td>12.0</td>\n",
       "      <td>8.0</td>\n",
       "      <td>10.0</td>\n",
       "      <td>12.0</td>\n",
       "      <td>NaN</td>\n",
       "      <td>NaN</td>\n",
       "      <td>NaN</td>\n",
       "      <td>NaN</td>\n",
       "      <td>NaN</td>\n",
       "    </tr>\n",
       "    <tr>\n",
       "      <th>2017-07</th>\n",
       "      <td>3791.0</td>\n",
       "      <td>20.0</td>\n",
       "      <td>13.0</td>\n",
       "      <td>7.0</td>\n",
       "      <td>13.0</td>\n",
       "      <td>7.0</td>\n",
       "      <td>NaN</td>\n",
       "      <td>NaN</td>\n",
       "      <td>NaN</td>\n",
       "      <td>NaN</td>\n",
       "      <td>NaN</td>\n",
       "      <td>NaN</td>\n",
       "    </tr>\n",
       "    <tr>\n",
       "      <th>2017-08</th>\n",
       "      <td>4155.0</td>\n",
       "      <td>28.0</td>\n",
       "      <td>15.0</td>\n",
       "      <td>11.0</td>\n",
       "      <td>16.0</td>\n",
       "      <td>NaN</td>\n",
       "      <td>NaN</td>\n",
       "      <td>NaN</td>\n",
       "      <td>NaN</td>\n",
       "      <td>NaN</td>\n",
       "      <td>NaN</td>\n",
       "      <td>NaN</td>\n",
       "    </tr>\n",
       "    <tr>\n",
       "      <th>2017-09</th>\n",
       "      <td>4097.0</td>\n",
       "      <td>27.0</td>\n",
       "      <td>20.0</td>\n",
       "      <td>14.0</td>\n",
       "      <td>NaN</td>\n",
       "      <td>NaN</td>\n",
       "      <td>NaN</td>\n",
       "      <td>NaN</td>\n",
       "      <td>NaN</td>\n",
       "      <td>NaN</td>\n",
       "      <td>NaN</td>\n",
       "      <td>NaN</td>\n",
       "    </tr>\n",
       "    <tr>\n",
       "      <th>2017-10</th>\n",
       "      <td>4364.0</td>\n",
       "      <td>30.0</td>\n",
       "      <td>13.0</td>\n",
       "      <td>NaN</td>\n",
       "      <td>NaN</td>\n",
       "      <td>NaN</td>\n",
       "      <td>NaN</td>\n",
       "      <td>NaN</td>\n",
       "      <td>NaN</td>\n",
       "      <td>NaN</td>\n",
       "      <td>NaN</td>\n",
       "      <td>NaN</td>\n",
       "    </tr>\n",
       "    <tr>\n",
       "      <th>2017-11</th>\n",
       "      <td>7049.0</td>\n",
       "      <td>39.0</td>\n",
       "      <td>NaN</td>\n",
       "      <td>NaN</td>\n",
       "      <td>NaN</td>\n",
       "      <td>NaN</td>\n",
       "      <td>NaN</td>\n",
       "      <td>NaN</td>\n",
       "      <td>NaN</td>\n",
       "      <td>NaN</td>\n",
       "      <td>NaN</td>\n",
       "      <td>NaN</td>\n",
       "    </tr>\n",
       "    <tr>\n",
       "      <th>2017-12</th>\n",
       "      <td>5583.0</td>\n",
       "      <td>NaN</td>\n",
       "      <td>NaN</td>\n",
       "      <td>NaN</td>\n",
       "      <td>NaN</td>\n",
       "      <td>NaN</td>\n",
       "      <td>NaN</td>\n",
       "      <td>NaN</td>\n",
       "      <td>NaN</td>\n",
       "      <td>NaN</td>\n",
       "      <td>NaN</td>\n",
       "      <td>NaN</td>\n",
       "    </tr>\n",
       "  </tbody>\n",
       "</table>\n",
       "</div>"
      ],
      "text/plain": [
       "CohortPeriod      0     1     2     3     4     5     6    7    8    9    10  \\\n",
       "Cohort                                                                         \n",
       "2017-01        709.0   4.0   2.0   1.0   3.0   1.0   3.0  1.0  1.0  NaN  2.0   \n",
       "2017-02       1688.0   4.0   4.0   3.0   7.0   2.0   4.0  3.0  2.0  3.0  2.0   \n",
       "2017-03       2601.0  13.0   9.0   9.0   9.0   4.0   4.0  8.0  8.0  3.0  NaN   \n",
       "2017-04       2299.0  14.0   5.0   4.0   7.0   6.0   8.0  6.0  8.0  NaN  NaN   \n",
       "2017-05       3545.0  19.0  17.0  14.0  11.0  12.0  15.0  5.0  NaN  NaN  NaN   \n",
       "2017-06       3116.0  15.0  11.0  12.0   8.0  10.0  12.0  NaN  NaN  NaN  NaN   \n",
       "2017-07       3791.0  20.0  13.0   7.0  13.0   7.0   NaN  NaN  NaN  NaN  NaN   \n",
       "2017-08       4155.0  28.0  15.0  11.0  16.0   NaN   NaN  NaN  NaN  NaN  NaN   \n",
       "2017-09       4097.0  27.0  20.0  14.0   NaN   NaN   NaN  NaN  NaN  NaN  NaN   \n",
       "2017-10       4364.0  30.0  13.0   NaN   NaN   NaN   NaN  NaN  NaN  NaN  NaN   \n",
       "2017-11       7049.0  39.0   NaN   NaN   NaN   NaN   NaN  NaN  NaN  NaN  NaN   \n",
       "2017-12       5583.0   NaN   NaN   NaN   NaN   NaN   NaN  NaN  NaN  NaN  NaN   \n",
       "\n",
       "CohortPeriod   11  \n",
       "Cohort             \n",
       "2017-01       2.0  \n",
       "2017-02       NaN  \n",
       "2017-03       NaN  \n",
       "2017-04       NaN  \n",
       "2017-05       NaN  \n",
       "2017-06       NaN  \n",
       "2017-07       NaN  \n",
       "2017-08       NaN  \n",
       "2017-09       NaN  \n",
       "2017-10       NaN  \n",
       "2017-11       NaN  \n",
       "2017-12       NaN  "
      ]
     },
     "execution_count": 1186,
     "metadata": {},
     "output_type": "execute_result"
    }
   ],
   "source": [
    "df_cohort_analysis_2017_pivot"
   ]
  },
  {
   "cell_type": "markdown",
   "id": "a1472dec",
   "metadata": {},
   "source": [
    "CohortPeriod - количество пройденных месяцев с момента формирования когорты, то есть в колонке 0 показано, как много пользователей определённой когорты совершили покупки в месяц, соответствующий когорте, 1 - как много ползователей совершили покупки спустя месяц и тд."
   ]
  },
  {
   "cell_type": "markdown",
   "id": "05e45bc8",
   "metadata": {},
   "source": [
    "Присвоим элементу с координатой (2017-01, 9) значение 0."
   ]
  },
  {
   "cell_type": "code",
   "execution_count": 1187,
   "id": "38fb5e66",
   "metadata": {},
   "outputs": [],
   "source": [
    "df_cohort_analysis_2017_pivot.loc['2017-01', 9] = 0.0"
   ]
  },
  {
   "cell_type": "code",
   "execution_count": 1188,
   "id": "98ef959d",
   "metadata": {},
   "outputs": [
    {
     "data": {
      "text/html": [
       "<div>\n",
       "<style scoped>\n",
       "    .dataframe tbody tr th:only-of-type {\n",
       "        vertical-align: middle;\n",
       "    }\n",
       "\n",
       "    .dataframe tbody tr th {\n",
       "        vertical-align: top;\n",
       "    }\n",
       "\n",
       "    .dataframe thead th {\n",
       "        text-align: right;\n",
       "    }\n",
       "</style>\n",
       "<table border=\"1\" class=\"dataframe\">\n",
       "  <thead>\n",
       "    <tr style=\"text-align: right;\">\n",
       "      <th>CohortPeriod</th>\n",
       "      <th>0</th>\n",
       "      <th>1</th>\n",
       "      <th>2</th>\n",
       "      <th>3</th>\n",
       "      <th>4</th>\n",
       "      <th>5</th>\n",
       "      <th>6</th>\n",
       "      <th>7</th>\n",
       "      <th>8</th>\n",
       "      <th>9</th>\n",
       "      <th>10</th>\n",
       "      <th>11</th>\n",
       "    </tr>\n",
       "    <tr>\n",
       "      <th>Cohort</th>\n",
       "      <th></th>\n",
       "      <th></th>\n",
       "      <th></th>\n",
       "      <th></th>\n",
       "      <th></th>\n",
       "      <th></th>\n",
       "      <th></th>\n",
       "      <th></th>\n",
       "      <th></th>\n",
       "      <th></th>\n",
       "      <th></th>\n",
       "      <th></th>\n",
       "    </tr>\n",
       "  </thead>\n",
       "  <tbody>\n",
       "    <tr>\n",
       "      <th>2017-01</th>\n",
       "      <td>709.0</td>\n",
       "      <td>4.0</td>\n",
       "      <td>2.0</td>\n",
       "      <td>1.0</td>\n",
       "      <td>3.0</td>\n",
       "      <td>1.0</td>\n",
       "      <td>3.0</td>\n",
       "      <td>1.0</td>\n",
       "      <td>1.0</td>\n",
       "      <td>0.0</td>\n",
       "      <td>2.0</td>\n",
       "      <td>2.0</td>\n",
       "    </tr>\n",
       "    <tr>\n",
       "      <th>2017-02</th>\n",
       "      <td>1688.0</td>\n",
       "      <td>4.0</td>\n",
       "      <td>4.0</td>\n",
       "      <td>3.0</td>\n",
       "      <td>7.0</td>\n",
       "      <td>2.0</td>\n",
       "      <td>4.0</td>\n",
       "      <td>3.0</td>\n",
       "      <td>2.0</td>\n",
       "      <td>3.0</td>\n",
       "      <td>2.0</td>\n",
       "      <td>NaN</td>\n",
       "    </tr>\n",
       "    <tr>\n",
       "      <th>2017-03</th>\n",
       "      <td>2601.0</td>\n",
       "      <td>13.0</td>\n",
       "      <td>9.0</td>\n",
       "      <td>9.0</td>\n",
       "      <td>9.0</td>\n",
       "      <td>4.0</td>\n",
       "      <td>4.0</td>\n",
       "      <td>8.0</td>\n",
       "      <td>8.0</td>\n",
       "      <td>3.0</td>\n",
       "      <td>NaN</td>\n",
       "      <td>NaN</td>\n",
       "    </tr>\n",
       "    <tr>\n",
       "      <th>2017-04</th>\n",
       "      <td>2299.0</td>\n",
       "      <td>14.0</td>\n",
       "      <td>5.0</td>\n",
       "      <td>4.0</td>\n",
       "      <td>7.0</td>\n",
       "      <td>6.0</td>\n",
       "      <td>8.0</td>\n",
       "      <td>6.0</td>\n",
       "      <td>8.0</td>\n",
       "      <td>NaN</td>\n",
       "      <td>NaN</td>\n",
       "      <td>NaN</td>\n",
       "    </tr>\n",
       "    <tr>\n",
       "      <th>2017-05</th>\n",
       "      <td>3545.0</td>\n",
       "      <td>19.0</td>\n",
       "      <td>17.0</td>\n",
       "      <td>14.0</td>\n",
       "      <td>11.0</td>\n",
       "      <td>12.0</td>\n",
       "      <td>15.0</td>\n",
       "      <td>5.0</td>\n",
       "      <td>NaN</td>\n",
       "      <td>NaN</td>\n",
       "      <td>NaN</td>\n",
       "      <td>NaN</td>\n",
       "    </tr>\n",
       "    <tr>\n",
       "      <th>2017-06</th>\n",
       "      <td>3116.0</td>\n",
       "      <td>15.0</td>\n",
       "      <td>11.0</td>\n",
       "      <td>12.0</td>\n",
       "      <td>8.0</td>\n",
       "      <td>10.0</td>\n",
       "      <td>12.0</td>\n",
       "      <td>NaN</td>\n",
       "      <td>NaN</td>\n",
       "      <td>NaN</td>\n",
       "      <td>NaN</td>\n",
       "      <td>NaN</td>\n",
       "    </tr>\n",
       "    <tr>\n",
       "      <th>2017-07</th>\n",
       "      <td>3791.0</td>\n",
       "      <td>20.0</td>\n",
       "      <td>13.0</td>\n",
       "      <td>7.0</td>\n",
       "      <td>13.0</td>\n",
       "      <td>7.0</td>\n",
       "      <td>NaN</td>\n",
       "      <td>NaN</td>\n",
       "      <td>NaN</td>\n",
       "      <td>NaN</td>\n",
       "      <td>NaN</td>\n",
       "      <td>NaN</td>\n",
       "    </tr>\n",
       "    <tr>\n",
       "      <th>2017-08</th>\n",
       "      <td>4155.0</td>\n",
       "      <td>28.0</td>\n",
       "      <td>15.0</td>\n",
       "      <td>11.0</td>\n",
       "      <td>16.0</td>\n",
       "      <td>NaN</td>\n",
       "      <td>NaN</td>\n",
       "      <td>NaN</td>\n",
       "      <td>NaN</td>\n",
       "      <td>NaN</td>\n",
       "      <td>NaN</td>\n",
       "      <td>NaN</td>\n",
       "    </tr>\n",
       "    <tr>\n",
       "      <th>2017-09</th>\n",
       "      <td>4097.0</td>\n",
       "      <td>27.0</td>\n",
       "      <td>20.0</td>\n",
       "      <td>14.0</td>\n",
       "      <td>NaN</td>\n",
       "      <td>NaN</td>\n",
       "      <td>NaN</td>\n",
       "      <td>NaN</td>\n",
       "      <td>NaN</td>\n",
       "      <td>NaN</td>\n",
       "      <td>NaN</td>\n",
       "      <td>NaN</td>\n",
       "    </tr>\n",
       "    <tr>\n",
       "      <th>2017-10</th>\n",
       "      <td>4364.0</td>\n",
       "      <td>30.0</td>\n",
       "      <td>13.0</td>\n",
       "      <td>NaN</td>\n",
       "      <td>NaN</td>\n",
       "      <td>NaN</td>\n",
       "      <td>NaN</td>\n",
       "      <td>NaN</td>\n",
       "      <td>NaN</td>\n",
       "      <td>NaN</td>\n",
       "      <td>NaN</td>\n",
       "      <td>NaN</td>\n",
       "    </tr>\n",
       "    <tr>\n",
       "      <th>2017-11</th>\n",
       "      <td>7049.0</td>\n",
       "      <td>39.0</td>\n",
       "      <td>NaN</td>\n",
       "      <td>NaN</td>\n",
       "      <td>NaN</td>\n",
       "      <td>NaN</td>\n",
       "      <td>NaN</td>\n",
       "      <td>NaN</td>\n",
       "      <td>NaN</td>\n",
       "      <td>NaN</td>\n",
       "      <td>NaN</td>\n",
       "      <td>NaN</td>\n",
       "    </tr>\n",
       "    <tr>\n",
       "      <th>2017-12</th>\n",
       "      <td>5583.0</td>\n",
       "      <td>NaN</td>\n",
       "      <td>NaN</td>\n",
       "      <td>NaN</td>\n",
       "      <td>NaN</td>\n",
       "      <td>NaN</td>\n",
       "      <td>NaN</td>\n",
       "      <td>NaN</td>\n",
       "      <td>NaN</td>\n",
       "      <td>NaN</td>\n",
       "      <td>NaN</td>\n",
       "      <td>NaN</td>\n",
       "    </tr>\n",
       "  </tbody>\n",
       "</table>\n",
       "</div>"
      ],
      "text/plain": [
       "CohortPeriod      0     1     2     3     4     5     6    7    8    9    10  \\\n",
       "Cohort                                                                         \n",
       "2017-01        709.0   4.0   2.0   1.0   3.0   1.0   3.0  1.0  1.0  0.0  2.0   \n",
       "2017-02       1688.0   4.0   4.0   3.0   7.0   2.0   4.0  3.0  2.0  3.0  2.0   \n",
       "2017-03       2601.0  13.0   9.0   9.0   9.0   4.0   4.0  8.0  8.0  3.0  NaN   \n",
       "2017-04       2299.0  14.0   5.0   4.0   7.0   6.0   8.0  6.0  8.0  NaN  NaN   \n",
       "2017-05       3545.0  19.0  17.0  14.0  11.0  12.0  15.0  5.0  NaN  NaN  NaN   \n",
       "2017-06       3116.0  15.0  11.0  12.0   8.0  10.0  12.0  NaN  NaN  NaN  NaN   \n",
       "2017-07       3791.0  20.0  13.0   7.0  13.0   7.0   NaN  NaN  NaN  NaN  NaN   \n",
       "2017-08       4155.0  28.0  15.0  11.0  16.0   NaN   NaN  NaN  NaN  NaN  NaN   \n",
       "2017-09       4097.0  27.0  20.0  14.0   NaN   NaN   NaN  NaN  NaN  NaN  NaN   \n",
       "2017-10       4364.0  30.0  13.0   NaN   NaN   NaN   NaN  NaN  NaN  NaN  NaN   \n",
       "2017-11       7049.0  39.0   NaN   NaN   NaN   NaN   NaN  NaN  NaN  NaN  NaN   \n",
       "2017-12       5583.0   NaN   NaN   NaN   NaN   NaN   NaN  NaN  NaN  NaN  NaN   \n",
       "\n",
       "CohortPeriod   11  \n",
       "Cohort             \n",
       "2017-01       2.0  \n",
       "2017-02       NaN  \n",
       "2017-03       NaN  \n",
       "2017-04       NaN  \n",
       "2017-05       NaN  \n",
       "2017-06       NaN  \n",
       "2017-07       NaN  \n",
       "2017-08       NaN  \n",
       "2017-09       NaN  \n",
       "2017-10       NaN  \n",
       "2017-11       NaN  \n",
       "2017-12       NaN  "
      ]
     },
     "execution_count": 1188,
     "metadata": {},
     "output_type": "execute_result"
    }
   ],
   "source": [
    "df_cohort_analysis_2017_pivot"
   ]
  },
  {
   "cell_type": "markdown",
   "id": "323360cd",
   "metadata": {},
   "source": [
    "Считаем retention для каждой когорты (пока не в %)."
   ]
  },
  {
   "cell_type": "code",
   "execution_count": 1189,
   "id": "68457c51",
   "metadata": {},
   "outputs": [],
   "source": [
    "df_cohort_analysis_2017_pivot = (df_cohort_analysis_2017_pivot\n",
    "                                 .apply(lambda x: x / df_cohort_analysis_2017_pivot[0]))"
   ]
  },
  {
   "cell_type": "code",
   "execution_count": 1190,
   "id": "c2860d18",
   "metadata": {},
   "outputs": [
    {
     "data": {
      "text/html": [
       "<div>\n",
       "<style scoped>\n",
       "    .dataframe tbody tr th:only-of-type {\n",
       "        vertical-align: middle;\n",
       "    }\n",
       "\n",
       "    .dataframe tbody tr th {\n",
       "        vertical-align: top;\n",
       "    }\n",
       "\n",
       "    .dataframe thead th {\n",
       "        text-align: right;\n",
       "    }\n",
       "</style>\n",
       "<table border=\"1\" class=\"dataframe\">\n",
       "  <thead>\n",
       "    <tr style=\"text-align: right;\">\n",
       "      <th>CohortPeriod</th>\n",
       "      <th>0</th>\n",
       "      <th>1</th>\n",
       "      <th>2</th>\n",
       "      <th>3</th>\n",
       "      <th>4</th>\n",
       "      <th>5</th>\n",
       "      <th>6</th>\n",
       "      <th>7</th>\n",
       "      <th>8</th>\n",
       "      <th>9</th>\n",
       "      <th>10</th>\n",
       "      <th>11</th>\n",
       "    </tr>\n",
       "    <tr>\n",
       "      <th>Cohort</th>\n",
       "      <th></th>\n",
       "      <th></th>\n",
       "      <th></th>\n",
       "      <th></th>\n",
       "      <th></th>\n",
       "      <th></th>\n",
       "      <th></th>\n",
       "      <th></th>\n",
       "      <th></th>\n",
       "      <th></th>\n",
       "      <th></th>\n",
       "      <th></th>\n",
       "    </tr>\n",
       "  </thead>\n",
       "  <tbody>\n",
       "    <tr>\n",
       "      <th>2017-01</th>\n",
       "      <td>1.0</td>\n",
       "      <td>0.005642</td>\n",
       "      <td>0.002821</td>\n",
       "      <td>0.001410</td>\n",
       "      <td>0.004231</td>\n",
       "      <td>0.001410</td>\n",
       "      <td>0.004231</td>\n",
       "      <td>0.001410</td>\n",
       "      <td>0.001410</td>\n",
       "      <td>0.000000</td>\n",
       "      <td>0.002821</td>\n",
       "      <td>0.002821</td>\n",
       "    </tr>\n",
       "    <tr>\n",
       "      <th>2017-02</th>\n",
       "      <td>1.0</td>\n",
       "      <td>0.002370</td>\n",
       "      <td>0.002370</td>\n",
       "      <td>0.001777</td>\n",
       "      <td>0.004147</td>\n",
       "      <td>0.001185</td>\n",
       "      <td>0.002370</td>\n",
       "      <td>0.001777</td>\n",
       "      <td>0.001185</td>\n",
       "      <td>0.001777</td>\n",
       "      <td>0.001185</td>\n",
       "      <td>NaN</td>\n",
       "    </tr>\n",
       "    <tr>\n",
       "      <th>2017-03</th>\n",
       "      <td>1.0</td>\n",
       "      <td>0.004998</td>\n",
       "      <td>0.003460</td>\n",
       "      <td>0.003460</td>\n",
       "      <td>0.003460</td>\n",
       "      <td>0.001538</td>\n",
       "      <td>0.001538</td>\n",
       "      <td>0.003076</td>\n",
       "      <td>0.003076</td>\n",
       "      <td>0.001153</td>\n",
       "      <td>NaN</td>\n",
       "      <td>NaN</td>\n",
       "    </tr>\n",
       "    <tr>\n",
       "      <th>2017-04</th>\n",
       "      <td>1.0</td>\n",
       "      <td>0.006090</td>\n",
       "      <td>0.002175</td>\n",
       "      <td>0.001740</td>\n",
       "      <td>0.003045</td>\n",
       "      <td>0.002610</td>\n",
       "      <td>0.003480</td>\n",
       "      <td>0.002610</td>\n",
       "      <td>0.003480</td>\n",
       "      <td>NaN</td>\n",
       "      <td>NaN</td>\n",
       "      <td>NaN</td>\n",
       "    </tr>\n",
       "    <tr>\n",
       "      <th>2017-05</th>\n",
       "      <td>1.0</td>\n",
       "      <td>0.005360</td>\n",
       "      <td>0.004795</td>\n",
       "      <td>0.003949</td>\n",
       "      <td>0.003103</td>\n",
       "      <td>0.003385</td>\n",
       "      <td>0.004231</td>\n",
       "      <td>0.001410</td>\n",
       "      <td>NaN</td>\n",
       "      <td>NaN</td>\n",
       "      <td>NaN</td>\n",
       "      <td>NaN</td>\n",
       "    </tr>\n",
       "    <tr>\n",
       "      <th>2017-06</th>\n",
       "      <td>1.0</td>\n",
       "      <td>0.004814</td>\n",
       "      <td>0.003530</td>\n",
       "      <td>0.003851</td>\n",
       "      <td>0.002567</td>\n",
       "      <td>0.003209</td>\n",
       "      <td>0.003851</td>\n",
       "      <td>NaN</td>\n",
       "      <td>NaN</td>\n",
       "      <td>NaN</td>\n",
       "      <td>NaN</td>\n",
       "      <td>NaN</td>\n",
       "    </tr>\n",
       "    <tr>\n",
       "      <th>2017-07</th>\n",
       "      <td>1.0</td>\n",
       "      <td>0.005276</td>\n",
       "      <td>0.003429</td>\n",
       "      <td>0.001846</td>\n",
       "      <td>0.003429</td>\n",
       "      <td>0.001846</td>\n",
       "      <td>NaN</td>\n",
       "      <td>NaN</td>\n",
       "      <td>NaN</td>\n",
       "      <td>NaN</td>\n",
       "      <td>NaN</td>\n",
       "      <td>NaN</td>\n",
       "    </tr>\n",
       "    <tr>\n",
       "      <th>2017-08</th>\n",
       "      <td>1.0</td>\n",
       "      <td>0.006739</td>\n",
       "      <td>0.003610</td>\n",
       "      <td>0.002647</td>\n",
       "      <td>0.003851</td>\n",
       "      <td>NaN</td>\n",
       "      <td>NaN</td>\n",
       "      <td>NaN</td>\n",
       "      <td>NaN</td>\n",
       "      <td>NaN</td>\n",
       "      <td>NaN</td>\n",
       "      <td>NaN</td>\n",
       "    </tr>\n",
       "    <tr>\n",
       "      <th>2017-09</th>\n",
       "      <td>1.0</td>\n",
       "      <td>0.006590</td>\n",
       "      <td>0.004882</td>\n",
       "      <td>0.003417</td>\n",
       "      <td>NaN</td>\n",
       "      <td>NaN</td>\n",
       "      <td>NaN</td>\n",
       "      <td>NaN</td>\n",
       "      <td>NaN</td>\n",
       "      <td>NaN</td>\n",
       "      <td>NaN</td>\n",
       "      <td>NaN</td>\n",
       "    </tr>\n",
       "    <tr>\n",
       "      <th>2017-10</th>\n",
       "      <td>1.0</td>\n",
       "      <td>0.006874</td>\n",
       "      <td>0.002979</td>\n",
       "      <td>NaN</td>\n",
       "      <td>NaN</td>\n",
       "      <td>NaN</td>\n",
       "      <td>NaN</td>\n",
       "      <td>NaN</td>\n",
       "      <td>NaN</td>\n",
       "      <td>NaN</td>\n",
       "      <td>NaN</td>\n",
       "      <td>NaN</td>\n",
       "    </tr>\n",
       "    <tr>\n",
       "      <th>2017-11</th>\n",
       "      <td>1.0</td>\n",
       "      <td>0.005533</td>\n",
       "      <td>NaN</td>\n",
       "      <td>NaN</td>\n",
       "      <td>NaN</td>\n",
       "      <td>NaN</td>\n",
       "      <td>NaN</td>\n",
       "      <td>NaN</td>\n",
       "      <td>NaN</td>\n",
       "      <td>NaN</td>\n",
       "      <td>NaN</td>\n",
       "      <td>NaN</td>\n",
       "    </tr>\n",
       "    <tr>\n",
       "      <th>2017-12</th>\n",
       "      <td>1.0</td>\n",
       "      <td>NaN</td>\n",
       "      <td>NaN</td>\n",
       "      <td>NaN</td>\n",
       "      <td>NaN</td>\n",
       "      <td>NaN</td>\n",
       "      <td>NaN</td>\n",
       "      <td>NaN</td>\n",
       "      <td>NaN</td>\n",
       "      <td>NaN</td>\n",
       "      <td>NaN</td>\n",
       "      <td>NaN</td>\n",
       "    </tr>\n",
       "  </tbody>\n",
       "</table>\n",
       "</div>"
      ],
      "text/plain": [
       "CohortPeriod   0         1         2         3         4         5         6   \\\n",
       "Cohort                                                                          \n",
       "2017-01       1.0  0.005642  0.002821  0.001410  0.004231  0.001410  0.004231   \n",
       "2017-02       1.0  0.002370  0.002370  0.001777  0.004147  0.001185  0.002370   \n",
       "2017-03       1.0  0.004998  0.003460  0.003460  0.003460  0.001538  0.001538   \n",
       "2017-04       1.0  0.006090  0.002175  0.001740  0.003045  0.002610  0.003480   \n",
       "2017-05       1.0  0.005360  0.004795  0.003949  0.003103  0.003385  0.004231   \n",
       "2017-06       1.0  0.004814  0.003530  0.003851  0.002567  0.003209  0.003851   \n",
       "2017-07       1.0  0.005276  0.003429  0.001846  0.003429  0.001846       NaN   \n",
       "2017-08       1.0  0.006739  0.003610  0.002647  0.003851       NaN       NaN   \n",
       "2017-09       1.0  0.006590  0.004882  0.003417       NaN       NaN       NaN   \n",
       "2017-10       1.0  0.006874  0.002979       NaN       NaN       NaN       NaN   \n",
       "2017-11       1.0  0.005533       NaN       NaN       NaN       NaN       NaN   \n",
       "2017-12       1.0       NaN       NaN       NaN       NaN       NaN       NaN   \n",
       "\n",
       "CohortPeriod        7         8         9         10        11  \n",
       "Cohort                                                          \n",
       "2017-01       0.001410  0.001410  0.000000  0.002821  0.002821  \n",
       "2017-02       0.001777  0.001185  0.001777  0.001185       NaN  \n",
       "2017-03       0.003076  0.003076  0.001153       NaN       NaN  \n",
       "2017-04       0.002610  0.003480       NaN       NaN       NaN  \n",
       "2017-05       0.001410       NaN       NaN       NaN       NaN  \n",
       "2017-06            NaN       NaN       NaN       NaN       NaN  \n",
       "2017-07            NaN       NaN       NaN       NaN       NaN  \n",
       "2017-08            NaN       NaN       NaN       NaN       NaN  \n",
       "2017-09            NaN       NaN       NaN       NaN       NaN  \n",
       "2017-10            NaN       NaN       NaN       NaN       NaN  \n",
       "2017-11            NaN       NaN       NaN       NaN       NaN  \n",
       "2017-12            NaN       NaN       NaN       NaN       NaN  "
      ]
     },
     "execution_count": 1190,
     "metadata": {},
     "output_type": "execute_result"
    }
   ],
   "source": [
    "df_cohort_analysis_2017_pivot"
   ]
  },
  {
   "cell_type": "code",
   "execution_count": 1191,
   "id": "4402b7d0",
   "metadata": {},
   "outputs": [
    {
     "data": {
      "text/html": [
       "<style type=\"text/css\">\n",
       "#T_68ee7_row0_col0, #T_68ee7_row0_col3, #T_68ee7_row0_col7, #T_68ee7_row0_col9, #T_68ee7_row0_col11, #T_68ee7_row1_col0, #T_68ee7_row1_col1, #T_68ee7_row1_col5, #T_68ee7_row1_col8, #T_68ee7_row1_col10, #T_68ee7_row2_col0, #T_68ee7_row2_col6, #T_68ee7_row3_col0, #T_68ee7_row3_col2, #T_68ee7_row4_col0, #T_68ee7_row4_col7, #T_68ee7_row5_col0, #T_68ee7_row5_col4, #T_68ee7_row6_col0, #T_68ee7_row7_col0, #T_68ee7_row8_col0, #T_68ee7_row9_col0, #T_68ee7_row10_col0, #T_68ee7_row11_col0 {\n",
       "  background-color: #440154;\n",
       "  color: #f1f1f1;\n",
       "}\n",
       "#T_68ee7_row0_col1 {\n",
       "  background-color: #50c46a;\n",
       "  color: #000000;\n",
       "}\n",
       "#T_68ee7_row0_col2 {\n",
       "  background-color: #3c4f8a;\n",
       "  color: #f1f1f1;\n",
       "}\n",
       "#T_68ee7_row0_col4, #T_68ee7_row0_col6, #T_68ee7_row0_col10, #T_68ee7_row1_col9, #T_68ee7_row2_col7, #T_68ee7_row3_col8, #T_68ee7_row4_col3, #T_68ee7_row4_col5, #T_68ee7_row4_col6, #T_68ee7_row8_col2, #T_68ee7_row9_col1 {\n",
       "  background-color: #fde725;\n",
       "  color: #000000;\n",
       "}\n",
       "#T_68ee7_row0_col5 {\n",
       "  background-color: #482576;\n",
       "  color: #f1f1f1;\n",
       "}\n",
       "#T_68ee7_row0_col8 {\n",
       "  background-color: #482475;\n",
       "  color: #f1f1f1;\n",
       "}\n",
       "#T_68ee7_row1_col2 {\n",
       "  background-color: #481b6d;\n",
       "  color: #f1f1f1;\n",
       "}\n",
       "#T_68ee7_row1_col3 {\n",
       "  background-color: #46327e;\n",
       "  color: #f1f1f1;\n",
       "}\n",
       "#T_68ee7_row1_col4 {\n",
       "  background-color: #dfe318;\n",
       "  color: #000000;\n",
       "}\n",
       "#T_68ee7_row1_col6 {\n",
       "  background-color: #33628d;\n",
       "  color: #f1f1f1;\n",
       "}\n",
       "#T_68ee7_row1_col7 {\n",
       "  background-color: #3e4989;\n",
       "  color: #f1f1f1;\n",
       "}\n",
       "#T_68ee7_row1_col11, #T_68ee7_row2_col11, #T_68ee7_row3_col11, #T_68ee7_row4_col11, #T_68ee7_row5_col11, #T_68ee7_row6_col11, #T_68ee7_row7_col11, #T_68ee7_row8_col11, #T_68ee7_row9_col11, #T_68ee7_row10_col11, #T_68ee7_row11_col11 {\n",
       "  background-color: #440154;\n",
       "  color: #f1f1f1;\n",
       "  background-color: white;\n",
       "}\n",
       "#T_68ee7_row2_col1 {\n",
       "  background-color: #20a486;\n",
       "  color: #f1f1f1;\n",
       "}\n",
       "#T_68ee7_row2_col2 {\n",
       "  background-color: #238a8d;\n",
       "  color: #f1f1f1;\n",
       "}\n",
       "#T_68ee7_row2_col3 {\n",
       "  background-color: #7fd34e;\n",
       "  color: #000000;\n",
       "}\n",
       "#T_68ee7_row2_col4 {\n",
       "  background-color: #1f998a;\n",
       "  color: #f1f1f1;\n",
       "}\n",
       "#T_68ee7_row2_col5 {\n",
       "  background-color: #453882;\n",
       "  color: #f1f1f1;\n",
       "}\n",
       "#T_68ee7_row2_col8 {\n",
       "  background-color: #89d548;\n",
       "  color: #000000;\n",
       "}\n",
       "#T_68ee7_row2_col9 {\n",
       "  background-color: #2fb47c;\n",
       "  color: #f1f1f1;\n",
       "}\n",
       "#T_68ee7_row2_col10, #T_68ee7_row3_col9, #T_68ee7_row3_col10, #T_68ee7_row4_col8, #T_68ee7_row4_col9, #T_68ee7_row4_col10, #T_68ee7_row5_col7, #T_68ee7_row5_col8, #T_68ee7_row5_col9, #T_68ee7_row5_col10, #T_68ee7_row6_col6, #T_68ee7_row6_col7, #T_68ee7_row6_col8, #T_68ee7_row6_col9, #T_68ee7_row6_col10, #T_68ee7_row7_col5, #T_68ee7_row7_col6, #T_68ee7_row7_col7, #T_68ee7_row7_col8, #T_68ee7_row7_col9, #T_68ee7_row7_col10, #T_68ee7_row8_col4, #T_68ee7_row8_col5, #T_68ee7_row8_col6, #T_68ee7_row8_col7, #T_68ee7_row8_col8, #T_68ee7_row8_col9, #T_68ee7_row8_col10, #T_68ee7_row9_col3, #T_68ee7_row9_col4, #T_68ee7_row9_col5, #T_68ee7_row9_col6, #T_68ee7_row9_col7, #T_68ee7_row9_col8, #T_68ee7_row9_col9, #T_68ee7_row9_col10, #T_68ee7_row10_col2, #T_68ee7_row10_col3, #T_68ee7_row10_col4, #T_68ee7_row10_col5, #T_68ee7_row10_col6, #T_68ee7_row10_col7, #T_68ee7_row10_col8, #T_68ee7_row10_col9, #T_68ee7_row10_col10, #T_68ee7_row11_col1, #T_68ee7_row11_col2, #T_68ee7_row11_col3, #T_68ee7_row11_col4, #T_68ee7_row11_col5, #T_68ee7_row11_col6, #T_68ee7_row11_col7, #T_68ee7_row11_col8, #T_68ee7_row11_col9, #T_68ee7_row11_col10 {\n",
       "  background-color: #000000;\n",
       "  color: #f1f1f1;\n",
       "  background-color: white;\n",
       "}\n",
       "#T_68ee7_row3_col1 {\n",
       "  background-color: #8bd646;\n",
       "  color: #000000;\n",
       "}\n",
       "#T_68ee7_row3_col3 {\n",
       "  background-color: #472e7c;\n",
       "  color: #f1f1f1;\n",
       "}\n",
       "#T_68ee7_row3_col4 {\n",
       "  background-color: #365c8d;\n",
       "  color: #f1f1f1;\n",
       "}\n",
       "#T_68ee7_row3_col5, #T_68ee7_row6_col1 {\n",
       "  background-color: #2eb37c;\n",
       "  color: #f1f1f1;\n",
       "}\n",
       "#T_68ee7_row3_col6, #T_68ee7_row3_col7 {\n",
       "  background-color: #4ec36b;\n",
       "  color: #000000;\n",
       "}\n",
       "#T_68ee7_row4_col1 {\n",
       "  background-color: #34b679;\n",
       "  color: #f1f1f1;\n",
       "}\n",
       "#T_68ee7_row4_col2 {\n",
       "  background-color: #eae51a;\n",
       "  color: #000000;\n",
       "}\n",
       "#T_68ee7_row4_col4 {\n",
       "  background-color: #32658e;\n",
       "  color: #f1f1f1;\n",
       "}\n",
       "#T_68ee7_row5_col1 {\n",
       "  background-color: #1f9a8a;\n",
       "  color: #f1f1f1;\n",
       "}\n",
       "#T_68ee7_row5_col2 {\n",
       "  background-color: #21918c;\n",
       "  color: #f1f1f1;\n",
       "}\n",
       "#T_68ee7_row5_col3 {\n",
       "  background-color: #e7e419;\n",
       "  color: #000000;\n",
       "}\n",
       "#T_68ee7_row5_col5 {\n",
       "  background-color: #cae11f;\n",
       "  color: #000000;\n",
       "}\n",
       "#T_68ee7_row5_col6 {\n",
       "  background-color: #a0da39;\n",
       "  color: #000000;\n",
       "}\n",
       "#T_68ee7_row6_col2 {\n",
       "  background-color: #24878e;\n",
       "  color: #f1f1f1;\n",
       "}\n",
       "#T_68ee7_row6_col3 {\n",
       "  background-color: #443a83;\n",
       "  color: #f1f1f1;\n",
       "}\n",
       "#T_68ee7_row6_col4 {\n",
       "  background-color: #1f948c;\n",
       "  color: #f1f1f1;\n",
       "}\n",
       "#T_68ee7_row6_col5, #T_68ee7_row9_col2 {\n",
       "  background-color: #355f8d;\n",
       "  color: #f1f1f1;\n",
       "}\n",
       "#T_68ee7_row7_col1 {\n",
       "  background-color: #ece51b;\n",
       "  color: #000000;\n",
       "}\n",
       "#T_68ee7_row7_col2 {\n",
       "  background-color: #1f978b;\n",
       "  color: #f1f1f1;\n",
       "}\n",
       "#T_68ee7_row7_col3 {\n",
       "  background-color: #228d8d;\n",
       "  color: #f1f1f1;\n",
       "}\n",
       "#T_68ee7_row7_col4 {\n",
       "  background-color: #69cd5b;\n",
       "  color: #000000;\n",
       "}\n",
       "#T_68ee7_row8_col1 {\n",
       "  background-color: #d5e21a;\n",
       "  color: #000000;\n",
       "}\n",
       "#T_68ee7_row8_col3 {\n",
       "  background-color: #75d054;\n",
       "  color: #000000;\n",
       "}\n",
       "#T_68ee7_row10_col1 {\n",
       "  background-color: #44bf70;\n",
       "  color: #f1f1f1;\n",
       "}\n",
       "</style>\n",
       "<table id=\"T_68ee7\">\n",
       "  <caption>Retention by cohort</caption>\n",
       "  <thead>\n",
       "    <tr>\n",
       "      <th class=\"index_name level0\" >CohortPeriod</th>\n",
       "      <th id=\"T_68ee7_level0_col0\" class=\"col_heading level0 col0\" >0</th>\n",
       "      <th id=\"T_68ee7_level0_col1\" class=\"col_heading level0 col1\" >1</th>\n",
       "      <th id=\"T_68ee7_level0_col2\" class=\"col_heading level0 col2\" >2</th>\n",
       "      <th id=\"T_68ee7_level0_col3\" class=\"col_heading level0 col3\" >3</th>\n",
       "      <th id=\"T_68ee7_level0_col4\" class=\"col_heading level0 col4\" >4</th>\n",
       "      <th id=\"T_68ee7_level0_col5\" class=\"col_heading level0 col5\" >5</th>\n",
       "      <th id=\"T_68ee7_level0_col6\" class=\"col_heading level0 col6\" >6</th>\n",
       "      <th id=\"T_68ee7_level0_col7\" class=\"col_heading level0 col7\" >7</th>\n",
       "      <th id=\"T_68ee7_level0_col8\" class=\"col_heading level0 col8\" >8</th>\n",
       "      <th id=\"T_68ee7_level0_col9\" class=\"col_heading level0 col9\" >9</th>\n",
       "      <th id=\"T_68ee7_level0_col10\" class=\"col_heading level0 col10\" >10</th>\n",
       "      <th id=\"T_68ee7_level0_col11\" class=\"col_heading level0 col11\" >11</th>\n",
       "    </tr>\n",
       "    <tr>\n",
       "      <th class=\"index_name level0\" >Cohort</th>\n",
       "      <th class=\"blank col0\" >&nbsp;</th>\n",
       "      <th class=\"blank col1\" >&nbsp;</th>\n",
       "      <th class=\"blank col2\" >&nbsp;</th>\n",
       "      <th class=\"blank col3\" >&nbsp;</th>\n",
       "      <th class=\"blank col4\" >&nbsp;</th>\n",
       "      <th class=\"blank col5\" >&nbsp;</th>\n",
       "      <th class=\"blank col6\" >&nbsp;</th>\n",
       "      <th class=\"blank col7\" >&nbsp;</th>\n",
       "      <th class=\"blank col8\" >&nbsp;</th>\n",
       "      <th class=\"blank col9\" >&nbsp;</th>\n",
       "      <th class=\"blank col10\" >&nbsp;</th>\n",
       "      <th class=\"blank col11\" >&nbsp;</th>\n",
       "    </tr>\n",
       "  </thead>\n",
       "  <tbody>\n",
       "    <tr>\n",
       "      <th id=\"T_68ee7_level0_row0\" class=\"row_heading level0 row0\" >2017-01</th>\n",
       "      <td id=\"T_68ee7_row0_col0\" class=\"data row0 col0\" >100.0000%</td>\n",
       "      <td id=\"T_68ee7_row0_col1\" class=\"data row0 col1\" >0.5642%</td>\n",
       "      <td id=\"T_68ee7_row0_col2\" class=\"data row0 col2\" >0.2821%</td>\n",
       "      <td id=\"T_68ee7_row0_col3\" class=\"data row0 col3\" >0.1410%</td>\n",
       "      <td id=\"T_68ee7_row0_col4\" class=\"data row0 col4\" >0.4231%</td>\n",
       "      <td id=\"T_68ee7_row0_col5\" class=\"data row0 col5\" >0.1410%</td>\n",
       "      <td id=\"T_68ee7_row0_col6\" class=\"data row0 col6\" >0.4231%</td>\n",
       "      <td id=\"T_68ee7_row0_col7\" class=\"data row0 col7\" >0.1410%</td>\n",
       "      <td id=\"T_68ee7_row0_col8\" class=\"data row0 col8\" >0.1410%</td>\n",
       "      <td id=\"T_68ee7_row0_col9\" class=\"data row0 col9\" >0.0000%</td>\n",
       "      <td id=\"T_68ee7_row0_col10\" class=\"data row0 col10\" >0.2821%</td>\n",
       "      <td id=\"T_68ee7_row0_col11\" class=\"data row0 col11\" >0.2821%</td>\n",
       "    </tr>\n",
       "    <tr>\n",
       "      <th id=\"T_68ee7_level0_row1\" class=\"row_heading level0 row1\" >2017-02</th>\n",
       "      <td id=\"T_68ee7_row1_col0\" class=\"data row1 col0\" >100.0000%</td>\n",
       "      <td id=\"T_68ee7_row1_col1\" class=\"data row1 col1\" >0.2370%</td>\n",
       "      <td id=\"T_68ee7_row1_col2\" class=\"data row1 col2\" >0.2370%</td>\n",
       "      <td id=\"T_68ee7_row1_col3\" class=\"data row1 col3\" >0.1777%</td>\n",
       "      <td id=\"T_68ee7_row1_col4\" class=\"data row1 col4\" >0.4147%</td>\n",
       "      <td id=\"T_68ee7_row1_col5\" class=\"data row1 col5\" >0.1185%</td>\n",
       "      <td id=\"T_68ee7_row1_col6\" class=\"data row1 col6\" >0.2370%</td>\n",
       "      <td id=\"T_68ee7_row1_col7\" class=\"data row1 col7\" >0.1777%</td>\n",
       "      <td id=\"T_68ee7_row1_col8\" class=\"data row1 col8\" >0.1185%</td>\n",
       "      <td id=\"T_68ee7_row1_col9\" class=\"data row1 col9\" >0.1777%</td>\n",
       "      <td id=\"T_68ee7_row1_col10\" class=\"data row1 col10\" >0.1185%</td>\n",
       "      <td id=\"T_68ee7_row1_col11\" class=\"data row1 col11\" ></td>\n",
       "    </tr>\n",
       "    <tr>\n",
       "      <th id=\"T_68ee7_level0_row2\" class=\"row_heading level0 row2\" >2017-03</th>\n",
       "      <td id=\"T_68ee7_row2_col0\" class=\"data row2 col0\" >100.0000%</td>\n",
       "      <td id=\"T_68ee7_row2_col1\" class=\"data row2 col1\" >0.4998%</td>\n",
       "      <td id=\"T_68ee7_row2_col2\" class=\"data row2 col2\" >0.3460%</td>\n",
       "      <td id=\"T_68ee7_row2_col3\" class=\"data row2 col3\" >0.3460%</td>\n",
       "      <td id=\"T_68ee7_row2_col4\" class=\"data row2 col4\" >0.3460%</td>\n",
       "      <td id=\"T_68ee7_row2_col5\" class=\"data row2 col5\" >0.1538%</td>\n",
       "      <td id=\"T_68ee7_row2_col6\" class=\"data row2 col6\" >0.1538%</td>\n",
       "      <td id=\"T_68ee7_row2_col7\" class=\"data row2 col7\" >0.3076%</td>\n",
       "      <td id=\"T_68ee7_row2_col8\" class=\"data row2 col8\" >0.3076%</td>\n",
       "      <td id=\"T_68ee7_row2_col9\" class=\"data row2 col9\" >0.1153%</td>\n",
       "      <td id=\"T_68ee7_row2_col10\" class=\"data row2 col10\" ></td>\n",
       "      <td id=\"T_68ee7_row2_col11\" class=\"data row2 col11\" ></td>\n",
       "    </tr>\n",
       "    <tr>\n",
       "      <th id=\"T_68ee7_level0_row3\" class=\"row_heading level0 row3\" >2017-04</th>\n",
       "      <td id=\"T_68ee7_row3_col0\" class=\"data row3 col0\" >100.0000%</td>\n",
       "      <td id=\"T_68ee7_row3_col1\" class=\"data row3 col1\" >0.6090%</td>\n",
       "      <td id=\"T_68ee7_row3_col2\" class=\"data row3 col2\" >0.2175%</td>\n",
       "      <td id=\"T_68ee7_row3_col3\" class=\"data row3 col3\" >0.1740%</td>\n",
       "      <td id=\"T_68ee7_row3_col4\" class=\"data row3 col4\" >0.3045%</td>\n",
       "      <td id=\"T_68ee7_row3_col5\" class=\"data row3 col5\" >0.2610%</td>\n",
       "      <td id=\"T_68ee7_row3_col6\" class=\"data row3 col6\" >0.3480%</td>\n",
       "      <td id=\"T_68ee7_row3_col7\" class=\"data row3 col7\" >0.2610%</td>\n",
       "      <td id=\"T_68ee7_row3_col8\" class=\"data row3 col8\" >0.3480%</td>\n",
       "      <td id=\"T_68ee7_row3_col9\" class=\"data row3 col9\" ></td>\n",
       "      <td id=\"T_68ee7_row3_col10\" class=\"data row3 col10\" ></td>\n",
       "      <td id=\"T_68ee7_row3_col11\" class=\"data row3 col11\" ></td>\n",
       "    </tr>\n",
       "    <tr>\n",
       "      <th id=\"T_68ee7_level0_row4\" class=\"row_heading level0 row4\" >2017-05</th>\n",
       "      <td id=\"T_68ee7_row4_col0\" class=\"data row4 col0\" >100.0000%</td>\n",
       "      <td id=\"T_68ee7_row4_col1\" class=\"data row4 col1\" >0.5360%</td>\n",
       "      <td id=\"T_68ee7_row4_col2\" class=\"data row4 col2\" >0.4795%</td>\n",
       "      <td id=\"T_68ee7_row4_col3\" class=\"data row4 col3\" >0.3949%</td>\n",
       "      <td id=\"T_68ee7_row4_col4\" class=\"data row4 col4\" >0.3103%</td>\n",
       "      <td id=\"T_68ee7_row4_col5\" class=\"data row4 col5\" >0.3385%</td>\n",
       "      <td id=\"T_68ee7_row4_col6\" class=\"data row4 col6\" >0.4231%</td>\n",
       "      <td id=\"T_68ee7_row4_col7\" class=\"data row4 col7\" >0.1410%</td>\n",
       "      <td id=\"T_68ee7_row4_col8\" class=\"data row4 col8\" ></td>\n",
       "      <td id=\"T_68ee7_row4_col9\" class=\"data row4 col9\" ></td>\n",
       "      <td id=\"T_68ee7_row4_col10\" class=\"data row4 col10\" ></td>\n",
       "      <td id=\"T_68ee7_row4_col11\" class=\"data row4 col11\" ></td>\n",
       "    </tr>\n",
       "    <tr>\n",
       "      <th id=\"T_68ee7_level0_row5\" class=\"row_heading level0 row5\" >2017-06</th>\n",
       "      <td id=\"T_68ee7_row5_col0\" class=\"data row5 col0\" >100.0000%</td>\n",
       "      <td id=\"T_68ee7_row5_col1\" class=\"data row5 col1\" >0.4814%</td>\n",
       "      <td id=\"T_68ee7_row5_col2\" class=\"data row5 col2\" >0.3530%</td>\n",
       "      <td id=\"T_68ee7_row5_col3\" class=\"data row5 col3\" >0.3851%</td>\n",
       "      <td id=\"T_68ee7_row5_col4\" class=\"data row5 col4\" >0.2567%</td>\n",
       "      <td id=\"T_68ee7_row5_col5\" class=\"data row5 col5\" >0.3209%</td>\n",
       "      <td id=\"T_68ee7_row5_col6\" class=\"data row5 col6\" >0.3851%</td>\n",
       "      <td id=\"T_68ee7_row5_col7\" class=\"data row5 col7\" ></td>\n",
       "      <td id=\"T_68ee7_row5_col8\" class=\"data row5 col8\" ></td>\n",
       "      <td id=\"T_68ee7_row5_col9\" class=\"data row5 col9\" ></td>\n",
       "      <td id=\"T_68ee7_row5_col10\" class=\"data row5 col10\" ></td>\n",
       "      <td id=\"T_68ee7_row5_col11\" class=\"data row5 col11\" ></td>\n",
       "    </tr>\n",
       "    <tr>\n",
       "      <th id=\"T_68ee7_level0_row6\" class=\"row_heading level0 row6\" >2017-07</th>\n",
       "      <td id=\"T_68ee7_row6_col0\" class=\"data row6 col0\" >100.0000%</td>\n",
       "      <td id=\"T_68ee7_row6_col1\" class=\"data row6 col1\" >0.5276%</td>\n",
       "      <td id=\"T_68ee7_row6_col2\" class=\"data row6 col2\" >0.3429%</td>\n",
       "      <td id=\"T_68ee7_row6_col3\" class=\"data row6 col3\" >0.1846%</td>\n",
       "      <td id=\"T_68ee7_row6_col4\" class=\"data row6 col4\" >0.3429%</td>\n",
       "      <td id=\"T_68ee7_row6_col5\" class=\"data row6 col5\" >0.1846%</td>\n",
       "      <td id=\"T_68ee7_row6_col6\" class=\"data row6 col6\" ></td>\n",
       "      <td id=\"T_68ee7_row6_col7\" class=\"data row6 col7\" ></td>\n",
       "      <td id=\"T_68ee7_row6_col8\" class=\"data row6 col8\" ></td>\n",
       "      <td id=\"T_68ee7_row6_col9\" class=\"data row6 col9\" ></td>\n",
       "      <td id=\"T_68ee7_row6_col10\" class=\"data row6 col10\" ></td>\n",
       "      <td id=\"T_68ee7_row6_col11\" class=\"data row6 col11\" ></td>\n",
       "    </tr>\n",
       "    <tr>\n",
       "      <th id=\"T_68ee7_level0_row7\" class=\"row_heading level0 row7\" >2017-08</th>\n",
       "      <td id=\"T_68ee7_row7_col0\" class=\"data row7 col0\" >100.0000%</td>\n",
       "      <td id=\"T_68ee7_row7_col1\" class=\"data row7 col1\" >0.6739%</td>\n",
       "      <td id=\"T_68ee7_row7_col2\" class=\"data row7 col2\" >0.3610%</td>\n",
       "      <td id=\"T_68ee7_row7_col3\" class=\"data row7 col3\" >0.2647%</td>\n",
       "      <td id=\"T_68ee7_row7_col4\" class=\"data row7 col4\" >0.3851%</td>\n",
       "      <td id=\"T_68ee7_row7_col5\" class=\"data row7 col5\" ></td>\n",
       "      <td id=\"T_68ee7_row7_col6\" class=\"data row7 col6\" ></td>\n",
       "      <td id=\"T_68ee7_row7_col7\" class=\"data row7 col7\" ></td>\n",
       "      <td id=\"T_68ee7_row7_col8\" class=\"data row7 col8\" ></td>\n",
       "      <td id=\"T_68ee7_row7_col9\" class=\"data row7 col9\" ></td>\n",
       "      <td id=\"T_68ee7_row7_col10\" class=\"data row7 col10\" ></td>\n",
       "      <td id=\"T_68ee7_row7_col11\" class=\"data row7 col11\" ></td>\n",
       "    </tr>\n",
       "    <tr>\n",
       "      <th id=\"T_68ee7_level0_row8\" class=\"row_heading level0 row8\" >2017-09</th>\n",
       "      <td id=\"T_68ee7_row8_col0\" class=\"data row8 col0\" >100.0000%</td>\n",
       "      <td id=\"T_68ee7_row8_col1\" class=\"data row8 col1\" >0.6590%</td>\n",
       "      <td id=\"T_68ee7_row8_col2\" class=\"data row8 col2\" >0.4882%</td>\n",
       "      <td id=\"T_68ee7_row8_col3\" class=\"data row8 col3\" >0.3417%</td>\n",
       "      <td id=\"T_68ee7_row8_col4\" class=\"data row8 col4\" ></td>\n",
       "      <td id=\"T_68ee7_row8_col5\" class=\"data row8 col5\" ></td>\n",
       "      <td id=\"T_68ee7_row8_col6\" class=\"data row8 col6\" ></td>\n",
       "      <td id=\"T_68ee7_row8_col7\" class=\"data row8 col7\" ></td>\n",
       "      <td id=\"T_68ee7_row8_col8\" class=\"data row8 col8\" ></td>\n",
       "      <td id=\"T_68ee7_row8_col9\" class=\"data row8 col9\" ></td>\n",
       "      <td id=\"T_68ee7_row8_col10\" class=\"data row8 col10\" ></td>\n",
       "      <td id=\"T_68ee7_row8_col11\" class=\"data row8 col11\" ></td>\n",
       "    </tr>\n",
       "    <tr>\n",
       "      <th id=\"T_68ee7_level0_row9\" class=\"row_heading level0 row9\" >2017-10</th>\n",
       "      <td id=\"T_68ee7_row9_col0\" class=\"data row9 col0\" >100.0000%</td>\n",
       "      <td id=\"T_68ee7_row9_col1\" class=\"data row9 col1\" >0.6874%</td>\n",
       "      <td id=\"T_68ee7_row9_col2\" class=\"data row9 col2\" >0.2979%</td>\n",
       "      <td id=\"T_68ee7_row9_col3\" class=\"data row9 col3\" ></td>\n",
       "      <td id=\"T_68ee7_row9_col4\" class=\"data row9 col4\" ></td>\n",
       "      <td id=\"T_68ee7_row9_col5\" class=\"data row9 col5\" ></td>\n",
       "      <td id=\"T_68ee7_row9_col6\" class=\"data row9 col6\" ></td>\n",
       "      <td id=\"T_68ee7_row9_col7\" class=\"data row9 col7\" ></td>\n",
       "      <td id=\"T_68ee7_row9_col8\" class=\"data row9 col8\" ></td>\n",
       "      <td id=\"T_68ee7_row9_col9\" class=\"data row9 col9\" ></td>\n",
       "      <td id=\"T_68ee7_row9_col10\" class=\"data row9 col10\" ></td>\n",
       "      <td id=\"T_68ee7_row9_col11\" class=\"data row9 col11\" ></td>\n",
       "    </tr>\n",
       "    <tr>\n",
       "      <th id=\"T_68ee7_level0_row10\" class=\"row_heading level0 row10\" >2017-11</th>\n",
       "      <td id=\"T_68ee7_row10_col0\" class=\"data row10 col0\" >100.0000%</td>\n",
       "      <td id=\"T_68ee7_row10_col1\" class=\"data row10 col1\" >0.5533%</td>\n",
       "      <td id=\"T_68ee7_row10_col2\" class=\"data row10 col2\" ></td>\n",
       "      <td id=\"T_68ee7_row10_col3\" class=\"data row10 col3\" ></td>\n",
       "      <td id=\"T_68ee7_row10_col4\" class=\"data row10 col4\" ></td>\n",
       "      <td id=\"T_68ee7_row10_col5\" class=\"data row10 col5\" ></td>\n",
       "      <td id=\"T_68ee7_row10_col6\" class=\"data row10 col6\" ></td>\n",
       "      <td id=\"T_68ee7_row10_col7\" class=\"data row10 col7\" ></td>\n",
       "      <td id=\"T_68ee7_row10_col8\" class=\"data row10 col8\" ></td>\n",
       "      <td id=\"T_68ee7_row10_col9\" class=\"data row10 col9\" ></td>\n",
       "      <td id=\"T_68ee7_row10_col10\" class=\"data row10 col10\" ></td>\n",
       "      <td id=\"T_68ee7_row10_col11\" class=\"data row10 col11\" ></td>\n",
       "    </tr>\n",
       "    <tr>\n",
       "      <th id=\"T_68ee7_level0_row11\" class=\"row_heading level0 row11\" >2017-12</th>\n",
       "      <td id=\"T_68ee7_row11_col0\" class=\"data row11 col0\" >100.0000%</td>\n",
       "      <td id=\"T_68ee7_row11_col1\" class=\"data row11 col1\" ></td>\n",
       "      <td id=\"T_68ee7_row11_col2\" class=\"data row11 col2\" ></td>\n",
       "      <td id=\"T_68ee7_row11_col3\" class=\"data row11 col3\" ></td>\n",
       "      <td id=\"T_68ee7_row11_col4\" class=\"data row11 col4\" ></td>\n",
       "      <td id=\"T_68ee7_row11_col5\" class=\"data row11 col5\" ></td>\n",
       "      <td id=\"T_68ee7_row11_col6\" class=\"data row11 col6\" ></td>\n",
       "      <td id=\"T_68ee7_row11_col7\" class=\"data row11 col7\" ></td>\n",
       "      <td id=\"T_68ee7_row11_col8\" class=\"data row11 col8\" ></td>\n",
       "      <td id=\"T_68ee7_row11_col9\" class=\"data row11 col9\" ></td>\n",
       "      <td id=\"T_68ee7_row11_col10\" class=\"data row11 col10\" ></td>\n",
       "      <td id=\"T_68ee7_row11_col11\" class=\"data row11 col11\" ></td>\n",
       "    </tr>\n",
       "  </tbody>\n",
       "</table>\n"
      ],
      "text/plain": [
       "<pandas.io.formats.style.Styler at 0x7fb6104e92d0>"
      ]
     },
     "execution_count": 1191,
     "metadata": {},
     "output_type": "execute_result"
    }
   ],
   "source": [
    "ur_style = (df_cohort_analysis_2017_pivot\n",
    "            .style\n",
    "            .set_caption('Retention by cohort')   # добавляем подпись\n",
    "            .background_gradient(cmap='viridis')  # раскрашиваем ячейки по столбцам\n",
    "            .highlight_null('white')              # делаем белый фон для значений NaN\n",
    "            .format(\"{:.4%}\", na_rep=\"\"))         # числа форматируем как проценты, NaN заменяем на пустоту\n",
    "ur_style"
   ]
  },
  {
   "cell_type": "markdown",
   "id": "89f03a2c",
   "metadata": {},
   "source": [
    "Видим, что самый высокий retention на 3й месяц оказался у когорты 2017-05 (0.3949%)"
   ]
  },
  {
   "cell_type": "markdown",
   "id": "dde67c20",
   "metadata": {},
   "source": [
    "### Ответ: в период с января по декабрь 2017 года самым высоким retention на 3й месяц оказался у когорты 2017-05 (0.3949%)."
   ]
  },
  {
   "cell_type": "markdown",
   "id": "44192e7b",
   "metadata": {},
   "source": [
    "## 6. Часто для качественного анализа аудитории использую подходы, основанные на сегментации. Используя python, построй RFM-сегментацию пользователей, чтобы качественно оценить свою аудиторию. "
   ]
  },
  {
   "cell_type": "code",
   "execution_count": 1192,
   "id": "d568fd40",
   "metadata": {},
   "outputs": [
    {
     "data": {
      "text/html": [
       "<div>\n",
       "<style scoped>\n",
       "    .dataframe tbody tr th:only-of-type {\n",
       "        vertical-align: middle;\n",
       "    }\n",
       "\n",
       "    .dataframe tbody tr th {\n",
       "        vertical-align: top;\n",
       "    }\n",
       "\n",
       "    .dataframe thead th {\n",
       "        text-align: right;\n",
       "    }\n",
       "</style>\n",
       "<table border=\"1\" class=\"dataframe\">\n",
       "  <thead>\n",
       "    <tr style=\"text-align: right;\">\n",
       "      <th></th>\n",
       "      <th>order_id</th>\n",
       "      <th>customer_id</th>\n",
       "      <th>order_status</th>\n",
       "      <th>order_purchase_timestamp</th>\n",
       "      <th>order_approved_at</th>\n",
       "      <th>order_delivered_carrier_date</th>\n",
       "      <th>order_delivered_customer_date</th>\n",
       "      <th>order_estimated_delivery_date</th>\n",
       "    </tr>\n",
       "  </thead>\n",
       "  <tbody>\n",
       "    <tr>\n",
       "      <th>0</th>\n",
       "      <td>e481f51cbdc54678b7cc49136f2d6af7</td>\n",
       "      <td>9ef432eb6251297304e76186b10a928d</td>\n",
       "      <td>delivered</td>\n",
       "      <td>2017-10-02 10:56:33</td>\n",
       "      <td>2017-10-02 11:07:15</td>\n",
       "      <td>2017-10-04 19:55:00</td>\n",
       "      <td>2017-10-10 21:25:13</td>\n",
       "      <td>2017-10-18</td>\n",
       "    </tr>\n",
       "    <tr>\n",
       "      <th>1</th>\n",
       "      <td>53cdb2fc8bc7dce0b6741e2150273451</td>\n",
       "      <td>b0830fb4747a6c6d20dea0b8c802d7ef</td>\n",
       "      <td>delivered</td>\n",
       "      <td>2018-07-24 20:41:37</td>\n",
       "      <td>2018-07-26 03:24:27</td>\n",
       "      <td>2018-07-26 14:31:00</td>\n",
       "      <td>2018-08-07 15:27:45</td>\n",
       "      <td>2018-08-13</td>\n",
       "    </tr>\n",
       "    <tr>\n",
       "      <th>2</th>\n",
       "      <td>47770eb9100c2d0c44946d9cf07ec65d</td>\n",
       "      <td>41ce2a54c0b03bf3443c3d931a367089</td>\n",
       "      <td>delivered</td>\n",
       "      <td>2018-08-08 08:38:49</td>\n",
       "      <td>2018-08-08 08:55:23</td>\n",
       "      <td>2018-08-08 13:50:00</td>\n",
       "      <td>2018-08-17 18:06:29</td>\n",
       "      <td>2018-09-04</td>\n",
       "    </tr>\n",
       "    <tr>\n",
       "      <th>3</th>\n",
       "      <td>949d5b44dbf5de918fe9c16f97b45f8a</td>\n",
       "      <td>f88197465ea7920adcdbec7375364d82</td>\n",
       "      <td>delivered</td>\n",
       "      <td>2017-11-18 19:28:06</td>\n",
       "      <td>2017-11-18 19:45:59</td>\n",
       "      <td>2017-11-22 13:39:59</td>\n",
       "      <td>2017-12-02 00:28:42</td>\n",
       "      <td>2017-12-15</td>\n",
       "    </tr>\n",
       "    <tr>\n",
       "      <th>4</th>\n",
       "      <td>ad21c59c0840e6cb83a9ceb5573f8159</td>\n",
       "      <td>8ab97904e6daea8866dbdbc4fb7aad2c</td>\n",
       "      <td>delivered</td>\n",
       "      <td>2018-02-13 21:18:39</td>\n",
       "      <td>2018-02-13 22:20:29</td>\n",
       "      <td>2018-02-14 19:46:34</td>\n",
       "      <td>2018-02-16 18:17:02</td>\n",
       "      <td>2018-02-26</td>\n",
       "    </tr>\n",
       "  </tbody>\n",
       "</table>\n",
       "</div>"
      ],
      "text/plain": [
       "                           order_id                       customer_id  \\\n",
       "0  e481f51cbdc54678b7cc49136f2d6af7  9ef432eb6251297304e76186b10a928d   \n",
       "1  53cdb2fc8bc7dce0b6741e2150273451  b0830fb4747a6c6d20dea0b8c802d7ef   \n",
       "2  47770eb9100c2d0c44946d9cf07ec65d  41ce2a54c0b03bf3443c3d931a367089   \n",
       "3  949d5b44dbf5de918fe9c16f97b45f8a  f88197465ea7920adcdbec7375364d82   \n",
       "4  ad21c59c0840e6cb83a9ceb5573f8159  8ab97904e6daea8866dbdbc4fb7aad2c   \n",
       "\n",
       "  order_status order_purchase_timestamp   order_approved_at  \\\n",
       "0    delivered      2017-10-02 10:56:33 2017-10-02 11:07:15   \n",
       "1    delivered      2018-07-24 20:41:37 2018-07-26 03:24:27   \n",
       "2    delivered      2018-08-08 08:38:49 2018-08-08 08:55:23   \n",
       "3    delivered      2017-11-18 19:28:06 2017-11-18 19:45:59   \n",
       "4    delivered      2018-02-13 21:18:39 2018-02-13 22:20:29   \n",
       "\n",
       "  order_delivered_carrier_date order_delivered_customer_date  \\\n",
       "0          2017-10-04 19:55:00           2017-10-10 21:25:13   \n",
       "1          2018-07-26 14:31:00           2018-08-07 15:27:45   \n",
       "2          2018-08-08 13:50:00           2018-08-17 18:06:29   \n",
       "3          2017-11-22 13:39:59           2017-12-02 00:28:42   \n",
       "4          2018-02-14 19:46:34           2018-02-16 18:17:02   \n",
       "\n",
       "  order_estimated_delivery_date  \n",
       "0                    2017-10-18  \n",
       "1                    2018-08-13  \n",
       "2                    2018-09-04  \n",
       "3                    2017-12-15  \n",
       "4                    2018-02-26  "
      ]
     },
     "execution_count": 1192,
     "metadata": {},
     "output_type": "execute_result"
    }
   ],
   "source": [
    "df_orders_with_purch.head()"
   ]
  },
  {
   "cell_type": "code",
   "execution_count": 1193,
   "id": "c71acefa",
   "metadata": {},
   "outputs": [
    {
     "data": {
      "text/plain": [
       "(98346, 8)"
      ]
     },
     "execution_count": 1193,
     "metadata": {},
     "output_type": "execute_result"
    }
   ],
   "source": [
    "df_orders_with_purch.shape"
   ]
  },
  {
   "cell_type": "markdown",
   "id": "013b5524",
   "metadata": {},
   "source": [
    "Как и в прошлом задании, считаем, что покупка совершается в день, указанный в колонке order_approved_at (т.е. в данный день оплачивается счёт заказа)."
   ]
  },
  {
   "cell_type": "code",
   "execution_count": 1194,
   "id": "353137eb",
   "metadata": {},
   "outputs": [
    {
     "name": "stdout",
     "output_type": "stream",
     "text": [
      "Orders from 2016-09-15 12:16:38 to 2018-09-03 17:40:06\n"
     ]
    }
   ],
   "source": [
    "print('Orders from {} to {}'.format(df_orders_with_purch['order_approved_at'].min(),\n",
    "                                    df_orders_with_purch['order_approved_at'].max()))"
   ]
  },
  {
   "cell_type": "markdown",
   "id": "dbdb0093",
   "metadata": {},
   "source": [
    "Следовательно, у нас есть данные почти за 2 года."
   ]
  },
  {
   "cell_type": "code",
   "execution_count": 1195,
   "id": "dde2b179",
   "metadata": {},
   "outputs": [
    {
     "data": {
      "text/html": [
       "<div>\n",
       "<style scoped>\n",
       "    .dataframe tbody tr th:only-of-type {\n",
       "        vertical-align: middle;\n",
       "    }\n",
       "\n",
       "    .dataframe tbody tr th {\n",
       "        vertical-align: top;\n",
       "    }\n",
       "\n",
       "    .dataframe thead th {\n",
       "        text-align: right;\n",
       "    }\n",
       "</style>\n",
       "<table border=\"1\" class=\"dataframe\">\n",
       "  <thead>\n",
       "    <tr style=\"text-align: right;\">\n",
       "      <th></th>\n",
       "      <th>order_id</th>\n",
       "      <th>order_item_id</th>\n",
       "      <th>product_id</th>\n",
       "      <th>seller_id</th>\n",
       "      <th>shipping_limit_date</th>\n",
       "      <th>price</th>\n",
       "      <th>freight_value</th>\n",
       "    </tr>\n",
       "  </thead>\n",
       "  <tbody>\n",
       "    <tr>\n",
       "      <th>0</th>\n",
       "      <td>00010242fe8c5a6d1ba2dd792cb16214</td>\n",
       "      <td>1</td>\n",
       "      <td>4244733e06e7ecb4970a6e2683c13e61</td>\n",
       "      <td>48436dade18ac8b2bce089ec2a041202</td>\n",
       "      <td>2017-09-19 09:45:35</td>\n",
       "      <td>58.90</td>\n",
       "      <td>13.29</td>\n",
       "    </tr>\n",
       "    <tr>\n",
       "      <th>1</th>\n",
       "      <td>00018f77f2f0320c557190d7a144bdd3</td>\n",
       "      <td>1</td>\n",
       "      <td>e5f2d52b802189ee658865ca93d83a8f</td>\n",
       "      <td>dd7ddc04e1b6c2c614352b383efe2d36</td>\n",
       "      <td>2017-05-03 11:05:13</td>\n",
       "      <td>239.90</td>\n",
       "      <td>19.93</td>\n",
       "    </tr>\n",
       "    <tr>\n",
       "      <th>2</th>\n",
       "      <td>000229ec398224ef6ca0657da4fc703e</td>\n",
       "      <td>1</td>\n",
       "      <td>c777355d18b72b67abbeef9df44fd0fd</td>\n",
       "      <td>5b51032eddd242adc84c38acab88f23d</td>\n",
       "      <td>2018-01-18 14:48:30</td>\n",
       "      <td>199.00</td>\n",
       "      <td>17.87</td>\n",
       "    </tr>\n",
       "    <tr>\n",
       "      <th>3</th>\n",
       "      <td>00024acbcdf0a6daa1e931b038114c75</td>\n",
       "      <td>1</td>\n",
       "      <td>7634da152a4610f1595efa32f14722fc</td>\n",
       "      <td>9d7a1d34a5052409006425275ba1c2b4</td>\n",
       "      <td>2018-08-15 10:10:18</td>\n",
       "      <td>12.99</td>\n",
       "      <td>12.79</td>\n",
       "    </tr>\n",
       "    <tr>\n",
       "      <th>4</th>\n",
       "      <td>00042b26cf59d7ce69dfabb4e55b4fd9</td>\n",
       "      <td>1</td>\n",
       "      <td>ac6c3623068f30de03045865e4e10089</td>\n",
       "      <td>df560393f3a51e74553ab94004ba5c87</td>\n",
       "      <td>2017-02-13 13:57:51</td>\n",
       "      <td>199.90</td>\n",
       "      <td>18.14</td>\n",
       "    </tr>\n",
       "  </tbody>\n",
       "</table>\n",
       "</div>"
      ],
      "text/plain": [
       "                           order_id  order_item_id  \\\n",
       "0  00010242fe8c5a6d1ba2dd792cb16214              1   \n",
       "1  00018f77f2f0320c557190d7a144bdd3              1   \n",
       "2  000229ec398224ef6ca0657da4fc703e              1   \n",
       "3  00024acbcdf0a6daa1e931b038114c75              1   \n",
       "4  00042b26cf59d7ce69dfabb4e55b4fd9              1   \n",
       "\n",
       "                         product_id                         seller_id  \\\n",
       "0  4244733e06e7ecb4970a6e2683c13e61  48436dade18ac8b2bce089ec2a041202   \n",
       "1  e5f2d52b802189ee658865ca93d83a8f  dd7ddc04e1b6c2c614352b383efe2d36   \n",
       "2  c777355d18b72b67abbeef9df44fd0fd  5b51032eddd242adc84c38acab88f23d   \n",
       "3  7634da152a4610f1595efa32f14722fc  9d7a1d34a5052409006425275ba1c2b4   \n",
       "4  ac6c3623068f30de03045865e4e10089  df560393f3a51e74553ab94004ba5c87   \n",
       "\n",
       "  shipping_limit_date   price  freight_value  \n",
       "0 2017-09-19 09:45:35   58.90          13.29  \n",
       "1 2017-05-03 11:05:13  239.90          19.93  \n",
       "2 2018-01-18 14:48:30  199.00          17.87  \n",
       "3 2018-08-15 10:10:18   12.99          12.79  \n",
       "4 2017-02-13 13:57:51  199.90          18.14  "
      ]
     },
     "execution_count": 1195,
     "metadata": {},
     "output_type": "execute_result"
    }
   ],
   "source": [
    "df_items_with_purch.head()"
   ]
  },
  {
   "cell_type": "markdown",
   "id": "28fc3fc1",
   "metadata": {},
   "source": [
    "Определим цену каждого заказа."
   ]
  },
  {
   "cell_type": "code",
   "execution_count": 1196,
   "id": "3738cb08",
   "metadata": {},
   "outputs": [],
   "source": [
    "order_prices = df_items_with_purch.groupby('order_id', as_index=False).agg({'price':'sum'})"
   ]
  },
  {
   "cell_type": "code",
   "execution_count": 1197,
   "id": "000fd153",
   "metadata": {},
   "outputs": [
    {
     "data": {
      "text/html": [
       "<div>\n",
       "<style scoped>\n",
       "    .dataframe tbody tr th:only-of-type {\n",
       "        vertical-align: middle;\n",
       "    }\n",
       "\n",
       "    .dataframe tbody tr th {\n",
       "        vertical-align: top;\n",
       "    }\n",
       "\n",
       "    .dataframe thead th {\n",
       "        text-align: right;\n",
       "    }\n",
       "</style>\n",
       "<table border=\"1\" class=\"dataframe\">\n",
       "  <thead>\n",
       "    <tr style=\"text-align: right;\">\n",
       "      <th></th>\n",
       "      <th>order_id</th>\n",
       "      <th>price</th>\n",
       "    </tr>\n",
       "  </thead>\n",
       "  <tbody>\n",
       "    <tr>\n",
       "      <th>0</th>\n",
       "      <td>00010242fe8c5a6d1ba2dd792cb16214</td>\n",
       "      <td>58.90</td>\n",
       "    </tr>\n",
       "    <tr>\n",
       "      <th>1</th>\n",
       "      <td>00018f77f2f0320c557190d7a144bdd3</td>\n",
       "      <td>239.90</td>\n",
       "    </tr>\n",
       "    <tr>\n",
       "      <th>2</th>\n",
       "      <td>000229ec398224ef6ca0657da4fc703e</td>\n",
       "      <td>199.00</td>\n",
       "    </tr>\n",
       "    <tr>\n",
       "      <th>3</th>\n",
       "      <td>00024acbcdf0a6daa1e931b038114c75</td>\n",
       "      <td>12.99</td>\n",
       "    </tr>\n",
       "    <tr>\n",
       "      <th>4</th>\n",
       "      <td>00042b26cf59d7ce69dfabb4e55b4fd9</td>\n",
       "      <td>199.90</td>\n",
       "    </tr>\n",
       "  </tbody>\n",
       "</table>\n",
       "</div>"
      ],
      "text/plain": [
       "                           order_id   price\n",
       "0  00010242fe8c5a6d1ba2dd792cb16214   58.90\n",
       "1  00018f77f2f0320c557190d7a144bdd3  239.90\n",
       "2  000229ec398224ef6ca0657da4fc703e  199.00\n",
       "3  00024acbcdf0a6daa1e931b038114c75   12.99\n",
       "4  00042b26cf59d7ce69dfabb4e55b4fd9  199.90"
      ]
     },
     "execution_count": 1197,
     "metadata": {},
     "output_type": "execute_result"
    }
   ],
   "source": [
    "order_prices.head()"
   ]
  },
  {
   "cell_type": "code",
   "execution_count": 1198,
   "id": "60283f3d",
   "metadata": {},
   "outputs": [
    {
     "data": {
      "text/plain": [
       "(98346, 2)"
      ]
     },
     "execution_count": 1198,
     "metadata": {},
     "output_type": "execute_result"
    }
   ],
   "source": [
    "order_prices.shape"
   ]
  },
  {
   "cell_type": "markdown",
   "id": "d7c8a5a8",
   "metadata": {},
   "source": [
    "Определим дату, относительно которой будет проводиться RFM-сегментация пользователей. Прибавим к максимальной дате из колонки order_approved_at таблицы df_orders_with_purch ещё 1 день. Относительно полученной даты будет проводиться дальнейший анализ."
   ]
  },
  {
   "cell_type": "code",
   "execution_count": 1199,
   "id": "cc789806",
   "metadata": {},
   "outputs": [],
   "source": [
    "now_date = (max(df_orders_with_purch['order_approved_at']) + timedelta(days=1)).date()"
   ]
  },
  {
   "cell_type": "code",
   "execution_count": 1200,
   "id": "5bd45ee8",
   "metadata": {},
   "outputs": [
    {
     "name": "stdout",
     "output_type": "stream",
     "text": [
      "2018-09-04\n"
     ]
    }
   ],
   "source": [
    "print(now_date)"
   ]
  },
  {
   "cell_type": "markdown",
   "id": "465d8c03",
   "metadata": {},
   "source": [
    "Проведём RFM-сегментацию за период, равный 2 года (то есть будут рассмотрены все имеющиеся покупки). "
   ]
  },
  {
   "cell_type": "code",
   "execution_count": 1201,
   "id": "31e2f132",
   "metadata": {},
   "outputs": [],
   "source": [
    "period = 365 * 2"
   ]
  },
  {
   "cell_type": "code",
   "execution_count": 1202,
   "id": "f1733c94",
   "metadata": {},
   "outputs": [
    {
     "name": "stdout",
     "output_type": "stream",
     "text": [
      "730\n"
     ]
    }
   ],
   "source": [
    "print(period)"
   ]
  },
  {
   "cell_type": "markdown",
   "id": "43c45563",
   "metadata": {},
   "source": [
    "Из прошлого задания помним, что в таблице с покупками df_orders_with_purch есть 14 заказов со статусом delivered, у которых пропущены значения в колонке order_approved_at."
   ]
  },
  {
   "cell_type": "code",
   "execution_count": 1203,
   "id": "5998aa50",
   "metadata": {},
   "outputs": [
    {
     "data": {
      "text/plain": [
       "14"
      ]
     },
     "execution_count": 1203,
     "metadata": {},
     "output_type": "execute_result"
    }
   ],
   "source": [
    "df_orders_with_purch.order_approved_at.isna().sum()"
   ]
  },
  {
   "cell_type": "code",
   "execution_count": 1204,
   "id": "a8afd33b",
   "metadata": {},
   "outputs": [],
   "source": [
    "df_orders_delivered_missed = df_orders_with_purch.loc[df_orders_with_purch.order_approved_at.isna()]"
   ]
  },
  {
   "cell_type": "code",
   "execution_count": 1205,
   "id": "3b960892",
   "metadata": {},
   "outputs": [
    {
     "data": {
      "text/html": [
       "<div>\n",
       "<style scoped>\n",
       "    .dataframe tbody tr th:only-of-type {\n",
       "        vertical-align: middle;\n",
       "    }\n",
       "\n",
       "    .dataframe tbody tr th {\n",
       "        vertical-align: top;\n",
       "    }\n",
       "\n",
       "    .dataframe thead th {\n",
       "        text-align: right;\n",
       "    }\n",
       "</style>\n",
       "<table border=\"1\" class=\"dataframe\">\n",
       "  <thead>\n",
       "    <tr style=\"text-align: right;\">\n",
       "      <th></th>\n",
       "      <th>order_id</th>\n",
       "      <th>customer_id</th>\n",
       "      <th>order_status</th>\n",
       "      <th>order_purchase_timestamp</th>\n",
       "      <th>order_approved_at</th>\n",
       "      <th>order_delivered_carrier_date</th>\n",
       "      <th>order_delivered_customer_date</th>\n",
       "      <th>order_estimated_delivery_date</th>\n",
       "    </tr>\n",
       "  </thead>\n",
       "  <tbody>\n",
       "    <tr>\n",
       "      <th>5323</th>\n",
       "      <td>e04abd8149ef81b95221e88f6ed9ab6a</td>\n",
       "      <td>2127dc6603ac33544953ef05ec155771</td>\n",
       "      <td>delivered</td>\n",
       "      <td>2017-02-18 14:40:00</td>\n",
       "      <td>NaT</td>\n",
       "      <td>2017-02-23 12:04:47</td>\n",
       "      <td>2017-03-01 13:25:33</td>\n",
       "      <td>2017-03-17</td>\n",
       "    </tr>\n",
       "    <tr>\n",
       "      <th>16567</th>\n",
       "      <td>8a9adc69528e1001fc68dd0aaebbb54a</td>\n",
       "      <td>4c1ccc74e00993733742a3c786dc3c1f</td>\n",
       "      <td>delivered</td>\n",
       "      <td>2017-02-18 12:45:31</td>\n",
       "      <td>NaT</td>\n",
       "      <td>2017-02-23 09:01:52</td>\n",
       "      <td>2017-03-02 10:05:06</td>\n",
       "      <td>2017-03-21</td>\n",
       "    </tr>\n",
       "    <tr>\n",
       "      <th>19031</th>\n",
       "      <td>7013bcfc1c97fe719a7b5e05e61c12db</td>\n",
       "      <td>2941af76d38100e0f8740a374f1a5dc3</td>\n",
       "      <td>delivered</td>\n",
       "      <td>2017-02-18 13:29:47</td>\n",
       "      <td>NaT</td>\n",
       "      <td>2017-02-22 16:25:25</td>\n",
       "      <td>2017-03-01 08:07:38</td>\n",
       "      <td>2017-03-17</td>\n",
       "    </tr>\n",
       "    <tr>\n",
       "      <th>22663</th>\n",
       "      <td>5cf925b116421afa85ee25e99b4c34fb</td>\n",
       "      <td>29c35fc91fc13fb5073c8f30505d860d</td>\n",
       "      <td>delivered</td>\n",
       "      <td>2017-02-18 16:48:35</td>\n",
       "      <td>NaT</td>\n",
       "      <td>2017-02-22 11:23:10</td>\n",
       "      <td>2017-03-09 07:28:47</td>\n",
       "      <td>2017-03-31</td>\n",
       "    </tr>\n",
       "    <tr>\n",
       "      <th>23156</th>\n",
       "      <td>12a95a3c06dbaec84bcfb0e2da5d228a</td>\n",
       "      <td>1e101e0daffaddce8159d25a8e53f2b2</td>\n",
       "      <td>delivered</td>\n",
       "      <td>2017-02-17 13:05:55</td>\n",
       "      <td>NaT</td>\n",
       "      <td>2017-02-22 11:23:11</td>\n",
       "      <td>2017-03-02 11:09:19</td>\n",
       "      <td>2017-03-20</td>\n",
       "    </tr>\n",
       "    <tr>\n",
       "      <th>26800</th>\n",
       "      <td>c1d4211b3dae76144deccd6c74144a88</td>\n",
       "      <td>684cb238dc5b5d6366244e0e0776b450</td>\n",
       "      <td>delivered</td>\n",
       "      <td>2017-01-19 12:48:08</td>\n",
       "      <td>NaT</td>\n",
       "      <td>2017-01-25 14:56:50</td>\n",
       "      <td>2017-01-30 18:16:01</td>\n",
       "      <td>2017-03-01</td>\n",
       "    </tr>\n",
       "    <tr>\n",
       "      <th>38290</th>\n",
       "      <td>d69e5d356402adc8cf17e08b5033acfb</td>\n",
       "      <td>68d081753ad4fe22fc4d410a9eb1ca01</td>\n",
       "      <td>delivered</td>\n",
       "      <td>2017-02-19 01:28:47</td>\n",
       "      <td>NaT</td>\n",
       "      <td>2017-02-23 03:11:48</td>\n",
       "      <td>2017-03-02 03:41:58</td>\n",
       "      <td>2017-03-27</td>\n",
       "    </tr>\n",
       "    <tr>\n",
       "      <th>39334</th>\n",
       "      <td>d77031d6a3c8a52f019764e68f211c69</td>\n",
       "      <td>0bf35cac6cc7327065da879e2d90fae8</td>\n",
       "      <td>delivered</td>\n",
       "      <td>2017-02-18 11:04:19</td>\n",
       "      <td>NaT</td>\n",
       "      <td>2017-02-23 07:23:36</td>\n",
       "      <td>2017-03-02 16:15:23</td>\n",
       "      <td>2017-03-22</td>\n",
       "    </tr>\n",
       "    <tr>\n",
       "      <th>48401</th>\n",
       "      <td>7002a78c79c519ac54022d4f8a65e6e8</td>\n",
       "      <td>d5de688c321096d15508faae67a27051</td>\n",
       "      <td>delivered</td>\n",
       "      <td>2017-01-19 22:26:59</td>\n",
       "      <td>NaT</td>\n",
       "      <td>2017-01-27 11:08:05</td>\n",
       "      <td>2017-02-06 14:22:19</td>\n",
       "      <td>2017-03-16</td>\n",
       "    </tr>\n",
       "    <tr>\n",
       "      <th>61743</th>\n",
       "      <td>2eecb0d85f281280f79fa00f9cec1a95</td>\n",
       "      <td>a3d3c38e58b9d2dfb9207cab690b6310</td>\n",
       "      <td>delivered</td>\n",
       "      <td>2017-02-17 17:21:55</td>\n",
       "      <td>NaT</td>\n",
       "      <td>2017-02-22 11:42:51</td>\n",
       "      <td>2017-03-03 12:16:03</td>\n",
       "      <td>2017-03-20</td>\n",
       "    </tr>\n",
       "    <tr>\n",
       "      <th>63052</th>\n",
       "      <td>51eb2eebd5d76a24625b31c33dd41449</td>\n",
       "      <td>07a2a7e0f63fd8cb757ed77d4245623c</td>\n",
       "      <td>delivered</td>\n",
       "      <td>2017-02-18 15:52:27</td>\n",
       "      <td>NaT</td>\n",
       "      <td>2017-02-23 03:09:14</td>\n",
       "      <td>2017-03-07 13:57:47</td>\n",
       "      <td>2017-03-29</td>\n",
       "    </tr>\n",
       "    <tr>\n",
       "      <th>67697</th>\n",
       "      <td>88083e8f64d95b932164187484d90212</td>\n",
       "      <td>f67cd1a215aae2a1074638bbd35a223a</td>\n",
       "      <td>delivered</td>\n",
       "      <td>2017-02-18 22:49:19</td>\n",
       "      <td>NaT</td>\n",
       "      <td>2017-02-22 11:31:06</td>\n",
       "      <td>2017-03-02 12:06:06</td>\n",
       "      <td>2017-03-21</td>\n",
       "    </tr>\n",
       "    <tr>\n",
       "      <th>72407</th>\n",
       "      <td>3c0b8706b065f9919d0505d3b3343881</td>\n",
       "      <td>d85919cb3c0529589c6fa617f5f43281</td>\n",
       "      <td>delivered</td>\n",
       "      <td>2017-02-17 15:53:27</td>\n",
       "      <td>NaT</td>\n",
       "      <td>2017-02-22 11:31:30</td>\n",
       "      <td>2017-03-03 11:47:47</td>\n",
       "      <td>2017-03-23</td>\n",
       "    </tr>\n",
       "    <tr>\n",
       "      <th>84999</th>\n",
       "      <td>2babbb4b15e6d2dfe95e2de765c97bce</td>\n",
       "      <td>74bebaf46603f9340e3b50c6b086f992</td>\n",
       "      <td>delivered</td>\n",
       "      <td>2017-02-18 17:15:03</td>\n",
       "      <td>NaT</td>\n",
       "      <td>2017-02-22 11:23:11</td>\n",
       "      <td>2017-03-03 18:43:43</td>\n",
       "      <td>2017-03-31</td>\n",
       "    </tr>\n",
       "  </tbody>\n",
       "</table>\n",
       "</div>"
      ],
      "text/plain": [
       "                               order_id                       customer_id  \\\n",
       "5323   e04abd8149ef81b95221e88f6ed9ab6a  2127dc6603ac33544953ef05ec155771   \n",
       "16567  8a9adc69528e1001fc68dd0aaebbb54a  4c1ccc74e00993733742a3c786dc3c1f   \n",
       "19031  7013bcfc1c97fe719a7b5e05e61c12db  2941af76d38100e0f8740a374f1a5dc3   \n",
       "22663  5cf925b116421afa85ee25e99b4c34fb  29c35fc91fc13fb5073c8f30505d860d   \n",
       "23156  12a95a3c06dbaec84bcfb0e2da5d228a  1e101e0daffaddce8159d25a8e53f2b2   \n",
       "26800  c1d4211b3dae76144deccd6c74144a88  684cb238dc5b5d6366244e0e0776b450   \n",
       "38290  d69e5d356402adc8cf17e08b5033acfb  68d081753ad4fe22fc4d410a9eb1ca01   \n",
       "39334  d77031d6a3c8a52f019764e68f211c69  0bf35cac6cc7327065da879e2d90fae8   \n",
       "48401  7002a78c79c519ac54022d4f8a65e6e8  d5de688c321096d15508faae67a27051   \n",
       "61743  2eecb0d85f281280f79fa00f9cec1a95  a3d3c38e58b9d2dfb9207cab690b6310   \n",
       "63052  51eb2eebd5d76a24625b31c33dd41449  07a2a7e0f63fd8cb757ed77d4245623c   \n",
       "67697  88083e8f64d95b932164187484d90212  f67cd1a215aae2a1074638bbd35a223a   \n",
       "72407  3c0b8706b065f9919d0505d3b3343881  d85919cb3c0529589c6fa617f5f43281   \n",
       "84999  2babbb4b15e6d2dfe95e2de765c97bce  74bebaf46603f9340e3b50c6b086f992   \n",
       "\n",
       "      order_status order_purchase_timestamp order_approved_at  \\\n",
       "5323     delivered      2017-02-18 14:40:00               NaT   \n",
       "16567    delivered      2017-02-18 12:45:31               NaT   \n",
       "19031    delivered      2017-02-18 13:29:47               NaT   \n",
       "22663    delivered      2017-02-18 16:48:35               NaT   \n",
       "23156    delivered      2017-02-17 13:05:55               NaT   \n",
       "26800    delivered      2017-01-19 12:48:08               NaT   \n",
       "38290    delivered      2017-02-19 01:28:47               NaT   \n",
       "39334    delivered      2017-02-18 11:04:19               NaT   \n",
       "48401    delivered      2017-01-19 22:26:59               NaT   \n",
       "61743    delivered      2017-02-17 17:21:55               NaT   \n",
       "63052    delivered      2017-02-18 15:52:27               NaT   \n",
       "67697    delivered      2017-02-18 22:49:19               NaT   \n",
       "72407    delivered      2017-02-17 15:53:27               NaT   \n",
       "84999    delivered      2017-02-18 17:15:03               NaT   \n",
       "\n",
       "      order_delivered_carrier_date order_delivered_customer_date  \\\n",
       "5323           2017-02-23 12:04:47           2017-03-01 13:25:33   \n",
       "16567          2017-02-23 09:01:52           2017-03-02 10:05:06   \n",
       "19031          2017-02-22 16:25:25           2017-03-01 08:07:38   \n",
       "22663          2017-02-22 11:23:10           2017-03-09 07:28:47   \n",
       "23156          2017-02-22 11:23:11           2017-03-02 11:09:19   \n",
       "26800          2017-01-25 14:56:50           2017-01-30 18:16:01   \n",
       "38290          2017-02-23 03:11:48           2017-03-02 03:41:58   \n",
       "39334          2017-02-23 07:23:36           2017-03-02 16:15:23   \n",
       "48401          2017-01-27 11:08:05           2017-02-06 14:22:19   \n",
       "61743          2017-02-22 11:42:51           2017-03-03 12:16:03   \n",
       "63052          2017-02-23 03:09:14           2017-03-07 13:57:47   \n",
       "67697          2017-02-22 11:31:06           2017-03-02 12:06:06   \n",
       "72407          2017-02-22 11:31:30           2017-03-03 11:47:47   \n",
       "84999          2017-02-22 11:23:11           2017-03-03 18:43:43   \n",
       "\n",
       "      order_estimated_delivery_date  \n",
       "5323                     2017-03-17  \n",
       "16567                    2017-03-21  \n",
       "19031                    2017-03-17  \n",
       "22663                    2017-03-31  \n",
       "23156                    2017-03-20  \n",
       "26800                    2017-03-01  \n",
       "38290                    2017-03-27  \n",
       "39334                    2017-03-22  \n",
       "48401                    2017-03-16  \n",
       "61743                    2017-03-20  \n",
       "63052                    2017-03-29  \n",
       "67697                    2017-03-21  \n",
       "72407                    2017-03-23  \n",
       "84999                    2017-03-31  "
      ]
     },
     "execution_count": 1205,
     "metadata": {},
     "output_type": "execute_result"
    }
   ],
   "source": [
    "df_orders_delivered_missed"
   ]
  },
  {
   "cell_type": "markdown",
   "id": "63ece435",
   "metadata": {},
   "source": [
    "В данном случае нам нужно заполнить пропуски точной датой. Рассмотрим подробнее разницу между order_approved_at и order_purchase_timestamp и разницу между order_delivered_carrier_date и order_approved_at во всей таблице df_orders_with_purch."
   ]
  },
  {
   "cell_type": "code",
   "execution_count": 1206,
   "id": "9813d215",
   "metadata": {},
   "outputs": [
    {
     "data": {
      "text/plain": [
       "count                        98332\n",
       "mean     0 days 10:19:28.130801773\n",
       "std      0 days 21:29:13.706188527\n",
       "min                0 days 00:00:00\n",
       "25%                0 days 00:12:54\n",
       "50%         0 days 00:20:35.500000\n",
       "75%                0 days 14:32:32\n",
       "max               60 days 10:51:59\n",
       "dtype: object"
      ]
     },
     "execution_count": 1206,
     "metadata": {},
     "output_type": "execute_result"
    }
   ],
   "source": [
    "(df_orders_with_purch['order_approved_at'] - df_orders_with_purch['order_purchase_timestamp']).describe()"
   ]
  },
  {
   "cell_type": "code",
   "execution_count": 1207,
   "id": "6d6ffbb7",
   "metadata": {},
   "outputs": [
    {
     "data": {
      "text/plain": [
       "Timedelta('0 days 23:57:07')"
      ]
     },
     "execution_count": 1207,
     "metadata": {},
     "output_type": "execute_result"
    }
   ],
   "source": [
    "(df_orders_with_purch.order_approved_at - df_orders_with_purch.order_purchase_timestamp).quantile(0.82)"
   ]
  },
  {
   "cell_type": "markdown",
   "id": "f3db3a18",
   "metadata": {},
   "source": [
    "Видим, что примерно 82% всех купленных заказов создаются и покупаются в течение одних суток."
   ]
  },
  {
   "cell_type": "code",
   "execution_count": 1208,
   "id": "bc6d23a6",
   "metadata": {},
   "outputs": [
    {
     "data": {
      "text/plain": [
       "count                        97643\n",
       "mean     2 days 19:18:49.854940958\n",
       "std      3 days 13:09:28.984594443\n",
       "min            -172 days +18:44:38\n",
       "25%                0 days 21:00:43\n",
       "50%                1 days 19:38:24\n",
       "75%                3 days 13:55:50\n",
       "max              125 days 18:18:06\n",
       "dtype: object"
      ]
     },
     "execution_count": 1208,
     "metadata": {},
     "output_type": "execute_result"
    }
   ],
   "source": [
    "(df_orders_with_purch.order_delivered_carrier_date - df_orders_with_purch.order_approved_at).describe()"
   ]
  },
  {
   "cell_type": "code",
   "execution_count": 1209,
   "id": "e99430b7",
   "metadata": {},
   "outputs": [
    {
     "data": {
      "text/plain": [
       "Timedelta('0 days 23:54:09.600000')"
      ]
     },
     "execution_count": 1209,
     "metadata": {},
     "output_type": "execute_result"
    }
   ],
   "source": [
    "(df_orders_with_purch.order_delivered_carrier_date - df_orders_with_purch.order_approved_at).quantile(0.30)"
   ]
  },
  {
   "cell_type": "markdown",
   "id": "07e10bd6",
   "metadata": {},
   "source": [
    "Примерно 30% всех купленных заказов покупаются и передаются в логистическую службу в течение одних суток. В среднем на это уходит 2 дня."
   ]
  },
  {
   "cell_type": "markdown",
   "id": "cd831b79",
   "metadata": {},
   "source": [
    "Следовательно, присвоим пропущенным значениям в колонке order_approved_at даты из order_purchase_timestamp соответствующих заказов, предполагая, что данные заказы были созданы и оплачены в один и тот же день (тем более, в дальнейшем анализе будут учитываться календарные дни без учёта точного времени)."
   ]
  },
  {
   "cell_type": "markdown",
   "id": "08984060",
   "metadata": {},
   "source": [
    "Также можно заметить, что есть заказ, у которого разница между order_delivered_carrier_date и order_approved_at равна -172 дня, что кажется невозможным. Перед проведением RFM-сегментации рассмотрим данный заказ и остальные заказы, у которых данная разница получилась отрицательной."
   ]
  },
  {
   "cell_type": "code",
   "execution_count": 1210,
   "id": "fdc175cf",
   "metadata": {},
   "outputs": [],
   "source": [
    "checking_diff = df_orders_with_purch.copy()"
   ]
  },
  {
   "cell_type": "code",
   "execution_count": 1211,
   "id": "f96800eb",
   "metadata": {},
   "outputs": [],
   "source": [
    "checking_diff['diff_carrier_and_approved'] = (checking_diff.order_delivered_carrier_date \n",
    "                                                       - checking_diff.order_approved_at)"
   ]
  },
  {
   "cell_type": "code",
   "execution_count": 1212,
   "id": "024634be",
   "metadata": {},
   "outputs": [
    {
     "data": {
      "text/html": [
       "<div>\n",
       "<style scoped>\n",
       "    .dataframe tbody tr th:only-of-type {\n",
       "        vertical-align: middle;\n",
       "    }\n",
       "\n",
       "    .dataframe tbody tr th {\n",
       "        vertical-align: top;\n",
       "    }\n",
       "\n",
       "    .dataframe thead th {\n",
       "        text-align: right;\n",
       "    }\n",
       "</style>\n",
       "<table border=\"1\" class=\"dataframe\">\n",
       "  <thead>\n",
       "    <tr style=\"text-align: right;\">\n",
       "      <th></th>\n",
       "      <th>order_id</th>\n",
       "      <th>customer_id</th>\n",
       "      <th>order_status</th>\n",
       "      <th>order_purchase_timestamp</th>\n",
       "      <th>order_approved_at</th>\n",
       "      <th>order_delivered_carrier_date</th>\n",
       "      <th>order_delivered_customer_date</th>\n",
       "      <th>order_estimated_delivery_date</th>\n",
       "      <th>diff_carrier_and_approved</th>\n",
       "    </tr>\n",
       "  </thead>\n",
       "  <tbody>\n",
       "    <tr>\n",
       "      <th>0</th>\n",
       "      <td>e481f51cbdc54678b7cc49136f2d6af7</td>\n",
       "      <td>9ef432eb6251297304e76186b10a928d</td>\n",
       "      <td>delivered</td>\n",
       "      <td>2017-10-02 10:56:33</td>\n",
       "      <td>2017-10-02 11:07:15</td>\n",
       "      <td>2017-10-04 19:55:00</td>\n",
       "      <td>2017-10-10 21:25:13</td>\n",
       "      <td>2017-10-18</td>\n",
       "      <td>2 days 08:47:45</td>\n",
       "    </tr>\n",
       "    <tr>\n",
       "      <th>1</th>\n",
       "      <td>53cdb2fc8bc7dce0b6741e2150273451</td>\n",
       "      <td>b0830fb4747a6c6d20dea0b8c802d7ef</td>\n",
       "      <td>delivered</td>\n",
       "      <td>2018-07-24 20:41:37</td>\n",
       "      <td>2018-07-26 03:24:27</td>\n",
       "      <td>2018-07-26 14:31:00</td>\n",
       "      <td>2018-08-07 15:27:45</td>\n",
       "      <td>2018-08-13</td>\n",
       "      <td>0 days 11:06:33</td>\n",
       "    </tr>\n",
       "    <tr>\n",
       "      <th>2</th>\n",
       "      <td>47770eb9100c2d0c44946d9cf07ec65d</td>\n",
       "      <td>41ce2a54c0b03bf3443c3d931a367089</td>\n",
       "      <td>delivered</td>\n",
       "      <td>2018-08-08 08:38:49</td>\n",
       "      <td>2018-08-08 08:55:23</td>\n",
       "      <td>2018-08-08 13:50:00</td>\n",
       "      <td>2018-08-17 18:06:29</td>\n",
       "      <td>2018-09-04</td>\n",
       "      <td>0 days 04:54:37</td>\n",
       "    </tr>\n",
       "    <tr>\n",
       "      <th>3</th>\n",
       "      <td>949d5b44dbf5de918fe9c16f97b45f8a</td>\n",
       "      <td>f88197465ea7920adcdbec7375364d82</td>\n",
       "      <td>delivered</td>\n",
       "      <td>2017-11-18 19:28:06</td>\n",
       "      <td>2017-11-18 19:45:59</td>\n",
       "      <td>2017-11-22 13:39:59</td>\n",
       "      <td>2017-12-02 00:28:42</td>\n",
       "      <td>2017-12-15</td>\n",
       "      <td>3 days 17:54:00</td>\n",
       "    </tr>\n",
       "    <tr>\n",
       "      <th>4</th>\n",
       "      <td>ad21c59c0840e6cb83a9ceb5573f8159</td>\n",
       "      <td>8ab97904e6daea8866dbdbc4fb7aad2c</td>\n",
       "      <td>delivered</td>\n",
       "      <td>2018-02-13 21:18:39</td>\n",
       "      <td>2018-02-13 22:20:29</td>\n",
       "      <td>2018-02-14 19:46:34</td>\n",
       "      <td>2018-02-16 18:17:02</td>\n",
       "      <td>2018-02-26</td>\n",
       "      <td>0 days 21:26:05</td>\n",
       "    </tr>\n",
       "  </tbody>\n",
       "</table>\n",
       "</div>"
      ],
      "text/plain": [
       "                           order_id                       customer_id  \\\n",
       "0  e481f51cbdc54678b7cc49136f2d6af7  9ef432eb6251297304e76186b10a928d   \n",
       "1  53cdb2fc8bc7dce0b6741e2150273451  b0830fb4747a6c6d20dea0b8c802d7ef   \n",
       "2  47770eb9100c2d0c44946d9cf07ec65d  41ce2a54c0b03bf3443c3d931a367089   \n",
       "3  949d5b44dbf5de918fe9c16f97b45f8a  f88197465ea7920adcdbec7375364d82   \n",
       "4  ad21c59c0840e6cb83a9ceb5573f8159  8ab97904e6daea8866dbdbc4fb7aad2c   \n",
       "\n",
       "  order_status order_purchase_timestamp   order_approved_at  \\\n",
       "0    delivered      2017-10-02 10:56:33 2017-10-02 11:07:15   \n",
       "1    delivered      2018-07-24 20:41:37 2018-07-26 03:24:27   \n",
       "2    delivered      2018-08-08 08:38:49 2018-08-08 08:55:23   \n",
       "3    delivered      2017-11-18 19:28:06 2017-11-18 19:45:59   \n",
       "4    delivered      2018-02-13 21:18:39 2018-02-13 22:20:29   \n",
       "\n",
       "  order_delivered_carrier_date order_delivered_customer_date  \\\n",
       "0          2017-10-04 19:55:00           2017-10-10 21:25:13   \n",
       "1          2018-07-26 14:31:00           2018-08-07 15:27:45   \n",
       "2          2018-08-08 13:50:00           2018-08-17 18:06:29   \n",
       "3          2017-11-22 13:39:59           2017-12-02 00:28:42   \n",
       "4          2018-02-14 19:46:34           2018-02-16 18:17:02   \n",
       "\n",
       "  order_estimated_delivery_date diff_carrier_and_approved  \n",
       "0                    2017-10-18           2 days 08:47:45  \n",
       "1                    2018-08-13           0 days 11:06:33  \n",
       "2                    2018-09-04           0 days 04:54:37  \n",
       "3                    2017-12-15           3 days 17:54:00  \n",
       "4                    2018-02-26           0 days 21:26:05  "
      ]
     },
     "execution_count": 1212,
     "metadata": {},
     "output_type": "execute_result"
    }
   ],
   "source": [
    "checking_diff.head()"
   ]
  },
  {
   "cell_type": "code",
   "execution_count": 1213,
   "id": "7215f64a",
   "metadata": {},
   "outputs": [],
   "source": [
    "checking_negative_diff = (checking_diff.loc[checking_diff.diff_carrier_and_approved.dt.days < 0]\n",
    "                          .sort_values('diff_carrier_and_approved'))"
   ]
  },
  {
   "cell_type": "code",
   "execution_count": 1214,
   "id": "519e65c6",
   "metadata": {},
   "outputs": [
    {
     "data": {
      "text/html": [
       "<div>\n",
       "<style scoped>\n",
       "    .dataframe tbody tr th:only-of-type {\n",
       "        vertical-align: middle;\n",
       "    }\n",
       "\n",
       "    .dataframe tbody tr th {\n",
       "        vertical-align: top;\n",
       "    }\n",
       "\n",
       "    .dataframe thead th {\n",
       "        text-align: right;\n",
       "    }\n",
       "</style>\n",
       "<table border=\"1\" class=\"dataframe\">\n",
       "  <thead>\n",
       "    <tr style=\"text-align: right;\">\n",
       "      <th></th>\n",
       "      <th>order_id</th>\n",
       "      <th>customer_id</th>\n",
       "      <th>order_status</th>\n",
       "      <th>order_purchase_timestamp</th>\n",
       "      <th>order_approved_at</th>\n",
       "      <th>order_delivered_carrier_date</th>\n",
       "      <th>order_delivered_customer_date</th>\n",
       "      <th>order_estimated_delivery_date</th>\n",
       "      <th>diff_carrier_and_approved</th>\n",
       "    </tr>\n",
       "  </thead>\n",
       "  <tbody>\n",
       "    <tr>\n",
       "      <th>25883</th>\n",
       "      <td>7c48bb55e8e4f7e56d412e9653db37bc</td>\n",
       "      <td>34ef6181341eb36c47fd601c46878f00</td>\n",
       "      <td>delivered</td>\n",
       "      <td>2018-07-16 18:40:53</td>\n",
       "      <td>2018-07-16 18:50:22</td>\n",
       "      <td>2018-01-26 13:35:00</td>\n",
       "      <td>2018-07-23 20:04:45</td>\n",
       "      <td>2018-08-07</td>\n",
       "      <td>-172 days +18:44:38</td>\n",
       "    </tr>\n",
       "    <tr>\n",
       "      <th>14562</th>\n",
       "      <td>1fab4ac9d85079b3da72a11475ae1685</td>\n",
       "      <td>f831c1fa80308975ec2b58e4877328e0</td>\n",
       "      <td>delivered</td>\n",
       "      <td>2017-09-01 19:04:22</td>\n",
       "      <td>2017-09-13 22:06:11</td>\n",
       "      <td>2017-09-04 13:10:23</td>\n",
       "      <td>2017-09-08 20:13:03</td>\n",
       "      <td>2017-09-20</td>\n",
       "      <td>-10 days +15:04:12</td>\n",
       "    </tr>\n",
       "    <tr>\n",
       "      <th>46163</th>\n",
       "      <td>0184d4ddb259e1a4cfc2871888cf97b8</td>\n",
       "      <td>09425ea1839abf2f0d289a0ff453fa21</td>\n",
       "      <td>delivered</td>\n",
       "      <td>2017-09-01 20:04:28</td>\n",
       "      <td>2017-09-13 22:17:15</td>\n",
       "      <td>2017-09-04 14:05:50</td>\n",
       "      <td>2017-09-09 15:12:44</td>\n",
       "      <td>2017-09-20</td>\n",
       "      <td>-10 days +15:48:35</td>\n",
       "    </tr>\n",
       "    <tr>\n",
       "      <th>98710</th>\n",
       "      <td>1378f9601350615613cc8832d6789c5d</td>\n",
       "      <td>988126b4ddf725d9724e4318872ea2ae</td>\n",
       "      <td>delivered</td>\n",
       "      <td>2017-09-01 20:28:02</td>\n",
       "      <td>2017-09-13 22:03:51</td>\n",
       "      <td>2017-09-04 18:07:55</td>\n",
       "      <td>2017-09-13 22:24:46</td>\n",
       "      <td>2017-09-29</td>\n",
       "      <td>-10 days +20:04:04</td>\n",
       "    </tr>\n",
       "    <tr>\n",
       "      <th>41592</th>\n",
       "      <td>8554cb37f7158cb0b082a841d24a4589</td>\n",
       "      <td>788e845925ff64c9df5d8ba40e28cf50</td>\n",
       "      <td>delivered</td>\n",
       "      <td>2017-09-01 18:40:44</td>\n",
       "      <td>2017-09-13 21:58:04</td>\n",
       "      <td>2017-09-04 19:12:19</td>\n",
       "      <td>2017-09-08 20:07:45</td>\n",
       "      <td>2017-10-02</td>\n",
       "      <td>-10 days +21:14:15</td>\n",
       "    </tr>\n",
       "  </tbody>\n",
       "</table>\n",
       "</div>"
      ],
      "text/plain": [
       "                               order_id                       customer_id  \\\n",
       "25883  7c48bb55e8e4f7e56d412e9653db37bc  34ef6181341eb36c47fd601c46878f00   \n",
       "14562  1fab4ac9d85079b3da72a11475ae1685  f831c1fa80308975ec2b58e4877328e0   \n",
       "46163  0184d4ddb259e1a4cfc2871888cf97b8  09425ea1839abf2f0d289a0ff453fa21   \n",
       "98710  1378f9601350615613cc8832d6789c5d  988126b4ddf725d9724e4318872ea2ae   \n",
       "41592  8554cb37f7158cb0b082a841d24a4589  788e845925ff64c9df5d8ba40e28cf50   \n",
       "\n",
       "      order_status order_purchase_timestamp   order_approved_at  \\\n",
       "25883    delivered      2018-07-16 18:40:53 2018-07-16 18:50:22   \n",
       "14562    delivered      2017-09-01 19:04:22 2017-09-13 22:06:11   \n",
       "46163    delivered      2017-09-01 20:04:28 2017-09-13 22:17:15   \n",
       "98710    delivered      2017-09-01 20:28:02 2017-09-13 22:03:51   \n",
       "41592    delivered      2017-09-01 18:40:44 2017-09-13 21:58:04   \n",
       "\n",
       "      order_delivered_carrier_date order_delivered_customer_date  \\\n",
       "25883          2018-01-26 13:35:00           2018-07-23 20:04:45   \n",
       "14562          2017-09-04 13:10:23           2017-09-08 20:13:03   \n",
       "46163          2017-09-04 14:05:50           2017-09-09 15:12:44   \n",
       "98710          2017-09-04 18:07:55           2017-09-13 22:24:46   \n",
       "41592          2017-09-04 19:12:19           2017-09-08 20:07:45   \n",
       "\n",
       "      order_estimated_delivery_date diff_carrier_and_approved  \n",
       "25883                    2018-08-07       -172 days +18:44:38  \n",
       "14562                    2017-09-20        -10 days +15:04:12  \n",
       "46163                    2017-09-20        -10 days +15:48:35  \n",
       "98710                    2017-09-29        -10 days +20:04:04  \n",
       "41592                    2017-10-02        -10 days +21:14:15  "
      ]
     },
     "execution_count": 1214,
     "metadata": {},
     "output_type": "execute_result"
    }
   ],
   "source": [
    "checking_negative_diff.head()"
   ]
  },
  {
   "cell_type": "code",
   "execution_count": 1215,
   "id": "3cc872f3",
   "metadata": {},
   "outputs": [
    {
     "data": {
      "text/plain": [
       "(1359, 9)"
      ]
     },
     "execution_count": 1215,
     "metadata": {},
     "output_type": "execute_result"
    }
   ],
   "source": [
    "checking_negative_diff.shape"
   ]
  },
  {
   "cell_type": "code",
   "execution_count": 1216,
   "id": "003e97b2",
   "metadata": {},
   "outputs": [
    {
     "data": {
      "text/plain": [
       "count                           1359\n",
       "mean     -2 days +23:14:52.846946285\n",
       "std        4 days 19:18:28.055754668\n",
       "min              -172 days +18:44:38\n",
       "25%                -2 days +22:02:36\n",
       "50%                -1 days +06:49:56\n",
       "75%         -1 days +22:35:04.500000\n",
       "max                -1 days +23:59:39\n",
       "Name: diff_carrier_and_approved, dtype: object"
      ]
     },
     "execution_count": 1216,
     "metadata": {},
     "output_type": "execute_result"
    }
   ],
   "source": [
    "checking_negative_diff.diff_carrier_and_approved.describe()"
   ]
  },
  {
   "cell_type": "markdown",
   "id": "2f72f95a",
   "metadata": {},
   "source": [
    "Всего 1359 заказов с отрицательной разницей между order_delivered_carrier_date и order_approved_at. В среднем (имеется ввиду медиана) данная разница у этих заказов составляет -1 день, однако есть одно экстремальное значение, равное -172 дня. Найдём данные заказы в таблице df_items_with_purch и проверим, успел ли продавец передать данные заказы в логистическую службу."
   ]
  },
  {
   "cell_type": "code",
   "execution_count": 1217,
   "id": "57a6584f",
   "metadata": {},
   "outputs": [],
   "source": [
    "checking_negative_diff_with_limit_date = (checking_negative_diff\n",
    "                                          .merge(df_items_with_purch[['order_id', 'shipping_limit_date']].drop_duplicates(subset='order_id'), \n",
    "                                                on='order_id', how='inner'))"
   ]
  },
  {
   "cell_type": "code",
   "execution_count": 1218,
   "id": "e89a3b85",
   "metadata": {},
   "outputs": [
    {
     "data": {
      "text/html": [
       "<div>\n",
       "<style scoped>\n",
       "    .dataframe tbody tr th:only-of-type {\n",
       "        vertical-align: middle;\n",
       "    }\n",
       "\n",
       "    .dataframe tbody tr th {\n",
       "        vertical-align: top;\n",
       "    }\n",
       "\n",
       "    .dataframe thead th {\n",
       "        text-align: right;\n",
       "    }\n",
       "</style>\n",
       "<table border=\"1\" class=\"dataframe\">\n",
       "  <thead>\n",
       "    <tr style=\"text-align: right;\">\n",
       "      <th></th>\n",
       "      <th>order_id</th>\n",
       "      <th>customer_id</th>\n",
       "      <th>order_status</th>\n",
       "      <th>order_purchase_timestamp</th>\n",
       "      <th>order_approved_at</th>\n",
       "      <th>order_delivered_carrier_date</th>\n",
       "      <th>order_delivered_customer_date</th>\n",
       "      <th>order_estimated_delivery_date</th>\n",
       "      <th>diff_carrier_and_approved</th>\n",
       "      <th>shipping_limit_date</th>\n",
       "    </tr>\n",
       "  </thead>\n",
       "  <tbody>\n",
       "    <tr>\n",
       "      <th>0</th>\n",
       "      <td>7c48bb55e8e4f7e56d412e9653db37bc</td>\n",
       "      <td>34ef6181341eb36c47fd601c46878f00</td>\n",
       "      <td>delivered</td>\n",
       "      <td>2018-07-16 18:40:53</td>\n",
       "      <td>2018-07-16 18:50:22</td>\n",
       "      <td>2018-01-26 13:35:00</td>\n",
       "      <td>2018-07-23 20:04:45</td>\n",
       "      <td>2018-08-07</td>\n",
       "      <td>-172 days +18:44:38</td>\n",
       "      <td>2018-07-20 18:50:22</td>\n",
       "    </tr>\n",
       "    <tr>\n",
       "      <th>1</th>\n",
       "      <td>1fab4ac9d85079b3da72a11475ae1685</td>\n",
       "      <td>f831c1fa80308975ec2b58e4877328e0</td>\n",
       "      <td>delivered</td>\n",
       "      <td>2017-09-01 19:04:22</td>\n",
       "      <td>2017-09-13 22:06:11</td>\n",
       "      <td>2017-09-04 13:10:23</td>\n",
       "      <td>2017-09-08 20:13:03</td>\n",
       "      <td>2017-09-20</td>\n",
       "      <td>-10 days +15:04:12</td>\n",
       "      <td>2017-09-07 22:31:41</td>\n",
       "    </tr>\n",
       "    <tr>\n",
       "      <th>2</th>\n",
       "      <td>0184d4ddb259e1a4cfc2871888cf97b8</td>\n",
       "      <td>09425ea1839abf2f0d289a0ff453fa21</td>\n",
       "      <td>delivered</td>\n",
       "      <td>2017-09-01 20:04:28</td>\n",
       "      <td>2017-09-13 22:17:15</td>\n",
       "      <td>2017-09-04 14:05:50</td>\n",
       "      <td>2017-09-09 15:12:44</td>\n",
       "      <td>2017-09-20</td>\n",
       "      <td>-10 days +15:48:35</td>\n",
       "      <td>2017-09-07 22:31:42</td>\n",
       "    </tr>\n",
       "    <tr>\n",
       "      <th>3</th>\n",
       "      <td>1378f9601350615613cc8832d6789c5d</td>\n",
       "      <td>988126b4ddf725d9724e4318872ea2ae</td>\n",
       "      <td>delivered</td>\n",
       "      <td>2017-09-01 20:28:02</td>\n",
       "      <td>2017-09-13 22:03:51</td>\n",
       "      <td>2017-09-04 18:07:55</td>\n",
       "      <td>2017-09-13 22:24:46</td>\n",
       "      <td>2017-09-29</td>\n",
       "      <td>-10 days +20:04:04</td>\n",
       "      <td>2017-09-07 22:32:05</td>\n",
       "    </tr>\n",
       "    <tr>\n",
       "      <th>4</th>\n",
       "      <td>8554cb37f7158cb0b082a841d24a4589</td>\n",
       "      <td>788e845925ff64c9df5d8ba40e28cf50</td>\n",
       "      <td>delivered</td>\n",
       "      <td>2017-09-01 18:40:44</td>\n",
       "      <td>2017-09-13 21:58:04</td>\n",
       "      <td>2017-09-04 19:12:19</td>\n",
       "      <td>2017-09-08 20:07:45</td>\n",
       "      <td>2017-10-02</td>\n",
       "      <td>-10 days +21:14:15</td>\n",
       "      <td>2017-09-07 22:32:18</td>\n",
       "    </tr>\n",
       "  </tbody>\n",
       "</table>\n",
       "</div>"
      ],
      "text/plain": [
       "                           order_id                       customer_id  \\\n",
       "0  7c48bb55e8e4f7e56d412e9653db37bc  34ef6181341eb36c47fd601c46878f00   \n",
       "1  1fab4ac9d85079b3da72a11475ae1685  f831c1fa80308975ec2b58e4877328e0   \n",
       "2  0184d4ddb259e1a4cfc2871888cf97b8  09425ea1839abf2f0d289a0ff453fa21   \n",
       "3  1378f9601350615613cc8832d6789c5d  988126b4ddf725d9724e4318872ea2ae   \n",
       "4  8554cb37f7158cb0b082a841d24a4589  788e845925ff64c9df5d8ba40e28cf50   \n",
       "\n",
       "  order_status order_purchase_timestamp   order_approved_at  \\\n",
       "0    delivered      2018-07-16 18:40:53 2018-07-16 18:50:22   \n",
       "1    delivered      2017-09-01 19:04:22 2017-09-13 22:06:11   \n",
       "2    delivered      2017-09-01 20:04:28 2017-09-13 22:17:15   \n",
       "3    delivered      2017-09-01 20:28:02 2017-09-13 22:03:51   \n",
       "4    delivered      2017-09-01 18:40:44 2017-09-13 21:58:04   \n",
       "\n",
       "  order_delivered_carrier_date order_delivered_customer_date  \\\n",
       "0          2018-01-26 13:35:00           2018-07-23 20:04:45   \n",
       "1          2017-09-04 13:10:23           2017-09-08 20:13:03   \n",
       "2          2017-09-04 14:05:50           2017-09-09 15:12:44   \n",
       "3          2017-09-04 18:07:55           2017-09-13 22:24:46   \n",
       "4          2017-09-04 19:12:19           2017-09-08 20:07:45   \n",
       "\n",
       "  order_estimated_delivery_date diff_carrier_and_approved shipping_limit_date  \n",
       "0                    2018-08-07       -172 days +18:44:38 2018-07-20 18:50:22  \n",
       "1                    2017-09-20        -10 days +15:04:12 2017-09-07 22:31:41  \n",
       "2                    2017-09-20        -10 days +15:48:35 2017-09-07 22:31:42  \n",
       "3                    2017-09-29        -10 days +20:04:04 2017-09-07 22:32:05  \n",
       "4                    2017-10-02        -10 days +21:14:15 2017-09-07 22:32:18  "
      ]
     },
     "execution_count": 1218,
     "metadata": {},
     "output_type": "execute_result"
    }
   ],
   "source": [
    "checking_negative_diff_with_limit_date.head()"
   ]
  },
  {
   "cell_type": "code",
   "execution_count": 1219,
   "id": "d3825666",
   "metadata": {},
   "outputs": [
    {
     "data": {
      "text/plain": [
       "(1359, 10)"
      ]
     },
     "execution_count": 1219,
     "metadata": {},
     "output_type": "execute_result"
    }
   ],
   "source": [
    "checking_negative_diff_with_limit_date.shape"
   ]
  },
  {
   "cell_type": "markdown",
   "id": "863b7107",
   "metadata": {},
   "source": [
    "Найдём разницу между shipping_limit_date и order_delivered_carrier_date."
   ]
  },
  {
   "cell_type": "code",
   "execution_count": 1220,
   "id": "5e249450",
   "metadata": {},
   "outputs": [],
   "source": [
    "checking_negative_diff_with_limit_date['diff_limit_and_carrier'] = (checking_negative_diff_with_limit_date.shipping_limit_date\n",
    "                                                                   - checking_negative_diff_with_limit_date.order_delivered_carrier_date)"
   ]
  },
  {
   "cell_type": "code",
   "execution_count": 1221,
   "id": "daa57fd5",
   "metadata": {},
   "outputs": [],
   "source": [
    "checking_negative_diff_with_limit_date = checking_negative_diff_with_limit_date.sort_values('diff_limit_and_carrier')"
   ]
  },
  {
   "cell_type": "code",
   "execution_count": 1222,
   "id": "f2d5d4b6",
   "metadata": {},
   "outputs": [
    {
     "data": {
      "text/html": [
       "<div>\n",
       "<style scoped>\n",
       "    .dataframe tbody tr th:only-of-type {\n",
       "        vertical-align: middle;\n",
       "    }\n",
       "\n",
       "    .dataframe tbody tr th {\n",
       "        vertical-align: top;\n",
       "    }\n",
       "\n",
       "    .dataframe thead th {\n",
       "        text-align: right;\n",
       "    }\n",
       "</style>\n",
       "<table border=\"1\" class=\"dataframe\">\n",
       "  <thead>\n",
       "    <tr style=\"text-align: right;\">\n",
       "      <th></th>\n",
       "      <th>order_id</th>\n",
       "      <th>customer_id</th>\n",
       "      <th>order_status</th>\n",
       "      <th>order_purchase_timestamp</th>\n",
       "      <th>order_approved_at</th>\n",
       "      <th>order_delivered_carrier_date</th>\n",
       "      <th>order_delivered_customer_date</th>\n",
       "      <th>order_estimated_delivery_date</th>\n",
       "      <th>diff_carrier_and_approved</th>\n",
       "      <th>shipping_limit_date</th>\n",
       "      <th>diff_limit_and_carrier</th>\n",
       "    </tr>\n",
       "  </thead>\n",
       "  <tbody>\n",
       "    <tr>\n",
       "      <th>806</th>\n",
       "      <td>b59907afa60164e884ce406116efc58d</td>\n",
       "      <td>9c8fef93c079fbe536b901578adf6d2a</td>\n",
       "      <td>delivered</td>\n",
       "      <td>2018-07-02 08:44:56</td>\n",
       "      <td>2018-07-05 16:13:12</td>\n",
       "      <td>2018-07-05 12:45:00</td>\n",
       "      <td>2018-07-10 22:31:55</td>\n",
       "      <td>2018-07-20</td>\n",
       "      <td>-1 days +20:31:48</td>\n",
       "      <td>2018-07-05 04:31:01</td>\n",
       "      <td>-1 days +15:46:01</td>\n",
       "    </tr>\n",
       "    <tr>\n",
       "      <th>756</th>\n",
       "      <td>ad65db823bb3d24954abfc66ee67b165</td>\n",
       "      <td>b988047badca8720f31e6643508d0500</td>\n",
       "      <td>delivered</td>\n",
       "      <td>2018-07-01 17:41:47</td>\n",
       "      <td>2018-07-05 16:10:37</td>\n",
       "      <td>2018-07-05 11:11:00</td>\n",
       "      <td>2018-07-11 13:12:08</td>\n",
       "      <td>2018-07-23</td>\n",
       "      <td>-1 days +19:00:23</td>\n",
       "      <td>2018-07-05 04:31:16</td>\n",
       "      <td>-1 days +17:20:16</td>\n",
       "    </tr>\n",
       "    <tr>\n",
       "      <th>96</th>\n",
       "      <td>8883dd20e652369652c1abd7a411788f</td>\n",
       "      <td>65691ce6d0d99e673bd133ade0ec2362</td>\n",
       "      <td>delivered</td>\n",
       "      <td>2018-08-14 14:24:51</td>\n",
       "      <td>2018-08-20 14:36:32</td>\n",
       "      <td>2018-08-17 14:44:00</td>\n",
       "      <td>2018-08-20 17:37:56</td>\n",
       "      <td>2018-08-23</td>\n",
       "      <td>-3 days +00:07:28</td>\n",
       "      <td>2018-08-17 14:45:31</td>\n",
       "      <td>0 days 00:01:31</td>\n",
       "    </tr>\n",
       "    <tr>\n",
       "      <th>94</th>\n",
       "      <td>ed4116f3f55e67e9a26b9f1891ba2497</td>\n",
       "      <td>125cc79e58f69c02004d42cb9d549f4f</td>\n",
       "      <td>delivered</td>\n",
       "      <td>2018-08-09 13:21:48</td>\n",
       "      <td>2018-08-20 15:55:42</td>\n",
       "      <td>2018-08-17 13:29:00</td>\n",
       "      <td>2018-08-31 00:14:30</td>\n",
       "      <td>2018-08-29</td>\n",
       "      <td>-4 days +21:33:18</td>\n",
       "      <td>2018-08-17 16:30:58</td>\n",
       "      <td>0 days 03:01:58</td>\n",
       "    </tr>\n",
       "    <tr>\n",
       "      <th>765</th>\n",
       "      <td>9baa5b4e68d86c9f1694e1598b543a93</td>\n",
       "      <td>0332d8ec6d259a1caeda045188ffe70f</td>\n",
       "      <td>delivered</td>\n",
       "      <td>2018-07-02 23:13:07</td>\n",
       "      <td>2018-07-05 16:20:18</td>\n",
       "      <td>2018-07-05 11:55:00</td>\n",
       "      <td>2018-07-10 19:05:23</td>\n",
       "      <td>2018-07-25</td>\n",
       "      <td>-1 days +19:34:42</td>\n",
       "      <td>2018-07-05 16:31:40</td>\n",
       "      <td>0 days 04:36:40</td>\n",
       "    </tr>\n",
       "  </tbody>\n",
       "</table>\n",
       "</div>"
      ],
      "text/plain": [
       "                             order_id                       customer_id  \\\n",
       "806  b59907afa60164e884ce406116efc58d  9c8fef93c079fbe536b901578adf6d2a   \n",
       "756  ad65db823bb3d24954abfc66ee67b165  b988047badca8720f31e6643508d0500   \n",
       "96   8883dd20e652369652c1abd7a411788f  65691ce6d0d99e673bd133ade0ec2362   \n",
       "94   ed4116f3f55e67e9a26b9f1891ba2497  125cc79e58f69c02004d42cb9d549f4f   \n",
       "765  9baa5b4e68d86c9f1694e1598b543a93  0332d8ec6d259a1caeda045188ffe70f   \n",
       "\n",
       "    order_status order_purchase_timestamp   order_approved_at  \\\n",
       "806    delivered      2018-07-02 08:44:56 2018-07-05 16:13:12   \n",
       "756    delivered      2018-07-01 17:41:47 2018-07-05 16:10:37   \n",
       "96     delivered      2018-08-14 14:24:51 2018-08-20 14:36:32   \n",
       "94     delivered      2018-08-09 13:21:48 2018-08-20 15:55:42   \n",
       "765    delivered      2018-07-02 23:13:07 2018-07-05 16:20:18   \n",
       "\n",
       "    order_delivered_carrier_date order_delivered_customer_date  \\\n",
       "806          2018-07-05 12:45:00           2018-07-10 22:31:55   \n",
       "756          2018-07-05 11:11:00           2018-07-11 13:12:08   \n",
       "96           2018-08-17 14:44:00           2018-08-20 17:37:56   \n",
       "94           2018-08-17 13:29:00           2018-08-31 00:14:30   \n",
       "765          2018-07-05 11:55:00           2018-07-10 19:05:23   \n",
       "\n",
       "    order_estimated_delivery_date diff_carrier_and_approved  \\\n",
       "806                    2018-07-20         -1 days +20:31:48   \n",
       "756                    2018-07-23         -1 days +19:00:23   \n",
       "96                     2018-08-23         -3 days +00:07:28   \n",
       "94                     2018-08-29         -4 days +21:33:18   \n",
       "765                    2018-07-25         -1 days +19:34:42   \n",
       "\n",
       "    shipping_limit_date diff_limit_and_carrier  \n",
       "806 2018-07-05 04:31:01      -1 days +15:46:01  \n",
       "756 2018-07-05 04:31:16      -1 days +17:20:16  \n",
       "96  2018-08-17 14:45:31        0 days 00:01:31  \n",
       "94  2018-08-17 16:30:58        0 days 03:01:58  \n",
       "765 2018-07-05 16:31:40        0 days 04:36:40  "
      ]
     },
     "execution_count": 1222,
     "metadata": {},
     "output_type": "execute_result"
    }
   ],
   "source": [
    "checking_negative_diff_with_limit_date.head()"
   ]
  },
  {
   "cell_type": "code",
   "execution_count": 1223,
   "id": "a0f76843",
   "metadata": {},
   "outputs": [
    {
     "data": {
      "text/html": [
       "<div>\n",
       "<style scoped>\n",
       "    .dataframe tbody tr th:only-of-type {\n",
       "        vertical-align: middle;\n",
       "    }\n",
       "\n",
       "    .dataframe tbody tr th {\n",
       "        vertical-align: top;\n",
       "    }\n",
       "\n",
       "    .dataframe thead th {\n",
       "        text-align: right;\n",
       "    }\n",
       "</style>\n",
       "<table border=\"1\" class=\"dataframe\">\n",
       "  <thead>\n",
       "    <tr style=\"text-align: right;\">\n",
       "      <th></th>\n",
       "      <th>order_id</th>\n",
       "      <th>customer_id</th>\n",
       "      <th>order_status</th>\n",
       "      <th>order_purchase_timestamp</th>\n",
       "      <th>order_approved_at</th>\n",
       "      <th>order_delivered_carrier_date</th>\n",
       "      <th>order_delivered_customer_date</th>\n",
       "      <th>order_estimated_delivery_date</th>\n",
       "      <th>diff_carrier_and_approved</th>\n",
       "      <th>shipping_limit_date</th>\n",
       "      <th>diff_limit_and_carrier</th>\n",
       "    </tr>\n",
       "  </thead>\n",
       "  <tbody>\n",
       "    <tr>\n",
       "      <th>1197</th>\n",
       "      <td>48b4f1f96d5ae13b404fe7d041a8d393</td>\n",
       "      <td>77151da438a727054ce6430fd175793a</td>\n",
       "      <td>delivered</td>\n",
       "      <td>2018-08-09 13:41:59</td>\n",
       "      <td>2018-08-09 14:35:22</td>\n",
       "      <td>2018-08-09 13:57:00</td>\n",
       "      <td>2018-08-24 16:44:28</td>\n",
       "      <td>2018-09-26</td>\n",
       "      <td>-1 days +23:21:38</td>\n",
       "      <td>2018-08-23 14:35:22</td>\n",
       "      <td>14 days 00:38:22</td>\n",
       "    </tr>\n",
       "    <tr>\n",
       "      <th>1098</th>\n",
       "      <td>ba992a67b91b76a97c227e1ad48658f5</td>\n",
       "      <td>f10d33418980c7f04fe434a6d6c85c5e</td>\n",
       "      <td>delivered</td>\n",
       "      <td>2018-08-03 14:48:15</td>\n",
       "      <td>2018-08-03 15:04:13</td>\n",
       "      <td>2018-08-03 13:58:00</td>\n",
       "      <td>2018-08-14 20:32:31</td>\n",
       "      <td>2018-08-30</td>\n",
       "      <td>-1 days +22:53:47</td>\n",
       "      <td>2018-08-17 15:04:13</td>\n",
       "      <td>14 days 01:06:13</td>\n",
       "    </tr>\n",
       "    <tr>\n",
       "      <th>278</th>\n",
       "      <td>a3270f2613a807c71433dada7bf3876a</td>\n",
       "      <td>2f3df719b7d2f0ce0eab4926ee355614</td>\n",
       "      <td>delivered</td>\n",
       "      <td>2018-07-03 17:05:33</td>\n",
       "      <td>2018-07-05 16:16:37</td>\n",
       "      <td>2018-07-04 12:06:00</td>\n",
       "      <td>2018-07-06 17:36:45</td>\n",
       "      <td>2018-07-30</td>\n",
       "      <td>-2 days +19:49:23</td>\n",
       "      <td>2018-07-19 17:31:32</td>\n",
       "      <td>15 days 05:25:32</td>\n",
       "    </tr>\n",
       "    <tr>\n",
       "      <th>261</th>\n",
       "      <td>f75d04d7bf218d0026ebdbd703d70fa0</td>\n",
       "      <td>1aeb1588530c8d12fbea98e9c6b102d3</td>\n",
       "      <td>delivered</td>\n",
       "      <td>2018-07-03 20:43:12</td>\n",
       "      <td>2018-07-05 16:34:57</td>\n",
       "      <td>2018-07-04 11:44:00</td>\n",
       "      <td>2018-07-13 16:41:32</td>\n",
       "      <td>2018-08-21</td>\n",
       "      <td>-2 days +19:09:03</td>\n",
       "      <td>2018-07-29 21:31:38</td>\n",
       "      <td>25 days 09:47:38</td>\n",
       "    </tr>\n",
       "    <tr>\n",
       "      <th>0</th>\n",
       "      <td>7c48bb55e8e4f7e56d412e9653db37bc</td>\n",
       "      <td>34ef6181341eb36c47fd601c46878f00</td>\n",
       "      <td>delivered</td>\n",
       "      <td>2018-07-16 18:40:53</td>\n",
       "      <td>2018-07-16 18:50:22</td>\n",
       "      <td>2018-01-26 13:35:00</td>\n",
       "      <td>2018-07-23 20:04:45</td>\n",
       "      <td>2018-08-07</td>\n",
       "      <td>-172 days +18:44:38</td>\n",
       "      <td>2018-07-20 18:50:22</td>\n",
       "      <td>175 days 05:15:22</td>\n",
       "    </tr>\n",
       "  </tbody>\n",
       "</table>\n",
       "</div>"
      ],
      "text/plain": [
       "                              order_id                       customer_id  \\\n",
       "1197  48b4f1f96d5ae13b404fe7d041a8d393  77151da438a727054ce6430fd175793a   \n",
       "1098  ba992a67b91b76a97c227e1ad48658f5  f10d33418980c7f04fe434a6d6c85c5e   \n",
       "278   a3270f2613a807c71433dada7bf3876a  2f3df719b7d2f0ce0eab4926ee355614   \n",
       "261   f75d04d7bf218d0026ebdbd703d70fa0  1aeb1588530c8d12fbea98e9c6b102d3   \n",
       "0     7c48bb55e8e4f7e56d412e9653db37bc  34ef6181341eb36c47fd601c46878f00   \n",
       "\n",
       "     order_status order_purchase_timestamp   order_approved_at  \\\n",
       "1197    delivered      2018-08-09 13:41:59 2018-08-09 14:35:22   \n",
       "1098    delivered      2018-08-03 14:48:15 2018-08-03 15:04:13   \n",
       "278     delivered      2018-07-03 17:05:33 2018-07-05 16:16:37   \n",
       "261     delivered      2018-07-03 20:43:12 2018-07-05 16:34:57   \n",
       "0       delivered      2018-07-16 18:40:53 2018-07-16 18:50:22   \n",
       "\n",
       "     order_delivered_carrier_date order_delivered_customer_date  \\\n",
       "1197          2018-08-09 13:57:00           2018-08-24 16:44:28   \n",
       "1098          2018-08-03 13:58:00           2018-08-14 20:32:31   \n",
       "278           2018-07-04 12:06:00           2018-07-06 17:36:45   \n",
       "261           2018-07-04 11:44:00           2018-07-13 16:41:32   \n",
       "0             2018-01-26 13:35:00           2018-07-23 20:04:45   \n",
       "\n",
       "     order_estimated_delivery_date diff_carrier_and_approved  \\\n",
       "1197                    2018-09-26         -1 days +23:21:38   \n",
       "1098                    2018-08-30         -1 days +22:53:47   \n",
       "278                     2018-07-30         -2 days +19:49:23   \n",
       "261                     2018-08-21         -2 days +19:09:03   \n",
       "0                       2018-08-07       -172 days +18:44:38   \n",
       "\n",
       "     shipping_limit_date diff_limit_and_carrier  \n",
       "1197 2018-08-23 14:35:22       14 days 00:38:22  \n",
       "1098 2018-08-17 15:04:13       14 days 01:06:13  \n",
       "278  2018-07-19 17:31:32       15 days 05:25:32  \n",
       "261  2018-07-29 21:31:38       25 days 09:47:38  \n",
       "0    2018-07-20 18:50:22      175 days 05:15:22  "
      ]
     },
     "execution_count": 1223,
     "metadata": {},
     "output_type": "execute_result"
    }
   ],
   "source": [
    "checking_negative_diff_with_limit_date.tail()"
   ]
  },
  {
   "cell_type": "markdown",
   "id": "0d346c44",
   "metadata": {},
   "source": [
    "В итоге, всего 1359 заказов с отрицательной разницей между order_delivered_carrier_date и order_approved_at. В заказе с экстремальным значением (-172 дня) явно была допущена ошибка при записи в колонку order_delivered_carrier_date, так как заказ не мог передан в службу доставки в тот момент, когда он ещё не существовал. Выяснилось, что 2 заказа были переданы продавцом в службу доставки после максимально допустимой даты (опоздание на 1 день). Остальные заказы были переданы вовремя.<br>\n",
    "Примем, что для данных заказов (кроме заказа с экстремаьным значением) действовало особое условие, при котором оплата проходила после передачи в службу доставки. Заказ с экстрамальным значением оставим без изменений, так как ошибка в order_delivered_carrier_date никак не повлияет на RFM анализ. Насчёт 2 заказов, которые были переданы в службу доставки с опозданием: предположим, что продавцы нашли способ передать данные заказы после срока."
   ]
  },
  {
   "cell_type": "markdown",
   "id": "dabbdba6",
   "metadata": {},
   "source": [
    "<b>Возвращаемся к RFM-сегментации</b>"
   ]
  },
  {
   "cell_type": "code",
   "execution_count": 1224,
   "id": "be31dda5",
   "metadata": {},
   "outputs": [],
   "source": [
    "df_orders_with_purch_RFM = df_orders_with_purch[['order_id', 'customer_id', 'order_approved_at']]"
   ]
  },
  {
   "cell_type": "code",
   "execution_count": 1225,
   "id": "79d516c6",
   "metadata": {},
   "outputs": [],
   "source": [
    "df_orders_with_purch_RFM.loc[df_orders_with_purch_RFM.order_approved_at.isna(), 'order_approved_at'] = (df_orders_delivered_missed\n",
    "                                                                                                        .order_purchase_timestamp)"
   ]
  },
  {
   "cell_type": "code",
   "execution_count": 1226,
   "id": "d90ea701",
   "metadata": {},
   "outputs": [
    {
     "data": {
      "text/html": [
       "<div>\n",
       "<style scoped>\n",
       "    .dataframe tbody tr th:only-of-type {\n",
       "        vertical-align: middle;\n",
       "    }\n",
       "\n",
       "    .dataframe tbody tr th {\n",
       "        vertical-align: top;\n",
       "    }\n",
       "\n",
       "    .dataframe thead th {\n",
       "        text-align: right;\n",
       "    }\n",
       "</style>\n",
       "<table border=\"1\" class=\"dataframe\">\n",
       "  <thead>\n",
       "    <tr style=\"text-align: right;\">\n",
       "      <th></th>\n",
       "      <th>order_id</th>\n",
       "      <th>customer_id</th>\n",
       "      <th>order_approved_at</th>\n",
       "    </tr>\n",
       "  </thead>\n",
       "  <tbody>\n",
       "    <tr>\n",
       "      <th>0</th>\n",
       "      <td>e481f51cbdc54678b7cc49136f2d6af7</td>\n",
       "      <td>9ef432eb6251297304e76186b10a928d</td>\n",
       "      <td>2017-10-02 11:07:15</td>\n",
       "    </tr>\n",
       "    <tr>\n",
       "      <th>1</th>\n",
       "      <td>53cdb2fc8bc7dce0b6741e2150273451</td>\n",
       "      <td>b0830fb4747a6c6d20dea0b8c802d7ef</td>\n",
       "      <td>2018-07-26 03:24:27</td>\n",
       "    </tr>\n",
       "    <tr>\n",
       "      <th>2</th>\n",
       "      <td>47770eb9100c2d0c44946d9cf07ec65d</td>\n",
       "      <td>41ce2a54c0b03bf3443c3d931a367089</td>\n",
       "      <td>2018-08-08 08:55:23</td>\n",
       "    </tr>\n",
       "    <tr>\n",
       "      <th>3</th>\n",
       "      <td>949d5b44dbf5de918fe9c16f97b45f8a</td>\n",
       "      <td>f88197465ea7920adcdbec7375364d82</td>\n",
       "      <td>2017-11-18 19:45:59</td>\n",
       "    </tr>\n",
       "    <tr>\n",
       "      <th>4</th>\n",
       "      <td>ad21c59c0840e6cb83a9ceb5573f8159</td>\n",
       "      <td>8ab97904e6daea8866dbdbc4fb7aad2c</td>\n",
       "      <td>2018-02-13 22:20:29</td>\n",
       "    </tr>\n",
       "  </tbody>\n",
       "</table>\n",
       "</div>"
      ],
      "text/plain": [
       "                           order_id                       customer_id  \\\n",
       "0  e481f51cbdc54678b7cc49136f2d6af7  9ef432eb6251297304e76186b10a928d   \n",
       "1  53cdb2fc8bc7dce0b6741e2150273451  b0830fb4747a6c6d20dea0b8c802d7ef   \n",
       "2  47770eb9100c2d0c44946d9cf07ec65d  41ce2a54c0b03bf3443c3d931a367089   \n",
       "3  949d5b44dbf5de918fe9c16f97b45f8a  f88197465ea7920adcdbec7375364d82   \n",
       "4  ad21c59c0840e6cb83a9ceb5573f8159  8ab97904e6daea8866dbdbc4fb7aad2c   \n",
       "\n",
       "    order_approved_at  \n",
       "0 2017-10-02 11:07:15  \n",
       "1 2018-07-26 03:24:27  \n",
       "2 2018-08-08 08:55:23  \n",
       "3 2017-11-18 19:45:59  \n",
       "4 2018-02-13 22:20:29  "
      ]
     },
     "execution_count": 1226,
     "metadata": {},
     "output_type": "execute_result"
    }
   ],
   "source": [
    "df_orders_with_purch_RFM.head()"
   ]
  },
  {
   "cell_type": "code",
   "execution_count": 1227,
   "id": "aeb37a11",
   "metadata": {},
   "outputs": [
    {
     "data": {
      "text/plain": [
       "(98346, 3)"
      ]
     },
     "execution_count": 1227,
     "metadata": {},
     "output_type": "execute_result"
    }
   ],
   "source": [
    "df_orders_with_purch_RFM.shape"
   ]
  },
  {
   "cell_type": "code",
   "execution_count": 1228,
   "id": "d0190b3f",
   "metadata": {},
   "outputs": [
    {
     "data": {
      "text/plain": [
       "False"
      ]
     },
     "execution_count": 1228,
     "metadata": {},
     "output_type": "execute_result"
    }
   ],
   "source": [
    "df_orders_with_purch_RFM.order_approved_at.isna().any()"
   ]
  },
  {
   "cell_type": "markdown",
   "id": "6b0a8ac2",
   "metadata": {},
   "source": [
    "Для каждого заказа опрделим, как много прошло дней со дня покупки."
   ]
  },
  {
   "cell_type": "code",
   "execution_count": 1229,
   "id": "5c909d59",
   "metadata": {},
   "outputs": [],
   "source": [
    "df_orders_with_purch_RFM.loc[:, 'order_approved_at'] = (now_date - df_orders_with_purch_RFM.order_approved_at.dt.date)\n",
    "# now_date - дата, относительно которой проводится анализ (была определена ранее)"
   ]
  },
  {
   "cell_type": "code",
   "execution_count": 1230,
   "id": "d651e179",
   "metadata": {},
   "outputs": [
    {
     "data": {
      "text/html": [
       "<div>\n",
       "<style scoped>\n",
       "    .dataframe tbody tr th:only-of-type {\n",
       "        vertical-align: middle;\n",
       "    }\n",
       "\n",
       "    .dataframe tbody tr th {\n",
       "        vertical-align: top;\n",
       "    }\n",
       "\n",
       "    .dataframe thead th {\n",
       "        text-align: right;\n",
       "    }\n",
       "</style>\n",
       "<table border=\"1\" class=\"dataframe\">\n",
       "  <thead>\n",
       "    <tr style=\"text-align: right;\">\n",
       "      <th></th>\n",
       "      <th>order_id</th>\n",
       "      <th>customer_id</th>\n",
       "      <th>order_approved_at</th>\n",
       "    </tr>\n",
       "  </thead>\n",
       "  <tbody>\n",
       "    <tr>\n",
       "      <th>0</th>\n",
       "      <td>e481f51cbdc54678b7cc49136f2d6af7</td>\n",
       "      <td>9ef432eb6251297304e76186b10a928d</td>\n",
       "      <td>337 days</td>\n",
       "    </tr>\n",
       "    <tr>\n",
       "      <th>1</th>\n",
       "      <td>53cdb2fc8bc7dce0b6741e2150273451</td>\n",
       "      <td>b0830fb4747a6c6d20dea0b8c802d7ef</td>\n",
       "      <td>40 days</td>\n",
       "    </tr>\n",
       "    <tr>\n",
       "      <th>2</th>\n",
       "      <td>47770eb9100c2d0c44946d9cf07ec65d</td>\n",
       "      <td>41ce2a54c0b03bf3443c3d931a367089</td>\n",
       "      <td>27 days</td>\n",
       "    </tr>\n",
       "    <tr>\n",
       "      <th>3</th>\n",
       "      <td>949d5b44dbf5de918fe9c16f97b45f8a</td>\n",
       "      <td>f88197465ea7920adcdbec7375364d82</td>\n",
       "      <td>290 days</td>\n",
       "    </tr>\n",
       "    <tr>\n",
       "      <th>4</th>\n",
       "      <td>ad21c59c0840e6cb83a9ceb5573f8159</td>\n",
       "      <td>8ab97904e6daea8866dbdbc4fb7aad2c</td>\n",
       "      <td>203 days</td>\n",
       "    </tr>\n",
       "  </tbody>\n",
       "</table>\n",
       "</div>"
      ],
      "text/plain": [
       "                           order_id                       customer_id  \\\n",
       "0  e481f51cbdc54678b7cc49136f2d6af7  9ef432eb6251297304e76186b10a928d   \n",
       "1  53cdb2fc8bc7dce0b6741e2150273451  b0830fb4747a6c6d20dea0b8c802d7ef   \n",
       "2  47770eb9100c2d0c44946d9cf07ec65d  41ce2a54c0b03bf3443c3d931a367089   \n",
       "3  949d5b44dbf5de918fe9c16f97b45f8a  f88197465ea7920adcdbec7375364d82   \n",
       "4  ad21c59c0840e6cb83a9ceb5573f8159  8ab97904e6daea8866dbdbc4fb7aad2c   \n",
       "\n",
       "  order_approved_at  \n",
       "0          337 days  \n",
       "1           40 days  \n",
       "2           27 days  \n",
       "3          290 days  \n",
       "4          203 days  "
      ]
     },
     "execution_count": 1230,
     "metadata": {},
     "output_type": "execute_result"
    }
   ],
   "source": [
    "df_orders_with_purch_RFM.head()"
   ]
  },
  {
   "cell_type": "code",
   "execution_count": 1231,
   "id": "661f5716",
   "metadata": {},
   "outputs": [],
   "source": [
    "df_orders_and_price_RFM = df_orders_with_purch_RFM.merge(order_prices, on='order_id', how='inner')"
   ]
  },
  {
   "cell_type": "code",
   "execution_count": 1232,
   "id": "ccdeadcd",
   "metadata": {},
   "outputs": [
    {
     "data": {
      "text/html": [
       "<div>\n",
       "<style scoped>\n",
       "    .dataframe tbody tr th:only-of-type {\n",
       "        vertical-align: middle;\n",
       "    }\n",
       "\n",
       "    .dataframe tbody tr th {\n",
       "        vertical-align: top;\n",
       "    }\n",
       "\n",
       "    .dataframe thead th {\n",
       "        text-align: right;\n",
       "    }\n",
       "</style>\n",
       "<table border=\"1\" class=\"dataframe\">\n",
       "  <thead>\n",
       "    <tr style=\"text-align: right;\">\n",
       "      <th></th>\n",
       "      <th>order_id</th>\n",
       "      <th>customer_id</th>\n",
       "      <th>order_approved_at</th>\n",
       "      <th>price</th>\n",
       "    </tr>\n",
       "  </thead>\n",
       "  <tbody>\n",
       "    <tr>\n",
       "      <th>0</th>\n",
       "      <td>e481f51cbdc54678b7cc49136f2d6af7</td>\n",
       "      <td>9ef432eb6251297304e76186b10a928d</td>\n",
       "      <td>337 days</td>\n",
       "      <td>29.99</td>\n",
       "    </tr>\n",
       "    <tr>\n",
       "      <th>1</th>\n",
       "      <td>53cdb2fc8bc7dce0b6741e2150273451</td>\n",
       "      <td>b0830fb4747a6c6d20dea0b8c802d7ef</td>\n",
       "      <td>40 days</td>\n",
       "      <td>118.70</td>\n",
       "    </tr>\n",
       "    <tr>\n",
       "      <th>2</th>\n",
       "      <td>47770eb9100c2d0c44946d9cf07ec65d</td>\n",
       "      <td>41ce2a54c0b03bf3443c3d931a367089</td>\n",
       "      <td>27 days</td>\n",
       "      <td>159.90</td>\n",
       "    </tr>\n",
       "    <tr>\n",
       "      <th>3</th>\n",
       "      <td>949d5b44dbf5de918fe9c16f97b45f8a</td>\n",
       "      <td>f88197465ea7920adcdbec7375364d82</td>\n",
       "      <td>290 days</td>\n",
       "      <td>45.00</td>\n",
       "    </tr>\n",
       "    <tr>\n",
       "      <th>4</th>\n",
       "      <td>ad21c59c0840e6cb83a9ceb5573f8159</td>\n",
       "      <td>8ab97904e6daea8866dbdbc4fb7aad2c</td>\n",
       "      <td>203 days</td>\n",
       "      <td>19.90</td>\n",
       "    </tr>\n",
       "  </tbody>\n",
       "</table>\n",
       "</div>"
      ],
      "text/plain": [
       "                           order_id                       customer_id  \\\n",
       "0  e481f51cbdc54678b7cc49136f2d6af7  9ef432eb6251297304e76186b10a928d   \n",
       "1  53cdb2fc8bc7dce0b6741e2150273451  b0830fb4747a6c6d20dea0b8c802d7ef   \n",
       "2  47770eb9100c2d0c44946d9cf07ec65d  41ce2a54c0b03bf3443c3d931a367089   \n",
       "3  949d5b44dbf5de918fe9c16f97b45f8a  f88197465ea7920adcdbec7375364d82   \n",
       "4  ad21c59c0840e6cb83a9ceb5573f8159  8ab97904e6daea8866dbdbc4fb7aad2c   \n",
       "\n",
       "  order_approved_at   price  \n",
       "0          337 days   29.99  \n",
       "1           40 days  118.70  \n",
       "2           27 days  159.90  \n",
       "3          290 days   45.00  \n",
       "4          203 days   19.90  "
      ]
     },
     "execution_count": 1232,
     "metadata": {},
     "output_type": "execute_result"
    }
   ],
   "source": [
    "df_orders_and_price_RFM.head()"
   ]
  },
  {
   "cell_type": "code",
   "execution_count": 1233,
   "id": "dc19d4dc",
   "metadata": {},
   "outputs": [
    {
     "data": {
      "text/plain": [
       "(98346, 4)"
      ]
     },
     "execution_count": 1233,
     "metadata": {},
     "output_type": "execute_result"
    }
   ],
   "source": [
    "df_orders_and_price_RFM.shape"
   ]
  },
  {
   "cell_type": "code",
   "execution_count": 1234,
   "id": "9c0d7130",
   "metadata": {},
   "outputs": [],
   "source": [
    "df_orders_and_price_with_customers_RFM = (df_orders_and_price_RFM\n",
    "                                          .merge(df_customers_with_purch[['customer_id', 'customer_unique_id']], \n",
    "                                                 how='left', on='customer_id'))"
   ]
  },
  {
   "cell_type": "code",
   "execution_count": 1235,
   "id": "c05715b6",
   "metadata": {},
   "outputs": [
    {
     "data": {
      "text/html": [
       "<div>\n",
       "<style scoped>\n",
       "    .dataframe tbody tr th:only-of-type {\n",
       "        vertical-align: middle;\n",
       "    }\n",
       "\n",
       "    .dataframe tbody tr th {\n",
       "        vertical-align: top;\n",
       "    }\n",
       "\n",
       "    .dataframe thead th {\n",
       "        text-align: right;\n",
       "    }\n",
       "</style>\n",
       "<table border=\"1\" class=\"dataframe\">\n",
       "  <thead>\n",
       "    <tr style=\"text-align: right;\">\n",
       "      <th></th>\n",
       "      <th>order_id</th>\n",
       "      <th>customer_id</th>\n",
       "      <th>order_approved_at</th>\n",
       "      <th>price</th>\n",
       "      <th>customer_unique_id</th>\n",
       "    </tr>\n",
       "  </thead>\n",
       "  <tbody>\n",
       "    <tr>\n",
       "      <th>0</th>\n",
       "      <td>e481f51cbdc54678b7cc49136f2d6af7</td>\n",
       "      <td>9ef432eb6251297304e76186b10a928d</td>\n",
       "      <td>337 days</td>\n",
       "      <td>29.99</td>\n",
       "      <td>7c396fd4830fd04220f754e42b4e5bff</td>\n",
       "    </tr>\n",
       "    <tr>\n",
       "      <th>1</th>\n",
       "      <td>53cdb2fc8bc7dce0b6741e2150273451</td>\n",
       "      <td>b0830fb4747a6c6d20dea0b8c802d7ef</td>\n",
       "      <td>40 days</td>\n",
       "      <td>118.70</td>\n",
       "      <td>af07308b275d755c9edb36a90c618231</td>\n",
       "    </tr>\n",
       "    <tr>\n",
       "      <th>2</th>\n",
       "      <td>47770eb9100c2d0c44946d9cf07ec65d</td>\n",
       "      <td>41ce2a54c0b03bf3443c3d931a367089</td>\n",
       "      <td>27 days</td>\n",
       "      <td>159.90</td>\n",
       "      <td>3a653a41f6f9fc3d2a113cf8398680e8</td>\n",
       "    </tr>\n",
       "    <tr>\n",
       "      <th>3</th>\n",
       "      <td>949d5b44dbf5de918fe9c16f97b45f8a</td>\n",
       "      <td>f88197465ea7920adcdbec7375364d82</td>\n",
       "      <td>290 days</td>\n",
       "      <td>45.00</td>\n",
       "      <td>7c142cf63193a1473d2e66489a9ae977</td>\n",
       "    </tr>\n",
       "    <tr>\n",
       "      <th>4</th>\n",
       "      <td>ad21c59c0840e6cb83a9ceb5573f8159</td>\n",
       "      <td>8ab97904e6daea8866dbdbc4fb7aad2c</td>\n",
       "      <td>203 days</td>\n",
       "      <td>19.90</td>\n",
       "      <td>72632f0f9dd73dfee390c9b22eb56dd6</td>\n",
       "    </tr>\n",
       "  </tbody>\n",
       "</table>\n",
       "</div>"
      ],
      "text/plain": [
       "                           order_id                       customer_id  \\\n",
       "0  e481f51cbdc54678b7cc49136f2d6af7  9ef432eb6251297304e76186b10a928d   \n",
       "1  53cdb2fc8bc7dce0b6741e2150273451  b0830fb4747a6c6d20dea0b8c802d7ef   \n",
       "2  47770eb9100c2d0c44946d9cf07ec65d  41ce2a54c0b03bf3443c3d931a367089   \n",
       "3  949d5b44dbf5de918fe9c16f97b45f8a  f88197465ea7920adcdbec7375364d82   \n",
       "4  ad21c59c0840e6cb83a9ceb5573f8159  8ab97904e6daea8866dbdbc4fb7aad2c   \n",
       "\n",
       "  order_approved_at   price                customer_unique_id  \n",
       "0          337 days   29.99  7c396fd4830fd04220f754e42b4e5bff  \n",
       "1           40 days  118.70  af07308b275d755c9edb36a90c618231  \n",
       "2           27 days  159.90  3a653a41f6f9fc3d2a113cf8398680e8  \n",
       "3          290 days   45.00  7c142cf63193a1473d2e66489a9ae977  \n",
       "4          203 days   19.90  72632f0f9dd73dfee390c9b22eb56dd6  "
      ]
     },
     "execution_count": 1235,
     "metadata": {},
     "output_type": "execute_result"
    }
   ],
   "source": [
    "df_orders_and_price_with_customers_RFM.head()"
   ]
  },
  {
   "cell_type": "code",
   "execution_count": 1236,
   "id": "23608e15",
   "metadata": {},
   "outputs": [
    {
     "data": {
      "text/plain": [
       "(98346, 5)"
      ]
     },
     "execution_count": 1236,
     "metadata": {},
     "output_type": "execute_result"
    }
   ],
   "source": [
    "df_orders_and_price_with_customers_RFM.shape"
   ]
  },
  {
   "cell_type": "code",
   "execution_count": 1237,
   "id": "8bd52349",
   "metadata": {},
   "outputs": [],
   "source": [
    "df_main_RFM = df_orders_and_price_with_customers_RFM[['customer_unique_id', 'order_id', 'order_approved_at', 'price']]"
   ]
  },
  {
   "cell_type": "code",
   "execution_count": 1238,
   "id": "24308c7e",
   "metadata": {},
   "outputs": [
    {
     "data": {
      "text/html": [
       "<div>\n",
       "<style scoped>\n",
       "    .dataframe tbody tr th:only-of-type {\n",
       "        vertical-align: middle;\n",
       "    }\n",
       "\n",
       "    .dataframe tbody tr th {\n",
       "        vertical-align: top;\n",
       "    }\n",
       "\n",
       "    .dataframe thead th {\n",
       "        text-align: right;\n",
       "    }\n",
       "</style>\n",
       "<table border=\"1\" class=\"dataframe\">\n",
       "  <thead>\n",
       "    <tr style=\"text-align: right;\">\n",
       "      <th></th>\n",
       "      <th>customer_unique_id</th>\n",
       "      <th>order_id</th>\n",
       "      <th>order_approved_at</th>\n",
       "      <th>price</th>\n",
       "    </tr>\n",
       "  </thead>\n",
       "  <tbody>\n",
       "    <tr>\n",
       "      <th>0</th>\n",
       "      <td>7c396fd4830fd04220f754e42b4e5bff</td>\n",
       "      <td>e481f51cbdc54678b7cc49136f2d6af7</td>\n",
       "      <td>337 days</td>\n",
       "      <td>29.99</td>\n",
       "    </tr>\n",
       "    <tr>\n",
       "      <th>1</th>\n",
       "      <td>af07308b275d755c9edb36a90c618231</td>\n",
       "      <td>53cdb2fc8bc7dce0b6741e2150273451</td>\n",
       "      <td>40 days</td>\n",
       "      <td>118.70</td>\n",
       "    </tr>\n",
       "    <tr>\n",
       "      <th>2</th>\n",
       "      <td>3a653a41f6f9fc3d2a113cf8398680e8</td>\n",
       "      <td>47770eb9100c2d0c44946d9cf07ec65d</td>\n",
       "      <td>27 days</td>\n",
       "      <td>159.90</td>\n",
       "    </tr>\n",
       "    <tr>\n",
       "      <th>3</th>\n",
       "      <td>7c142cf63193a1473d2e66489a9ae977</td>\n",
       "      <td>949d5b44dbf5de918fe9c16f97b45f8a</td>\n",
       "      <td>290 days</td>\n",
       "      <td>45.00</td>\n",
       "    </tr>\n",
       "    <tr>\n",
       "      <th>4</th>\n",
       "      <td>72632f0f9dd73dfee390c9b22eb56dd6</td>\n",
       "      <td>ad21c59c0840e6cb83a9ceb5573f8159</td>\n",
       "      <td>203 days</td>\n",
       "      <td>19.90</td>\n",
       "    </tr>\n",
       "  </tbody>\n",
       "</table>\n",
       "</div>"
      ],
      "text/plain": [
       "                 customer_unique_id                          order_id  \\\n",
       "0  7c396fd4830fd04220f754e42b4e5bff  e481f51cbdc54678b7cc49136f2d6af7   \n",
       "1  af07308b275d755c9edb36a90c618231  53cdb2fc8bc7dce0b6741e2150273451   \n",
       "2  3a653a41f6f9fc3d2a113cf8398680e8  47770eb9100c2d0c44946d9cf07ec65d   \n",
       "3  7c142cf63193a1473d2e66489a9ae977  949d5b44dbf5de918fe9c16f97b45f8a   \n",
       "4  72632f0f9dd73dfee390c9b22eb56dd6  ad21c59c0840e6cb83a9ceb5573f8159   \n",
       "\n",
       "  order_approved_at   price  \n",
       "0          337 days   29.99  \n",
       "1           40 days  118.70  \n",
       "2           27 days  159.90  \n",
       "3          290 days   45.00  \n",
       "4          203 days   19.90  "
      ]
     },
     "execution_count": 1238,
     "metadata": {},
     "output_type": "execute_result"
    }
   ],
   "source": [
    "df_main_RFM.head()"
   ]
  },
  {
   "cell_type": "code",
   "execution_count": 1239,
   "id": "02aacfbd",
   "metadata": {},
   "outputs": [],
   "source": [
    "df_main_RFM = (df_main_RFM.rename(columns={'order_approved_at':'DaysSinceOrder', 'price':'price_for_order'}))"
   ]
  },
  {
   "cell_type": "code",
   "execution_count": 1240,
   "id": "b297ea79",
   "metadata": {},
   "outputs": [],
   "source": [
    "df_main_RFM['DaysSinceOrder'] = df_main_RFM.DaysSinceOrder.dt.days"
   ]
  },
  {
   "cell_type": "code",
   "execution_count": 1241,
   "id": "c3066517",
   "metadata": {},
   "outputs": [
    {
     "data": {
      "text/html": [
       "<div>\n",
       "<style scoped>\n",
       "    .dataframe tbody tr th:only-of-type {\n",
       "        vertical-align: middle;\n",
       "    }\n",
       "\n",
       "    .dataframe tbody tr th {\n",
       "        vertical-align: top;\n",
       "    }\n",
       "\n",
       "    .dataframe thead th {\n",
       "        text-align: right;\n",
       "    }\n",
       "</style>\n",
       "<table border=\"1\" class=\"dataframe\">\n",
       "  <thead>\n",
       "    <tr style=\"text-align: right;\">\n",
       "      <th></th>\n",
       "      <th>customer_unique_id</th>\n",
       "      <th>order_id</th>\n",
       "      <th>DaysSinceOrder</th>\n",
       "      <th>price_for_order</th>\n",
       "    </tr>\n",
       "  </thead>\n",
       "  <tbody>\n",
       "    <tr>\n",
       "      <th>0</th>\n",
       "      <td>7c396fd4830fd04220f754e42b4e5bff</td>\n",
       "      <td>e481f51cbdc54678b7cc49136f2d6af7</td>\n",
       "      <td>337</td>\n",
       "      <td>29.99</td>\n",
       "    </tr>\n",
       "    <tr>\n",
       "      <th>1</th>\n",
       "      <td>af07308b275d755c9edb36a90c618231</td>\n",
       "      <td>53cdb2fc8bc7dce0b6741e2150273451</td>\n",
       "      <td>40</td>\n",
       "      <td>118.70</td>\n",
       "    </tr>\n",
       "    <tr>\n",
       "      <th>2</th>\n",
       "      <td>3a653a41f6f9fc3d2a113cf8398680e8</td>\n",
       "      <td>47770eb9100c2d0c44946d9cf07ec65d</td>\n",
       "      <td>27</td>\n",
       "      <td>159.90</td>\n",
       "    </tr>\n",
       "    <tr>\n",
       "      <th>3</th>\n",
       "      <td>7c142cf63193a1473d2e66489a9ae977</td>\n",
       "      <td>949d5b44dbf5de918fe9c16f97b45f8a</td>\n",
       "      <td>290</td>\n",
       "      <td>45.00</td>\n",
       "    </tr>\n",
       "    <tr>\n",
       "      <th>4</th>\n",
       "      <td>72632f0f9dd73dfee390c9b22eb56dd6</td>\n",
       "      <td>ad21c59c0840e6cb83a9ceb5573f8159</td>\n",
       "      <td>203</td>\n",
       "      <td>19.90</td>\n",
       "    </tr>\n",
       "  </tbody>\n",
       "</table>\n",
       "</div>"
      ],
      "text/plain": [
       "                 customer_unique_id                          order_id  \\\n",
       "0  7c396fd4830fd04220f754e42b4e5bff  e481f51cbdc54678b7cc49136f2d6af7   \n",
       "1  af07308b275d755c9edb36a90c618231  53cdb2fc8bc7dce0b6741e2150273451   \n",
       "2  3a653a41f6f9fc3d2a113cf8398680e8  47770eb9100c2d0c44946d9cf07ec65d   \n",
       "3  7c142cf63193a1473d2e66489a9ae977  949d5b44dbf5de918fe9c16f97b45f8a   \n",
       "4  72632f0f9dd73dfee390c9b22eb56dd6  ad21c59c0840e6cb83a9ceb5573f8159   \n",
       "\n",
       "   DaysSinceOrder  price_for_order  \n",
       "0             337            29.99  \n",
       "1              40           118.70  \n",
       "2              27           159.90  \n",
       "3             290            45.00  \n",
       "4             203            19.90  "
      ]
     },
     "execution_count": 1241,
     "metadata": {},
     "output_type": "execute_result"
    }
   ],
   "source": [
    "df_main_RFM.head()"
   ]
  },
  {
   "cell_type": "code",
   "execution_count": 1242,
   "id": "f1343da1",
   "metadata": {},
   "outputs": [
    {
     "data": {
      "text/plain": [
       "(98346, 4)"
      ]
     },
     "execution_count": 1242,
     "metadata": {},
     "output_type": "execute_result"
    }
   ],
   "source": [
    "df_main_RFM.shape"
   ]
  },
  {
   "cell_type": "code",
   "execution_count": 1243,
   "id": "5aba0555",
   "metadata": {},
   "outputs": [
    {
     "data": {
      "text/plain": [
       "customer_unique_id     object\n",
       "order_id               object\n",
       "DaysSinceOrder          int64\n",
       "price_for_order       float64\n",
       "dtype: object"
      ]
     },
     "execution_count": 1243,
     "metadata": {},
     "output_type": "execute_result"
    }
   ],
   "source": [
    "df_main_RFM.dtypes"
   ]
  },
  {
   "cell_type": "markdown",
   "id": "cbf3ca22",
   "metadata": {},
   "source": [
    "### Recency, Frequency и Monetary\n",
    "<b>Recency</b> - количество дней между последней покупкой пользователя и текущей датой (т.е. now_date).\n",
    "Для определения Recency необходимо для каждого пользователя из колонки customer_unique_id определить\n",
    "минимальное значение из DaysSinceOrder.<br>\n",
    "<b>Frequency</b> - количество купленных одним пользователем заказов в течении рассматриваемого периода (2 года).\n",
    "Так как приод в 2 года охватывает все данные, то для определения Frequency необходимо для каждого пользователя\n",
    "из колонки customer_unique_id посчитать количество заказов из колонки order_id.<br>\n",
    "<b>Monetary</b> - сумма всех сделанных пользователем покупок за рассматриваемый период. Как и в случае с Frequency, приод в 2 года охватывает все данные, поэтому для для определения Monetary необходимо для каждого пользователя из колонки customer_unique_id посчитать сумму из колонки price_for_order."
   ]
  },
  {
   "cell_type": "code",
   "execution_count": 1244,
   "id": "d69da34e",
   "metadata": {},
   "outputs": [
    {
     "data": {
      "text/plain": [
       "True"
      ]
     },
     "execution_count": 1244,
     "metadata": {},
     "output_type": "execute_result"
    }
   ],
   "source": [
    "df_main_RFM.DaysSinceOrder.max() < period\n",
    "# Доказательство того, что рассматриваемый период охватывает все данные."
   ]
  },
  {
   "cell_type": "code",
   "execution_count": 1245,
   "id": "50177235",
   "metadata": {},
   "outputs": [],
   "source": [
    "df_RFM = (df_main_RFM\n",
    "          .groupby('customer_unique_id', as_index=False)\n",
    "          .agg({'DaysSinceOrder': 'min', 'order_id': 'count', 'price_for_order': 'sum'}))"
   ]
  },
  {
   "cell_type": "code",
   "execution_count": 1246,
   "id": "40a42d2b",
   "metadata": {},
   "outputs": [],
   "source": [
    "df_RFM = (df_RFM\n",
    "          .rename(columns={'DaysSinceOrder': 'Recency', 'order_id': 'Frequency', 'price_for_order': 'Monetary'}))"
   ]
  },
  {
   "cell_type": "code",
   "execution_count": 1247,
   "id": "5eb7309f",
   "metadata": {},
   "outputs": [
    {
     "data": {
      "text/html": [
       "<div>\n",
       "<style scoped>\n",
       "    .dataframe tbody tr th:only-of-type {\n",
       "        vertical-align: middle;\n",
       "    }\n",
       "\n",
       "    .dataframe tbody tr th {\n",
       "        vertical-align: top;\n",
       "    }\n",
       "\n",
       "    .dataframe thead th {\n",
       "        text-align: right;\n",
       "    }\n",
       "</style>\n",
       "<table border=\"1\" class=\"dataframe\">\n",
       "  <thead>\n",
       "    <tr style=\"text-align: right;\">\n",
       "      <th></th>\n",
       "      <th>customer_unique_id</th>\n",
       "      <th>Recency</th>\n",
       "      <th>Frequency</th>\n",
       "      <th>Monetary</th>\n",
       "    </tr>\n",
       "  </thead>\n",
       "  <tbody>\n",
       "    <tr>\n",
       "      <th>0</th>\n",
       "      <td>0000366f3b9a7992bf8c76cfdf3221e2</td>\n",
       "      <td>117</td>\n",
       "      <td>1</td>\n",
       "      <td>129.90</td>\n",
       "    </tr>\n",
       "    <tr>\n",
       "      <th>1</th>\n",
       "      <td>0000b849f77a49e4a4ce2b2a4ca5be3f</td>\n",
       "      <td>120</td>\n",
       "      <td>1</td>\n",
       "      <td>18.90</td>\n",
       "    </tr>\n",
       "    <tr>\n",
       "      <th>2</th>\n",
       "      <td>0000f46a3911fa3c0805444483337064</td>\n",
       "      <td>543</td>\n",
       "      <td>1</td>\n",
       "      <td>69.00</td>\n",
       "    </tr>\n",
       "    <tr>\n",
       "      <th>3</th>\n",
       "      <td>0000f6ccb0745a6a4b88665a16c9f078</td>\n",
       "      <td>327</td>\n",
       "      <td>1</td>\n",
       "      <td>25.99</td>\n",
       "    </tr>\n",
       "    <tr>\n",
       "      <th>4</th>\n",
       "      <td>0004aac84e0df4da2b147fca70cf8255</td>\n",
       "      <td>294</td>\n",
       "      <td>1</td>\n",
       "      <td>180.00</td>\n",
       "    </tr>\n",
       "  </tbody>\n",
       "</table>\n",
       "</div>"
      ],
      "text/plain": [
       "                 customer_unique_id  Recency  Frequency  Monetary\n",
       "0  0000366f3b9a7992bf8c76cfdf3221e2      117          1    129.90\n",
       "1  0000b849f77a49e4a4ce2b2a4ca5be3f      120          1     18.90\n",
       "2  0000f46a3911fa3c0805444483337064      543          1     69.00\n",
       "3  0000f6ccb0745a6a4b88665a16c9f078      327          1     25.99\n",
       "4  0004aac84e0df4da2b147fca70cf8255      294          1    180.00"
      ]
     },
     "execution_count": 1247,
     "metadata": {},
     "output_type": "execute_result"
    }
   ],
   "source": [
    "df_RFM.head()"
   ]
  },
  {
   "cell_type": "code",
   "execution_count": 1248,
   "id": "4b644e73",
   "metadata": {},
   "outputs": [
    {
     "data": {
      "text/plain": [
       "(95116, 4)"
      ]
     },
     "execution_count": 1248,
     "metadata": {},
     "output_type": "execute_result"
    }
   ],
   "source": [
    "df_RFM.shape"
   ]
  },
  {
   "cell_type": "markdown",
   "id": "fbb8d8fd",
   "metadata": {},
   "source": [
    "Теперь для каждый метрики нужно провести кластеризацию и определить границы каждого кластера."
   ]
  },
  {
   "cell_type": "code",
   "execution_count": 1249,
   "id": "d4427659",
   "metadata": {},
   "outputs": [
    {
     "data": {
      "text/html": [
       "<div>\n",
       "<style scoped>\n",
       "    .dataframe tbody tr th:only-of-type {\n",
       "        vertical-align: middle;\n",
       "    }\n",
       "\n",
       "    .dataframe tbody tr th {\n",
       "        vertical-align: top;\n",
       "    }\n",
       "\n",
       "    .dataframe thead th {\n",
       "        text-align: right;\n",
       "    }\n",
       "</style>\n",
       "<table border=\"1\" class=\"dataframe\">\n",
       "  <thead>\n",
       "    <tr style=\"text-align: right;\">\n",
       "      <th></th>\n",
       "      <th>Recency</th>\n",
       "      <th>Frequency</th>\n",
       "      <th>Monetary</th>\n",
       "    </tr>\n",
       "  </thead>\n",
       "  <tbody>\n",
       "    <tr>\n",
       "      <th>0.0</th>\n",
       "      <td>1.0</td>\n",
       "      <td>1.0</td>\n",
       "      <td>0.85</td>\n",
       "    </tr>\n",
       "    <tr>\n",
       "      <th>0.2</th>\n",
       "      <td>98.0</td>\n",
       "      <td>1.0</td>\n",
       "      <td>39.90</td>\n",
       "    </tr>\n",
       "    <tr>\n",
       "      <th>0.4</th>\n",
       "      <td>183.0</td>\n",
       "      <td>1.0</td>\n",
       "      <td>69.90</td>\n",
       "    </tr>\n",
       "    <tr>\n",
       "      <th>0.6</th>\n",
       "      <td>273.0</td>\n",
       "      <td>1.0</td>\n",
       "      <td>109.90</td>\n",
       "    </tr>\n",
       "    <tr>\n",
       "      <th>0.8</th>\n",
       "      <td>389.0</td>\n",
       "      <td>1.0</td>\n",
       "      <td>179.90</td>\n",
       "    </tr>\n",
       "    <tr>\n",
       "      <th>1.0</th>\n",
       "      <td>719.0</td>\n",
       "      <td>16.0</td>\n",
       "      <td>13440.00</td>\n",
       "    </tr>\n",
       "  </tbody>\n",
       "</table>\n",
       "</div>"
      ],
      "text/plain": [
       "     Recency  Frequency  Monetary\n",
       "0.0      1.0        1.0      0.85\n",
       "0.2     98.0        1.0     39.90\n",
       "0.4    183.0        1.0     69.90\n",
       "0.6    273.0        1.0    109.90\n",
       "0.8    389.0        1.0    179.90\n",
       "1.0    719.0       16.0  13440.00"
      ]
     },
     "execution_count": 1249,
     "metadata": {},
     "output_type": "execute_result"
    }
   ],
   "source": [
    "df_RFM[['Recency', 'Frequency', 'Monetary']].quantile([.0, .2, .4, .6, .8, 1.0])"
   ]
  },
  {
   "cell_type": "markdown",
   "id": "0abcf1cd",
   "metadata": {},
   "source": [
    "Для определения границ метрики Recency будем использовать квантили, то есть разобьём данные колонки Recency на 5 групп:<br>\n",
    "[q0; q0.2], (q0.2; q0.4], (q0.4; q0.6], (q0.6; q0.8], (q0.8; q1]<br> \n",
    "Как видим, в каждой группе содержится по 20% данных метрики Recency.<br>\n",
    "Для метрики Frequency данный способ не подходит, так как 80% всех данных принадлежат значению 1. Для метрики Monetary данный способ также не подходит, так есть большой разрый между q0.8 и q1."
   ]
  },
  {
   "cell_type": "markdown",
   "id": "b71620c6",
   "metadata": {},
   "source": [
    "Введём ранги для метрики Recency:<br>\n",
    "[q0; q0.2] : 5, (q0.2; q0.4] : 4, (q0.4; q0.6] : 3, (q0.6; q0.8] : 2, (q0.8; q1] : 1 <br>\n",
    "Чем меньше Recency, тем выше ранг, так как Recency показывает количество прошедших дней со дня последней покупки.<br>"
   ]
  },
  {
   "cell_type": "markdown",
   "id": "1d76c54e",
   "metadata": {},
   "source": [
    "Определим ранговую систему для метрик Frequency и Monetary."
   ]
  },
  {
   "cell_type": "code",
   "execution_count": 1250,
   "id": "b050f7d3",
   "metadata": {},
   "outputs": [],
   "source": [
    "df_Frequency = (df_RFM\n",
    "                .groupby('Frequency', as_index=False)\n",
    "                .agg({'customer_unique_id': 'count'})\n",
    "                .rename(columns={'customer_unique_id': 'quantity_of_customers'}))"
   ]
  },
  {
   "cell_type": "code",
   "execution_count": 1251,
   "id": "3bc819db",
   "metadata": {},
   "outputs": [
    {
     "data": {
      "text/html": [
       "<div>\n",
       "<style scoped>\n",
       "    .dataframe tbody tr th:only-of-type {\n",
       "        vertical-align: middle;\n",
       "    }\n",
       "\n",
       "    .dataframe tbody tr th {\n",
       "        vertical-align: top;\n",
       "    }\n",
       "\n",
       "    .dataframe thead th {\n",
       "        text-align: right;\n",
       "    }\n",
       "</style>\n",
       "<table border=\"1\" class=\"dataframe\">\n",
       "  <thead>\n",
       "    <tr style=\"text-align: right;\">\n",
       "      <th></th>\n",
       "      <th>Frequency</th>\n",
       "      <th>quantity_of_customers</th>\n",
       "    </tr>\n",
       "  </thead>\n",
       "  <tbody>\n",
       "    <tr>\n",
       "      <th>0</th>\n",
       "      <td>1</td>\n",
       "      <td>92218</td>\n",
       "    </tr>\n",
       "    <tr>\n",
       "      <th>1</th>\n",
       "      <td>2</td>\n",
       "      <td>2659</td>\n",
       "    </tr>\n",
       "    <tr>\n",
       "      <th>2</th>\n",
       "      <td>3</td>\n",
       "      <td>191</td>\n",
       "    </tr>\n",
       "    <tr>\n",
       "      <th>3</th>\n",
       "      <td>4</td>\n",
       "      <td>29</td>\n",
       "    </tr>\n",
       "    <tr>\n",
       "      <th>4</th>\n",
       "      <td>5</td>\n",
       "      <td>9</td>\n",
       "    </tr>\n",
       "    <tr>\n",
       "      <th>5</th>\n",
       "      <td>6</td>\n",
       "      <td>5</td>\n",
       "    </tr>\n",
       "    <tr>\n",
       "      <th>6</th>\n",
       "      <td>7</td>\n",
       "      <td>3</td>\n",
       "    </tr>\n",
       "    <tr>\n",
       "      <th>7</th>\n",
       "      <td>9</td>\n",
       "      <td>1</td>\n",
       "    </tr>\n",
       "    <tr>\n",
       "      <th>8</th>\n",
       "      <td>16</td>\n",
       "      <td>1</td>\n",
       "    </tr>\n",
       "  </tbody>\n",
       "</table>\n",
       "</div>"
      ],
      "text/plain": [
       "   Frequency  quantity_of_customers\n",
       "0          1                  92218\n",
       "1          2                   2659\n",
       "2          3                    191\n",
       "3          4                     29\n",
       "4          5                      9\n",
       "5          6                      5\n",
       "6          7                      3\n",
       "7          9                      1\n",
       "8         16                      1"
      ]
     },
     "execution_count": 1251,
     "metadata": {},
     "output_type": "execute_result"
    }
   ],
   "source": [
    "df_Frequency"
   ]
  },
  {
   "cell_type": "code",
   "execution_count": 1252,
   "id": "bc541f14",
   "metadata": {},
   "outputs": [],
   "source": [
    "df_Frequency['percent'] = round((df_Frequency.quantity_of_customers / \n",
    "                                 df_Frequency.quantity_of_customers.sum() * 100), 5)"
   ]
  },
  {
   "cell_type": "code",
   "execution_count": 1253,
   "id": "907101b1",
   "metadata": {},
   "outputs": [
    {
     "data": {
      "text/html": [
       "<div>\n",
       "<style scoped>\n",
       "    .dataframe tbody tr th:only-of-type {\n",
       "        vertical-align: middle;\n",
       "    }\n",
       "\n",
       "    .dataframe tbody tr th {\n",
       "        vertical-align: top;\n",
       "    }\n",
       "\n",
       "    .dataframe thead th {\n",
       "        text-align: right;\n",
       "    }\n",
       "</style>\n",
       "<table border=\"1\" class=\"dataframe\">\n",
       "  <thead>\n",
       "    <tr style=\"text-align: right;\">\n",
       "      <th></th>\n",
       "      <th>Frequency</th>\n",
       "      <th>quantity_of_customers</th>\n",
       "      <th>percent</th>\n",
       "    </tr>\n",
       "  </thead>\n",
       "  <tbody>\n",
       "    <tr>\n",
       "      <th>0</th>\n",
       "      <td>1</td>\n",
       "      <td>92218</td>\n",
       "      <td>96.95319</td>\n",
       "    </tr>\n",
       "    <tr>\n",
       "      <th>1</th>\n",
       "      <td>2</td>\n",
       "      <td>2659</td>\n",
       "      <td>2.79553</td>\n",
       "    </tr>\n",
       "    <tr>\n",
       "      <th>2</th>\n",
       "      <td>3</td>\n",
       "      <td>191</td>\n",
       "      <td>0.20081</td>\n",
       "    </tr>\n",
       "    <tr>\n",
       "      <th>3</th>\n",
       "      <td>4</td>\n",
       "      <td>29</td>\n",
       "      <td>0.03049</td>\n",
       "    </tr>\n",
       "    <tr>\n",
       "      <th>4</th>\n",
       "      <td>5</td>\n",
       "      <td>9</td>\n",
       "      <td>0.00946</td>\n",
       "    </tr>\n",
       "    <tr>\n",
       "      <th>5</th>\n",
       "      <td>6</td>\n",
       "      <td>5</td>\n",
       "      <td>0.00526</td>\n",
       "    </tr>\n",
       "    <tr>\n",
       "      <th>6</th>\n",
       "      <td>7</td>\n",
       "      <td>3</td>\n",
       "      <td>0.00315</td>\n",
       "    </tr>\n",
       "    <tr>\n",
       "      <th>7</th>\n",
       "      <td>9</td>\n",
       "      <td>1</td>\n",
       "      <td>0.00105</td>\n",
       "    </tr>\n",
       "    <tr>\n",
       "      <th>8</th>\n",
       "      <td>16</td>\n",
       "      <td>1</td>\n",
       "      <td>0.00105</td>\n",
       "    </tr>\n",
       "  </tbody>\n",
       "</table>\n",
       "</div>"
      ],
      "text/plain": [
       "   Frequency  quantity_of_customers   percent\n",
       "0          1                  92218  96.95319\n",
       "1          2                   2659   2.79553\n",
       "2          3                    191   0.20081\n",
       "3          4                     29   0.03049\n",
       "4          5                      9   0.00946\n",
       "5          6                      5   0.00526\n",
       "6          7                      3   0.00315\n",
       "7          9                      1   0.00105\n",
       "8         16                      1   0.00105"
      ]
     },
     "execution_count": 1253,
     "metadata": {},
     "output_type": "execute_result"
    }
   ],
   "source": [
    "df_Frequency"
   ]
  },
  {
   "cell_type": "code",
   "execution_count": 1254,
   "id": "0fd98404",
   "metadata": {},
   "outputs": [
    {
     "data": {
      "text/plain": [
       "0.019969999999999998"
      ]
     },
     "execution_count": 1254,
     "metadata": {},
     "output_type": "execute_result"
    }
   ],
   "source": [
    "df_Frequency.query(\"Frequency > 4\").percent.sum()"
   ]
  },
  {
   "cell_type": "markdown",
   "id": "c92e2151",
   "metadata": {},
   "source": [
    "Видим, что почти 97% покупателей за весь период совершили одну покупку. Присвоим данным пользователям ранг 1.<br>\n",
    "2.8% покупателей за весь период совершили две покупки. Присвоим данным пользователям ранг 2.<br>\n",
    "0.2% покупателей за весь период совершили три покупки. Присвоим данным пользователям ранг 3.<br>\n",
    "0.03% покупателей за весь период совершили четыре покупки. Присвоим данным пользователям ранг 4.<br>\n",
    "Остальные 0.02% покупателей за весь период совершили больше четырёх покуок. Присвоим данным пользователям ранг 5."
   ]
  },
  {
   "cell_type": "markdown",
   "id": "3f30d624",
   "metadata": {},
   "source": [
    "Ранги для метрики Frequency:<br> \n",
    "1 : 1, 2 : 2, 3 : 3, 4 : 4, [5; 16] : 5"
   ]
  },
  {
   "cell_type": "code",
   "execution_count": 1255,
   "id": "4f5b5db2",
   "metadata": {},
   "outputs": [
    {
     "data": {
      "text/plain": [
       "8596"
      ]
     },
     "execution_count": 1255,
     "metadata": {},
     "output_type": "execute_result"
    }
   ],
   "source": [
    "df_RFM.Monetary.nunique()"
   ]
  },
  {
   "cell_type": "code",
   "execution_count": 1256,
   "id": "a1b1aeb9",
   "metadata": {},
   "outputs": [
    {
     "name": "stderr",
     "output_type": "stream",
     "text": [
      "/home/anton23/anaconda3/lib/python3.11/site-packages/seaborn/axisgrid.py:118: UserWarning: The figure layout has changed to tight\n",
      "  self._figure.tight_layout(*args, **kwargs)\n"
     ]
    },
    {
     "data": {
      "text/plain": [
       "<seaborn.axisgrid.FacetGrid at 0x7fb6104eb810>"
      ]
     },
     "execution_count": 1256,
     "metadata": {},
     "output_type": "execute_result"
    },
    {
     "data": {
      "image/png": "[encoded data removed]",
      "text/plain": [
       "<Figure size 500x500 with 1 Axes>"
      ]
     },
     "metadata": {},
     "output_type": "display_data"
    }
   ],
   "source": [
    "sns.displot(df_RFM.Monetary)"
   ]
  },
  {
   "cell_type": "code",
   "execution_count": 1257,
   "id": "774865d7",
   "metadata": {},
   "outputs": [
    {
     "name": "stderr",
     "output_type": "stream",
     "text": [
      "/home/anton23/anaconda3/lib/python3.11/site-packages/seaborn/axisgrid.py:118: UserWarning: The figure layout has changed to tight\n",
      "  self._figure.tight_layout(*args, **kwargs)\n"
     ]
    },
    {
     "data": {
      "text/plain": [
       "<seaborn.axisgrid.FacetGrid at 0x7fb60ec604d0>"
      ]
     },
     "execution_count": 1257,
     "metadata": {},
     "output_type": "execute_result"
    },
    {
     "data": {
      "image/png": "[encoded data removed]",
      "text/plain": [
       "<Figure size 500x500 with 1 Axes>"
      ]
     },
     "metadata": {},
     "output_type": "display_data"
    }
   ],
   "source": [
    "sns.displot(df_RFM.query(\"1000 <  Monetary < 13400\").Monetary)"
   ]
  },
  {
   "cell_type": "code",
   "execution_count": 1258,
   "id": "3f68e31e",
   "metadata": {},
   "outputs": [
    {
     "data": {
      "text/plain": [
       "7388.0"
      ]
     },
     "execution_count": 1258,
     "metadata": {},
     "output_type": "execute_result"
    }
   ],
   "source": [
    "df_RFM.loc[df_RFM.Monetary < df_RFM.Monetary.max()].Monetary.max()"
   ]
  },
  {
   "cell_type": "markdown",
   "id": "b8936ffc",
   "metadata": {},
   "source": [
    "Видим, что между максимальным значеним Monetary (13440) и значением 7388 нет данных вообще."
   ]
  },
  {
   "cell_type": "code",
   "execution_count": 1259,
   "id": "78de1d65",
   "metadata": {},
   "outputs": [
    {
     "name": "stderr",
     "output_type": "stream",
     "text": [
      "/home/anton23/anaconda3/lib/python3.11/site-packages/seaborn/axisgrid.py:118: UserWarning: The figure layout has changed to tight\n",
      "  self._figure.tight_layout(*args, **kwargs)\n"
     ]
    },
    {
     "data": {
      "text/plain": [
       "<seaborn.axisgrid.FacetGrid at 0x7fb60e823dd0>"
      ]
     },
     "execution_count": 1259,
     "metadata": {},
     "output_type": "execute_result"
    },
    {
     "data": {
      "image/png": "[encoded data removed]",
      "text/plain": [
       "<Figure size 500x500 with 1 Axes>"
      ]
     },
     "metadata": {},
     "output_type": "display_data"
    }
   ],
   "source": [
    "sns.displot(df_RFM.query(\"3000 <  Monetary < 13400\").Monetary)"
   ]
  },
  {
   "cell_type": "code",
   "execution_count": 1260,
   "id": "d14b9bf1",
   "metadata": {},
   "outputs": [
    {
     "data": {
      "text/plain": [
       "4690.0"
      ]
     },
     "execution_count": 1260,
     "metadata": {},
     "output_type": "execute_result"
    }
   ],
   "source": [
    "df_RFM.query(\"Monetary < 5000\").Monetary.max()"
   ]
  },
  {
   "cell_type": "code",
   "execution_count": 1261,
   "id": "47d56700",
   "metadata": {},
   "outputs": [
    {
     "data": {
      "text/plain": [
       "5934.6"
      ]
     },
     "execution_count": 1261,
     "metadata": {},
     "output_type": "execute_result"
    }
   ],
   "source": [
    "df_RFM.query(\"Monetary > 5000\").Monetary.min()"
   ]
  },
  {
   "cell_type": "code",
   "execution_count": 1262,
   "id": "ca3e029f",
   "metadata": {},
   "outputs": [
    {
     "data": {
      "text/plain": [
       "1244.6000000000004"
      ]
     },
     "execution_count": 1262,
     "metadata": {},
     "output_type": "execute_result"
    }
   ],
   "source": [
    "df_RFM.query(\"Monetary > 5000\").Monetary.min() - df_RFM.query(\"Monetary < 5000\").Monetary.max()"
   ]
  },
  {
   "cell_type": "markdown",
   "id": "c92fa1b3",
   "metadata": {},
   "source": [
    "Основная часть данных лежит на участке: [0.85; 4690]"
   ]
  },
  {
   "cell_type": "code",
   "execution_count": 1263,
   "id": "ea423317",
   "metadata": {},
   "outputs": [],
   "source": [
    "Monetary_range = df_RFM.query(\"Monetary < 5000\").Monetary.max() - df_RFM.Monetary.min()"
   ]
  },
  {
   "cell_type": "code",
   "execution_count": 1264,
   "id": "91999ae9",
   "metadata": {},
   "outputs": [
    {
     "data": {
      "text/plain": [
       "4689.15"
      ]
     },
     "execution_count": 1264,
     "metadata": {},
     "output_type": "execute_result"
    }
   ],
   "source": [
    "Monetary_range"
   ]
  },
  {
   "cell_type": "code",
   "execution_count": 1265,
   "id": "16e0e371",
   "metadata": {},
   "outputs": [],
   "source": [
    "monetary_min = df_RFM.Monetary.min()"
   ]
  },
  {
   "cell_type": "code",
   "execution_count": 1266,
   "id": "bc603e7e",
   "metadata": {},
   "outputs": [
    {
     "data": {
      "text/plain": [
       "0.85"
      ]
     },
     "execution_count": 1266,
     "metadata": {},
     "output_type": "execute_result"
    }
   ],
   "source": [
    "monetary_min"
   ]
  },
  {
   "cell_type": "code",
   "execution_count": 1267,
   "id": "3a93d038",
   "metadata": {},
   "outputs": [],
   "source": [
    "monetary_max = df_RFM.Monetary.max()"
   ]
  },
  {
   "cell_type": "code",
   "execution_count": 1268,
   "id": "25d2f74f",
   "metadata": {},
   "outputs": [
    {
     "data": {
      "text/plain": [
       "13440.0"
      ]
     },
     "execution_count": 1268,
     "metadata": {},
     "output_type": "execute_result"
    }
   ],
   "source": [
    "monetary_max"
   ]
  },
  {
   "cell_type": "markdown",
   "id": "7e7053e1",
   "metadata": {},
   "source": [
    "Введём ранги для метрики Monetary:<br>\n",
    "[monetary_min; monetary_min + Monetary_range / 4] : 1 <br> \n",
    "(monetary_min + Monetary_range / 4; monetary_min + 2 * Monetary_range / 4] : 2<br>\n",
    "(monetary_min + 2 * Monetary_range / 4; monetary_min + 3 * Monetary_range / 4] : 3<br> \n",
    "(monetary_min + 3 * Monetary_range / 4; monetary_min + Monetary_range] : 4<br>\n",
    "(monetary_min + Monetary_range; monetary_max] : 5<br>"
   ]
  },
  {
   "cell_type": "markdown",
   "id": "c8428583",
   "metadata": {},
   "source": [
    "Для присвоения рангов метрикам Recency, Frequency и Monetary требуются 3 разные функции."
   ]
  },
  {
   "cell_type": "code",
   "execution_count": 1269,
   "id": "c56ef9d7",
   "metadata": {},
   "outputs": [],
   "source": [
    "quintiles = df_RFM[['Recency']].quantile([.2, .4, .6, .8]).to_dict()"
   ]
  },
  {
   "cell_type": "code",
   "execution_count": 1270,
   "id": "6b635562",
   "metadata": {},
   "outputs": [
    {
     "data": {
      "text/plain": [
       "{'Recency': {0.2: 98.0, 0.4: 183.0, 0.6: 273.0, 0.8: 389.0}}"
      ]
     },
     "execution_count": 1270,
     "metadata": {},
     "output_type": "execute_result"
    }
   ],
   "source": [
    "quintiles"
   ]
  },
  {
   "cell_type": "code",
   "execution_count": 1271,
   "id": "96a81c1e",
   "metadata": {},
   "outputs": [],
   "source": [
    "def r_score(x): # функция для определения рангов метрики Recency\n",
    "    if x <= quintiles['Recency'][.2]:\n",
    "        return 5\n",
    "    elif x <= quintiles['Recency'][.4]:\n",
    "        return 4\n",
    "    elif x <= quintiles['Recency'][.6]:\n",
    "        return 3\n",
    "    elif x <= quintiles['Recency'][.8]:\n",
    "        return 2\n",
    "    else:\n",
    "        return 1"
   ]
  },
  {
   "cell_type": "code",
   "execution_count": 1272,
   "id": "21d50404",
   "metadata": {},
   "outputs": [],
   "source": [
    "def f_score(x): # функция для определения рангов метрики Frequency\n",
    "    if x == 1:\n",
    "        return 1\n",
    "    elif x == 2:\n",
    "        return 2\n",
    "    elif x == 3:\n",
    "        return 3\n",
    "    elif x == 4:\n",
    "        return 4\n",
    "    else:\n",
    "        return 5  "
   ]
  },
  {
   "cell_type": "code",
   "execution_count": 1273,
   "id": "8adbeb6e",
   "metadata": {},
   "outputs": [],
   "source": [
    "def m_score(x): # функция для определения рангов метрики Monetary\n",
    "    if x <= monetary_min + Monetary_range / 4:\n",
    "        return 1\n",
    "    elif x <= monetary_min + 2 * Monetary_range / 4:\n",
    "        return 2\n",
    "    elif x <= monetary_min + 3 * Monetary_range / 4:\n",
    "        return 3\n",
    "    elif x <= monetary_min + Monetary_range:\n",
    "        return 4\n",
    "    else:\n",
    "        return 5  "
   ]
  },
  {
   "cell_type": "code",
   "execution_count": 1274,
   "id": "7c11fbfc",
   "metadata": {},
   "outputs": [],
   "source": [
    "df_RFM['R'] = df_RFM['Recency'].apply(lambda x: r_score(x))\n",
    "df_RFM['F'] = df_RFM['Frequency'].apply(lambda x: f_score(x))\n",
    "df_RFM['M'] = df_RFM['Monetary'].apply(lambda x: m_score(x))"
   ]
  },
  {
   "cell_type": "code",
   "execution_count": 1275,
   "id": "12748455",
   "metadata": {},
   "outputs": [
    {
     "data": {
      "text/html": [
       "<div>\n",
       "<style scoped>\n",
       "    .dataframe tbody tr th:only-of-type {\n",
       "        vertical-align: middle;\n",
       "    }\n",
       "\n",
       "    .dataframe tbody tr th {\n",
       "        vertical-align: top;\n",
       "    }\n",
       "\n",
       "    .dataframe thead th {\n",
       "        text-align: right;\n",
       "    }\n",
       "</style>\n",
       "<table border=\"1\" class=\"dataframe\">\n",
       "  <thead>\n",
       "    <tr style=\"text-align: right;\">\n",
       "      <th></th>\n",
       "      <th>customer_unique_id</th>\n",
       "      <th>Recency</th>\n",
       "      <th>Frequency</th>\n",
       "      <th>Monetary</th>\n",
       "      <th>R</th>\n",
       "      <th>F</th>\n",
       "      <th>M</th>\n",
       "    </tr>\n",
       "  </thead>\n",
       "  <tbody>\n",
       "    <tr>\n",
       "      <th>0</th>\n",
       "      <td>0000366f3b9a7992bf8c76cfdf3221e2</td>\n",
       "      <td>117</td>\n",
       "      <td>1</td>\n",
       "      <td>129.90</td>\n",
       "      <td>4</td>\n",
       "      <td>1</td>\n",
       "      <td>1</td>\n",
       "    </tr>\n",
       "    <tr>\n",
       "      <th>1</th>\n",
       "      <td>0000b849f77a49e4a4ce2b2a4ca5be3f</td>\n",
       "      <td>120</td>\n",
       "      <td>1</td>\n",
       "      <td>18.90</td>\n",
       "      <td>4</td>\n",
       "      <td>1</td>\n",
       "      <td>1</td>\n",
       "    </tr>\n",
       "    <tr>\n",
       "      <th>2</th>\n",
       "      <td>0000f46a3911fa3c0805444483337064</td>\n",
       "      <td>543</td>\n",
       "      <td>1</td>\n",
       "      <td>69.00</td>\n",
       "      <td>1</td>\n",
       "      <td>1</td>\n",
       "      <td>1</td>\n",
       "    </tr>\n",
       "    <tr>\n",
       "      <th>3</th>\n",
       "      <td>0000f6ccb0745a6a4b88665a16c9f078</td>\n",
       "      <td>327</td>\n",
       "      <td>1</td>\n",
       "      <td>25.99</td>\n",
       "      <td>2</td>\n",
       "      <td>1</td>\n",
       "      <td>1</td>\n",
       "    </tr>\n",
       "    <tr>\n",
       "      <th>4</th>\n",
       "      <td>0004aac84e0df4da2b147fca70cf8255</td>\n",
       "      <td>294</td>\n",
       "      <td>1</td>\n",
       "      <td>180.00</td>\n",
       "      <td>2</td>\n",
       "      <td>1</td>\n",
       "      <td>1</td>\n",
       "    </tr>\n",
       "  </tbody>\n",
       "</table>\n",
       "</div>"
      ],
      "text/plain": [
       "                 customer_unique_id  Recency  Frequency  Monetary  R  F  M\n",
       "0  0000366f3b9a7992bf8c76cfdf3221e2      117          1    129.90  4  1  1\n",
       "1  0000b849f77a49e4a4ce2b2a4ca5be3f      120          1     18.90  4  1  1\n",
       "2  0000f46a3911fa3c0805444483337064      543          1     69.00  1  1  1\n",
       "3  0000f6ccb0745a6a4b88665a16c9f078      327          1     25.99  2  1  1\n",
       "4  0004aac84e0df4da2b147fca70cf8255      294          1    180.00  2  1  1"
      ]
     },
     "execution_count": 1275,
     "metadata": {},
     "output_type": "execute_result"
    }
   ],
   "source": [
    "df_RFM.head()"
   ]
  },
  {
   "cell_type": "code",
   "execution_count": 1276,
   "id": "c89fe7a9",
   "metadata": {},
   "outputs": [],
   "source": [
    "df_RFM['RFM_Score'] = df_RFM['R'].map(str) + df_RFM['F'].map(str) + df_RFM['M'].map(str)"
   ]
  },
  {
   "cell_type": "code",
   "execution_count": 1277,
   "id": "0169d46e",
   "metadata": {},
   "outputs": [
    {
     "data": {
      "text/html": [
       "<div>\n",
       "<style scoped>\n",
       "    .dataframe tbody tr th:only-of-type {\n",
       "        vertical-align: middle;\n",
       "    }\n",
       "\n",
       "    .dataframe tbody tr th {\n",
       "        vertical-align: top;\n",
       "    }\n",
       "\n",
       "    .dataframe thead th {\n",
       "        text-align: right;\n",
       "    }\n",
       "</style>\n",
       "<table border=\"1\" class=\"dataframe\">\n",
       "  <thead>\n",
       "    <tr style=\"text-align: right;\">\n",
       "      <th></th>\n",
       "      <th>customer_unique_id</th>\n",
       "      <th>Recency</th>\n",
       "      <th>Frequency</th>\n",
       "      <th>Monetary</th>\n",
       "      <th>R</th>\n",
       "      <th>F</th>\n",
       "      <th>M</th>\n",
       "      <th>RFM_Score</th>\n",
       "    </tr>\n",
       "  </thead>\n",
       "  <tbody>\n",
       "    <tr>\n",
       "      <th>0</th>\n",
       "      <td>0000366f3b9a7992bf8c76cfdf3221e2</td>\n",
       "      <td>117</td>\n",
       "      <td>1</td>\n",
       "      <td>129.90</td>\n",
       "      <td>4</td>\n",
       "      <td>1</td>\n",
       "      <td>1</td>\n",
       "      <td>411</td>\n",
       "    </tr>\n",
       "    <tr>\n",
       "      <th>1</th>\n",
       "      <td>0000b849f77a49e4a4ce2b2a4ca5be3f</td>\n",
       "      <td>120</td>\n",
       "      <td>1</td>\n",
       "      <td>18.90</td>\n",
       "      <td>4</td>\n",
       "      <td>1</td>\n",
       "      <td>1</td>\n",
       "      <td>411</td>\n",
       "    </tr>\n",
       "    <tr>\n",
       "      <th>2</th>\n",
       "      <td>0000f46a3911fa3c0805444483337064</td>\n",
       "      <td>543</td>\n",
       "      <td>1</td>\n",
       "      <td>69.00</td>\n",
       "      <td>1</td>\n",
       "      <td>1</td>\n",
       "      <td>1</td>\n",
       "      <td>111</td>\n",
       "    </tr>\n",
       "    <tr>\n",
       "      <th>3</th>\n",
       "      <td>0000f6ccb0745a6a4b88665a16c9f078</td>\n",
       "      <td>327</td>\n",
       "      <td>1</td>\n",
       "      <td>25.99</td>\n",
       "      <td>2</td>\n",
       "      <td>1</td>\n",
       "      <td>1</td>\n",
       "      <td>211</td>\n",
       "    </tr>\n",
       "    <tr>\n",
       "      <th>4</th>\n",
       "      <td>0004aac84e0df4da2b147fca70cf8255</td>\n",
       "      <td>294</td>\n",
       "      <td>1</td>\n",
       "      <td>180.00</td>\n",
       "      <td>2</td>\n",
       "      <td>1</td>\n",
       "      <td>1</td>\n",
       "      <td>211</td>\n",
       "    </tr>\n",
       "  </tbody>\n",
       "</table>\n",
       "</div>"
      ],
      "text/plain": [
       "                 customer_unique_id  Recency  Frequency  Monetary  R  F  M  \\\n",
       "0  0000366f3b9a7992bf8c76cfdf3221e2      117          1    129.90  4  1  1   \n",
       "1  0000b849f77a49e4a4ce2b2a4ca5be3f      120          1     18.90  4  1  1   \n",
       "2  0000f46a3911fa3c0805444483337064      543          1     69.00  1  1  1   \n",
       "3  0000f6ccb0745a6a4b88665a16c9f078      327          1     25.99  2  1  1   \n",
       "4  0004aac84e0df4da2b147fca70cf8255      294          1    180.00  2  1  1   \n",
       "\n",
       "  RFM_Score  \n",
       "0       411  \n",
       "1       411  \n",
       "2       111  \n",
       "3       211  \n",
       "4       211  "
      ]
     },
     "execution_count": 1277,
     "metadata": {},
     "output_type": "execute_result"
    }
   ],
   "source": [
    "df_RFM.head()"
   ]
  },
  {
   "cell_type": "markdown",
   "id": "884a027b",
   "metadata": {},
   "source": [
    "### Ответ: таблица df_RFM"
   ]
  }
 ],
 "metadata": {
  "kernelspec": {
   "display_name": "Python 3 (ipykernel)",
   "language": "python",
   "name": "python3"
  },
  "language_info": {
   "codemirror_mode": {
    "name": "ipython",
    "version": 3
   },
   "file_extension": ".py",
   "mimetype": "text/x-python",
   "name": "python",
   "nbconvert_exporter": "python",
   "pygments_lexer": "ipython3",
   "version": "3.11.5"
  }
 },
 "nbformat": 4,
 "nbformat_minor": 5
}
